{
 "cells": [
  {
   "cell_type": "code",
   "execution_count": null,
   "metadata": {
    "id": "HeR6klQJ2jkp"
   },
   "outputs": [],
   "source": [
    "from pydrive2.auth import GoogleAuth\n",
    "from pydrive2.drive import GoogleDrive\n",
    "import pandas as pd\n",
    "from google.colab import auth\n",
    "from oauth2client.client import GoogleCredentials\n",
    "\n",
    "# Autenticación para Google Colab\n",
    "auth.authenticate_user()\n",
    "gauth = GoogleAuth()\n",
    "gauth.credentials = GoogleCredentials.get_application_default()\n",
    "drive = GoogleDrive(gauth)\n",
    "\n",
    "folder_id = '16H9nKWEaF2iB7eoVHLN9wEWg2T63Y9PE'\n",
    "\n",
    "# Función para obtener archivos de una carpeta, incluyendo información de subcarpetas\n",
    "def get_files_from_folder(folder_id, folder_name=''):\n",
    "    file_list = drive.ListFile({'q': f\"'{folder_id}' in parents and trashed=false\"}).GetList()\n",
    "    files_info = []\n",
    "    for file in file_list:\n",
    "        if file['mimeType'] == 'application/vnd.google-apps.folder':  # Es una subcarpeta\n",
    "            subfolder_name = f\"{folder_name}/{file['title']}\" if folder_name else file['title']\n",
    "            files_info.extend(get_files_from_folder(file['id'], subfolder_name))\n",
    "        else:\n",
    "            files_info.append({'folder': folder_name, 'title': file['title'], 'link': file['webContentLink']})\n",
    "    return files_info\n",
    "\n",
    "# Obtener lista de archivos\n",
    "files = get_files_from_folder(folder_id)\n",
    "\n",
    "df = pd.DataFrame(files, columns=['folder', 'title', 'link'])\n",
    "\n",
    "# Renombrar columnas\n",
    "df.rename(columns={'folder': 'Nombre carpeta', 'title': 'Nombre imagen', 'link': 'Ruta imagen'}, inplace=True)\n",
    "\n",
    "# Guardar el DataFrame como CSV\n",
    "df.to_csv('imagenes.csv', index=False)\n",
    "\n",
    "# Descargar el archivo CSV en la máquina local\n",
    "from google.colab import files\n",
    "files.download('imagenes.csv')\n"
   ]
  }
 ],
 "metadata": {
  "colab": {
   "authorship_tag": "ABX9TyOfQQ3EYSSJYiVe/a+ABFGj",
   "provenance": []
  },
  "kernelspec": {
   "display_name": "tfm_ia",
   "language": "python",
   "name": "python3"
  },
  "language_info": {
   "codemirror_mode": {
    "name": "ipython",
    "version": 3
   },
   "file_extension": ".py",
   "mimetype": "text/x-python",
   "name": "python",
   "nbconvert_exporter": "python",
   "pygments_lexer": "ipython3",
   "version": "3.11.9"
  }
 },
 "nbformat": 4,
 "nbformat_minor": 0
}
