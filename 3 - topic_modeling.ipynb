{
 "cells": [
  {
   "cell_type": "markdown",
   "id": "c9dc489c",
   "metadata": {},
   "source": [
    "# Topic modeling - TRAIN"
   ]
  },
  {
   "cell_type": "markdown",
   "id": "125704e7",
   "metadata": {},
   "source": [
    "## Vectorización semántica y agrupamiento temático"
   ]
  },
  {
   "cell_type": "code",
   "execution_count": null,
   "id": "e8463134",
   "metadata": {},
   "outputs": [
    {
     "name": "stderr",
     "output_type": "stream",
     "text": [
      "c:\\Users\\mpellicer\\Documents\\TFM\\TFM_separado\\TFM_Marc\\lib\\site-packages\\tqdm\\auto.py:21: TqdmWarning: IProgress not found. Please update jupyter and ipywidgets. See https://ipywidgets.readthedocs.io/en/stable/user_install.html\n",
      "  from .autonotebook import tqdm as notebook_tqdm\n",
      "Batches: 100%|██████████| 56/56 [00:14<00:00,  3.90it/s]\n",
      "2025-07-03 12:00:05,461 - BERTopic - WARNING: When you use `pickle` to save/load a BERTopic model,please make sure that the environments in which you saveand load the model are **exactly** the same. The version of BERTopic,its dependencies, and python need to remain the same.\n"
     ]
    },
    {
     "name": "stdout",
     "output_type": "stream",
     "text": [
      "Tópicos obtenidos:      Topic  Count                                   Name  \\\n",
      "0      -1     27       -1_pushpins_box_the_compartments   \n",
      "1       0    360                0_bag_bolts_washers_two   \n",
      "2       1    343          1_wire_connectors_mesh_levers   \n",
      "3       2    173              2_tray_granola_and_banana   \n",
      "4       3    137     3_pins_push_container_compartments   \n",
      "5       4    133         4_container_granola_and_banana   \n",
      "6       5    112              5_bottle_liquid_label_the   \n",
      "7       6    112            6_bottle_juice_label_liquid   \n",
      "8       7    111              7_bottle_liquid_label_the   \n",
      "9       8     77  8_pushpins_container_compartments_the   \n",
      "10      9     49     9_organizer_pins_compartments_push   \n",
      "11     10     39      10_tangerines_tray_granola_banana   \n",
      "12     11     32          11_box_pins_push_compartments   \n",
      "13     12     20       12_box_pins_storage_compartments   \n",
      "14     13     19         13_case_pins_compartments_push   \n",
      "15     14     17          14_terminal_blocks_block_wire   \n",
      "16     15     17       15_box_pushpins_compartments_the   \n",
      "\n",
      "                                       Representation  \\\n",
      "0   [pushpins, box, the, compartments, pins, are, ...   \n",
      "1   [bag, bolts, washers, two, nuts, the, and, com...   \n",
      "2   [wire, connectors, mesh, levers, orange, the, ...   \n",
      "3   [tray, granola, and, banana, of, chips, the, a...   \n",
      "4   [pins, push, container, compartments, the, yel...   \n",
      "5   [container, granola, and, banana, the, almonds...   \n",
      "6   [bottle, liquid, label, the, labels, glass, ju...   \n",
      "7   [bottle, juice, label, liquid, the, an, glass,...   \n",
      "8   [bottle, liquid, label, the, glass, juice, che...   \n",
      "9   [pushpins, container, compartments, the, each,...   \n",
      "10  [organizer, pins, compartments, push, the, are...   \n",
      "11  [tangerines, tray, granola, banana, chips, and...   \n",
      "12  [box, pins, push, compartments, the, yellow, o...   \n",
      "13  [box, pins, storage, compartments, push, or, t...   \n",
      "14  [case, pins, compartments, push, the, are, or,...   \n",
      "15  [terminal, blocks, block, wire, levers, connec...   \n",
      "16  [box, pushpins, compartments, the, or, pins, a...   \n",
      "\n",
      "                                  Representative_Docs  \n",
      "0   [The image shows a transparent plastic contain...  \n",
      "1   [The image shows a clear plastic bag containin...  \n",
      "2   [The image shows two clear plastic connectors ...  \n",
      "3   [The image shows a divided food tray containin...  \n",
      "4   [The image shows a transparent plastic contain...  \n",
      "5   [The image shows a divided food container with...  \n",
      "6   [The image shows a clear glass bottle filled w...  \n",
      "7   [The image shows a clear glass bottle filled w...  \n",
      "8   [The image shows a small, clear glass bottle f...  \n",
      "9   [The image shows a transparent plastic contain...  \n",
      "10  [The image shows a plastic organizer box conta...  \n",
      "11  [The image shows a compartmentalized tray cont...  \n",
      "12  [The image shows a clear plastic box with mult...  \n",
      "13  [The image shows a transparent plastic storage...  \n",
      "14  [The image depicts a clear plastic storage cas...  \n",
      "15  [The image shows two clear plastic terminal bl...  \n",
      "16  [The image shows a plastic compartmentalized b...  \n",
      "Palabras claves del tópico:  [('bag', np.float64(0.08548287555839577)), ('bolts', np.float64(0.05733656563416805)), ('washers', np.float64(0.052533575490636655)), ('two', np.float64(0.050602027324793186)), ('nuts', np.float64(0.04858930568702565)), ('the', np.float64(0.04812658971803859)), ('and', np.float64(0.048018039324609)), ('components', np.float64(0.04245833641447278)), ('plastic', np.float64(0.039328878286206057)), ('recycling', np.float64(0.037323963554792054))]\n"
     ]
    },
    {
     "data": {
      "application/vnd.plotly.v1+json": {
       "config": {
        "plotlyServerURL": "https://plot.ly"
       },
       "data": [
        {
         "customdata": [
          [
           0,
           "bag | bolts | washers | two | nuts",
           360
          ],
          [
           1,
           "wire | connectors | mesh | levers | orange",
           343
          ],
          [
           2,
           "tray | granola | and | banana | of",
           173
          ],
          [
           3,
           "pins | push | container | compartments | the",
           137
          ],
          [
           4,
           "container | granola | and | banana | the",
           133
          ],
          [
           5,
           "bottle | liquid | label | the | labels",
           112
          ],
          [
           6,
           "bottle | juice | label | liquid | the",
           112
          ],
          [
           7,
           "bottle | liquid | label | the | glass",
           111
          ],
          [
           8,
           "pushpins | container | compartments | the | each",
           77
          ],
          [
           9,
           "organizer | pins | compartments | push | the",
           49
          ],
          [
           10,
           "tangerines | tray | granola | banana | chips",
           39
          ],
          [
           11,
           "box | pins | push | compartments | the",
           32
          ],
          [
           12,
           "box | pins | storage | compartments | push",
           20
          ],
          [
           13,
           "case | pins | compartments | push | the",
           19
          ],
          [
           14,
           "terminal | blocks | block | wire | levers",
           17
          ],
          [
           15,
           "box | pushpins | compartments | the | or",
           17
          ]
         ],
         "hovertemplate": "<b>Topic %{customdata[0]}</b><br>%{customdata[1]}<br>Size: %{customdata[2]}",
         "legendgroup": "",
         "marker": {
          "color": "#B0BEC5",
          "line": {
           "color": "DarkSlateGrey",
           "width": 2
          },
          "size": {
           "bdata": "aAFXAa0AiQCFAHAAcABvAE0AMQAnACAAFAATABEAEQA=",
           "dtype": "i2"
          },
          "sizemode": "area",
          "sizeref": 0.225,
          "symbol": "circle"
         },
         "mode": "markers",
         "name": "",
         "orientation": "v",
         "showlegend": false,
         "type": "scatter",
         "x": {
          "bdata": "kYPrv76ysj0WXBNB0pwDwBUvD0GKNyjB4Rwlwc6oH8FUXxLAYH/Vv8B6F0FmrIjAU6mAwPSFGMCTZtq9yYyOwA==",
          "dtype": "f4"
         },
         "xaxis": "x",
         "y": {
          "bdata": "c7Z1wJCtg0HDisPAogyNwFQyu8BPHVlBogJWQX2TUEEo9V7AhduMwGbJy8ACj15A+4ROQDRch8CMOoVB+0lqQA==",
          "dtype": "f4"
         },
         "yaxis": "y"
        }
       ],
       "layout": {
        "annotations": [
         {
          "showarrow": false,
          "text": "D1",
          "x": -12.090593338012695,
          "y": 5.914020538330078,
          "yshift": 10
         },
         {
          "showarrow": false,
          "text": "D2",
          "x": -0.6015024185180664,
          "xshift": 10,
          "y": 19.151626586914062
         }
        ],
        "height": 650,
        "hoverlabel": {
         "bgcolor": "white",
         "font": {
          "family": "Rockwell",
          "size": 16
         }
        },
        "legend": {
         "itemsizing": "constant",
         "tracegroupgap": 0
        },
        "margin": {
         "t": 60
        },
        "shapes": [
         {
          "line": {
           "color": "#CFD8DC",
           "width": 2
          },
          "type": "line",
          "x0": -0.6015024185180664,
          "x1": -0.6015024185180664,
          "y0": -7.323585033416748,
          "y1": 19.151626586914062
         },
         {
          "line": {
           "color": "#9E9E9E",
           "width": 2
          },
          "type": "line",
          "x0": -12.090593338012695,
          "x1": 10.887588500976562,
          "y0": 5.914020538330078,
          "y1": 5.914020538330078
         }
        ],
        "sliders": [
         {
          "active": 0,
          "pad": {
           "t": 50
          },
          "steps": [
           {
            "args": [
             {
              "marker.color": [
               [
                "red",
                "#B0BEC5",
                "#B0BEC5",
                "#B0BEC5",
                "#B0BEC5",
                "#B0BEC5",
                "#B0BEC5",
                "#B0BEC5",
                "#B0BEC5",
                "#B0BEC5",
                "#B0BEC5",
                "#B0BEC5",
                "#B0BEC5",
                "#B0BEC5",
                "#B0BEC5",
                "#B0BEC5"
               ]
              ]
             }
            ],
            "label": "Topic 0",
            "method": "update"
           },
           {
            "args": [
             {
              "marker.color": [
               [
                "#B0BEC5",
                "red",
                "#B0BEC5",
                "#B0BEC5",
                "#B0BEC5",
                "#B0BEC5",
                "#B0BEC5",
                "#B0BEC5",
                "#B0BEC5",
                "#B0BEC5",
                "#B0BEC5",
                "#B0BEC5",
                "#B0BEC5",
                "#B0BEC5",
                "#B0BEC5",
                "#B0BEC5"
               ]
              ]
             }
            ],
            "label": "Topic 1",
            "method": "update"
           },
           {
            "args": [
             {
              "marker.color": [
               [
                "#B0BEC5",
                "#B0BEC5",
                "red",
                "#B0BEC5",
                "#B0BEC5",
                "#B0BEC5",
                "#B0BEC5",
                "#B0BEC5",
                "#B0BEC5",
                "#B0BEC5",
                "#B0BEC5",
                "#B0BEC5",
                "#B0BEC5",
                "#B0BEC5",
                "#B0BEC5",
                "#B0BEC5"
               ]
              ]
             }
            ],
            "label": "Topic 2",
            "method": "update"
           },
           {
            "args": [
             {
              "marker.color": [
               [
                "#B0BEC5",
                "#B0BEC5",
                "#B0BEC5",
                "red",
                "#B0BEC5",
                "#B0BEC5",
                "#B0BEC5",
                "#B0BEC5",
                "#B0BEC5",
                "#B0BEC5",
                "#B0BEC5",
                "#B0BEC5",
                "#B0BEC5",
                "#B0BEC5",
                "#B0BEC5",
                "#B0BEC5"
               ]
              ]
             }
            ],
            "label": "Topic 3",
            "method": "update"
           },
           {
            "args": [
             {
              "marker.color": [
               [
                "#B0BEC5",
                "#B0BEC5",
                "#B0BEC5",
                "#B0BEC5",
                "red",
                "#B0BEC5",
                "#B0BEC5",
                "#B0BEC5",
                "#B0BEC5",
                "#B0BEC5",
                "#B0BEC5",
                "#B0BEC5",
                "#B0BEC5",
                "#B0BEC5",
                "#B0BEC5",
                "#B0BEC5"
               ]
              ]
             }
            ],
            "label": "Topic 4",
            "method": "update"
           },
           {
            "args": [
             {
              "marker.color": [
               [
                "#B0BEC5",
                "#B0BEC5",
                "#B0BEC5",
                "#B0BEC5",
                "#B0BEC5",
                "red",
                "#B0BEC5",
                "#B0BEC5",
                "#B0BEC5",
                "#B0BEC5",
                "#B0BEC5",
                "#B0BEC5",
                "#B0BEC5",
                "#B0BEC5",
                "#B0BEC5",
                "#B0BEC5"
               ]
              ]
             }
            ],
            "label": "Topic 5",
            "method": "update"
           },
           {
            "args": [
             {
              "marker.color": [
               [
                "#B0BEC5",
                "#B0BEC5",
                "#B0BEC5",
                "#B0BEC5",
                "#B0BEC5",
                "#B0BEC5",
                "red",
                "#B0BEC5",
                "#B0BEC5",
                "#B0BEC5",
                "#B0BEC5",
                "#B0BEC5",
                "#B0BEC5",
                "#B0BEC5",
                "#B0BEC5",
                "#B0BEC5"
               ]
              ]
             }
            ],
            "label": "Topic 6",
            "method": "update"
           },
           {
            "args": [
             {
              "marker.color": [
               [
                "#B0BEC5",
                "#B0BEC5",
                "#B0BEC5",
                "#B0BEC5",
                "#B0BEC5",
                "#B0BEC5",
                "#B0BEC5",
                "red",
                "#B0BEC5",
                "#B0BEC5",
                "#B0BEC5",
                "#B0BEC5",
                "#B0BEC5",
                "#B0BEC5",
                "#B0BEC5",
                "#B0BEC5"
               ]
              ]
             }
            ],
            "label": "Topic 7",
            "method": "update"
           },
           {
            "args": [
             {
              "marker.color": [
               [
                "#B0BEC5",
                "#B0BEC5",
                "#B0BEC5",
                "#B0BEC5",
                "#B0BEC5",
                "#B0BEC5",
                "#B0BEC5",
                "#B0BEC5",
                "red",
                "#B0BEC5",
                "#B0BEC5",
                "#B0BEC5",
                "#B0BEC5",
                "#B0BEC5",
                "#B0BEC5",
                "#B0BEC5"
               ]
              ]
             }
            ],
            "label": "Topic 8",
            "method": "update"
           },
           {
            "args": [
             {
              "marker.color": [
               [
                "#B0BEC5",
                "#B0BEC5",
                "#B0BEC5",
                "#B0BEC5",
                "#B0BEC5",
                "#B0BEC5",
                "#B0BEC5",
                "#B0BEC5",
                "#B0BEC5",
                "red",
                "#B0BEC5",
                "#B0BEC5",
                "#B0BEC5",
                "#B0BEC5",
                "#B0BEC5",
                "#B0BEC5"
               ]
              ]
             }
            ],
            "label": "Topic 9",
            "method": "update"
           },
           {
            "args": [
             {
              "marker.color": [
               [
                "#B0BEC5",
                "#B0BEC5",
                "#B0BEC5",
                "#B0BEC5",
                "#B0BEC5",
                "#B0BEC5",
                "#B0BEC5",
                "#B0BEC5",
                "#B0BEC5",
                "#B0BEC5",
                "red",
                "#B0BEC5",
                "#B0BEC5",
                "#B0BEC5",
                "#B0BEC5",
                "#B0BEC5"
               ]
              ]
             }
            ],
            "label": "Topic 10",
            "method": "update"
           },
           {
            "args": [
             {
              "marker.color": [
               [
                "#B0BEC5",
                "#B0BEC5",
                "#B0BEC5",
                "#B0BEC5",
                "#B0BEC5",
                "#B0BEC5",
                "#B0BEC5",
                "#B0BEC5",
                "#B0BEC5",
                "#B0BEC5",
                "#B0BEC5",
                "red",
                "#B0BEC5",
                "#B0BEC5",
                "#B0BEC5",
                "#B0BEC5"
               ]
              ]
             }
            ],
            "label": "Topic 11",
            "method": "update"
           },
           {
            "args": [
             {
              "marker.color": [
               [
                "#B0BEC5",
                "#B0BEC5",
                "#B0BEC5",
                "#B0BEC5",
                "#B0BEC5",
                "#B0BEC5",
                "#B0BEC5",
                "#B0BEC5",
                "#B0BEC5",
                "#B0BEC5",
                "#B0BEC5",
                "#B0BEC5",
                "red",
                "#B0BEC5",
                "#B0BEC5",
                "#B0BEC5"
               ]
              ]
             }
            ],
            "label": "Topic 12",
            "method": "update"
           },
           {
            "args": [
             {
              "marker.color": [
               [
                "#B0BEC5",
                "#B0BEC5",
                "#B0BEC5",
                "#B0BEC5",
                "#B0BEC5",
                "#B0BEC5",
                "#B0BEC5",
                "#B0BEC5",
                "#B0BEC5",
                "#B0BEC5",
                "#B0BEC5",
                "#B0BEC5",
                "#B0BEC5",
                "red",
                "#B0BEC5",
                "#B0BEC5"
               ]
              ]
             }
            ],
            "label": "Topic 13",
            "method": "update"
           },
           {
            "args": [
             {
              "marker.color": [
               [
                "#B0BEC5",
                "#B0BEC5",
                "#B0BEC5",
                "#B0BEC5",
                "#B0BEC5",
                "#B0BEC5",
                "#B0BEC5",
                "#B0BEC5",
                "#B0BEC5",
                "#B0BEC5",
                "#B0BEC5",
                "#B0BEC5",
                "#B0BEC5",
                "#B0BEC5",
                "red",
                "#B0BEC5"
               ]
              ]
             }
            ],
            "label": "Topic 14",
            "method": "update"
           },
           {
            "args": [
             {
              "marker.color": [
               [
                "#B0BEC5",
                "#B0BEC5",
                "#B0BEC5",
                "#B0BEC5",
                "#B0BEC5",
                "#B0BEC5",
                "#B0BEC5",
                "#B0BEC5",
                "#B0BEC5",
                "#B0BEC5",
                "#B0BEC5",
                "#B0BEC5",
                "#B0BEC5",
                "#B0BEC5",
                "#B0BEC5",
                "red"
               ]
              ]
             }
            ],
            "label": "Topic 15",
            "method": "update"
           }
          ]
         }
        ],
        "template": {
         "data": {
          "bar": [
           {
            "error_x": {
             "color": "rgb(36,36,36)"
            },
            "error_y": {
             "color": "rgb(36,36,36)"
            },
            "marker": {
             "line": {
              "color": "white",
              "width": 0.5
             },
             "pattern": {
              "fillmode": "overlay",
              "size": 10,
              "solidity": 0.2
             }
            },
            "type": "bar"
           }
          ],
          "barpolar": [
           {
            "marker": {
             "line": {
              "color": "white",
              "width": 0.5
             },
             "pattern": {
              "fillmode": "overlay",
              "size": 10,
              "solidity": 0.2
             }
            },
            "type": "barpolar"
           }
          ],
          "carpet": [
           {
            "aaxis": {
             "endlinecolor": "rgb(36,36,36)",
             "gridcolor": "white",
             "linecolor": "white",
             "minorgridcolor": "white",
             "startlinecolor": "rgb(36,36,36)"
            },
            "baxis": {
             "endlinecolor": "rgb(36,36,36)",
             "gridcolor": "white",
             "linecolor": "white",
             "minorgridcolor": "white",
             "startlinecolor": "rgb(36,36,36)"
            },
            "type": "carpet"
           }
          ],
          "choropleth": [
           {
            "colorbar": {
             "outlinewidth": 1,
             "tickcolor": "rgb(36,36,36)",
             "ticks": "outside"
            },
            "type": "choropleth"
           }
          ],
          "contour": [
           {
            "colorbar": {
             "outlinewidth": 1,
             "tickcolor": "rgb(36,36,36)",
             "ticks": "outside"
            },
            "colorscale": [
             [
              0,
              "#440154"
             ],
             [
              0.1111111111111111,
              "#482878"
             ],
             [
              0.2222222222222222,
              "#3e4989"
             ],
             [
              0.3333333333333333,
              "#31688e"
             ],
             [
              0.4444444444444444,
              "#26828e"
             ],
             [
              0.5555555555555556,
              "#1f9e89"
             ],
             [
              0.6666666666666666,
              "#35b779"
             ],
             [
              0.7777777777777778,
              "#6ece58"
             ],
             [
              0.8888888888888888,
              "#b5de2b"
             ],
             [
              1,
              "#fde725"
             ]
            ],
            "type": "contour"
           }
          ],
          "contourcarpet": [
           {
            "colorbar": {
             "outlinewidth": 1,
             "tickcolor": "rgb(36,36,36)",
             "ticks": "outside"
            },
            "type": "contourcarpet"
           }
          ],
          "heatmap": [
           {
            "colorbar": {
             "outlinewidth": 1,
             "tickcolor": "rgb(36,36,36)",
             "ticks": "outside"
            },
            "colorscale": [
             [
              0,
              "#440154"
             ],
             [
              0.1111111111111111,
              "#482878"
             ],
             [
              0.2222222222222222,
              "#3e4989"
             ],
             [
              0.3333333333333333,
              "#31688e"
             ],
             [
              0.4444444444444444,
              "#26828e"
             ],
             [
              0.5555555555555556,
              "#1f9e89"
             ],
             [
              0.6666666666666666,
              "#35b779"
             ],
             [
              0.7777777777777778,
              "#6ece58"
             ],
             [
              0.8888888888888888,
              "#b5de2b"
             ],
             [
              1,
              "#fde725"
             ]
            ],
            "type": "heatmap"
           }
          ],
          "histogram": [
           {
            "marker": {
             "line": {
              "color": "white",
              "width": 0.6
             }
            },
            "type": "histogram"
           }
          ],
          "histogram2d": [
           {
            "colorbar": {
             "outlinewidth": 1,
             "tickcolor": "rgb(36,36,36)",
             "ticks": "outside"
            },
            "colorscale": [
             [
              0,
              "#440154"
             ],
             [
              0.1111111111111111,
              "#482878"
             ],
             [
              0.2222222222222222,
              "#3e4989"
             ],
             [
              0.3333333333333333,
              "#31688e"
             ],
             [
              0.4444444444444444,
              "#26828e"
             ],
             [
              0.5555555555555556,
              "#1f9e89"
             ],
             [
              0.6666666666666666,
              "#35b779"
             ],
             [
              0.7777777777777778,
              "#6ece58"
             ],
             [
              0.8888888888888888,
              "#b5de2b"
             ],
             [
              1,
              "#fde725"
             ]
            ],
            "type": "histogram2d"
           }
          ],
          "histogram2dcontour": [
           {
            "colorbar": {
             "outlinewidth": 1,
             "tickcolor": "rgb(36,36,36)",
             "ticks": "outside"
            },
            "colorscale": [
             [
              0,
              "#440154"
             ],
             [
              0.1111111111111111,
              "#482878"
             ],
             [
              0.2222222222222222,
              "#3e4989"
             ],
             [
              0.3333333333333333,
              "#31688e"
             ],
             [
              0.4444444444444444,
              "#26828e"
             ],
             [
              0.5555555555555556,
              "#1f9e89"
             ],
             [
              0.6666666666666666,
              "#35b779"
             ],
             [
              0.7777777777777778,
              "#6ece58"
             ],
             [
              0.8888888888888888,
              "#b5de2b"
             ],
             [
              1,
              "#fde725"
             ]
            ],
            "type": "histogram2dcontour"
           }
          ],
          "mesh3d": [
           {
            "colorbar": {
             "outlinewidth": 1,
             "tickcolor": "rgb(36,36,36)",
             "ticks": "outside"
            },
            "type": "mesh3d"
           }
          ],
          "parcoords": [
           {
            "line": {
             "colorbar": {
              "outlinewidth": 1,
              "tickcolor": "rgb(36,36,36)",
              "ticks": "outside"
             }
            },
            "type": "parcoords"
           }
          ],
          "pie": [
           {
            "automargin": true,
            "type": "pie"
           }
          ],
          "scatter": [
           {
            "fillpattern": {
             "fillmode": "overlay",
             "size": 10,
             "solidity": 0.2
            },
            "type": "scatter"
           }
          ],
          "scatter3d": [
           {
            "line": {
             "colorbar": {
              "outlinewidth": 1,
              "tickcolor": "rgb(36,36,36)",
              "ticks": "outside"
             }
            },
            "marker": {
             "colorbar": {
              "outlinewidth": 1,
              "tickcolor": "rgb(36,36,36)",
              "ticks": "outside"
             }
            },
            "type": "scatter3d"
           }
          ],
          "scattercarpet": [
           {
            "marker": {
             "colorbar": {
              "outlinewidth": 1,
              "tickcolor": "rgb(36,36,36)",
              "ticks": "outside"
             }
            },
            "type": "scattercarpet"
           }
          ],
          "scattergeo": [
           {
            "marker": {
             "colorbar": {
              "outlinewidth": 1,
              "tickcolor": "rgb(36,36,36)",
              "ticks": "outside"
             }
            },
            "type": "scattergeo"
           }
          ],
          "scattergl": [
           {
            "marker": {
             "colorbar": {
              "outlinewidth": 1,
              "tickcolor": "rgb(36,36,36)",
              "ticks": "outside"
             }
            },
            "type": "scattergl"
           }
          ],
          "scattermap": [
           {
            "marker": {
             "colorbar": {
              "outlinewidth": 1,
              "tickcolor": "rgb(36,36,36)",
              "ticks": "outside"
             }
            },
            "type": "scattermap"
           }
          ],
          "scattermapbox": [
           {
            "marker": {
             "colorbar": {
              "outlinewidth": 1,
              "tickcolor": "rgb(36,36,36)",
              "ticks": "outside"
             }
            },
            "type": "scattermapbox"
           }
          ],
          "scatterpolar": [
           {
            "marker": {
             "colorbar": {
              "outlinewidth": 1,
              "tickcolor": "rgb(36,36,36)",
              "ticks": "outside"
             }
            },
            "type": "scatterpolar"
           }
          ],
          "scatterpolargl": [
           {
            "marker": {
             "colorbar": {
              "outlinewidth": 1,
              "tickcolor": "rgb(36,36,36)",
              "ticks": "outside"
             }
            },
            "type": "scatterpolargl"
           }
          ],
          "scatterternary": [
           {
            "marker": {
             "colorbar": {
              "outlinewidth": 1,
              "tickcolor": "rgb(36,36,36)",
              "ticks": "outside"
             }
            },
            "type": "scatterternary"
           }
          ],
          "surface": [
           {
            "colorbar": {
             "outlinewidth": 1,
             "tickcolor": "rgb(36,36,36)",
             "ticks": "outside"
            },
            "colorscale": [
             [
              0,
              "#440154"
             ],
             [
              0.1111111111111111,
              "#482878"
             ],
             [
              0.2222222222222222,
              "#3e4989"
             ],
             [
              0.3333333333333333,
              "#31688e"
             ],
             [
              0.4444444444444444,
              "#26828e"
             ],
             [
              0.5555555555555556,
              "#1f9e89"
             ],
             [
              0.6666666666666666,
              "#35b779"
             ],
             [
              0.7777777777777778,
              "#6ece58"
             ],
             [
              0.8888888888888888,
              "#b5de2b"
             ],
             [
              1,
              "#fde725"
             ]
            ],
            "type": "surface"
           }
          ],
          "table": [
           {
            "cells": {
             "fill": {
              "color": "rgb(237,237,237)"
             },
             "line": {
              "color": "white"
             }
            },
            "header": {
             "fill": {
              "color": "rgb(217,217,217)"
             },
             "line": {
              "color": "white"
             }
            },
            "type": "table"
           }
          ]
         },
         "layout": {
          "annotationdefaults": {
           "arrowhead": 0,
           "arrowwidth": 1
          },
          "autotypenumbers": "strict",
          "coloraxis": {
           "colorbar": {
            "outlinewidth": 1,
            "tickcolor": "rgb(36,36,36)",
            "ticks": "outside"
           }
          },
          "colorscale": {
           "diverging": [
            [
             0,
             "rgb(103,0,31)"
            ],
            [
             0.1,
             "rgb(178,24,43)"
            ],
            [
             0.2,
             "rgb(214,96,77)"
            ],
            [
             0.3,
             "rgb(244,165,130)"
            ],
            [
             0.4,
             "rgb(253,219,199)"
            ],
            [
             0.5,
             "rgb(247,247,247)"
            ],
            [
             0.6,
             "rgb(209,229,240)"
            ],
            [
             0.7,
             "rgb(146,197,222)"
            ],
            [
             0.8,
             "rgb(67,147,195)"
            ],
            [
             0.9,
             "rgb(33,102,172)"
            ],
            [
             1,
             "rgb(5,48,97)"
            ]
           ],
           "sequential": [
            [
             0,
             "#440154"
            ],
            [
             0.1111111111111111,
             "#482878"
            ],
            [
             0.2222222222222222,
             "#3e4989"
            ],
            [
             0.3333333333333333,
             "#31688e"
            ],
            [
             0.4444444444444444,
             "#26828e"
            ],
            [
             0.5555555555555556,
             "#1f9e89"
            ],
            [
             0.6666666666666666,
             "#35b779"
            ],
            [
             0.7777777777777778,
             "#6ece58"
            ],
            [
             0.8888888888888888,
             "#b5de2b"
            ],
            [
             1,
             "#fde725"
            ]
           ],
           "sequentialminus": [
            [
             0,
             "#440154"
            ],
            [
             0.1111111111111111,
             "#482878"
            ],
            [
             0.2222222222222222,
             "#3e4989"
            ],
            [
             0.3333333333333333,
             "#31688e"
            ],
            [
             0.4444444444444444,
             "#26828e"
            ],
            [
             0.5555555555555556,
             "#1f9e89"
            ],
            [
             0.6666666666666666,
             "#35b779"
            ],
            [
             0.7777777777777778,
             "#6ece58"
            ],
            [
             0.8888888888888888,
             "#b5de2b"
            ],
            [
             1,
             "#fde725"
            ]
           ]
          },
          "colorway": [
           "#1F77B4",
           "#FF7F0E",
           "#2CA02C",
           "#D62728",
           "#9467BD",
           "#8C564B",
           "#E377C2",
           "#7F7F7F",
           "#BCBD22",
           "#17BECF"
          ],
          "font": {
           "color": "rgb(36,36,36)"
          },
          "geo": {
           "bgcolor": "white",
           "lakecolor": "white",
           "landcolor": "white",
           "showlakes": true,
           "showland": true,
           "subunitcolor": "white"
          },
          "hoverlabel": {
           "align": "left"
          },
          "hovermode": "closest",
          "mapbox": {
           "style": "light"
          },
          "paper_bgcolor": "white",
          "plot_bgcolor": "white",
          "polar": {
           "angularaxis": {
            "gridcolor": "rgb(232,232,232)",
            "linecolor": "rgb(36,36,36)",
            "showgrid": false,
            "showline": true,
            "ticks": "outside"
           },
           "bgcolor": "white",
           "radialaxis": {
            "gridcolor": "rgb(232,232,232)",
            "linecolor": "rgb(36,36,36)",
            "showgrid": false,
            "showline": true,
            "ticks": "outside"
           }
          },
          "scene": {
           "xaxis": {
            "backgroundcolor": "white",
            "gridcolor": "rgb(232,232,232)",
            "gridwidth": 2,
            "linecolor": "rgb(36,36,36)",
            "showbackground": true,
            "showgrid": false,
            "showline": true,
            "ticks": "outside",
            "zeroline": false,
            "zerolinecolor": "rgb(36,36,36)"
           },
           "yaxis": {
            "backgroundcolor": "white",
            "gridcolor": "rgb(232,232,232)",
            "gridwidth": 2,
            "linecolor": "rgb(36,36,36)",
            "showbackground": true,
            "showgrid": false,
            "showline": true,
            "ticks": "outside",
            "zeroline": false,
            "zerolinecolor": "rgb(36,36,36)"
           },
           "zaxis": {
            "backgroundcolor": "white",
            "gridcolor": "rgb(232,232,232)",
            "gridwidth": 2,
            "linecolor": "rgb(36,36,36)",
            "showbackground": true,
            "showgrid": false,
            "showline": true,
            "ticks": "outside",
            "zeroline": false,
            "zerolinecolor": "rgb(36,36,36)"
           }
          },
          "shapedefaults": {
           "fillcolor": "black",
           "line": {
            "width": 0
           },
           "opacity": 0.3
          },
          "ternary": {
           "aaxis": {
            "gridcolor": "rgb(232,232,232)",
            "linecolor": "rgb(36,36,36)",
            "showgrid": false,
            "showline": true,
            "ticks": "outside"
           },
           "baxis": {
            "gridcolor": "rgb(232,232,232)",
            "linecolor": "rgb(36,36,36)",
            "showgrid": false,
            "showline": true,
            "ticks": "outside"
           },
           "bgcolor": "white",
           "caxis": {
            "gridcolor": "rgb(232,232,232)",
            "linecolor": "rgb(36,36,36)",
            "showgrid": false,
            "showline": true,
            "ticks": "outside"
           }
          },
          "title": {
           "x": 0.05
          },
          "xaxis": {
           "automargin": true,
           "gridcolor": "rgb(232,232,232)",
           "linecolor": "rgb(36,36,36)",
           "showgrid": false,
           "showline": true,
           "ticks": "outside",
           "title": {
            "standoff": 15
           },
           "zeroline": false,
           "zerolinecolor": "rgb(36,36,36)"
          },
          "yaxis": {
           "automargin": true,
           "gridcolor": "rgb(232,232,232)",
           "linecolor": "rgb(36,36,36)",
           "showgrid": false,
           "showline": true,
           "ticks": "outside",
           "title": {
            "standoff": 15
           },
           "zeroline": false,
           "zerolinecolor": "rgb(36,36,36)"
          }
         }
        },
        "title": {
         "font": {
          "color": "Black",
          "size": 22
         },
         "text": "<b>Intertopic Distance Map</b>",
         "x": 0.5,
         "xanchor": "center",
         "y": 0.95,
         "yanchor": "top"
        },
        "width": 650,
        "xaxis": {
         "anchor": "y",
         "domain": [
          0,
          1
         ],
         "range": [
          -12.090593338012695,
          10.887588500976562
         ],
         "title": {
          "text": ""
         },
         "visible": false
        },
        "yaxis": {
         "anchor": "x",
         "domain": [
          0,
          1
         ],
         "range": [
          -7.323585033416748,
          19.151626586914062
         ],
         "title": {
          "text": ""
         },
         "visible": false
        }
       }
      }
     },
     "metadata": {},
     "output_type": "display_data"
    }
   ],
   "source": [
    "import pandas as pd\n",
    "import numpy as np\n",
    "from sentence_transformers import SentenceTransformer\n",
    "from bertopic import BERTopic\n",
    "\n",
    "# Cargar el archivo CSV\n",
    "ruta = r'' # Ruta donde se encuentra tu archivo CSV con las descripciones \n",
    "df = pd.read_csv(ruta, sep=';')\n",
    "\n",
    "# Filtrar las filas donde 'Nombre Carpeta' contiene '/train/'\n",
    "df_train = df[df['Nombre Carpeta'].str.contains(r'/train', na=False, regex=True)]\n",
    "\n",
    "# Extraer la columna de descripciones\n",
    "descriptions = df_train['Descripciones imagenes'].tolist()\n",
    "\n",
    "# Cargar el modelo de Sentence Transformer\n",
    "model = SentenceTransformer('all-MiniLM-L6-v2')\n",
    "\n",
    "# Generar los embeddings de las descripciones\n",
    "embeddings = model.encode(descriptions, show_progress_bar=True)\n",
    "\n",
    "# Convertir los embeddings en una matriz de NumPy\n",
    "embeddings_np = np.array(embeddings)\n",
    "\n",
    "# Crear el modelo BERTopic\n",
    "topic_model = BERTopic()\n",
    "\n",
    "# Ajustar el modelo sobre los embeddings generados\n",
    "topics, probs = topic_model.fit_transform(descriptions, embeddings_np)\n",
    "\n",
    "topic_model.save(\"bertopic_train_model\")\n",
    "\n",
    "# Mostrar los tópicos generados\n",
    "topic_info = topic_model.get_topic_info()\n",
    "print('Tópicos obtenidos: ', topic_info)\n",
    "\n",
    "# Ver las palabras clave de un tópico específico\n",
    "print(f'Palabras claves del tópico: ', topic_model.get_topic(0))\n",
    "\n",
    "# Visualización interactiva\n",
    "topic_model.visualize_topics()"
   ]
  },
  {
   "cell_type": "markdown",
   "id": "0c20cb17",
   "metadata": {},
   "source": [
    "## Comparación semántica"
   ]
  },
  {
   "cell_type": "code",
   "execution_count": 2,
   "id": "12a7a49a",
   "metadata": {},
   "outputs": [
    {
     "name": "stdout",
     "output_type": "stream",
     "text": [
      "Se han generado 17 centroides de tópicos.\n"
     ]
    }
   ],
   "source": [
    "# Crear un diccionario para almacenar los embeddings por tópico\n",
    "topic_embeddings = {}\n",
    "topic_centroids = {}\n",
    "\n",
    "# Agrupar embeddings por tópico y calcular el centroide (media)\n",
    "for topic_id in np.unique(topics):\n",
    "    embeddings_in_topic = [embeddings_np[i] for i in range(len(embeddings_np)) if topics[i] == topic_id]\n",
    "    embeddings_in_topic = np.array(embeddings_in_topic)\n",
    "\n",
    "    topic_embeddings[topic_id] = embeddings_in_topic\n",
    "\n",
    "    # Calcular el centroide como la media\n",
    "    if len(embeddings_in_topic) > 0:\n",
    "        centroid = np.mean(embeddings_in_topic, axis=0)\n",
    "        topic_centroids[topic_id] = centroid\n",
    "    else:\n",
    "        print(f\"Tópico {topic_id} no tiene embeddings.\")\n",
    "\n",
    "# Convertir el diccionario a un array para guardar (opcional)\n",
    "topic_ids = list(topic_centroids.keys())\n",
    "centroid_matrix = np.array([topic_centroids[tid] for tid in topic_ids])\n",
    "\n",
    "# Guardar los centroides para usar más adelante\n",
    "np.save('topic_centroids.npy', centroid_matrix)\n",
    "np.save('topic_ids.npy', np.array(topic_ids))\n",
    "\n",
    "print(f\"Se han generado {len(topic_centroids)} centroides de tópicos.\")\n"
   ]
  },
  {
   "cell_type": "markdown",
   "id": "ddfbf9fc",
   "metadata": {},
   "source": [
    "# Topic modeling - TEST"
   ]
  },
  {
   "cell_type": "code",
   "execution_count": null,
   "id": "0d18dfe8",
   "metadata": {},
   "outputs": [
    {
     "name": "stderr",
     "output_type": "stream",
     "text": [
      "Batches: 100%|██████████| 48/48 [00:09<00:00,  5.25it/s]\n"
     ]
    },
    {
     "name": "stdout",
     "output_type": "stream",
     "text": [
      "=== Evaluación por cambio de tópico ===\n",
      "              precision    recall  f1-score   support\n",
      "\n",
      "        Good       0.36      0.21      0.26       563\n",
      "    Anomalía       0.63      0.78      0.70       967\n",
      "\n",
      "    accuracy                           0.57      1530\n",
      "   macro avg       0.49      0.49      0.48      1530\n",
      "weighted avg       0.53      0.57      0.54      1530\n",
      "\n",
      "\n",
      "=== Evaluación por baja probabilidad (umbral = 0.3) ===\n",
      "              precision    recall  f1-score   support\n",
      "\n",
      "        Good       0.36      0.88      0.51       563\n",
      "    Anomalía       0.56      0.09      0.15       967\n",
      "\n",
      "    accuracy                           0.38      1530\n",
      "   macro avg       0.46      0.49      0.33      1530\n",
      "weighted avg       0.49      0.38      0.28      1530\n",
      "\n",
      "\n",
      "=== Evaluación por similitud con centroide (umbral = 0.7) ===\n",
      "              precision    recall  f1-score   support\n",
      "\n",
      "        Good       0.38      0.73      0.50       563\n",
      "    Anomalía       0.67      0.31      0.42       967\n",
      "\n",
      "    accuracy                           0.47      1530\n",
      "   macro avg       0.52      0.52      0.46      1530\n",
      "weighted avg       0.56      0.47      0.45      1530\n",
      "\n",
      "\n",
      "Tópicos obtenidos:\n",
      "    Topic  Count                                   Name  \\\n",
      "0      -1     27       -1_pushpins_box_the_compartments   \n",
      "1       0    360                0_bag_bolts_washers_two   \n",
      "2       1    343          1_wire_connectors_mesh_levers   \n",
      "3       2    173              2_tray_granola_and_banana   \n",
      "4       3    137     3_pins_push_container_compartments   \n",
      "5       4    133         4_container_granola_and_banana   \n",
      "6       5    112              5_bottle_liquid_label_the   \n",
      "7       6    112            6_bottle_juice_label_liquid   \n",
      "8       7    111              7_bottle_liquid_label_the   \n",
      "9       8     77  8_pushpins_container_compartments_the   \n",
      "10      9     49     9_organizer_pins_compartments_push   \n",
      "11     10     39      10_tangerines_tray_granola_banana   \n",
      "12     11     32          11_box_pins_push_compartments   \n",
      "13     12     20       12_box_pins_storage_compartments   \n",
      "14     13     19         13_case_pins_compartments_push   \n",
      "15     14     17          14_terminal_blocks_block_wire   \n",
      "16     15     17       15_box_pushpins_compartments_the   \n",
      "\n",
      "                                       Representation  \\\n",
      "0   [pushpins, box, the, compartments, pins, are, ...   \n",
      "1   [bag, bolts, washers, two, nuts, the, and, com...   \n",
      "2   [wire, connectors, mesh, levers, orange, the, ...   \n",
      "3   [tray, granola, and, banana, of, chips, the, a...   \n",
      "4   [pins, push, container, compartments, the, yel...   \n",
      "5   [container, granola, and, banana, the, almonds...   \n",
      "6   [bottle, liquid, label, the, labels, glass, ju...   \n",
      "7   [bottle, juice, label, liquid, the, an, glass,...   \n",
      "8   [bottle, liquid, label, the, glass, juice, che...   \n",
      "9   [pushpins, container, compartments, the, each,...   \n",
      "10  [organizer, pins, compartments, push, the, are...   \n",
      "11  [tangerines, tray, granola, banana, chips, and...   \n",
      "12  [box, pins, push, compartments, the, yellow, o...   \n",
      "13  [box, pins, storage, compartments, push, or, t...   \n",
      "14  [case, pins, compartments, push, the, are, or,...   \n",
      "15  [terminal, blocks, block, wire, levers, connec...   \n",
      "16  [box, pushpins, compartments, the, or, pins, a...   \n",
      "\n",
      "                                  Representative_Docs  \n",
      "0   [The image shows a transparent plastic contain...  \n",
      "1   [The image shows a clear plastic bag containin...  \n",
      "2   [The image shows two clear plastic connectors ...  \n",
      "3   [The image shows a divided food tray containin...  \n",
      "4   [The image shows a transparent plastic contain...  \n",
      "5   [The image shows a divided food container with...  \n",
      "6   [The image shows a clear glass bottle filled w...  \n",
      "7   [The image shows a clear glass bottle filled w...  \n",
      "8   [The image shows a small, clear glass bottle f...  \n",
      "9   [The image shows a transparent plastic contain...  \n",
      "10  [The image shows a plastic organizer box conta...  \n",
      "11  [The image shows a compartmentalized tray cont...  \n",
      "12  [The image shows a clear plastic box with mult...  \n",
      "13  [The image shows a transparent plastic storage...  \n",
      "14  [The image depicts a clear plastic storage cas...  \n",
      "15  [The image shows two clear plastic terminal bl...  \n",
      "16  [The image shows a plastic compartmentalized b...  \n",
      "\n",
      "Palabras clave del tópico más común:\n",
      "[('bag', np.float64(0.08548287555839577)), ('bolts', np.float64(0.05733656563416805)), ('washers', np.float64(0.052533575490636655)), ('two', np.float64(0.050602027324793186)), ('nuts', np.float64(0.04858930568702565)), ('the', np.float64(0.04812658971803859)), ('and', np.float64(0.048018039324609)), ('components', np.float64(0.04245833641447278)), ('plastic', np.float64(0.039328878286206057)), ('recycling', np.float64(0.037323963554792054))]\n"
     ]
    },
    {
     "data": {
      "application/vnd.plotly.v1+json": {
       "config": {
        "plotlyServerURL": "https://plot.ly"
       },
       "data": [
        {
         "customdata": [
          [
           0,
           "bag | bolts | washers | two | nuts",
           360
          ],
          [
           1,
           "wire | connectors | mesh | levers | orange",
           343
          ],
          [
           2,
           "tray | granola | and | banana | of",
           173
          ],
          [
           3,
           "pins | push | container | compartments | the",
           137
          ],
          [
           4,
           "container | granola | and | banana | the",
           133
          ],
          [
           5,
           "bottle | liquid | label | the | labels",
           112
          ],
          [
           6,
           "bottle | juice | label | liquid | the",
           112
          ],
          [
           7,
           "bottle | liquid | label | the | glass",
           111
          ],
          [
           8,
           "pushpins | container | compartments | the | each",
           77
          ],
          [
           9,
           "organizer | pins | compartments | push | the",
           49
          ],
          [
           10,
           "tangerines | tray | granola | banana | chips",
           39
          ],
          [
           11,
           "box | pins | push | compartments | the",
           32
          ],
          [
           12,
           "box | pins | storage | compartments | push",
           20
          ],
          [
           13,
           "case | pins | compartments | push | the",
           19
          ],
          [
           14,
           "terminal | blocks | block | wire | levers",
           17
          ],
          [
           15,
           "box | pushpins | compartments | the | or",
           17
          ]
         ],
         "hovertemplate": "<b>Topic %{customdata[0]}</b><br>%{customdata[1]}<br>Size: %{customdata[2]}",
         "legendgroup": "",
         "marker": {
          "color": "#B0BEC5",
          "line": {
           "color": "DarkSlateGrey",
           "width": 2
          },
          "size": {
           "bdata": "aAFXAa0AiQCFAHAAcABvAE0AMQAnACAAFAATABEAEQA=",
           "dtype": "i2"
          },
          "sizemode": "area",
          "sizeref": 0.225,
          "symbol": "circle"
         },
         "mode": "markers",
         "name": "",
         "orientation": "v",
         "showlegend": false,
         "type": "scatter",
         "x": {
          "bdata": "9ygjQM0zzcBAVCRBVYc3QK0mIEEbHuFAeFznQDUR8kBrNP4/Nj4fQA5zKEFFDGDBxwpcwWNESkBYAMfAR/xiwQ==",
          "dtype": "f4"
         },
         "xaxis": "x",
         "y": {
          "bdata": "BC1GwPeeK0HCDXLBAvwmwNs4dsEY+E7ApqFCwGSJLMDwtEzAHCoawArubcEGyCHAI8wxwGr/QcAuhShB6gYWwA==",
          "dtype": "f4"
         },
         "yaxis": "y"
        }
       ],
       "layout": {
        "annotations": [
         {
          "showarrow": false,
          "text": "D1",
          "x": -16.314579010009766,
          "y": -2.6809778213500977,
          "yshift": 10
         },
         {
          "showarrow": false,
          "text": "D2",
          "x": -2.103638172149658,
          "xshift": 10,
          "y": 12.335256576538086
         }
        ],
        "height": 650,
        "hoverlabel": {
         "bgcolor": "white",
         "font": {
          "family": "Rockwell",
          "size": 16
         }
        },
        "legend": {
         "itemsizing": "constant",
         "tracegroupgap": 0
        },
        "margin": {
         "t": 60
        },
        "shapes": [
         {
          "line": {
           "color": "#CFD8DC",
           "width": 2
          },
          "type": "line",
          "x0": -2.103638172149658,
          "x1": -2.103638172149658,
          "y0": -17.69721221923828,
          "y1": 12.335256576538086
         },
         {
          "line": {
           "color": "#9E9E9E",
           "width": 2
          },
          "type": "line",
          "x0": -16.314579010009766,
          "x1": 12.10730266571045,
          "y0": -2.6809778213500977,
          "y1": -2.6809778213500977
         }
        ],
        "sliders": [
         {
          "active": 0,
          "pad": {
           "t": 50
          },
          "steps": [
           {
            "args": [
             {
              "marker.color": [
               [
                "red",
                "#B0BEC5",
                "#B0BEC5",
                "#B0BEC5",
                "#B0BEC5",
                "#B0BEC5",
                "#B0BEC5",
                "#B0BEC5",
                "#B0BEC5",
                "#B0BEC5",
                "#B0BEC5",
                "#B0BEC5",
                "#B0BEC5",
                "#B0BEC5",
                "#B0BEC5",
                "#B0BEC5"
               ]
              ]
             }
            ],
            "label": "Topic 0",
            "method": "update"
           },
           {
            "args": [
             {
              "marker.color": [
               [
                "#B0BEC5",
                "red",
                "#B0BEC5",
                "#B0BEC5",
                "#B0BEC5",
                "#B0BEC5",
                "#B0BEC5",
                "#B0BEC5",
                "#B0BEC5",
                "#B0BEC5",
                "#B0BEC5",
                "#B0BEC5",
                "#B0BEC5",
                "#B0BEC5",
                "#B0BEC5",
                "#B0BEC5"
               ]
              ]
             }
            ],
            "label": "Topic 1",
            "method": "update"
           },
           {
            "args": [
             {
              "marker.color": [
               [
                "#B0BEC5",
                "#B0BEC5",
                "red",
                "#B0BEC5",
                "#B0BEC5",
                "#B0BEC5",
                "#B0BEC5",
                "#B0BEC5",
                "#B0BEC5",
                "#B0BEC5",
                "#B0BEC5",
                "#B0BEC5",
                "#B0BEC5",
                "#B0BEC5",
                "#B0BEC5",
                "#B0BEC5"
               ]
              ]
             }
            ],
            "label": "Topic 2",
            "method": "update"
           },
           {
            "args": [
             {
              "marker.color": [
               [
                "#B0BEC5",
                "#B0BEC5",
                "#B0BEC5",
                "red",
                "#B0BEC5",
                "#B0BEC5",
                "#B0BEC5",
                "#B0BEC5",
                "#B0BEC5",
                "#B0BEC5",
                "#B0BEC5",
                "#B0BEC5",
                "#B0BEC5",
                "#B0BEC5",
                "#B0BEC5",
                "#B0BEC5"
               ]
              ]
             }
            ],
            "label": "Topic 3",
            "method": "update"
           },
           {
            "args": [
             {
              "marker.color": [
               [
                "#B0BEC5",
                "#B0BEC5",
                "#B0BEC5",
                "#B0BEC5",
                "red",
                "#B0BEC5",
                "#B0BEC5",
                "#B0BEC5",
                "#B0BEC5",
                "#B0BEC5",
                "#B0BEC5",
                "#B0BEC5",
                "#B0BEC5",
                "#B0BEC5",
                "#B0BEC5",
                "#B0BEC5"
               ]
              ]
             }
            ],
            "label": "Topic 4",
            "method": "update"
           },
           {
            "args": [
             {
              "marker.color": [
               [
                "#B0BEC5",
                "#B0BEC5",
                "#B0BEC5",
                "#B0BEC5",
                "#B0BEC5",
                "red",
                "#B0BEC5",
                "#B0BEC5",
                "#B0BEC5",
                "#B0BEC5",
                "#B0BEC5",
                "#B0BEC5",
                "#B0BEC5",
                "#B0BEC5",
                "#B0BEC5",
                "#B0BEC5"
               ]
              ]
             }
            ],
            "label": "Topic 5",
            "method": "update"
           },
           {
            "args": [
             {
              "marker.color": [
               [
                "#B0BEC5",
                "#B0BEC5",
                "#B0BEC5",
                "#B0BEC5",
                "#B0BEC5",
                "#B0BEC5",
                "red",
                "#B0BEC5",
                "#B0BEC5",
                "#B0BEC5",
                "#B0BEC5",
                "#B0BEC5",
                "#B0BEC5",
                "#B0BEC5",
                "#B0BEC5",
                "#B0BEC5"
               ]
              ]
             }
            ],
            "label": "Topic 6",
            "method": "update"
           },
           {
            "args": [
             {
              "marker.color": [
               [
                "#B0BEC5",
                "#B0BEC5",
                "#B0BEC5",
                "#B0BEC5",
                "#B0BEC5",
                "#B0BEC5",
                "#B0BEC5",
                "red",
                "#B0BEC5",
                "#B0BEC5",
                "#B0BEC5",
                "#B0BEC5",
                "#B0BEC5",
                "#B0BEC5",
                "#B0BEC5",
                "#B0BEC5"
               ]
              ]
             }
            ],
            "label": "Topic 7",
            "method": "update"
           },
           {
            "args": [
             {
              "marker.color": [
               [
                "#B0BEC5",
                "#B0BEC5",
                "#B0BEC5",
                "#B0BEC5",
                "#B0BEC5",
                "#B0BEC5",
                "#B0BEC5",
                "#B0BEC5",
                "red",
                "#B0BEC5",
                "#B0BEC5",
                "#B0BEC5",
                "#B0BEC5",
                "#B0BEC5",
                "#B0BEC5",
                "#B0BEC5"
               ]
              ]
             }
            ],
            "label": "Topic 8",
            "method": "update"
           },
           {
            "args": [
             {
              "marker.color": [
               [
                "#B0BEC5",
                "#B0BEC5",
                "#B0BEC5",
                "#B0BEC5",
                "#B0BEC5",
                "#B0BEC5",
                "#B0BEC5",
                "#B0BEC5",
                "#B0BEC5",
                "red",
                "#B0BEC5",
                "#B0BEC5",
                "#B0BEC5",
                "#B0BEC5",
                "#B0BEC5",
                "#B0BEC5"
               ]
              ]
             }
            ],
            "label": "Topic 9",
            "method": "update"
           },
           {
            "args": [
             {
              "marker.color": [
               [
                "#B0BEC5",
                "#B0BEC5",
                "#B0BEC5",
                "#B0BEC5",
                "#B0BEC5",
                "#B0BEC5",
                "#B0BEC5",
                "#B0BEC5",
                "#B0BEC5",
                "#B0BEC5",
                "red",
                "#B0BEC5",
                "#B0BEC5",
                "#B0BEC5",
                "#B0BEC5",
                "#B0BEC5"
               ]
              ]
             }
            ],
            "label": "Topic 10",
            "method": "update"
           },
           {
            "args": [
             {
              "marker.color": [
               [
                "#B0BEC5",
                "#B0BEC5",
                "#B0BEC5",
                "#B0BEC5",
                "#B0BEC5",
                "#B0BEC5",
                "#B0BEC5",
                "#B0BEC5",
                "#B0BEC5",
                "#B0BEC5",
                "#B0BEC5",
                "red",
                "#B0BEC5",
                "#B0BEC5",
                "#B0BEC5",
                "#B0BEC5"
               ]
              ]
             }
            ],
            "label": "Topic 11",
            "method": "update"
           },
           {
            "args": [
             {
              "marker.color": [
               [
                "#B0BEC5",
                "#B0BEC5",
                "#B0BEC5",
                "#B0BEC5",
                "#B0BEC5",
                "#B0BEC5",
                "#B0BEC5",
                "#B0BEC5",
                "#B0BEC5",
                "#B0BEC5",
                "#B0BEC5",
                "#B0BEC5",
                "red",
                "#B0BEC5",
                "#B0BEC5",
                "#B0BEC5"
               ]
              ]
             }
            ],
            "label": "Topic 12",
            "method": "update"
           },
           {
            "args": [
             {
              "marker.color": [
               [
                "#B0BEC5",
                "#B0BEC5",
                "#B0BEC5",
                "#B0BEC5",
                "#B0BEC5",
                "#B0BEC5",
                "#B0BEC5",
                "#B0BEC5",
                "#B0BEC5",
                "#B0BEC5",
                "#B0BEC5",
                "#B0BEC5",
                "#B0BEC5",
                "red",
                "#B0BEC5",
                "#B0BEC5"
               ]
              ]
             }
            ],
            "label": "Topic 13",
            "method": "update"
           },
           {
            "args": [
             {
              "marker.color": [
               [
                "#B0BEC5",
                "#B0BEC5",
                "#B0BEC5",
                "#B0BEC5",
                "#B0BEC5",
                "#B0BEC5",
                "#B0BEC5",
                "#B0BEC5",
                "#B0BEC5",
                "#B0BEC5",
                "#B0BEC5",
                "#B0BEC5",
                "#B0BEC5",
                "#B0BEC5",
                "red",
                "#B0BEC5"
               ]
              ]
             }
            ],
            "label": "Topic 14",
            "method": "update"
           },
           {
            "args": [
             {
              "marker.color": [
               [
                "#B0BEC5",
                "#B0BEC5",
                "#B0BEC5",
                "#B0BEC5",
                "#B0BEC5",
                "#B0BEC5",
                "#B0BEC5",
                "#B0BEC5",
                "#B0BEC5",
                "#B0BEC5",
                "#B0BEC5",
                "#B0BEC5",
                "#B0BEC5",
                "#B0BEC5",
                "#B0BEC5",
                "red"
               ]
              ]
             }
            ],
            "label": "Topic 15",
            "method": "update"
           }
          ]
         }
        ],
        "template": {
         "data": {
          "bar": [
           {
            "error_x": {
             "color": "rgb(36,36,36)"
            },
            "error_y": {
             "color": "rgb(36,36,36)"
            },
            "marker": {
             "line": {
              "color": "white",
              "width": 0.5
             },
             "pattern": {
              "fillmode": "overlay",
              "size": 10,
              "solidity": 0.2
             }
            },
            "type": "bar"
           }
          ],
          "barpolar": [
           {
            "marker": {
             "line": {
              "color": "white",
              "width": 0.5
             },
             "pattern": {
              "fillmode": "overlay",
              "size": 10,
              "solidity": 0.2
             }
            },
            "type": "barpolar"
           }
          ],
          "carpet": [
           {
            "aaxis": {
             "endlinecolor": "rgb(36,36,36)",
             "gridcolor": "white",
             "linecolor": "white",
             "minorgridcolor": "white",
             "startlinecolor": "rgb(36,36,36)"
            },
            "baxis": {
             "endlinecolor": "rgb(36,36,36)",
             "gridcolor": "white",
             "linecolor": "white",
             "minorgridcolor": "white",
             "startlinecolor": "rgb(36,36,36)"
            },
            "type": "carpet"
           }
          ],
          "choropleth": [
           {
            "colorbar": {
             "outlinewidth": 1,
             "tickcolor": "rgb(36,36,36)",
             "ticks": "outside"
            },
            "type": "choropleth"
           }
          ],
          "contour": [
           {
            "colorbar": {
             "outlinewidth": 1,
             "tickcolor": "rgb(36,36,36)",
             "ticks": "outside"
            },
            "colorscale": [
             [
              0,
              "#440154"
             ],
             [
              0.1111111111111111,
              "#482878"
             ],
             [
              0.2222222222222222,
              "#3e4989"
             ],
             [
              0.3333333333333333,
              "#31688e"
             ],
             [
              0.4444444444444444,
              "#26828e"
             ],
             [
              0.5555555555555556,
              "#1f9e89"
             ],
             [
              0.6666666666666666,
              "#35b779"
             ],
             [
              0.7777777777777778,
              "#6ece58"
             ],
             [
              0.8888888888888888,
              "#b5de2b"
             ],
             [
              1,
              "#fde725"
             ]
            ],
            "type": "contour"
           }
          ],
          "contourcarpet": [
           {
            "colorbar": {
             "outlinewidth": 1,
             "tickcolor": "rgb(36,36,36)",
             "ticks": "outside"
            },
            "type": "contourcarpet"
           }
          ],
          "heatmap": [
           {
            "colorbar": {
             "outlinewidth": 1,
             "tickcolor": "rgb(36,36,36)",
             "ticks": "outside"
            },
            "colorscale": [
             [
              0,
              "#440154"
             ],
             [
              0.1111111111111111,
              "#482878"
             ],
             [
              0.2222222222222222,
              "#3e4989"
             ],
             [
              0.3333333333333333,
              "#31688e"
             ],
             [
              0.4444444444444444,
              "#26828e"
             ],
             [
              0.5555555555555556,
              "#1f9e89"
             ],
             [
              0.6666666666666666,
              "#35b779"
             ],
             [
              0.7777777777777778,
              "#6ece58"
             ],
             [
              0.8888888888888888,
              "#b5de2b"
             ],
             [
              1,
              "#fde725"
             ]
            ],
            "type": "heatmap"
           }
          ],
          "histogram": [
           {
            "marker": {
             "line": {
              "color": "white",
              "width": 0.6
             }
            },
            "type": "histogram"
           }
          ],
          "histogram2d": [
           {
            "colorbar": {
             "outlinewidth": 1,
             "tickcolor": "rgb(36,36,36)",
             "ticks": "outside"
            },
            "colorscale": [
             [
              0,
              "#440154"
             ],
             [
              0.1111111111111111,
              "#482878"
             ],
             [
              0.2222222222222222,
              "#3e4989"
             ],
             [
              0.3333333333333333,
              "#31688e"
             ],
             [
              0.4444444444444444,
              "#26828e"
             ],
             [
              0.5555555555555556,
              "#1f9e89"
             ],
             [
              0.6666666666666666,
              "#35b779"
             ],
             [
              0.7777777777777778,
              "#6ece58"
             ],
             [
              0.8888888888888888,
              "#b5de2b"
             ],
             [
              1,
              "#fde725"
             ]
            ],
            "type": "histogram2d"
           }
          ],
          "histogram2dcontour": [
           {
            "colorbar": {
             "outlinewidth": 1,
             "tickcolor": "rgb(36,36,36)",
             "ticks": "outside"
            },
            "colorscale": [
             [
              0,
              "#440154"
             ],
             [
              0.1111111111111111,
              "#482878"
             ],
             [
              0.2222222222222222,
              "#3e4989"
             ],
             [
              0.3333333333333333,
              "#31688e"
             ],
             [
              0.4444444444444444,
              "#26828e"
             ],
             [
              0.5555555555555556,
              "#1f9e89"
             ],
             [
              0.6666666666666666,
              "#35b779"
             ],
             [
              0.7777777777777778,
              "#6ece58"
             ],
             [
              0.8888888888888888,
              "#b5de2b"
             ],
             [
              1,
              "#fde725"
             ]
            ],
            "type": "histogram2dcontour"
           }
          ],
          "mesh3d": [
           {
            "colorbar": {
             "outlinewidth": 1,
             "tickcolor": "rgb(36,36,36)",
             "ticks": "outside"
            },
            "type": "mesh3d"
           }
          ],
          "parcoords": [
           {
            "line": {
             "colorbar": {
              "outlinewidth": 1,
              "tickcolor": "rgb(36,36,36)",
              "ticks": "outside"
             }
            },
            "type": "parcoords"
           }
          ],
          "pie": [
           {
            "automargin": true,
            "type": "pie"
           }
          ],
          "scatter": [
           {
            "fillpattern": {
             "fillmode": "overlay",
             "size": 10,
             "solidity": 0.2
            },
            "type": "scatter"
           }
          ],
          "scatter3d": [
           {
            "line": {
             "colorbar": {
              "outlinewidth": 1,
              "tickcolor": "rgb(36,36,36)",
              "ticks": "outside"
             }
            },
            "marker": {
             "colorbar": {
              "outlinewidth": 1,
              "tickcolor": "rgb(36,36,36)",
              "ticks": "outside"
             }
            },
            "type": "scatter3d"
           }
          ],
          "scattercarpet": [
           {
            "marker": {
             "colorbar": {
              "outlinewidth": 1,
              "tickcolor": "rgb(36,36,36)",
              "ticks": "outside"
             }
            },
            "type": "scattercarpet"
           }
          ],
          "scattergeo": [
           {
            "marker": {
             "colorbar": {
              "outlinewidth": 1,
              "tickcolor": "rgb(36,36,36)",
              "ticks": "outside"
             }
            },
            "type": "scattergeo"
           }
          ],
          "scattergl": [
           {
            "marker": {
             "colorbar": {
              "outlinewidth": 1,
              "tickcolor": "rgb(36,36,36)",
              "ticks": "outside"
             }
            },
            "type": "scattergl"
           }
          ],
          "scattermap": [
           {
            "marker": {
             "colorbar": {
              "outlinewidth": 1,
              "tickcolor": "rgb(36,36,36)",
              "ticks": "outside"
             }
            },
            "type": "scattermap"
           }
          ],
          "scattermapbox": [
           {
            "marker": {
             "colorbar": {
              "outlinewidth": 1,
              "tickcolor": "rgb(36,36,36)",
              "ticks": "outside"
             }
            },
            "type": "scattermapbox"
           }
          ],
          "scatterpolar": [
           {
            "marker": {
             "colorbar": {
              "outlinewidth": 1,
              "tickcolor": "rgb(36,36,36)",
              "ticks": "outside"
             }
            },
            "type": "scatterpolar"
           }
          ],
          "scatterpolargl": [
           {
            "marker": {
             "colorbar": {
              "outlinewidth": 1,
              "tickcolor": "rgb(36,36,36)",
              "ticks": "outside"
             }
            },
            "type": "scatterpolargl"
           }
          ],
          "scatterternary": [
           {
            "marker": {
             "colorbar": {
              "outlinewidth": 1,
              "tickcolor": "rgb(36,36,36)",
              "ticks": "outside"
             }
            },
            "type": "scatterternary"
           }
          ],
          "surface": [
           {
            "colorbar": {
             "outlinewidth": 1,
             "tickcolor": "rgb(36,36,36)",
             "ticks": "outside"
            },
            "colorscale": [
             [
              0,
              "#440154"
             ],
             [
              0.1111111111111111,
              "#482878"
             ],
             [
              0.2222222222222222,
              "#3e4989"
             ],
             [
              0.3333333333333333,
              "#31688e"
             ],
             [
              0.4444444444444444,
              "#26828e"
             ],
             [
              0.5555555555555556,
              "#1f9e89"
             ],
             [
              0.6666666666666666,
              "#35b779"
             ],
             [
              0.7777777777777778,
              "#6ece58"
             ],
             [
              0.8888888888888888,
              "#b5de2b"
             ],
             [
              1,
              "#fde725"
             ]
            ],
            "type": "surface"
           }
          ],
          "table": [
           {
            "cells": {
             "fill": {
              "color": "rgb(237,237,237)"
             },
             "line": {
              "color": "white"
             }
            },
            "header": {
             "fill": {
              "color": "rgb(217,217,217)"
             },
             "line": {
              "color": "white"
             }
            },
            "type": "table"
           }
          ]
         },
         "layout": {
          "annotationdefaults": {
           "arrowhead": 0,
           "arrowwidth": 1
          },
          "autotypenumbers": "strict",
          "coloraxis": {
           "colorbar": {
            "outlinewidth": 1,
            "tickcolor": "rgb(36,36,36)",
            "ticks": "outside"
           }
          },
          "colorscale": {
           "diverging": [
            [
             0,
             "rgb(103,0,31)"
            ],
            [
             0.1,
             "rgb(178,24,43)"
            ],
            [
             0.2,
             "rgb(214,96,77)"
            ],
            [
             0.3,
             "rgb(244,165,130)"
            ],
            [
             0.4,
             "rgb(253,219,199)"
            ],
            [
             0.5,
             "rgb(247,247,247)"
            ],
            [
             0.6,
             "rgb(209,229,240)"
            ],
            [
             0.7,
             "rgb(146,197,222)"
            ],
            [
             0.8,
             "rgb(67,147,195)"
            ],
            [
             0.9,
             "rgb(33,102,172)"
            ],
            [
             1,
             "rgb(5,48,97)"
            ]
           ],
           "sequential": [
            [
             0,
             "#440154"
            ],
            [
             0.1111111111111111,
             "#482878"
            ],
            [
             0.2222222222222222,
             "#3e4989"
            ],
            [
             0.3333333333333333,
             "#31688e"
            ],
            [
             0.4444444444444444,
             "#26828e"
            ],
            [
             0.5555555555555556,
             "#1f9e89"
            ],
            [
             0.6666666666666666,
             "#35b779"
            ],
            [
             0.7777777777777778,
             "#6ece58"
            ],
            [
             0.8888888888888888,
             "#b5de2b"
            ],
            [
             1,
             "#fde725"
            ]
           ],
           "sequentialminus": [
            [
             0,
             "#440154"
            ],
            [
             0.1111111111111111,
             "#482878"
            ],
            [
             0.2222222222222222,
             "#3e4989"
            ],
            [
             0.3333333333333333,
             "#31688e"
            ],
            [
             0.4444444444444444,
             "#26828e"
            ],
            [
             0.5555555555555556,
             "#1f9e89"
            ],
            [
             0.6666666666666666,
             "#35b779"
            ],
            [
             0.7777777777777778,
             "#6ece58"
            ],
            [
             0.8888888888888888,
             "#b5de2b"
            ],
            [
             1,
             "#fde725"
            ]
           ]
          },
          "colorway": [
           "#1F77B4",
           "#FF7F0E",
           "#2CA02C",
           "#D62728",
           "#9467BD",
           "#8C564B",
           "#E377C2",
           "#7F7F7F",
           "#BCBD22",
           "#17BECF"
          ],
          "font": {
           "color": "rgb(36,36,36)"
          },
          "geo": {
           "bgcolor": "white",
           "lakecolor": "white",
           "landcolor": "white",
           "showlakes": true,
           "showland": true,
           "subunitcolor": "white"
          },
          "hoverlabel": {
           "align": "left"
          },
          "hovermode": "closest",
          "mapbox": {
           "style": "light"
          },
          "paper_bgcolor": "white",
          "plot_bgcolor": "white",
          "polar": {
           "angularaxis": {
            "gridcolor": "rgb(232,232,232)",
            "linecolor": "rgb(36,36,36)",
            "showgrid": false,
            "showline": true,
            "ticks": "outside"
           },
           "bgcolor": "white",
           "radialaxis": {
            "gridcolor": "rgb(232,232,232)",
            "linecolor": "rgb(36,36,36)",
            "showgrid": false,
            "showline": true,
            "ticks": "outside"
           }
          },
          "scene": {
           "xaxis": {
            "backgroundcolor": "white",
            "gridcolor": "rgb(232,232,232)",
            "gridwidth": 2,
            "linecolor": "rgb(36,36,36)",
            "showbackground": true,
            "showgrid": false,
            "showline": true,
            "ticks": "outside",
            "zeroline": false,
            "zerolinecolor": "rgb(36,36,36)"
           },
           "yaxis": {
            "backgroundcolor": "white",
            "gridcolor": "rgb(232,232,232)",
            "gridwidth": 2,
            "linecolor": "rgb(36,36,36)",
            "showbackground": true,
            "showgrid": false,
            "showline": true,
            "ticks": "outside",
            "zeroline": false,
            "zerolinecolor": "rgb(36,36,36)"
           },
           "zaxis": {
            "backgroundcolor": "white",
            "gridcolor": "rgb(232,232,232)",
            "gridwidth": 2,
            "linecolor": "rgb(36,36,36)",
            "showbackground": true,
            "showgrid": false,
            "showline": true,
            "ticks": "outside",
            "zeroline": false,
            "zerolinecolor": "rgb(36,36,36)"
           }
          },
          "shapedefaults": {
           "fillcolor": "black",
           "line": {
            "width": 0
           },
           "opacity": 0.3
          },
          "ternary": {
           "aaxis": {
            "gridcolor": "rgb(232,232,232)",
            "linecolor": "rgb(36,36,36)",
            "showgrid": false,
            "showline": true,
            "ticks": "outside"
           },
           "baxis": {
            "gridcolor": "rgb(232,232,232)",
            "linecolor": "rgb(36,36,36)",
            "showgrid": false,
            "showline": true,
            "ticks": "outside"
           },
           "bgcolor": "white",
           "caxis": {
            "gridcolor": "rgb(232,232,232)",
            "linecolor": "rgb(36,36,36)",
            "showgrid": false,
            "showline": true,
            "ticks": "outside"
           }
          },
          "title": {
           "x": 0.05
          },
          "xaxis": {
           "automargin": true,
           "gridcolor": "rgb(232,232,232)",
           "linecolor": "rgb(36,36,36)",
           "showgrid": false,
           "showline": true,
           "ticks": "outside",
           "title": {
            "standoff": 15
           },
           "zeroline": false,
           "zerolinecolor": "rgb(36,36,36)"
          },
          "yaxis": {
           "automargin": true,
           "gridcolor": "rgb(232,232,232)",
           "linecolor": "rgb(36,36,36)",
           "showgrid": false,
           "showline": true,
           "ticks": "outside",
           "title": {
            "standoff": 15
           },
           "zeroline": false,
           "zerolinecolor": "rgb(36,36,36)"
          }
         }
        },
        "title": {
         "font": {
          "color": "Black",
          "size": 22
         },
         "text": "<b>Intertopic Distance Map</b>",
         "x": 0.5,
         "xanchor": "center",
         "y": 0.95,
         "yanchor": "top"
        },
        "width": 650,
        "xaxis": {
         "anchor": "y",
         "domain": [
          0,
          1
         ],
         "range": [
          -16.314579010009766,
          12.10730266571045
         ],
         "title": {
          "text": ""
         },
         "visible": false
        },
        "yaxis": {
         "anchor": "x",
         "domain": [
          0,
          1
         ],
         "range": [
          -17.69721221923828,
          12.335256576538086
         ],
         "title": {
          "text": ""
         },
         "visible": false
        }
       }
      }
     },
     "metadata": {},
     "output_type": "display_data"
    }
   ],
   "source": [
    "import pandas as pd\n",
    "import numpy as np\n",
    "from sentence_transformers import SentenceTransformer\n",
    "from bertopic import BERTopic\n",
    "from sklearn.metrics import classification_report\n",
    "from sklearn.metrics.pairwise import cosine_similarity\n",
    "\n",
    "# Cargar el archivo CSV\n",
    "ruta = r'' # Ruta donde se encuentra tu archivo CSV con las descripciones \n",
    "df = pd.read_csv(ruta, sep=';')\n",
    "\n",
    "# Filtrar las filas donde 'Nombre Carpeta' contiene '/test/'\n",
    "df_test = df[df['Nombre Carpeta'].str.contains(r'/test', na=False, regex=True)].copy()\n",
    "\n",
    "# Extraer la columna de descripciones\n",
    "descriptions_test = df_test['Descripciones imagenes'].tolist()\n",
    "\n",
    "# Cargar el modelo de Sentence Transformer\n",
    "model = SentenceTransformer('all-MiniLM-L6-v2')\n",
    "\n",
    "# Generar los embeddings de las descripciones\n",
    "embeddings_test = model.encode(descriptions_test, show_progress_bar=True)\n",
    "np.save('embeddings_test.npy', embeddings_test)\n",
    "\n",
    "\n",
    "\n",
    "\n",
    "# Extraer la clase desde la ruta del nombre de carpeta\n",
    "df_test['Clase Anomalia'] = df_test['Nombre Carpeta'].apply(lambda x: x.split('/')[-1].strip().lower())\n",
    "\n",
    "df_test['Es_anómalo'] = df_test['Clase Anomalia'] != 'good'\n",
    "\n",
    "\n",
    "\n",
    "\n",
    "# Cargar el modelo BERTopic entrenado solo con imágenes 'good'\n",
    "topic_model = BERTopic.load(\"bertopic_train_model\")\n",
    "topics, probs = topic_model.transform(descriptions_test, embeddings_test)\n",
    "\n",
    "# Asignar al DataFrame\n",
    "df_test['Tópico'] = topics\n",
    "df_test['Probabilidad'] = probs\n",
    "\n",
    "# Tópico más frecuente en test\n",
    "top_topic_train = pd.Series(topics).value_counts().idxmax()\n",
    "df_test['Es_tópico_good'] = df_test['Tópico'] == top_topic_train\n",
    "\n",
    "\n",
    "\n",
    "\n",
    "# Evaluación 1: Por cambio de tópico\n",
    "y_true = df_test['Es_anómalo']\n",
    "y_pred = ~df_test['Es_tópico_good']\n",
    "\n",
    "print(\"=== Evaluación por cambio de tópico ===\")\n",
    "print(classification_report(y_true, y_pred, target_names=['Good', 'Anomalía']))\n",
    "\n",
    "\n",
    "\n",
    "\n",
    "# Evaluación 2: Por baja probabilidad del modelo\n",
    "umbral_prob = 0.3\n",
    "df_test['Pred_anómalo_por_confianza'] = df_test['Probabilidad'] < umbral_prob\n",
    "y_pred_conf = df_test['Pred_anómalo_por_confianza']\n",
    "\n",
    "print(f\"\\n=== Evaluación por baja probabilidad (umbral = {umbral_prob}) ===\")\n",
    "print(classification_report(y_true, y_pred_conf, target_names=['Good', 'Anomalía']))\n",
    "\n",
    "\n",
    "\n",
    "\n",
    "# Evaluación 3: Por similitud con centroides del train\n",
    "\n",
    "# Cargar centroides generados con train\n",
    "centroids = np.load('topic_centroids.npy')\n",
    "topic_ids = np.load('topic_ids.npy')\n",
    "\n",
    "# Calcular similitud coseno con cada centroide\n",
    "similarity_matrix = cosine_similarity(embeddings_test, centroids)\n",
    "\n",
    "# Obtener el índice del centroide más similar\n",
    "most_similar_topic_indices = np.argmax(similarity_matrix, axis=1)\n",
    "assigned_topic_ids = topic_ids[most_similar_topic_indices]\n",
    "similarities = np.max(similarity_matrix, axis=1)\n",
    "\n",
    "df_test['Tópico más cercano (por centroide)'] = assigned_topic_ids\n",
    "df_test['Similitud con centroide'] = similarities\n",
    "\n",
    "# Umbral de similitud para detección de anomalía\n",
    "umbral_similitud = 0.7\n",
    "df_test['Pred_anómalo_por_similitud'] = df_test['Similitud con centroide'] < umbral_similitud\n",
    "\n",
    "print(f\"\\n=== Evaluación por similitud con centroide (umbral = {umbral_similitud}) ===\")\n",
    "print(classification_report(df_test['Es_anómalo'], df_test['Pred_anómalo_por_similitud'], target_names=['Good', 'Anomalía']))\n",
    "\n",
    "\n",
    "\n",
    "\n",
    "# Mostrar los tópicos generados\n",
    "topic_info = topic_model.get_topic_info()\n",
    "print('\\nTópicos obtenidos:')\n",
    "print(topic_info)\n",
    "\n",
    "# Palabras clave del tópico más común\n",
    "print('\\nPalabras clave del tópico más común:')\n",
    "print(topic_model.get_topic(top_topic_train))\n",
    "\n",
    "# Visualización\n",
    "topic_model.visualize_topics()\n"
   ]
  },
  {
   "cell_type": "code",
   "execution_count": null,
   "id": "5585edfc",
   "metadata": {},
   "outputs": [
    {
     "data": {
      "application/vnd.plotly.v1+json": {
       "config": {
        "plotlyServerURL": "https://plot.ly"
       },
       "data": [
        {
         "customdata": [
          [
           "juice_bottle/test/good",
           6,
           0.7339125871658325
          ],
          [
           "juice_bottle/test/good",
           7,
           0.7178948521614075
          ],
          [
           "juice_bottle/test/good",
           7,
           0.7218698263168335
          ],
          [
           "juice_bottle/test/good",
           7,
           0.7024282813072205
          ],
          [
           "juice_bottle/test/good",
           6,
           0.8129074573516846
          ],
          [
           "juice_bottle/test/good",
           6,
           0.7134831547737122
          ],
          [
           "juice_bottle/test/good",
           6,
           0.799494743347168
          ],
          [
           "juice_bottle/test/good",
           5,
           0.8033046722412109
          ],
          [
           "juice_bottle/test/good",
           5,
           0.7241644859313965
          ],
          [
           "juice_bottle/test/good",
           6,
           0.7116295695304871
          ],
          [
           "juice_bottle/test/good",
           7,
           0.8378938436508179
          ],
          [
           "juice_bottle/test/good",
           6,
           0.7664269208908081
          ],
          [
           "juice_bottle/test/good",
           6,
           0.7729675769805908
          ],
          [
           "juice_bottle/test/good",
           5,
           0.8356120586395264
          ],
          [
           "juice_bottle/test/good",
           6,
           0.7011481523513794
          ],
          [
           "juice_bottle/test/good",
           6,
           0.857049822807312
          ],
          [
           "juice_bottle/test/good",
           7,
           0.7787352800369263
          ],
          [
           "juice_bottle/test/good",
           6,
           0.6640985012054443
          ],
          [
           "juice_bottle/test/good",
           6,
           0.7648352384567261
          ],
          [
           "juice_bottle/test/good",
           6,
           0.7611919045448303
          ],
          [
           "juice_bottle/test/good",
           5,
           0.7639420032501221
          ],
          [
           "juice_bottle/test/good",
           6,
           0.8166188597679138
          ],
          [
           "juice_bottle/test/good",
           5,
           0.8448271751403809
          ],
          [
           "juice_bottle/test/good",
           6,
           0.8127033710479736
          ],
          [
           "juice_bottle/test/good",
           6,
           0.6776264309883118
          ],
          [
           "juice_bottle/test/good",
           5,
           0.6919926404953003
          ],
          [
           "juice_bottle/test/good",
           5,
           0.886928141117096
          ],
          [
           "juice_bottle/test/good",
           6,
           0.7413695454597473
          ],
          [
           "juice_bottle/test/good",
           6,
           0.718747615814209
          ],
          [
           "juice_bottle/test/good",
           5,
           0.7710553407669067
          ],
          [
           "juice_bottle/test/good",
           7,
           0.8173680901527405
          ],
          [
           "juice_bottle/test/good",
           7,
           0.6827124357223511
          ],
          [
           "juice_bottle/test/good",
           6,
           0.8390489816665649
          ],
          [
           "juice_bottle/test/good",
           7,
           0.7627238035202026
          ],
          [
           "juice_bottle/test/good",
           6,
           0.6765215396881104
          ],
          [
           "juice_bottle/test/good",
           6,
           0.6328736543655396
          ],
          [
           "juice_bottle/test/good",
           6,
           0.7394489049911499
          ],
          [
           "juice_bottle/test/good",
           5,
           0.802647054195404
          ],
          [
           "juice_bottle/test/good",
           6,
           0.7765592336654663
          ],
          [
           "juice_bottle/test/good",
           7,
           0.6578596830368042
          ],
          [
           "juice_bottle/test/good",
           5,
           0.8864754438400269
          ],
          [
           "juice_bottle/test/good",
           6,
           0.7487117052078247
          ],
          [
           "juice_bottle/test/good",
           5,
           0.9104447364807129
          ],
          [
           "juice_bottle/test/good",
           7,
           0.774993896484375
          ],
          [
           "juice_bottle/test/good",
           5,
           0.8039552569389343
          ],
          [
           "juice_bottle/test/good",
           5,
           0.8812506794929504
          ],
          [
           "juice_bottle/test/good",
           5,
           0.7737382650375366
          ],
          [
           "juice_bottle/test/good",
           6,
           0.8424327373504639
          ],
          [
           "juice_bottle/test/good",
           6,
           0.7133594751358032
          ],
          [
           "juice_bottle/test/good",
           6,
           0.8943060636520386
          ],
          [
           "juice_bottle/test/good",
           7,
           0.5712116956710815
          ],
          [
           "juice_bottle/test/good",
           6,
           0.7737526893615723
          ],
          [
           "juice_bottle/test/good",
           6,
           0.6866518259048462
          ],
          [
           "juice_bottle/test/good",
           6,
           0.7352068424224854
          ],
          [
           "juice_bottle/test/good",
           6,
           0.6874159574508667
          ],
          [
           "juice_bottle/test/good",
           7,
           0.769766092300415
          ],
          [
           "juice_bottle/test/good",
           6,
           0.7677536010742188
          ],
          [
           "juice_bottle/test/good",
           6,
           0.7057534456253052
          ],
          [
           "juice_bottle/test/good",
           7,
           0.7361119985580444
          ],
          [
           "juice_bottle/test/good",
           6,
           0.7513279914855957
          ],
          [
           "juice_bottle/test/good",
           7,
           0.768738865852356
          ],
          [
           "juice_bottle/test/good",
           6,
           0.5998786687850952
          ],
          [
           "juice_bottle/test/good",
           7,
           0.8213503360748291
          ],
          [
           "juice_bottle/test/good",
           5,
           0.8141090869903564
          ],
          [
           "juice_bottle/test/good",
           5,
           0.8157987594604492
          ],
          [
           "juice_bottle/test/good",
           6,
           0.8354150652885437
          ],
          [
           "juice_bottle/test/good",
           7,
           0.8173743486404419
          ],
          [
           "juice_bottle/test/good",
           5,
           0.8603050708770752
          ],
          [
           "juice_bottle/test/good",
           6,
           0.7194552421569824
          ],
          [
           "juice_bottle/test/good",
           7,
           0.7989329695701599
          ],
          [
           "juice_bottle/test/good",
           6,
           0.7465659379959106
          ],
          [
           "juice_bottle/test/good",
           6,
           0.8783023953437805
          ],
          [
           "juice_bottle/test/good",
           6,
           0.7918368577957153
          ],
          [
           "juice_bottle/test/good",
           6,
           0.6959147453308105
          ],
          [
           "juice_bottle/test/good",
           7,
           0.7598109245300293
          ],
          [
           "juice_bottle/test/good",
           6,
           0.7229105234146118
          ],
          [
           "juice_bottle/test/good",
           5,
           0.7459096312522888
          ],
          [
           "juice_bottle/test/good",
           7,
           0.8462784290313721
          ],
          [
           "juice_bottle/test/good",
           6,
           0.7221676111221313
          ],
          [
           "juice_bottle/test/good",
           6,
           0.7035335302352905
          ],
          [
           "juice_bottle/test/good",
           5,
           0.8111516237258911
          ],
          [
           "juice_bottle/test/good",
           6,
           0.7429934740066528
          ],
          [
           "juice_bottle/test/good",
           6,
           0.6895313262939453
          ],
          [
           "juice_bottle/test/good",
           7,
           0.8095037937164307
          ],
          [
           "juice_bottle/test/good",
           6,
           0.7279090881347656
          ],
          [
           "juice_bottle/test/good",
           6,
           0.8173093795776367
          ],
          [
           "juice_bottle/test/good",
           5,
           0.8051936626434326
          ],
          [
           "juice_bottle/test/good",
           6,
           0.6926002502441406
          ],
          [
           "juice_bottle/test/good",
           7,
           0.8359295129776001
          ],
          [
           "juice_bottle/test/good",
           5,
           0.844143271446228
          ],
          [
           "juice_bottle/test/good",
           6,
           0.786125659942627
          ],
          [
           "juice_bottle/test/good",
           7,
           0.822830319404602
          ],
          [
           "juice_bottle/test/good",
           6,
           0.7609368562698364
          ],
          [
           "splicing_connectors/test/good",
           1,
           0.8870266079902649
          ],
          [
           "splicing_connectors/test/good",
           1,
           0.8167417049407959
          ],
          [
           "splicing_connectors/test/good",
           1,
           0.7015101909637451
          ],
          [
           "splicing_connectors/test/good",
           1,
           0.7770412564277649
          ],
          [
           "splicing_connectors/test/good",
           1,
           0.6775686144828796
          ],
          [
           "splicing_connectors/test/good",
           1,
           0.8419495820999146
          ],
          [
           "splicing_connectors/test/good",
           1,
           0.603714108467102
          ],
          [
           "splicing_connectors/test/good",
           1,
           0.8162996768951416
          ],
          [
           "splicing_connectors/test/good",
           1,
           0.8038451671600342
          ],
          [
           "splicing_connectors/test/good",
           1,
           0.7635352611541748
          ],
          [
           "splicing_connectors/test/good",
           1,
           0.6673680543899536
          ],
          [
           "splicing_connectors/test/good",
           1,
           0.8215739727020264
          ],
          [
           "splicing_connectors/test/good",
           1,
           0.6577685475349426
          ],
          [
           "splicing_connectors/test/good",
           1,
           0.8287293314933777
          ],
          [
           "splicing_connectors/test/good",
           1,
           0.8495409488677979
          ],
          [
           "splicing_connectors/test/good",
           1,
           0.7998093366622925
          ],
          [
           "splicing_connectors/test/good",
           1,
           0.7469086647033691
          ],
          [
           "splicing_connectors/test/good",
           1,
           0.8373048305511475
          ],
          [
           "splicing_connectors/test/good",
           1,
           0.7812138795852661
          ],
          [
           "splicing_connectors/test/good",
           1,
           0.7355013489723206
          ],
          [
           "splicing_connectors/test/good",
           1,
           0.7339309453964233
          ],
          [
           "splicing_connectors/test/good",
           1,
           0.870484471321106
          ],
          [
           "splicing_connectors/test/good",
           1,
           0.7918131947517395
          ],
          [
           "splicing_connectors/test/good",
           1,
           0.6792320013046265
          ],
          [
           "splicing_connectors/test/good",
           1,
           0.9019930362701416
          ],
          [
           "splicing_connectors/test/good",
           1,
           0.6970915794372559
          ],
          [
           "splicing_connectors/test/good",
           1,
           0.6989089250564575
          ],
          [
           "splicing_connectors/test/good",
           1,
           0.8483728170394897
          ],
          [
           "splicing_connectors/test/good",
           1,
           0.7636135816574097
          ],
          [
           "splicing_connectors/test/good",
           1,
           0.8012996315956116
          ],
          [
           "splicing_connectors/test/good",
           1,
           0.8567796349525452
          ],
          [
           "splicing_connectors/test/good",
           1,
           0.8698784112930298
          ],
          [
           "splicing_connectors/test/good",
           1,
           0.7067996263504028
          ],
          [
           "splicing_connectors/test/good",
           1,
           0.8040112257003784
          ],
          [
           "splicing_connectors/test/good",
           1,
           0.704329252243042
          ],
          [
           "splicing_connectors/test/good",
           1,
           0.7114440202713013
          ],
          [
           "splicing_connectors/test/good",
           1,
           0.8700367212295532
          ],
          [
           "splicing_connectors/test/good",
           1,
           0.7530171871185303
          ],
          [
           "splicing_connectors/test/good",
           1,
           0.7662098407745361
          ],
          [
           "splicing_connectors/test/good",
           1,
           0.8931072354316711
          ],
          [
           "splicing_connectors/test/good",
           1,
           0.7899411916732788
          ],
          [
           "splicing_connectors/test/good",
           1,
           0.7025030255317688
          ],
          [
           "splicing_connectors/test/good",
           1,
           0.7726132869720459
          ],
          [
           "splicing_connectors/test/good",
           1,
           0.6431407332420349
          ],
          [
           "splicing_connectors/test/good",
           1,
           0.7955141067504883
          ],
          [
           "splicing_connectors/test/good",
           1,
           0.8799597024917603
          ],
          [
           "splicing_connectors/test/good",
           1,
           0.8192315101623535
          ],
          [
           "splicing_connectors/test/good",
           1,
           0.6826694011688232
          ],
          [
           "splicing_connectors/test/good",
           1,
           0.6221871972084045
          ],
          [
           "splicing_connectors/test/good",
           1,
           0.8513928055763245
          ],
          [
           "splicing_connectors/test/good",
           1,
           0.816586434841156
          ],
          [
           "splicing_connectors/test/good",
           1,
           0.6418018341064453
          ],
          [
           "splicing_connectors/test/good",
           1,
           0.8527746200561523
          ],
          [
           "splicing_connectors/test/good",
           1,
           0.7688167095184326
          ],
          [
           "splicing_connectors/test/good",
           1,
           0.8525406718254089
          ],
          [
           "splicing_connectors/test/good",
           1,
           0.7185739278793335
          ],
          [
           "splicing_connectors/test/good",
           1,
           0.784293532371521
          ],
          [
           "splicing_connectors/test/good",
           1,
           0.8835346698760986
          ],
          [
           "splicing_connectors/test/good",
           1,
           0.8540265560150146
          ],
          [
           "splicing_connectors/test/good",
           1,
           0.7087255716323853
          ],
          [
           "splicing_connectors/test/good",
           1,
           0.5236032009124756
          ],
          [
           "splicing_connectors/test/good",
           1,
           0.7766749858856201
          ],
          [
           "splicing_connectors/test/good",
           1,
           0.7894335389137268
          ],
          [
           "splicing_connectors/test/good",
           1,
           0.8326537609100342
          ],
          [
           "splicing_connectors/test/good",
           1,
           0.8138484358787537
          ],
          [
           "splicing_connectors/test/good",
           1,
           0.754581093788147
          ],
          [
           "splicing_connectors/test/good",
           1,
           0.8246804475784302
          ],
          [
           "splicing_connectors/test/good",
           1,
           0.7461915612220764
          ],
          [
           "splicing_connectors/test/good",
           1,
           0.7092157602310181
          ],
          [
           "splicing_connectors/test/good",
           1,
           0.8434482216835022
          ],
          [
           "splicing_connectors/test/good",
           1,
           0.7718585729598999
          ],
          [
           "splicing_connectors/test/good",
           1,
           0.85920250415802
          ],
          [
           "splicing_connectors/test/good",
           1,
           0.8102869987487793
          ],
          [
           "splicing_connectors/test/good",
           1,
           0.6215833425521851
          ],
          [
           "splicing_connectors/test/good",
           1,
           0.8157365322113037
          ],
          [
           "splicing_connectors/test/good",
           1,
           0.6436570882797241
          ],
          [
           "splicing_connectors/test/good",
           1,
           0.7034876346588135
          ],
          [
           "splicing_connectors/test/good",
           1,
           0.8312700986862183
          ],
          [
           "splicing_connectors/test/good",
           1,
           0.7756947875022888
          ],
          [
           "splicing_connectors/test/good",
           1,
           0.7883329391479492
          ],
          [
           "splicing_connectors/test/good",
           1,
           0.6855721473693848
          ],
          [
           "splicing_connectors/test/good",
           1,
           0.6872658729553223
          ],
          [
           "splicing_connectors/test/good",
           1,
           0.827900767326355
          ],
          [
           "splicing_connectors/test/good",
           1,
           0.8174740076065063
          ],
          [
           "splicing_connectors/test/good",
           1,
           0.7907201647758484
          ],
          [
           "splicing_connectors/test/good",
           1,
           0.7345332503318787
          ],
          [
           "splicing_connectors/test/good",
           1,
           0.8460503220558167
          ],
          [
           "splicing_connectors/test/good",
           1,
           0.8553227186203003
          ],
          [
           "splicing_connectors/test/good",
           1,
           0.8596773147583008
          ],
          [
           "splicing_connectors/test/good",
           1,
           0.7521427869796753
          ],
          [
           "splicing_connectors/test/good",
           1,
           0.6699571013450623
          ],
          [
           "splicing_connectors/test/good",
           1,
           0.5852929353713989
          ],
          [
           "splicing_connectors/test/good",
           1,
           0.6992582082748413
          ],
          [
           "splicing_connectors/test/good",
           1,
           0.7222757339477539
          ],
          [
           "splicing_connectors/test/good",
           1,
           0.7919673323631287
          ],
          [
           "splicing_connectors/test/good",
           1,
           0.8214364051818848
          ],
          [
           "splicing_connectors/test/good",
           1,
           0.728789210319519
          ],
          [
           "splicing_connectors/test/good",
           1,
           0.5435947179794312
          ],
          [
           "splicing_connectors/test/good",
           1,
           0.7117696404457092
          ],
          [
           "splicing_connectors/test/good",
           1,
           0.8108357191085815
          ],
          [
           "splicing_connectors/test/good",
           1,
           0.7675204873085022
          ],
          [
           "splicing_connectors/test/good",
           1,
           0.8434231281280518
          ],
          [
           "splicing_connectors/test/good",
           1,
           0.7844710350036621
          ],
          [
           "splicing_connectors/test/good",
           1,
           0.868706226348877
          ],
          [
           "splicing_connectors/test/good",
           1,
           0.7533577680587769
          ],
          [
           "splicing_connectors/test/good",
           1,
           0.8449511528015137
          ],
          [
           "splicing_connectors/test/good",
           1,
           0.7542953491210938
          ],
          [
           "splicing_connectors/test/good",
           1,
           0.6751879453659058
          ],
          [
           "splicing_connectors/test/good",
           1,
           0.5687848329544067
          ],
          [
           "splicing_connectors/test/good",
           1,
           0.7228735089302063
          ],
          [
           "splicing_connectors/test/good",
           1,
           0.885414719581604
          ],
          [
           "splicing_connectors/test/good",
           1,
           0.860607385635376
          ],
          [
           "splicing_connectors/test/good",
           1,
           0.7834213972091675
          ],
          [
           "splicing_connectors/test/good",
           1,
           0.6815754175186157
          ],
          [
           "splicing_connectors/test/good",
           1,
           0.8470008969306946
          ],
          [
           "splicing_connectors/test/good",
           1,
           0.7620240449905396
          ],
          [
           "splicing_connectors/test/good",
           1,
           0.8337119817733765
          ],
          [
           "breakfast_box/test/good",
           4,
           0.7745775580406189
          ],
          [
           "breakfast_box/test/good",
           -1,
           0.47392788529396057
          ],
          [
           "breakfast_box/test/good",
           2,
           0.8528844118118286
          ],
          [
           "breakfast_box/test/good",
           2,
           0.6607557535171509
          ],
          [
           "breakfast_box/test/good",
           -1,
           0.7485584020614624
          ],
          [
           "breakfast_box/test/good",
           4,
           0.6520535349845886
          ],
          [
           "breakfast_box/test/good",
           4,
           0.7220650911331177
          ],
          [
           "breakfast_box/test/good",
           4,
           0.7561867237091064
          ],
          [
           "breakfast_box/test/good",
           4,
           0.7726597785949707
          ],
          [
           "breakfast_box/test/good",
           -1,
           0.7667839527130127
          ],
          [
           "breakfast_box/test/good",
           2,
           0.852370023727417
          ],
          [
           "breakfast_box/test/good",
           4,
           0.7425423860549927
          ],
          [
           "breakfast_box/test/good",
           2,
           0.729857325553894
          ],
          [
           "breakfast_box/test/good",
           2,
           0.6097017526626587
          ],
          [
           "breakfast_box/test/good",
           4,
           0.6906250715255737
          ],
          [
           "breakfast_box/test/good",
           -1,
           0.7563114762306213
          ],
          [
           "breakfast_box/test/good",
           -1,
           0.7369005680084229
          ],
          [
           "breakfast_box/test/good",
           2,
           0.7598473429679871
          ],
          [
           "breakfast_box/test/good",
           -1,
           0.4613204300403595
          ],
          [
           "breakfast_box/test/good",
           -1,
           0.760494589805603
          ],
          [
           "breakfast_box/test/good",
           -1,
           0.7396194934844971
          ],
          [
           "breakfast_box/test/good",
           2,
           0.7752931118011475
          ],
          [
           "breakfast_box/test/good",
           2,
           0.6577538251876831
          ],
          [
           "breakfast_box/test/good",
           4,
           0.8198360204696655
          ],
          [
           "breakfast_box/test/good",
           2,
           0.7430271506309509
          ],
          [
           "breakfast_box/test/good",
           2,
           0.794542670249939
          ],
          [
           "breakfast_box/test/good",
           4,
           0.757305383682251
          ],
          [
           "breakfast_box/test/good",
           -1,
           0.7724522352218628
          ],
          [
           "breakfast_box/test/good",
           2,
           0.8597051501274109
          ],
          [
           "breakfast_box/test/good",
           2,
           0.8703442215919495
          ],
          [
           "breakfast_box/test/good",
           4,
           0.7048771381378174
          ],
          [
           "breakfast_box/test/good",
           4,
           0.748008131980896
          ],
          [
           "breakfast_box/test/good",
           -1,
           0.4337903559207916
          ],
          [
           "breakfast_box/test/good",
           4,
           0.7929134964942932
          ],
          [
           "breakfast_box/test/good",
           2,
           0.7021512389183044
          ],
          [
           "breakfast_box/test/good",
           4,
           0.7418878674507141
          ],
          [
           "breakfast_box/test/good",
           2,
           0.8089321851730347
          ],
          [
           "breakfast_box/test/good",
           4,
           0.8219888210296631
          ],
          [
           "breakfast_box/test/good",
           2,
           0.7870052456855774
          ],
          [
           "breakfast_box/test/good",
           2,
           0.7853531837463379
          ],
          [
           "breakfast_box/test/good",
           2,
           0.7641113996505737
          ],
          [
           "breakfast_box/test/good",
           3,
           0.4612575173377991
          ],
          [
           "breakfast_box/test/good",
           4,
           0.7244299650192261
          ],
          [
           "breakfast_box/test/good",
           2,
           0.8503769636154175
          ],
          [
           "breakfast_box/test/good",
           4,
           0.7294741868972778
          ],
          [
           "breakfast_box/test/good",
           4,
           0.7601652145385742
          ],
          [
           "breakfast_box/test/good",
           4,
           0.7414714097976685
          ],
          [
           "breakfast_box/test/good",
           4,
           0.7776269316673279
          ],
          [
           "breakfast_box/test/good",
           -1,
           0.7071770429611206
          ],
          [
           "breakfast_box/test/good",
           4,
           0.781699538230896
          ],
          [
           "breakfast_box/test/good",
           4,
           0.7638755440711975
          ],
          [
           "breakfast_box/test/good",
           4,
           0.7151933312416077
          ],
          [
           "breakfast_box/test/good",
           4,
           0.7339003086090088
          ],
          [
           "breakfast_box/test/good",
           4,
           0.6747832298278809
          ],
          [
           "breakfast_box/test/good",
           4,
           0.7950555682182312
          ],
          [
           "breakfast_box/test/good",
           2,
           0.8541958332061768
          ],
          [
           "breakfast_box/test/good",
           4,
           0.834754467010498
          ],
          [
           "breakfast_box/test/good",
           2,
           0.6767470836639404
          ],
          [
           "breakfast_box/test/good",
           4,
           0.8135390877723694
          ],
          [
           "breakfast_box/test/good",
           4,
           0.7116245627403259
          ],
          [
           "breakfast_box/test/good",
           2,
           0.8005653619766235
          ],
          [
           "breakfast_box/test/good",
           4,
           0.6956479549407959
          ],
          [
           "breakfast_box/test/good",
           4,
           0.8561179637908936
          ],
          [
           "breakfast_box/test/good",
           4,
           0.8781498670578003
          ],
          [
           "breakfast_box/test/good",
           2,
           0.7585850358009338
          ],
          [
           "breakfast_box/test/good",
           2,
           0.7690237760543823
          ],
          [
           "breakfast_box/test/good",
           2,
           0.6793522834777832
          ],
          [
           "breakfast_box/test/good",
           4,
           0.8496454954147339
          ],
          [
           "breakfast_box/test/good",
           2,
           0.7578725814819336
          ],
          [
           "breakfast_box/test/good",
           4,
           0.8365570306777954
          ],
          [
           "breakfast_box/test/good",
           2,
           0.7924391627311707
          ],
          [
           "breakfast_box/test/good",
           -1,
           0.5124059915542603
          ],
          [
           "breakfast_box/test/good",
           4,
           0.8642522096633911
          ],
          [
           "breakfast_box/test/good",
           4,
           0.7651714086532593
          ],
          [
           "breakfast_box/test/good",
           4,
           0.8940062522888184
          ],
          [
           "breakfast_box/test/good",
           2,
           0.6922876834869385
          ],
          [
           "breakfast_box/test/good",
           2,
           0.7653135061264038
          ],
          [
           "breakfast_box/test/good",
           -1,
           0.44056394696235657
          ],
          [
           "breakfast_box/test/good",
           2,
           0.8024975657463074
          ],
          [
           "breakfast_box/test/good",
           -1,
           0.4585458040237427
          ],
          [
           "breakfast_box/test/good",
           4,
           0.855067253112793
          ],
          [
           "breakfast_box/test/good",
           2,
           0.7211887836456299
          ],
          [
           "breakfast_box/test/good",
           4,
           0.779075026512146
          ],
          [
           "breakfast_box/test/good",
           2,
           0.7525480389595032
          ],
          [
           "breakfast_box/test/good",
           4,
           0.8321641683578491
          ],
          [
           "breakfast_box/test/good",
           4,
           0.8337361812591553
          ],
          [
           "breakfast_box/test/good",
           2,
           0.7986176609992981
          ],
          [
           "breakfast_box/test/good",
           -1,
           0.745535671710968
          ],
          [
           "breakfast_box/test/good",
           -1,
           0.7412029504776001
          ],
          [
           "breakfast_box/test/good",
           2,
           0.710919976234436
          ],
          [
           "breakfast_box/test/good",
           4,
           0.8207160234451294
          ],
          [
           "breakfast_box/test/good",
           2,
           0.8096825480461121
          ],
          [
           "breakfast_box/test/good",
           4,
           0.7623801231384277
          ],
          [
           "breakfast_box/test/good",
           -1,
           0.7560769319534302
          ],
          [
           "breakfast_box/test/good",
           -1,
           0.7271378040313721
          ],
          [
           "breakfast_box/test/good",
           4,
           0.672412633895874
          ],
          [
           "breakfast_box/test/good",
           4,
           0.7698103189468384
          ],
          [
           "breakfast_box/test/good",
           2,
           0.8449363708496094
          ],
          [
           "screw_bag/test/good",
           0,
           0.5460346937179565
          ],
          [
           "screw_bag/test/good",
           0,
           0.6587521433830261
          ],
          [
           "screw_bag/test/good",
           0,
           0.6708164215087891
          ],
          [
           "screw_bag/test/good",
           0,
           0.5712177753448486
          ],
          [
           "screw_bag/test/good",
           0,
           0.8127626180648804
          ],
          [
           "screw_bag/test/good",
           0,
           0.8268345594406128
          ],
          [
           "screw_bag/test/good",
           0,
           0.7136188745498657
          ],
          [
           "screw_bag/test/good",
           0,
           0.7915853261947632
          ],
          [
           "screw_bag/test/good",
           0,
           0.46802374720573425
          ],
          [
           "screw_bag/test/good",
           0,
           0.6655948162078857
          ],
          [
           "screw_bag/test/good",
           0,
           0.8204545974731445
          ],
          [
           "screw_bag/test/good",
           0,
           0.5323049426078796
          ],
          [
           "screw_bag/test/good",
           0,
           0.6506286859512329
          ],
          [
           "screw_bag/test/good",
           0,
           0.643248438835144
          ],
          [
           "screw_bag/test/good",
           0,
           0.7585426568984985
          ],
          [
           "screw_bag/test/good",
           0,
           0.6983848810195923
          ],
          [
           "screw_bag/test/good",
           0,
           0.7821728587150574
          ],
          [
           "screw_bag/test/good",
           0,
           0.8060823678970337
          ],
          [
           "screw_bag/test/good",
           0,
           0.7664474248886108
          ],
          [
           "screw_bag/test/good",
           0,
           0.7710703611373901
          ],
          [
           "screw_bag/test/good",
           0,
           0.7469512224197388
          ],
          [
           "screw_bag/test/good",
           0,
           0.6478432416915894
          ],
          [
           "screw_bag/test/good",
           0,
           0.6597093343734741
          ],
          [
           "screw_bag/test/good",
           0,
           0.5888082981109619
          ],
          [
           "screw_bag/test/good",
           0,
           0.5883124470710754
          ],
          [
           "screw_bag/test/good",
           0,
           0.5572509765625
          ],
          [
           "screw_bag/test/good",
           0,
           0.6027705669403076
          ],
          [
           "screw_bag/test/good",
           0,
           0.43251675367355347
          ],
          [
           "screw_bag/test/good",
           0,
           0.6752804517745972
          ],
          [
           "screw_bag/test/good",
           0,
           0.577739953994751
          ],
          [
           "screw_bag/test/good",
           0,
           0.7985965013504028
          ],
          [
           "screw_bag/test/good",
           0,
           0.6378778219223022
          ],
          [
           "screw_bag/test/good",
           0,
           0.577901303768158
          ],
          [
           "screw_bag/test/good",
           0,
           0.6963298320770264
          ],
          [
           "screw_bag/test/good",
           0,
           0.6850844621658325
          ],
          [
           "screw_bag/test/good",
           0,
           0.6882731914520264
          ],
          [
           "screw_bag/test/good",
           0,
           0.5325417518615723
          ],
          [
           "screw_bag/test/good",
           0,
           0.637528657913208
          ],
          [
           "screw_bag/test/good",
           0,
           0.5735450983047485
          ],
          [
           "screw_bag/test/good",
           0,
           0.5798430442810059
          ],
          [
           "screw_bag/test/good",
           0,
           0.8625643253326416
          ],
          [
           "screw_bag/test/good",
           0,
           0.7685829997062683
          ],
          [
           "screw_bag/test/good",
           0,
           0.8181933164596558
          ],
          [
           "screw_bag/test/good",
           0,
           0.522520899772644
          ],
          [
           "screw_bag/test/good",
           0,
           0.6042439937591553
          ],
          [
           "screw_bag/test/good",
           0,
           0.6331249475479126
          ],
          [
           "screw_bag/test/good",
           0,
           0.6672229170799255
          ],
          [
           "screw_bag/test/good",
           0,
           0.6613684892654419
          ],
          [
           "screw_bag/test/good",
           0,
           0.5890294313430786
          ],
          [
           "screw_bag/test/good",
           0,
           0.5465661287307739
          ],
          [
           "screw_bag/test/good",
           0,
           0.6369023323059082
          ],
          [
           "screw_bag/test/good",
           0,
           0.7882155179977417
          ],
          [
           "screw_bag/test/good",
           0,
           0.8149086236953735
          ],
          [
           "screw_bag/test/good",
           0,
           0.705467700958252
          ],
          [
           "screw_bag/test/good",
           0,
           0.6324476003646851
          ],
          [
           "screw_bag/test/good",
           0,
           0.7880364060401917
          ],
          [
           "screw_bag/test/good",
           0,
           0.609786868095398
          ],
          [
           "screw_bag/test/good",
           0,
           0.5601273775100708
          ],
          [
           "screw_bag/test/good",
           0,
           0.5333577394485474
          ],
          [
           "screw_bag/test/good",
           0,
           0.6420928239822388
          ],
          [
           "screw_bag/test/good",
           0,
           0.7262964248657227
          ],
          [
           "screw_bag/test/good",
           0,
           0.6390966176986694
          ],
          [
           "screw_bag/test/good",
           0,
           0.5907727479934692
          ],
          [
           "screw_bag/test/good",
           0,
           0.79087233543396
          ],
          [
           "screw_bag/test/good",
           0,
           0.7727251052856445
          ],
          [
           "screw_bag/test/good",
           0,
           0.7605161666870117
          ],
          [
           "screw_bag/test/good",
           0,
           0.6612036824226379
          ],
          [
           "screw_bag/test/good",
           0,
           0.8561996817588806
          ],
          [
           "screw_bag/test/good",
           0,
           0.8005605936050415
          ],
          [
           "screw_bag/test/good",
           0,
           0.8034272193908691
          ],
          [
           "screw_bag/test/good",
           0,
           0.8445582389831543
          ],
          [
           "screw_bag/test/good",
           0,
           0.6804401874542236
          ],
          [
           "screw_bag/test/good",
           0,
           0.708746075630188
          ],
          [
           "screw_bag/test/good",
           0,
           0.5441848039627075
          ],
          [
           "screw_bag/test/good",
           0,
           0.7754578590393066
          ],
          [
           "screw_bag/test/good",
           0,
           0.6732410192489624
          ],
          [
           "screw_bag/test/good",
           0,
           0.7040976285934448
          ],
          [
           "screw_bag/test/good",
           0,
           0.6230709552764893
          ],
          [
           "screw_bag/test/good",
           0,
           0.5491721034049988
          ],
          [
           "screw_bag/test/good",
           0,
           0.6943796873092651
          ],
          [
           "screw_bag/test/good",
           0,
           0.5850216150283813
          ],
          [
           "screw_bag/test/good",
           0,
           0.6996454000473022
          ],
          [
           "screw_bag/test/good",
           0,
           0.7742819786071777
          ],
          [
           "screw_bag/test/good",
           0,
           0.5946098566055298
          ],
          [
           "screw_bag/test/good",
           0,
           0.8733864426612854
          ],
          [
           "screw_bag/test/good",
           0,
           0.8027526140213013
          ],
          [
           "screw_bag/test/good",
           0,
           0.5743829011917114
          ],
          [
           "screw_bag/test/good",
           0,
           0.802399754524231
          ],
          [
           "screw_bag/test/good",
           0,
           0.6166912317276001
          ],
          [
           "screw_bag/test/good",
           0,
           0.4312654137611389
          ],
          [
           "screw_bag/test/good",
           0,
           0.5434784889221191
          ],
          [
           "screw_bag/test/good",
           0,
           0.7212533354759216
          ],
          [
           "screw_bag/test/good",
           0,
           0.42821139097213745
          ],
          [
           "screw_bag/test/good",
           0,
           0.8287804126739502
          ],
          [
           "screw_bag/test/good",
           0,
           0.5990443229675293
          ],
          [
           "screw_bag/test/good",
           0,
           0.6663908958435059
          ],
          [
           "screw_bag/test/good",
           0,
           0.616229772567749
          ],
          [
           "screw_bag/test/good",
           0,
           0.48467034101486206
          ],
          [
           "screw_bag/test/good",
           0,
           0.5090635418891907
          ],
          [
           "screw_bag/test/good",
           0,
           0.5656378269195557
          ],
          [
           "screw_bag/test/good",
           0,
           0.6336592435836792
          ],
          [
           "screw_bag/test/good",
           0,
           0.6587259769439697
          ],
          [
           "screw_bag/test/good",
           0,
           0.6176165342330933
          ],
          [
           "screw_bag/test/good",
           0,
           0.6875194311141968
          ],
          [
           "screw_bag/test/good",
           0,
           0.6476818323135376
          ],
          [
           "screw_bag/test/good",
           0,
           0.5841429233551025
          ],
          [
           "screw_bag/test/good",
           0,
           0.6841599941253662
          ],
          [
           "screw_bag/test/good",
           0,
           0.7302742004394531
          ],
          [
           "screw_bag/test/good",
           0,
           0.531078040599823
          ],
          [
           "screw_bag/test/good",
           0,
           0.37058067321777344
          ],
          [
           "screw_bag/test/good",
           0,
           0.5677552223205566
          ],
          [
           "screw_bag/test/good",
           0,
           0.6637536287307739
          ],
          [
           "screw_bag/test/good",
           0,
           0.7857738733291626
          ],
          [
           "screw_bag/test/good",
           0,
           0.48013293743133545
          ],
          [
           "screw_bag/test/good",
           0,
           0.8295748233795166
          ],
          [
           "screw_bag/test/good",
           0,
           0.6542295217514038
          ],
          [
           "screw_bag/test/good",
           0,
           0.5957463979721069
          ],
          [
           "screw_bag/test/good",
           0,
           0.7226127982139587
          ],
          [
           "pushpins/test/good",
           -1,
           0.7664852142333984
          ],
          [
           "pushpins/test/good",
           8,
           0.7042778730392456
          ],
          [
           "pushpins/test/good",
           3,
           0.778768002986908
          ],
          [
           "pushpins/test/good",
           8,
           0.8157986998558044
          ],
          [
           "pushpins/test/good",
           8,
           0.7808619737625122
          ],
          [
           "pushpins/test/good",
           8,
           0.6704275608062744
          ],
          [
           "pushpins/test/good",
           8,
           0.7696232795715332
          ],
          [
           "pushpins/test/good",
           8,
           0.8825353980064392
          ],
          [
           "pushpins/test/good",
           8,
           0.8672133684158325
          ],
          [
           "pushpins/test/good",
           8,
           0.7960447072982788
          ],
          [
           "pushpins/test/good",
           -1,
           0.8474305868148804
          ],
          [
           "pushpins/test/good",
           8,
           0.7709413170814514
          ],
          [
           "pushpins/test/good",
           3,
           0.8191149830818176
          ],
          [
           "pushpins/test/good",
           8,
           0.7643284797668457
          ],
          [
           "pushpins/test/good",
           8,
           0.7720146775245667
          ],
          [
           "pushpins/test/good",
           8,
           0.7502956986427307
          ],
          [
           "pushpins/test/good",
           8,
           0.8469008207321167
          ],
          [
           "pushpins/test/good",
           8,
           0.6972476243972778
          ],
          [
           "pushpins/test/good",
           8,
           0.8836643695831299
          ],
          [
           "pushpins/test/good",
           8,
           0.72998046875
          ],
          [
           "pushpins/test/good",
           8,
           0.789560079574585
          ],
          [
           "pushpins/test/good",
           8,
           0.863548755645752
          ],
          [
           "pushpins/test/good",
           3,
           0.6186720132827759
          ],
          [
           "pushpins/test/good",
           8,
           0.8254993557929993
          ],
          [
           "pushpins/test/good",
           -1,
           0.702358603477478
          ],
          [
           "pushpins/test/good",
           8,
           0.7929561734199524
          ],
          [
           "pushpins/test/good",
           8,
           0.6808940172195435
          ],
          [
           "pushpins/test/good",
           3,
           0.8506959676742554
          ],
          [
           "pushpins/test/good",
           8,
           0.7074057459831238
          ],
          [
           "pushpins/test/good",
           -1,
           0.8234528303146362
          ],
          [
           "pushpins/test/good",
           8,
           0.7080567479133606
          ],
          [
           "pushpins/test/good",
           8,
           0.7877553701400757
          ],
          [
           "pushpins/test/good",
           8,
           0.6967083215713501
          ],
          [
           "pushpins/test/good",
           8,
           0.7144514322280884
          ],
          [
           "pushpins/test/good",
           8,
           0.7881217002868652
          ],
          [
           "pushpins/test/good",
           8,
           0.800618052482605
          ],
          [
           "pushpins/test/good",
           8,
           0.8340068459510803
          ],
          [
           "pushpins/test/good",
           8,
           0.8635124564170837
          ],
          [
           "pushpins/test/good",
           -1,
           0.7645576000213623
          ],
          [
           "pushpins/test/good",
           8,
           0.9210103750228882
          ],
          [
           "pushpins/test/good",
           8,
           0.7118590474128723
          ],
          [
           "pushpins/test/good",
           8,
           0.8676229119300842
          ],
          [
           "pushpins/test/good",
           8,
           0.769092321395874
          ],
          [
           "pushpins/test/good",
           -1,
           0.8543275594711304
          ],
          [
           "pushpins/test/good",
           8,
           0.823431134223938
          ],
          [
           "pushpins/test/good",
           8,
           0.7587287425994873
          ],
          [
           "pushpins/test/good",
           8,
           0.8932400345802307
          ],
          [
           "pushpins/test/good",
           8,
           0.716376781463623
          ],
          [
           "pushpins/test/good",
           8,
           0.7618018388748169
          ],
          [
           "pushpins/test/good",
           8,
           0.8908728361129761
          ],
          [
           "pushpins/test/good",
           8,
           0.8199690580368042
          ],
          [
           "pushpins/test/good",
           8,
           0.9175089597702026
          ],
          [
           "pushpins/test/good",
           -1,
           0.7916507720947266
          ],
          [
           "pushpins/test/good",
           8,
           0.8492124080657959
          ],
          [
           "pushpins/test/good",
           -1,
           0.8338801860809326
          ],
          [
           "pushpins/test/good",
           8,
           0.8882140517234802
          ],
          [
           "pushpins/test/good",
           -1,
           0.6585104465484619
          ],
          [
           "pushpins/test/good",
           8,
           0.7550421953201294
          ],
          [
           "pushpins/test/good",
           -1,
           0.7297955751419067
          ],
          [
           "pushpins/test/good",
           8,
           0.7528491020202637
          ],
          [
           "pushpins/test/good",
           8,
           0.86552494764328
          ],
          [
           "pushpins/test/good",
           8,
           0.7383143305778503
          ],
          [
           "pushpins/test/good",
           -1,
           0.7439110279083252
          ],
          [
           "pushpins/test/good",
           8,
           0.8015991449356079
          ],
          [
           "pushpins/test/good",
           8,
           0.770343542098999
          ],
          [
           "pushpins/test/good",
           8,
           0.7817590236663818
          ],
          [
           "pushpins/test/good",
           8,
           0.8101314306259155
          ],
          [
           "pushpins/test/good",
           -1,
           0.7812625765800476
          ],
          [
           "pushpins/test/good",
           -1,
           0.8110601902008057
          ],
          [
           "pushpins/test/good",
           8,
           0.8544059991836548
          ],
          [
           "pushpins/test/good",
           8,
           0.6930689811706543
          ],
          [
           "pushpins/test/good",
           15,
           0.8796812295913696
          ],
          [
           "pushpins/test/good",
           8,
           0.860122799873352
          ],
          [
           "pushpins/test/good",
           8,
           0.7454844117164612
          ],
          [
           "pushpins/test/good",
           8,
           0.8578323721885681
          ],
          [
           "pushpins/test/good",
           8,
           0.8203160762786865
          ],
          [
           "pushpins/test/good",
           8,
           0.7027903199195862
          ],
          [
           "pushpins/test/good",
           8,
           0.8129284381866455
          ],
          [
           "pushpins/test/good",
           8,
           0.8226850628852844
          ],
          [
           "pushpins/test/good",
           -1,
           0.7351282835006714
          ],
          [
           "pushpins/test/good",
           8,
           0.658694863319397
          ],
          [
           "pushpins/test/good",
           15,
           0.8400957584381104
          ],
          [
           "pushpins/test/good",
           8,
           0.7002651691436768
          ],
          [
           "pushpins/test/good",
           8,
           0.7174062728881836
          ],
          [
           "pushpins/test/good",
           15,
           0.8305318355560303
          ],
          [
           "pushpins/test/good",
           8,
           0.7729896306991577
          ],
          [
           "pushpins/test/good",
           8,
           0.744728684425354
          ],
          [
           "pushpins/test/good",
           8,
           0.7811053991317749
          ],
          [
           "pushpins/test/good",
           8,
           0.7880622148513794
          ],
          [
           "pushpins/test/good",
           8,
           0.6968032121658325
          ],
          [
           "pushpins/test/good",
           -1,
           0.6039445996284485
          ],
          [
           "pushpins/test/good",
           8,
           0.6578671932220459
          ],
          [
           "pushpins/test/good",
           8,
           0.7583554983139038
          ],
          [
           "pushpins/test/good",
           8,
           0.7690361738204956
          ],
          [
           "pushpins/test/good",
           -1,
           0.7130898237228394
          ],
          [
           "pushpins/test/good",
           8,
           0.5881038904190063
          ],
          [
           "pushpins/test/good",
           15,
           0.873977541923523
          ],
          [
           "pushpins/test/good",
           8,
           0.8522502183914185
          ],
          [
           "pushpins/test/good",
           8,
           0.8198268413543701
          ],
          [
           "pushpins/test/good",
           8,
           0.7875429391860962
          ],
          [
           "pushpins/test/good",
           8,
           0.6859855055809021
          ],
          [
           "pushpins/test/good",
           8,
           0.6780773997306824
          ],
          [
           "pushpins/test/good",
           8,
           0.7554104924201965
          ],
          [
           "pushpins/test/good",
           8,
           0.6366035342216492
          ],
          [
           "pushpins/test/good",
           8,
           0.771241307258606
          ],
          [
           "pushpins/test/good",
           8,
           0.7499874830245972
          ],
          [
           "pushpins/test/good",
           8,
           0.7305811047554016
          ],
          [
           "pushpins/test/good",
           8,
           0.7016937732696533
          ],
          [
           "pushpins/test/good",
           8,
           0.8488291501998901
          ],
          [
           "pushpins/test/good",
           8,
           0.7251931428909302
          ],
          [
           "pushpins/test/good",
           15,
           0.8853725790977478
          ],
          [
           "pushpins/test/good",
           8,
           0.7748996019363403
          ],
          [
           "pushpins/test/good",
           -1,
           0.7385592460632324
          ],
          [
           "pushpins/test/good",
           8,
           0.7865666747093201
          ],
          [
           "pushpins/test/good",
           8,
           0.6184864640235901
          ],
          [
           "pushpins/test/good",
           8,
           0.8500192165374756
          ],
          [
           "pushpins/test/good",
           8,
           0.8822135329246521
          ],
          [
           "pushpins/test/good",
           8,
           0.6663340330123901
          ],
          [
           "pushpins/test/good",
           8,
           0.8128613233566284
          ],
          [
           "pushpins/test/good",
           15,
           0.8841730356216431
          ],
          [
           "pushpins/test/good",
           8,
           0.835741400718689
          ],
          [
           "pushpins/test/good",
           8,
           0.8713780641555786
          ],
          [
           "pushpins/test/good",
           -1,
           0.7193335890769958
          ],
          [
           "pushpins/test/good",
           8,
           0.675708532333374
          ],
          [
           "pushpins/test/good",
           8,
           0.7542587518692017
          ],
          [
           "pushpins/test/good",
           8,
           0.7756493091583252
          ],
          [
           "pushpins/test/good",
           15,
           0.8627783060073853
          ],
          [
           "pushpins/test/good",
           -1,
           0.7258303165435791
          ],
          [
           "pushpins/test/good",
           -1,
           0.7896499037742615
          ],
          [
           "pushpins/test/good",
           8,
           0.7729921340942383
          ],
          [
           "pushpins/test/good",
           -1,
           0.7265810966491699
          ],
          [
           "pushpins/test/good",
           8,
           0.710239827632904
          ],
          [
           "pushpins/test/good",
           8,
           0.8259996175765991
          ],
          [
           "pushpins/test/good",
           8,
           0.7167603969573975
          ],
          [
           "pushpins/test/good",
           8,
           0.7854423522949219
          ],
          [
           "pushpins/test/good",
           8,
           0.7928537130355835
          ],
          [
           "pushpins/test/good",
           8,
           0.7966514229774475
          ]
         ],
         "hovertemplate": "Tipo de imagen=good<br>TSNE-1=%{x}<br>TSNE-2=%{y}<br>Nombre Carpeta=%{customdata[0]}<br>Tópico=%{customdata[1]}<br>Similitud con centroide=%{customdata[2]}<extra></extra>",
         "legendgroup": "good",
         "marker": {
          "color": "#636efa",
          "symbol": "circle"
         },
         "mode": "markers",
         "name": "good",
         "showlegend": true,
         "type": "scattergl",
         "x": {
          "bdata": "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",
          "dtype": "f4"
         },
         "xaxis": "x",
         "y": {
          "bdata": "54uxv5NcAEDhAAfBxZfrwLa7RcEJT7/A0Zpcwbr6bUDXcr293ohrwNImE8Hc/VfAjI5ywcCLAUA41sTAO9ZXwcnVVsFYSEi/CiRWwVoUBcBAehDAqGBTwXVMXD/h4S3AZ7hIvRmmu8DySgpAQnhHwME3v8BzsoVAoicowYDAccE6PkfB2vy9v0xeMsCtperAiEcCwC1fP0AdCgHASfh0vnbCjj91bCDAzqaAvjTKRMDPGZQ/8towPwaiYkDbHC7BGGWxwB6KF8Hwml1AvZVXwQykcMD0feHAbWHkwD3XLsE94lfADrRmwDkyPcCjFpzA6EI4wd+Z8D8tXu3AAEOkP/Bqzj9CxFfBzmMkwXlYCUAxP9TAuMXgwFsPksBswhjBM+I5wU3itMCrkLfAlwrGv5RfKb8hqCbBz6p8wHJ8W8As6ElAa3YhwAXgGT8zlk/B+DYYwDcXRcF8xkPApPV3wT3gHsGXbiBAKAEswbeZ8cA/eXbBpiAzwgt4P8IkJkvCEJUgwoSQScLcBSnCn4APwp+HQ8LUWi3CWcApwuwzQMIa9hrCjDVJwtcMHsKTTifCZ48ZwnscJ8K9xRvCcuk4wn5gRMLkxxLClioXwhG5OsKx4zPCX+kfwjkzMcL9rRfCm5UowlHII8KtRD3C3W0hwsfPMsKTCg/C5n4lwqAkG8Lzax3C36MswgKfEsLf0CjCjz8Zwly9EMJ7A0DCaHIrwvUoFcK//D/CtLkvwtQZKcKDmRXCxHlQwtd4M8JzyxHCBxZVwvwBFcLYDkPCn/sbwpjQN8IYnSjCaPspwv6bIMICCBDCjFoQwjpVPMITqhLC6F8cwn9gLcJeaz3CCWITwlRVG8KeJybCha83wpCgD8I6Mh/CeyAhwkWdDcJzXxrCfh5Pwlt/KMIhyBfC19hIwmfOJ8KJ5BbCAqoGwp50HcIRCR7CF1sswhmCJ8KzSyTCN/ocwrWVMcIthTDCrEwowjX4EcIcVDnCd45FwlgxEsIIlCPChEIawjU8DMI2RDzCTa0UwgWBLMLG/DPC1u9Awj/WOsKW4UXCzq8Vwv/aFsIclg/Cc2RRwrT6KMJgRxfC00wtwiaqP8Lxr0bCjZcxwt08P8I+zSjCjVEBQinnNEEKkAFClCb0QWvOFkKFtRlC6Q/jQU/4BEKovRFCAPTrQfhvAUJsWhBCAe0NQtXFzkGcVhBC6t8XQpO97kHo/ARCM6E0QXvG7UGY7BpCztf7Qerx5UGX7e5BvZUIQsixEUJBvSFC6nEHQvomBEKe8gRC4k8XQu3gFkIS/u1BpsYeQqySE0J4ZAdCPwwOQgB1/0Ez6xJC8OUVQt7dEEKGvDRBxgYUQiheBEJSVBdClFIKQmm84EF1ou9BbBsZQqdS6EFGRApC1F8XQqMu70He4gpCojQIQr45CEIjIAhCyQMHQgeUHUICK95B4ivwQbUnFkInLQlCkL4PQh9DBUIxwRpCdCcFQuo+CEJR4AVCF5QIQvduAULFxtBBYioMQiABBEJ97/hB1CcNQi4kAkKwP+xBzm7+QfSE60FMzfxBUn0NQnWu8UFuMQFCdAgOQlrZC0JjFwhC01oNQjDx4kFNCwBCcOj2QWGYBUI37AJCBJMRQkgl4UGAGvlBGU0VQrrG9EGAKJpBqC+LQQbfvkGuQ29BTH7TQQbR4EEoeqdBIt7NQS7lZ0EVro1Bw4T0QY+emUEVWv1BvaJRQQcypEHTjMFBGrAKQo/0+UEzQsJBziIOQsSACkIcoKtBszIOQgBEZEFRM7FBNnSdQZaRiUGVpn9BDkqLQfcqcUHr1QBCsjWZQbeNk0F1WQ9CfeSzQRLjhEHm/ltBBgzbQZg7XUGSP4JB5WP8QR0UCULEUQRCkNCEQTgvkkH9871BnyuZQUtBmUFfsoZBSFKLQVEQQ0HYpwNCj2DxQUpEpUHSMKZByOPiQYqeiUE775ZBaNh5QUZhp0Fvf8NBKgt+QdbBm0FD9OdBXSrsQTQ+BUITwZtBPAHoQeIzBUKlkdJB/YcDQpgk0EGYYcdBCiBoQbrMDELk4hNCi6+pQazen0ETZ59BdtG8QZRBmEFfM7ZB4mvVQUQDekGkOOdB5uroQRsBjEEhpudBkON2QUVagEEYm6dBfHDDQcxKWEFU9wFC6/EIQjoFs0FaoIxBrPVyQQoVT0HzdIlBvPSzQX0C0kGEs5lB5a71QU0/lUEdHpFBYwySQQhUCUKt32dBJZWBQcW3iEGLc5NB4aDvQbvyekFmL9xBa36oQRrk5EFp3q5BV0EDQNSLOcF9ajpAkmyywNiPQUA8+FHBzyYpwRU7Iz8ZdIfAESvdwLb5Eb5YT+zAmCDfPyzAq8ARuhQ/PiZRQLZU4D8n5RPBGz2jv0A3AsEtNuDANidCP/gVK8GHv3nArigFwUpndMBO2CzBSMQ3QLI63MDnMmxAteGZwANNDcFlHTjBjho2wbVWLr+V8IQ+vD+1wBTXRcAFXbM+EH1ZP05ZIsGBxHfAZhpjwP2y675Em5U/sTAowbtJJz+LYy7BrNbmwH3MQMAxFLbAcU6Hv0kXp0CHgTPAfOpdwAYUYD8cYQpABnrxwMLa/79L6X/A8HOawMHyEcFXf8A/3YWuwM8RCL8k9g7BD2aowNqXuT9oW4m/3D4IwGlpAsF3V6i/YazJviPgmcC4kpa/JXkCP9dAzMDjclpAX8PKvz0Lk0D3Q8XANGqYv2SbC8F1P/bAZocGvp4dt8B1Yi7BSukDwc2PjsC6qCjB5aVXwWpN+8C4At3AtMucPpJtGMHNIx7AFvPGvwSEvD97ILu/6ceawBog0MBpvyXB5LuFwN8828DKcmbAN1BAwdCT68BtjzbBdVdtvzYb1MBQfBHABWuawLhLTsHqjzjBBEs7we19XsDnAknAlpjtwDw6ksC8gDpAVfuRv7HS1j/dRQbB/CXKwBdYQ8AYBAnA/n4dwMQHyD7cW/i+0N2ywFNHR8E/ONPAvp0JwEWbDcADc7jAblYwwf2l6sA=",
          "dtype": "f4"
         },
         "yaxis": "y"
        },
        {
         "customdata": [
          [
           "juice_bottle/test/structural_anomalies",
           7,
           0.7350385785102844
          ],
          [
           "juice_bottle/test/structural_anomalies",
           6,
           0.6103615760803223
          ],
          [
           "juice_bottle/test/structural_anomalies",
           7,
           0.7476868629455566
          ],
          [
           "juice_bottle/test/structural_anomalies",
           6,
           0.8107874989509583
          ],
          [
           "juice_bottle/test/structural_anomalies",
           6,
           0.8227933645248413
          ],
          [
           "juice_bottle/test/structural_anomalies",
           5,
           0.7888180017471313
          ],
          [
           "juice_bottle/test/structural_anomalies",
           6,
           0.7470325231552124
          ],
          [
           "juice_bottle/test/structural_anomalies",
           7,
           0.8619638085365295
          ],
          [
           "juice_bottle/test/structural_anomalies",
           7,
           0.6892019510269165
          ],
          [
           "juice_bottle/test/structural_anomalies",
           5,
           0.7535060048103333
          ],
          [
           "juice_bottle/test/structural_anomalies",
           7,
           0.6939747333526611
          ],
          [
           "juice_bottle/test/structural_anomalies",
           7,
           0.9119711518287659
          ],
          [
           "juice_bottle/test/structural_anomalies",
           5,
           0.7318650484085083
          ],
          [
           "juice_bottle/test/structural_anomalies",
           6,
           0.6733929514884949
          ],
          [
           "juice_bottle/test/structural_anomalies",
           7,
           0.7758203148841858
          ],
          [
           "juice_bottle/test/structural_anomalies",
           6,
           0.8249256610870361
          ],
          [
           "juice_bottle/test/structural_anomalies",
           5,
           0.8267189264297485
          ],
          [
           "juice_bottle/test/structural_anomalies",
           6,
           0.696494460105896
          ],
          [
           "juice_bottle/test/structural_anomalies",
           5,
           0.785194993019104
          ],
          [
           "juice_bottle/test/structural_anomalies",
           7,
           0.840424656867981
          ],
          [
           "juice_bottle/test/structural_anomalies",
           7,
           0.770004153251648
          ],
          [
           "juice_bottle/test/structural_anomalies",
           7,
           0.8193405270576477
          ],
          [
           "juice_bottle/test/structural_anomalies",
           5,
           0.7715455293655396
          ],
          [
           "juice_bottle/test/structural_anomalies",
           6,
           0.830912709236145
          ],
          [
           "juice_bottle/test/structural_anomalies",
           6,
           0.8692300319671631
          ],
          [
           "juice_bottle/test/structural_anomalies",
           6,
           0.808634877204895
          ],
          [
           "juice_bottle/test/structural_anomalies",
           6,
           0.8272809982299805
          ],
          [
           "juice_bottle/test/structural_anomalies",
           7,
           0.7483643293380737
          ],
          [
           "juice_bottle/test/structural_anomalies",
           7,
           0.7571654915809631
          ],
          [
           "juice_bottle/test/structural_anomalies",
           6,
           0.6154078841209412
          ],
          [
           "juice_bottle/test/structural_anomalies",
           6,
           0.8773602247238159
          ],
          [
           "juice_bottle/test/structural_anomalies",
           5,
           0.8652416467666626
          ],
          [
           "juice_bottle/test/structural_anomalies",
           7,
           0.7988787293434143
          ],
          [
           "juice_bottle/test/structural_anomalies",
           7,
           0.8629721999168396
          ],
          [
           "juice_bottle/test/structural_anomalies",
           6,
           0.7977466583251953
          ],
          [
           "juice_bottle/test/structural_anomalies",
           6,
           0.8497555255889893
          ],
          [
           "juice_bottle/test/structural_anomalies",
           6,
           0.6778926849365234
          ],
          [
           "juice_bottle/test/structural_anomalies",
           6,
           0.733353316783905
          ],
          [
           "juice_bottle/test/structural_anomalies",
           6,
           0.7448998689651489
          ],
          [
           "juice_bottle/test/structural_anomalies",
           5,
           0.7646028995513916
          ],
          [
           "juice_bottle/test/structural_anomalies",
           5,
           0.8280285596847534
          ],
          [
           "juice_bottle/test/structural_anomalies",
           6,
           0.7566646933555603
          ],
          [
           "juice_bottle/test/structural_anomalies",
           5,
           0.7747418880462646
          ],
          [
           "juice_bottle/test/structural_anomalies",
           5,
           0.8225805759429932
          ],
          [
           "juice_bottle/test/structural_anomalies",
           6,
           0.7825906276702881
          ],
          [
           "juice_bottle/test/structural_anomalies",
           5,
           0.8028766512870789
          ],
          [
           "juice_bottle/test/structural_anomalies",
           6,
           0.7023173570632935
          ],
          [
           "juice_bottle/test/structural_anomalies",
           7,
           0.7630234956741333
          ],
          [
           "juice_bottle/test/structural_anomalies",
           5,
           0.8560233116149902
          ],
          [
           "juice_bottle/test/structural_anomalies",
           5,
           0.7849180698394775
          ],
          [
           "juice_bottle/test/structural_anomalies",
           7,
           0.7989429235458374
          ],
          [
           "juice_bottle/test/structural_anomalies",
           6,
           0.7814401388168335
          ],
          [
           "juice_bottle/test/structural_anomalies",
           7,
           0.7965003252029419
          ],
          [
           "juice_bottle/test/structural_anomalies",
           5,
           0.8375869989395142
          ],
          [
           "juice_bottle/test/structural_anomalies",
           6,
           0.7661806344985962
          ],
          [
           "juice_bottle/test/structural_anomalies",
           5,
           0.7997115850448608
          ],
          [
           "juice_bottle/test/structural_anomalies",
           7,
           0.7960682511329651
          ],
          [
           "juice_bottle/test/structural_anomalies",
           6,
           0.7024259567260742
          ],
          [
           "juice_bottle/test/structural_anomalies",
           7,
           0.8366380333900452
          ],
          [
           "juice_bottle/test/structural_anomalies",
           7,
           0.7300500869750977
          ],
          [
           "juice_bottle/test/structural_anomalies",
           6,
           0.8131014108657837
          ],
          [
           "juice_bottle/test/structural_anomalies",
           7,
           0.8190023899078369
          ],
          [
           "juice_bottle/test/structural_anomalies",
           7,
           0.7674832940101624
          ],
          [
           "juice_bottle/test/structural_anomalies",
           6,
           0.778946042060852
          ],
          [
           "juice_bottle/test/structural_anomalies",
           6,
           0.7890301942825317
          ],
          [
           "juice_bottle/test/structural_anomalies",
           6,
           0.8815664649009705
          ],
          [
           "juice_bottle/test/structural_anomalies",
           6,
           0.8425086140632629
          ],
          [
           "juice_bottle/test/structural_anomalies",
           6,
           0.7787911891937256
          ],
          [
           "juice_bottle/test/structural_anomalies",
           7,
           0.7619775533676147
          ],
          [
           "juice_bottle/test/structural_anomalies",
           6,
           0.6583811044692993
          ],
          [
           "juice_bottle/test/structural_anomalies",
           6,
           0.7122547030448914
          ],
          [
           "juice_bottle/test/structural_anomalies",
           5,
           0.796904444694519
          ],
          [
           "juice_bottle/test/structural_anomalies",
           7,
           0.7843350768089294
          ],
          [
           "juice_bottle/test/structural_anomalies",
           6,
           0.7926523685455322
          ],
          [
           "juice_bottle/test/structural_anomalies",
           5,
           0.7921410202980042
          ],
          [
           "juice_bottle/test/structural_anomalies",
           6,
           0.8186404705047607
          ],
          [
           "juice_bottle/test/structural_anomalies",
           7,
           0.8384832143783569
          ],
          [
           "juice_bottle/test/structural_anomalies",
           6,
           0.736426591873169
          ],
          [
           "juice_bottle/test/structural_anomalies",
           7,
           0.7786117792129517
          ],
          [
           "juice_bottle/test/structural_anomalies",
           6,
           0.6833460330963135
          ],
          [
           "juice_bottle/test/structural_anomalies",
           6,
           0.6894274950027466
          ],
          [
           "juice_bottle/test/structural_anomalies",
           5,
           0.7017675638198853
          ],
          [
           "juice_bottle/test/structural_anomalies",
           6,
           0.6950050592422485
          ],
          [
           "juice_bottle/test/structural_anomalies",
           6,
           0.6706948280334473
          ],
          [
           "juice_bottle/test/structural_anomalies",
           5,
           0.808564305305481
          ],
          [
           "juice_bottle/test/structural_anomalies",
           6,
           0.7986807823181152
          ],
          [
           "juice_bottle/test/structural_anomalies",
           6,
           0.7288371324539185
          ],
          [
           "juice_bottle/test/structural_anomalies",
           6,
           0.7359867095947266
          ],
          [
           "juice_bottle/test/structural_anomalies",
           7,
           0.650371253490448
          ],
          [
           "juice_bottle/test/structural_anomalies",
           6,
           0.7008688449859619
          ],
          [
           "juice_bottle/test/structural_anomalies",
           6,
           0.6959369778633118
          ],
          [
           "juice_bottle/test/structural_anomalies",
           6,
           0.7722105979919434
          ],
          [
           "juice_bottle/test/structural_anomalies",
           7,
           0.8376632928848267
          ],
          [
           "juice_bottle/test/structural_anomalies",
           6,
           0.7833864688873291
          ],
          [
           "splicing_connectors/test/structural_anomalies",
           1,
           0.5699441432952881
          ],
          [
           "splicing_connectors/test/structural_anomalies",
           1,
           0.6971575617790222
          ],
          [
           "splicing_connectors/test/structural_anomalies",
           1,
           0.6753981709480286
          ],
          [
           "splicing_connectors/test/structural_anomalies",
           1,
           0.7319668531417847
          ],
          [
           "splicing_connectors/test/structural_anomalies",
           1,
           0.7819679975509644
          ],
          [
           "splicing_connectors/test/structural_anomalies",
           1,
           0.8248013257980347
          ],
          [
           "splicing_connectors/test/structural_anomalies",
           1,
           0.7598857283592224
          ],
          [
           "splicing_connectors/test/structural_anomalies",
           1,
           0.8702571392059326
          ],
          [
           "splicing_connectors/test/structural_anomalies",
           1,
           0.6721998453140259
          ],
          [
           "splicing_connectors/test/structural_anomalies",
           1,
           0.6487194299697876
          ],
          [
           "splicing_connectors/test/structural_anomalies",
           1,
           0.5869069695472717
          ],
          [
           "splicing_connectors/test/structural_anomalies",
           1,
           0.8554429411888123
          ],
          [
           "splicing_connectors/test/structural_anomalies",
           1,
           0.6763092279434204
          ],
          [
           "splicing_connectors/test/structural_anomalies",
           1,
           0.8899271488189697
          ],
          [
           "splicing_connectors/test/structural_anomalies",
           1,
           0.8384838700294495
          ],
          [
           "splicing_connectors/test/structural_anomalies",
           1,
           0.8309332132339478
          ],
          [
           "splicing_connectors/test/structural_anomalies",
           1,
           0.8784058094024658
          ],
          [
           "splicing_connectors/test/structural_anomalies",
           1,
           0.6629775166511536
          ],
          [
           "splicing_connectors/test/structural_anomalies",
           1,
           0.8711130619049072
          ],
          [
           "splicing_connectors/test/structural_anomalies",
           1,
           0.5342462062835693
          ],
          [
           "splicing_connectors/test/structural_anomalies",
           1,
           0.6633846759796143
          ],
          [
           "splicing_connectors/test/structural_anomalies",
           1,
           0.8216861486434937
          ],
          [
           "splicing_connectors/test/structural_anomalies",
           1,
           0.7396384477615356
          ],
          [
           "splicing_connectors/test/structural_anomalies",
           1,
           0.6306307315826416
          ],
          [
           "splicing_connectors/test/structural_anomalies",
           1,
           0.734808087348938
          ],
          [
           "splicing_connectors/test/structural_anomalies",
           1,
           0.8744487166404724
          ],
          [
           "splicing_connectors/test/structural_anomalies",
           1,
           0.8345085978507996
          ],
          [
           "splicing_connectors/test/structural_anomalies",
           1,
           0.7074081897735596
          ],
          [
           "splicing_connectors/test/structural_anomalies",
           1,
           0.7200837135314941
          ],
          [
           "splicing_connectors/test/structural_anomalies",
           1,
           0.7809848785400391
          ],
          [
           "splicing_connectors/test/structural_anomalies",
           1,
           0.652824878692627
          ],
          [
           "splicing_connectors/test/structural_anomalies",
           1,
           0.7176387310028076
          ],
          [
           "splicing_connectors/test/structural_anomalies",
           1,
           0.6421792507171631
          ],
          [
           "splicing_connectors/test/structural_anomalies",
           1,
           0.628867506980896
          ],
          [
           "splicing_connectors/test/structural_anomalies",
           1,
           0.6193164587020874
          ],
          [
           "splicing_connectors/test/structural_anomalies",
           1,
           0.7143959999084473
          ],
          [
           "splicing_connectors/test/structural_anomalies",
           1,
           0.7201700806617737
          ],
          [
           "splicing_connectors/test/structural_anomalies",
           1,
           0.6333850026130676
          ],
          [
           "splicing_connectors/test/structural_anomalies",
           1,
           0.7840994000434875
          ],
          [
           "splicing_connectors/test/structural_anomalies",
           1,
           0.7191901206970215
          ],
          [
           "splicing_connectors/test/structural_anomalies",
           1,
           0.6062290668487549
          ],
          [
           "splicing_connectors/test/structural_anomalies",
           1,
           0.8112087249755859
          ],
          [
           "splicing_connectors/test/structural_anomalies",
           1,
           0.5864169597625732
          ],
          [
           "splicing_connectors/test/structural_anomalies",
           1,
           0.7811667323112488
          ],
          [
           "splicing_connectors/test/structural_anomalies",
           1,
           0.79925537109375
          ],
          [
           "splicing_connectors/test/structural_anomalies",
           1,
           0.7687391042709351
          ],
          [
           "splicing_connectors/test/structural_anomalies",
           1,
           0.7169932126998901
          ],
          [
           "splicing_connectors/test/structural_anomalies",
           1,
           0.6901276111602783
          ],
          [
           "splicing_connectors/test/structural_anomalies",
           1,
           0.7686337232589722
          ],
          [
           "splicing_connectors/test/structural_anomalies",
           1,
           0.6661136746406555
          ],
          [
           "splicing_connectors/test/structural_anomalies",
           1,
           0.7833256125450134
          ],
          [
           "splicing_connectors/test/structural_anomalies",
           1,
           0.7967860698699951
          ],
          [
           "splicing_connectors/test/structural_anomalies",
           1,
           0.8591097593307495
          ],
          [
           "splicing_connectors/test/structural_anomalies",
           1,
           0.7436280250549316
          ],
          [
           "splicing_connectors/test/structural_anomalies",
           1,
           0.6983838081359863
          ],
          [
           "splicing_connectors/test/structural_anomalies",
           1,
           0.5626950263977051
          ],
          [
           "splicing_connectors/test/structural_anomalies",
           1,
           0.7464021444320679
          ],
          [
           "splicing_connectors/test/structural_anomalies",
           1,
           0.6858829259872437
          ],
          [
           "splicing_connectors/test/structural_anomalies",
           1,
           0.8739127516746521
          ],
          [
           "splicing_connectors/test/structural_anomalies",
           1,
           0.7547097206115723
          ],
          [
           "splicing_connectors/test/structural_anomalies",
           1,
           0.6960897445678711
          ],
          [
           "splicing_connectors/test/structural_anomalies",
           1,
           0.7004073858261108
          ],
          [
           "splicing_connectors/test/structural_anomalies",
           1,
           0.6748657822608948
          ],
          [
           "splicing_connectors/test/structural_anomalies",
           1,
           0.6707626581192017
          ],
          [
           "splicing_connectors/test/structural_anomalies",
           1,
           0.7122816443443298
          ],
          [
           "splicing_connectors/test/structural_anomalies",
           1,
           0.6175596117973328
          ],
          [
           "splicing_connectors/test/structural_anomalies",
           1,
           0.8333966732025146
          ],
          [
           "splicing_connectors/test/structural_anomalies",
           1,
           0.5967455506324768
          ],
          [
           "splicing_connectors/test/structural_anomalies",
           1,
           0.5874214172363281
          ],
          [
           "splicing_connectors/test/structural_anomalies",
           1,
           0.6477383971214294
          ],
          [
           "splicing_connectors/test/structural_anomalies",
           1,
           0.6490204334259033
          ],
          [
           "splicing_connectors/test/structural_anomalies",
           1,
           0.6779707074165344
          ],
          [
           "splicing_connectors/test/structural_anomalies",
           1,
           0.719881534576416
          ],
          [
           "splicing_connectors/test/structural_anomalies",
           1,
           0.6346333622932434
          ],
          [
           "splicing_connectors/test/structural_anomalies",
           1,
           0.5280634164810181
          ],
          [
           "splicing_connectors/test/structural_anomalies",
           1,
           0.740615725517273
          ],
          [
           "splicing_connectors/test/structural_anomalies",
           1,
           0.8499912619590759
          ],
          [
           "splicing_connectors/test/structural_anomalies",
           1,
           0.7083779573440552
          ],
          [
           "splicing_connectors/test/structural_anomalies",
           1,
           0.7295717000961304
          ],
          [
           "splicing_connectors/test/structural_anomalies",
           1,
           0.8363730907440186
          ],
          [
           "splicing_connectors/test/structural_anomalies",
           1,
           0.7182884216308594
          ],
          [
           "breakfast_box/test/structural_anomalies",
           2,
           0.7031817436218262
          ],
          [
           "breakfast_box/test/structural_anomalies",
           2,
           0.8121269941329956
          ],
          [
           "breakfast_box/test/structural_anomalies",
           4,
           0.7992628812789917
          ],
          [
           "breakfast_box/test/structural_anomalies",
           4,
           0.8305349349975586
          ],
          [
           "breakfast_box/test/structural_anomalies",
           2,
           0.8242692947387695
          ],
          [
           "breakfast_box/test/structural_anomalies",
           4,
           0.7061192393302917
          ],
          [
           "breakfast_box/test/structural_anomalies",
           4,
           0.7415152788162231
          ],
          [
           "breakfast_box/test/structural_anomalies",
           -1,
           0.7908735275268555
          ],
          [
           "breakfast_box/test/structural_anomalies",
           -1,
           0.7941576838493347
          ],
          [
           "breakfast_box/test/structural_anomalies",
           -1,
           0.7457501888275146
          ],
          [
           "breakfast_box/test/structural_anomalies",
           4,
           0.7274603843688965
          ],
          [
           "breakfast_box/test/structural_anomalies",
           4,
           0.8374273777008057
          ],
          [
           "breakfast_box/test/structural_anomalies",
           4,
           0.6288058757781982
          ],
          [
           "breakfast_box/test/structural_anomalies",
           4,
           0.6699047684669495
          ],
          [
           "breakfast_box/test/structural_anomalies",
           4,
           0.45082831382751465
          ],
          [
           "breakfast_box/test/structural_anomalies",
           4,
           0.7335389256477356
          ],
          [
           "breakfast_box/test/structural_anomalies",
           -1,
           0.6245322227478027
          ],
          [
           "breakfast_box/test/structural_anomalies",
           4,
           0.6628979444503784
          ],
          [
           "breakfast_box/test/structural_anomalies",
           2,
           0.7444831728935242
          ],
          [
           "breakfast_box/test/structural_anomalies",
           -1,
           0.6674566268920898
          ],
          [
           "breakfast_box/test/structural_anomalies",
           2,
           0.6195375323295593
          ],
          [
           "breakfast_box/test/structural_anomalies",
           4,
           0.5003719925880432
          ],
          [
           "breakfast_box/test/structural_anomalies",
           -1,
           0.7246750593185425
          ],
          [
           "breakfast_box/test/structural_anomalies",
           2,
           0.6804888248443604
          ],
          [
           "breakfast_box/test/structural_anomalies",
           -1,
           0.3997678756713867
          ],
          [
           "breakfast_box/test/structural_anomalies",
           2,
           0.6426002979278564
          ],
          [
           "breakfast_box/test/structural_anomalies",
           2,
           0.6143180727958679
          ],
          [
           "breakfast_box/test/structural_anomalies",
           2,
           0.8144941329956055
          ],
          [
           "breakfast_box/test/structural_anomalies",
           4,
           0.8594367504119873
          ],
          [
           "breakfast_box/test/structural_anomalies",
           4,
           0.6063177585601807
          ],
          [
           "breakfast_box/test/structural_anomalies",
           -1,
           0.6292502880096436
          ],
          [
           "breakfast_box/test/structural_anomalies",
           -1,
           0.7260477542877197
          ],
          [
           "breakfast_box/test/structural_anomalies",
           2,
           0.49476081132888794
          ],
          [
           "breakfast_box/test/structural_anomalies",
           -1,
           0.712607741355896
          ],
          [
           "breakfast_box/test/structural_anomalies",
           -1,
           0.5608841180801392
          ],
          [
           "breakfast_box/test/structural_anomalies",
           -1,
           0.48640918731689453
          ],
          [
           "breakfast_box/test/structural_anomalies",
           2,
           0.7679498195648193
          ],
          [
           "breakfast_box/test/structural_anomalies",
           -1,
           0.47065025568008423
          ],
          [
           "breakfast_box/test/structural_anomalies",
           4,
           0.7972705364227295
          ],
          [
           "breakfast_box/test/structural_anomalies",
           -1,
           0.6363910436630249
          ],
          [
           "breakfast_box/test/structural_anomalies",
           -1,
           0.4464055597782135
          ],
          [
           "breakfast_box/test/structural_anomalies",
           2,
           0.6095476150512695
          ],
          [
           "breakfast_box/test/structural_anomalies",
           2,
           0.8004607558250427
          ],
          [
           "breakfast_box/test/structural_anomalies",
           2,
           0.6404529809951782
          ],
          [
           "breakfast_box/test/structural_anomalies",
           4,
           0.6020529270172119
          ],
          [
           "breakfast_box/test/structural_anomalies",
           4,
           0.7828563451766968
          ],
          [
           "breakfast_box/test/structural_anomalies",
           4,
           0.7531644701957703
          ],
          [
           "breakfast_box/test/structural_anomalies",
           4,
           0.7566500902175903
          ],
          [
           "breakfast_box/test/structural_anomalies",
           4,
           0.8087810277938843
          ],
          [
           "breakfast_box/test/structural_anomalies",
           4,
           0.7888240218162537
          ],
          [
           "breakfast_box/test/structural_anomalies",
           4,
           0.7639119625091553
          ],
          [
           "breakfast_box/test/structural_anomalies",
           4,
           0.7355855703353882
          ],
          [
           "breakfast_box/test/structural_anomalies",
           4,
           0.5619969964027405
          ],
          [
           "breakfast_box/test/structural_anomalies",
           2,
           0.6000430583953857
          ],
          [
           "breakfast_box/test/structural_anomalies",
           4,
           0.5033912062644958
          ],
          [
           "breakfast_box/test/structural_anomalies",
           2,
           0.7919082641601562
          ],
          [
           "breakfast_box/test/structural_anomalies",
           -1,
           0.6045652627944946
          ],
          [
           "breakfast_box/test/structural_anomalies",
           2,
           0.794157087802887
          ],
          [
           "breakfast_box/test/structural_anomalies",
           4,
           0.5790680646896362
          ],
          [
           "breakfast_box/test/structural_anomalies",
           4,
           0.6139818429946899
          ],
          [
           "breakfast_box/test/structural_anomalies",
           2,
           0.5352799892425537
          ],
          [
           "breakfast_box/test/structural_anomalies",
           2,
           0.6343132257461548
          ],
          [
           "breakfast_box/test/structural_anomalies",
           4,
           0.743606448173523
          ],
          [
           "breakfast_box/test/structural_anomalies",
           4,
           0.7864367365837097
          ],
          [
           "breakfast_box/test/structural_anomalies",
           2,
           0.744644045829773
          ],
          [
           "breakfast_box/test/structural_anomalies",
           4,
           0.7720337510108948
          ],
          [
           "breakfast_box/test/structural_anomalies",
           4,
           0.5893309116363525
          ],
          [
           "breakfast_box/test/structural_anomalies",
           4,
           0.7005754709243774
          ],
          [
           "breakfast_box/test/structural_anomalies",
           2,
           0.5327256917953491
          ],
          [
           "breakfast_box/test/structural_anomalies",
           4,
           0.7878179550170898
          ],
          [
           "breakfast_box/test/structural_anomalies",
           4,
           0.6313309669494629
          ],
          [
           "breakfast_box/test/structural_anomalies",
           4,
           0.6996068954467773
          ],
          [
           "breakfast_box/test/structural_anomalies",
           4,
           0.7933880090713501
          ],
          [
           "breakfast_box/test/structural_anomalies",
           4,
           0.6631977558135986
          ],
          [
           "breakfast_box/test/structural_anomalies",
           -1,
           0.5562504529953003
          ],
          [
           "breakfast_box/test/structural_anomalies",
           4,
           0.6907716989517212
          ],
          [
           "breakfast_box/test/structural_anomalies",
           4,
           0.8220853805541992
          ],
          [
           "breakfast_box/test/structural_anomalies",
           4,
           0.6071401834487915
          ],
          [
           "breakfast_box/test/structural_anomalies",
           2,
           0.7600899934768677
          ],
          [
           "breakfast_box/test/structural_anomalies",
           4,
           0.772655725479126
          ],
          [
           "breakfast_box/test/structural_anomalies",
           4,
           0.8114843368530273
          ],
          [
           "breakfast_box/test/structural_anomalies",
           2,
           0.7486526966094971
          ],
          [
           "breakfast_box/test/structural_anomalies",
           4,
           0.6307190656661987
          ],
          [
           "breakfast_box/test/structural_anomalies",
           2,
           0.7310580015182495
          ],
          [
           "breakfast_box/test/structural_anomalies",
           2,
           0.8345967531204224
          ],
          [
           "breakfast_box/test/structural_anomalies",
           -1,
           0.7584793567657471
          ],
          [
           "breakfast_box/test/structural_anomalies",
           3,
           0.485956072807312
          ],
          [
           "screw_bag/test/structural_anomalies",
           0,
           0.6443333029747009
          ],
          [
           "screw_bag/test/structural_anomalies",
           0,
           0.6759821176528931
          ],
          [
           "screw_bag/test/structural_anomalies",
           0,
           0.6890602111816406
          ],
          [
           "screw_bag/test/structural_anomalies",
           0,
           0.398033082485199
          ],
          [
           "screw_bag/test/structural_anomalies",
           0,
           0.6321810483932495
          ],
          [
           "screw_bag/test/structural_anomalies",
           0,
           0.6165262460708618
          ],
          [
           "screw_bag/test/structural_anomalies",
           0,
           0.5405166149139404
          ],
          [
           "screw_bag/test/structural_anomalies",
           0,
           0.6314916610717773
          ],
          [
           "screw_bag/test/structural_anomalies",
           0,
           0.7099758386611938
          ],
          [
           "screw_bag/test/structural_anomalies",
           0,
           0.6125286817550659
          ],
          [
           "screw_bag/test/structural_anomalies",
           0,
           0.6608070135116577
          ],
          [
           "screw_bag/test/structural_anomalies",
           0,
           0.5803608894348145
          ],
          [
           "screw_bag/test/structural_anomalies",
           0,
           0.5837264060974121
          ],
          [
           "screw_bag/test/structural_anomalies",
           0,
           0.54972243309021
          ],
          [
           "screw_bag/test/structural_anomalies",
           0,
           0.7072063088417053
          ],
          [
           "screw_bag/test/structural_anomalies",
           0,
           0.6509822607040405
          ],
          [
           "screw_bag/test/structural_anomalies",
           0,
           0.7503849267959595
          ],
          [
           "screw_bag/test/structural_anomalies",
           0,
           0.6278835535049438
          ],
          [
           "screw_bag/test/structural_anomalies",
           0,
           0.7001357674598694
          ],
          [
           "screw_bag/test/structural_anomalies",
           0,
           0.8140632510185242
          ],
          [
           "screw_bag/test/structural_anomalies",
           0,
           0.7537093758583069
          ],
          [
           "screw_bag/test/structural_anomalies",
           0,
           0.40614068508148193
          ],
          [
           "screw_bag/test/structural_anomalies",
           0,
           0.8152880668640137
          ],
          [
           "screw_bag/test/structural_anomalies",
           0,
           0.5361024141311646
          ],
          [
           "screw_bag/test/structural_anomalies",
           0,
           0.7404557466506958
          ],
          [
           "screw_bag/test/structural_anomalies",
           0,
           0.7413650751113892
          ],
          [
           "screw_bag/test/structural_anomalies",
           0,
           0.6119958162307739
          ],
          [
           "screw_bag/test/structural_anomalies",
           0,
           0.5887454748153687
          ],
          [
           "screw_bag/test/structural_anomalies",
           0,
           0.5455960631370544
          ],
          [
           "screw_bag/test/structural_anomalies",
           0,
           0.7117702960968018
          ],
          [
           "screw_bag/test/structural_anomalies",
           0,
           0.6889594197273254
          ],
          [
           "screw_bag/test/structural_anomalies",
           0,
           0.6430544853210449
          ],
          [
           "screw_bag/test/structural_anomalies",
           0,
           0.8270999789237976
          ],
          [
           "screw_bag/test/structural_anomalies",
           0,
           0.7916990518569946
          ],
          [
           "screw_bag/test/structural_anomalies",
           0,
           0.7537451982498169
          ],
          [
           "screw_bag/test/structural_anomalies",
           0,
           0.6609200239181519
          ],
          [
           "screw_bag/test/structural_anomalies",
           0,
           0.6758251786231995
          ],
          [
           "screw_bag/test/structural_anomalies",
           0,
           0.7603570222854614
          ],
          [
           "screw_bag/test/structural_anomalies",
           0,
           0.6375188231468201
          ],
          [
           "screw_bag/test/structural_anomalies",
           0,
           0.7940737009048462
          ],
          [
           "screw_bag/test/structural_anomalies",
           0,
           0.4735943078994751
          ],
          [
           "screw_bag/test/structural_anomalies",
           0,
           0.5323184728622437
          ],
          [
           "screw_bag/test/structural_anomalies",
           0,
           0.6317047476768494
          ],
          [
           "screw_bag/test/structural_anomalies",
           0,
           0.6664906740188599
          ],
          [
           "screw_bag/test/structural_anomalies",
           0,
           0.7993451356887817
          ],
          [
           "screw_bag/test/structural_anomalies",
           0,
           0.6161942481994629
          ],
          [
           "screw_bag/test/structural_anomalies",
           0,
           0.7679951190948486
          ],
          [
           "screw_bag/test/structural_anomalies",
           0,
           0.5302733182907104
          ],
          [
           "screw_bag/test/structural_anomalies",
           0,
           0.6057345867156982
          ],
          [
           "screw_bag/test/structural_anomalies",
           0,
           0.6966322660446167
          ],
          [
           "screw_bag/test/structural_anomalies",
           0,
           0.6210904121398926
          ],
          [
           "screw_bag/test/structural_anomalies",
           0,
           0.7480717897415161
          ],
          [
           "screw_bag/test/structural_anomalies",
           0,
           0.39681771397590637
          ],
          [
           "screw_bag/test/structural_anomalies",
           0,
           0.47334736585617065
          ],
          [
           "screw_bag/test/structural_anomalies",
           0,
           0.8135854005813599
          ],
          [
           "screw_bag/test/structural_anomalies",
           0,
           0.6585592031478882
          ],
          [
           "screw_bag/test/structural_anomalies",
           0,
           0.5911877155303955
          ],
          [
           "screw_bag/test/structural_anomalies",
           0,
           0.8048065900802612
          ],
          [
           "screw_bag/test/structural_anomalies",
           0,
           0.7294225692749023
          ],
          [
           "screw_bag/test/structural_anomalies",
           0,
           0.7620326280593872
          ],
          [
           "screw_bag/test/structural_anomalies",
           0,
           0.8333733081817627
          ],
          [
           "screw_bag/test/structural_anomalies",
           0,
           0.5215591788291931
          ],
          [
           "screw_bag/test/structural_anomalies",
           0,
           0.7926363945007324
          ],
          [
           "screw_bag/test/structural_anomalies",
           0,
           0.5803042650222778
          ],
          [
           "screw_bag/test/structural_anomalies",
           0,
           0.7436767816543579
          ],
          [
           "screw_bag/test/structural_anomalies",
           0,
           0.7479288578033447
          ],
          [
           "screw_bag/test/structural_anomalies",
           0,
           0.5949761271476746
          ],
          [
           "screw_bag/test/structural_anomalies",
           0,
           0.6471468210220337
          ],
          [
           "screw_bag/test/structural_anomalies",
           0,
           0.5923625230789185
          ],
          [
           "screw_bag/test/structural_anomalies",
           0,
           0.6778689622879028
          ],
          [
           "screw_bag/test/structural_anomalies",
           0,
           0.6329856514930725
          ],
          [
           "screw_bag/test/structural_anomalies",
           0,
           0.8068546652793884
          ],
          [
           "screw_bag/test/structural_anomalies",
           0,
           0.7601733803749084
          ],
          [
           "screw_bag/test/structural_anomalies",
           0,
           0.828002393245697
          ],
          [
           "screw_bag/test/structural_anomalies",
           0,
           0.5607339143753052
          ],
          [
           "screw_bag/test/structural_anomalies",
           0,
           0.5758817791938782
          ],
          [
           "screw_bag/test/structural_anomalies",
           0,
           0.6675012111663818
          ],
          [
           "pushpins/test/structural_anomalies",
           8,
           0.7935068607330322
          ],
          [
           "pushpins/test/structural_anomalies",
           15,
           0.7745730876922607
          ],
          [
           "pushpins/test/structural_anomalies",
           8,
           0.7518876791000366
          ],
          [
           "pushpins/test/structural_anomalies",
           -1,
           0.6980414390563965
          ],
          [
           "pushpins/test/structural_anomalies",
           8,
           0.7002749443054199
          ],
          [
           "pushpins/test/structural_anomalies",
           8,
           0.8683242201805115
          ],
          [
           "pushpins/test/structural_anomalies",
           8,
           0.6963979601860046
          ],
          [
           "pushpins/test/structural_anomalies",
           -1,
           0.6392035484313965
          ],
          [
           "pushpins/test/structural_anomalies",
           8,
           0.7340948581695557
          ],
          [
           "pushpins/test/structural_anomalies",
           8,
           0.7468599081039429
          ],
          [
           "pushpins/test/structural_anomalies",
           8,
           0.8147891759872437
          ],
          [
           "pushpins/test/structural_anomalies",
           -1,
           0.6082271337509155
          ],
          [
           "pushpins/test/structural_anomalies",
           8,
           0.8851560354232788
          ],
          [
           "pushpins/test/structural_anomalies",
           8,
           0.7651442289352417
          ],
          [
           "pushpins/test/structural_anomalies",
           8,
           0.823717474937439
          ],
          [
           "pushpins/test/structural_anomalies",
           8,
           0.9055072069168091
          ],
          [
           "pushpins/test/structural_anomalies",
           -1,
           0.6791563034057617
          ],
          [
           "pushpins/test/structural_anomalies",
           8,
           0.8407657742500305
          ],
          [
           "pushpins/test/structural_anomalies",
           8,
           0.7221864461898804
          ],
          [
           "pushpins/test/structural_anomalies",
           -1,
           0.8425173759460449
          ],
          [
           "pushpins/test/structural_anomalies",
           9,
           0.6414821147918701
          ],
          [
           "pushpins/test/structural_anomalies",
           8,
           0.7097488641738892
          ],
          [
           "pushpins/test/structural_anomalies",
           8,
           0.7591966986656189
          ],
          [
           "pushpins/test/structural_anomalies",
           -1,
           0.8180854320526123
          ],
          [
           "pushpins/test/structural_anomalies",
           -1,
           0.619671106338501
          ],
          [
           "pushpins/test/structural_anomalies",
           8,
           0.6970955729484558
          ],
          [
           "pushpins/test/structural_anomalies",
           3,
           0.6815667152404785
          ],
          [
           "pushpins/test/structural_anomalies",
           8,
           0.7328819632530212
          ],
          [
           "pushpins/test/structural_anomalies",
           15,
           0.8954228162765503
          ],
          [
           "pushpins/test/structural_anomalies",
           -1,
           0.7721636295318604
          ],
          [
           "pushpins/test/structural_anomalies",
           -1,
           0.8300344944000244
          ],
          [
           "pushpins/test/structural_anomalies",
           -1,
           0.6514948606491089
          ],
          [
           "pushpins/test/structural_anomalies",
           8,
           0.6951645016670227
          ],
          [
           "pushpins/test/structural_anomalies",
           8,
           0.7092829942703247
          ],
          [
           "pushpins/test/structural_anomalies",
           8,
           0.8610007762908936
          ],
          [
           "pushpins/test/structural_anomalies",
           8,
           0.8538166284561157
          ],
          [
           "pushpins/test/structural_anomalies",
           8,
           0.8351848721504211
          ],
          [
           "pushpins/test/structural_anomalies",
           8,
           0.6453767418861389
          ],
          [
           "pushpins/test/structural_anomalies",
           8,
           0.6329516172409058
          ],
          [
           "pushpins/test/structural_anomalies",
           3,
           0.7802337408065796
          ],
          [
           "pushpins/test/structural_anomalies",
           8,
           0.5967665910720825
          ],
          [
           "pushpins/test/structural_anomalies",
           8,
           0.7038521766662598
          ],
          [
           "pushpins/test/structural_anomalies",
           8,
           0.5318310260772705
          ],
          [
           "pushpins/test/structural_anomalies",
           8,
           0.7016642093658447
          ],
          [
           "pushpins/test/structural_anomalies",
           -1,
           0.45421358942985535
          ],
          [
           "pushpins/test/structural_anomalies",
           8,
           0.5937447547912598
          ],
          [
           "pushpins/test/structural_anomalies",
           8,
           0.7265727519989014
          ],
          [
           "pushpins/test/structural_anomalies",
           -1,
           0.4649268090724945
          ],
          [
           "pushpins/test/structural_anomalies",
           8,
           0.6319484114646912
          ],
          [
           "pushpins/test/structural_anomalies",
           -1,
           0.7952919006347656
          ],
          [
           "pushpins/test/structural_anomalies",
           -1,
           0.6129029989242554
          ],
          [
           "pushpins/test/structural_anomalies",
           8,
           0.6971509456634521
          ],
          [
           "pushpins/test/structural_anomalies",
           -1,
           0.7833279371261597
          ],
          [
           "pushpins/test/structural_anomalies",
           8,
           0.7433256506919861
          ],
          [
           "pushpins/test/structural_anomalies",
           8,
           0.766608476638794
          ],
          [
           "pushpins/test/structural_anomalies",
           8,
           0.6540514230728149
          ],
          [
           "pushpins/test/structural_anomalies",
           8,
           0.821703314781189
          ],
          [
           "pushpins/test/structural_anomalies",
           8,
           0.6765036582946777
          ],
          [
           "pushpins/test/structural_anomalies",
           8,
           0.7197239995002747
          ],
          [
           "pushpins/test/structural_anomalies",
           -1,
           0.7395411729812622
          ],
          [
           "pushpins/test/structural_anomalies",
           8,
           0.5676348209381104
          ],
          [
           "pushpins/test/structural_anomalies",
           8,
           0.8834166526794434
          ],
          [
           "pushpins/test/structural_anomalies",
           8,
           0.7094770669937134
          ],
          [
           "pushpins/test/structural_anomalies",
           8,
           0.7784616947174072
          ],
          [
           "pushpins/test/structural_anomalies",
           8,
           0.8352388143539429
          ],
          [
           "pushpins/test/structural_anomalies",
           8,
           0.7134431600570679
          ],
          [
           "pushpins/test/structural_anomalies",
           8,
           0.8160566091537476
          ],
          [
           "pushpins/test/structural_anomalies",
           -1,
           0.6472010612487793
          ],
          [
           "pushpins/test/structural_anomalies",
           8,
           0.7856842875480652
          ],
          [
           "pushpins/test/structural_anomalies",
           8,
           0.8152605891227722
          ],
          [
           "pushpins/test/structural_anomalies",
           8,
           0.937340497970581
          ],
          [
           "pushpins/test/structural_anomalies",
           8,
           0.8864963054656982
          ],
          [
           "pushpins/test/structural_anomalies",
           8,
           0.8428969979286194
          ],
          [
           "pushpins/test/structural_anomalies",
           8,
           0.7664326429367065
          ],
          [
           "pushpins/test/structural_anomalies",
           8,
           0.8026169538497925
          ],
          [
           "pushpins/test/structural_anomalies",
           8,
           0.8871496915817261
          ],
          [
           "pushpins/test/structural_anomalies",
           8,
           0.8572114706039429
          ],
          [
           "pushpins/test/structural_anomalies",
           8,
           0.6606033444404602
          ]
         ],
         "hovertemplate": "Tipo de imagen=structural_anomalies<br>TSNE-1=%{x}<br>TSNE-2=%{y}<br>Nombre Carpeta=%{customdata[0]}<br>Tópico=%{customdata[1]}<br>Similitud con centroide=%{customdata[2]}<extra></extra>",
         "legendgroup": "structural_anomalies",
         "marker": {
          "color": "#EF553B",
          "symbol": "circle"
         },
         "mode": "markers",
         "name": "structural_anomalies",
         "showlegend": true,
         "type": "scattergl",
         "x": {
          "bdata": "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",
          "dtype": "f4"
         },
         "xaxis": "x",
         "y": {
          "bdata": "hoBQv1w4GcExrLvAxXwNwYLOT8EAhC294pUawHwwNcGK0BDB3VxFP6zAA0CUghrBrsOfQH/lKj7pTz3BmJ77wNZQFT+B4XvB63tXQJduKsHzmgnB1jVhweLinEDHCFrBHSJXwdgfqcDCwlzBVHDAwFN9PD9oiv7Azks5wYXOGkA/w1LB07RTwYn7OsGiPSfBRqSEwBLns8AogbPA3fWtQJ7pjUAhDyHAmcV7QB78wsCP3y++kG22QOc3mL/0vOm+4ps4P+XyqUAO7PW/I5THv+MDHcDWMJXAk7sSwMVjFMCjOi3Byq5qwfHRUsGDvbbAYJk3wE+s+8BP/DvBOrc8wEflbcC+xjzBuhlMwNWv6b8pNLrAfiQZwVbwG7+2WGRA2ewSwQydYMG+J2JAgoRKwX0DI8F2hXfAwXitwGuJZsBLsQXASVy4wN3Qij57StS+S2JewcLUXsHyqOo/eYxPwLufJD/tSj/A2us0wLSOjL9x7xHBB/NUv20UFsJqwCbCeK4SwlR5MsL3EkLCMJ4ywnI4NMIdEifCQOk8wnDiM8JoggnCsEsqwq5sPcJYihzCwAEkwvFkIsK3sDjCzeUWwiPRM8JAmBfCCog4whwAKMLyUzzCuzgTwtUTPsL5HSHCRJITwn7vJsJ6gBXCECZKwmokMsKpqSHCtUVHwmZuMMLrqUjCoepCwnZTSsKgkxTCgHYrwl2RF8IR1xrCSEYUwsKsVsKJCR/Cwwscwu/FRMI22hzCKdYTwsRNGsLbIxTCjpA/whGKIcIMOjHCZTYxwgBADML+YTnCsNlHwhFeN8JgqRvCqRIXwk2DKsKIqEjC0VJLwpY8IsLakyvC+moOwmAhNcLVYSXCKq1IwtxGIsL3YRbCMy0rwugwIcJlSFPCF1dTwor1LMJ3TB3CuGU0wrTQUcKmVRfCSlFSwrC5HEIcfR1C3TAcQstkIUJVYh5C4an4QYC5GUKpAw1CADQMQrU2AUKZzA5Cz+zyQSSmAUKguBFCHIvOQUhX3UESG/pBNbDiQYFKBkITwNpBCaH+QU9z50EAnuBBVuX6QW2c8EGvp9JBT2fqQSzmBEJEMghCz3rOQT8Y/EECgwBClrXuQUlb6UHSxOpBHJXjQXAz3EFrGtRBeJMGQjaY5EEe989BRPbsQSzoA0LzHeNBlcr2QZYAJEJFmdRBpaUeQnlP/0E5zwNCZMkCQgDL5UGMLC5C0lLPQR8N90EeHxtCCjT5Qdv/BkI6zv5BUhUtQmQ64EFH1SNCH1kFQo1YC0KFCxJCvwchQpe6JUKtd/xBvOkBQhxIAkIHu+FBBiPnQQDcFEKVwipCRVjlQTZp9EHfOA5CHiQGQukk50G5xwpCY8geQjDvBkKQdS1CkKYAQusWD0JIJBdCynI0Qefm7EG276RB4he3QcMRuEFNZcNBh+XGQcq1mkGabApC3262QX/kXEHFWYFBU4ZNQe3fFEItDYBBheaYQZoSm0G3XQdCVfPBQcSNC0IGIvNBoJ8GQmgRbkFKk+1Bh9OaQcSf0UHwDhFCZ2qWQbCduEG4ZllBKlLtQaxS4kEsbeZBcZnsQRPCEEKAFctBrYiwQQtsFEK8UtBBw8fZQW2E8UFskpJBGER2QRvVtEGhKMZBXYDfQd+dp0EXqRFCiEaGQe9QfUGBof1BRju9QTrirUEGJ1ZBy5OZQQzfA0JFDqZBmahnQUk2B0J/lxNCHl/mQR//A0LcGa1B9vYBQrEa20Gk5ANC78vXQcys2kF0dcdBer2JQacYmUEUZZtB9CUCQhDiAEIrIQJCISraQfj83UGaxdhB8tZwwB25o0BipHPAk8UiwVwr9sBnmgrA6IEKwTR1ZcGJnd3Ax9i7wM6WqsBvz/HAPi4Pv5kXnkBX7fHAPFBHvpmQgb9QCK0+Gg5wv+llRMBz77nAlhQ+v+cLVsFxSgbAc7thwXYhtb3pTSzBj2knwJ2T3b8erMS/Mcp4v1wwUMGIbqy/4TRMwUd0asAViY9AieOOQD4DrD85ba8/tPKRQNtnwz8GZCO/gNHHP5wz6z7eigBAuq/vP1Yeo0BF6so/N90mvxctccCjUA4/CWoiwX4H0MAIO/bAIBzowLaHW8HzUJLA/KnQPwa3AMFxZ7TAgMtcwf/42D+ruVTB1VjgwFoaiMCCrW7Ab/oLvzM3XcHy3x7BhrW3vvk5V8BLplzA6H15wPcIEcHm7O3AGc8OvSp0FUBBBEbB",
          "dtype": "f4"
         },
         "yaxis": "y"
        },
        {
         "customdata": [
          [
           "juice_bottle/test/logical_anomalies",
           7,
           0.8228627443313599
          ],
          [
           "juice_bottle/test/logical_anomalies",
           7,
           0.8644680976867676
          ],
          [
           "juice_bottle/test/logical_anomalies",
           6,
           0.707789957523346
          ],
          [
           "juice_bottle/test/logical_anomalies",
           7,
           0.8292849063873291
          ],
          [
           "juice_bottle/test/logical_anomalies",
           7,
           0.9051568508148193
          ],
          [
           "juice_bottle/test/logical_anomalies",
           5,
           0.8297340273857117
          ],
          [
           "juice_bottle/test/logical_anomalies",
           6,
           0.765623152256012
          ],
          [
           "juice_bottle/test/logical_anomalies",
           7,
           0.6713636517524719
          ],
          [
           "juice_bottle/test/logical_anomalies",
           5,
           0.8542712926864624
          ],
          [
           "juice_bottle/test/logical_anomalies",
           5,
           0.760383665561676
          ],
          [
           "juice_bottle/test/logical_anomalies",
           6,
           0.8479050397872925
          ],
          [
           "juice_bottle/test/logical_anomalies",
           6,
           0.7273272275924683
          ],
          [
           "juice_bottle/test/logical_anomalies",
           7,
           0.8883637189865112
          ],
          [
           "juice_bottle/test/logical_anomalies",
           7,
           0.8418890237808228
          ],
          [
           "juice_bottle/test/logical_anomalies",
           6,
           0.8825072050094604
          ],
          [
           "juice_bottle/test/logical_anomalies",
           5,
           0.8283641338348389
          ],
          [
           "juice_bottle/test/logical_anomalies",
           5,
           0.8746663928031921
          ],
          [
           "juice_bottle/test/logical_anomalies",
           5,
           0.8006817102432251
          ],
          [
           "juice_bottle/test/logical_anomalies",
           7,
           0.8900014758110046
          ],
          [
           "juice_bottle/test/logical_anomalies",
           6,
           0.7677148580551147
          ],
          [
           "juice_bottle/test/logical_anomalies",
           6,
           0.7666726112365723
          ],
          [
           "juice_bottle/test/logical_anomalies",
           5,
           0.8556230068206787
          ],
          [
           "juice_bottle/test/logical_anomalies",
           7,
           0.7776708602905273
          ],
          [
           "juice_bottle/test/logical_anomalies",
           5,
           0.7246903777122498
          ],
          [
           "juice_bottle/test/logical_anomalies",
           6,
           0.6361613273620605
          ],
          [
           "juice_bottle/test/logical_anomalies",
           6,
           0.7789627313613892
          ],
          [
           "juice_bottle/test/logical_anomalies",
           7,
           0.6106556057929993
          ],
          [
           "juice_bottle/test/logical_anomalies",
           5,
           0.762833833694458
          ],
          [
           "juice_bottle/test/logical_anomalies",
           6,
           0.7321447134017944
          ],
          [
           "juice_bottle/test/logical_anomalies",
           5,
           0.8812827467918396
          ],
          [
           "juice_bottle/test/logical_anomalies",
           6,
           0.697188675403595
          ],
          [
           "juice_bottle/test/logical_anomalies",
           5,
           0.8232384920120239
          ],
          [
           "juice_bottle/test/logical_anomalies",
           6,
           0.750901460647583
          ],
          [
           "juice_bottle/test/logical_anomalies",
           6,
           0.7591480016708374
          ],
          [
           "juice_bottle/test/logical_anomalies",
           7,
           0.7934280633926392
          ],
          [
           "juice_bottle/test/logical_anomalies",
           7,
           0.7093082070350647
          ],
          [
           "juice_bottle/test/logical_anomalies",
           7,
           0.8306092023849487
          ],
          [
           "juice_bottle/test/logical_anomalies",
           6,
           0.7128969430923462
          ],
          [
           "juice_bottle/test/logical_anomalies",
           5,
           0.8351545333862305
          ],
          [
           "juice_bottle/test/logical_anomalies",
           6,
           0.7054867744445801
          ],
          [
           "juice_bottle/test/logical_anomalies",
           6,
           0.7128437757492065
          ],
          [
           "juice_bottle/test/logical_anomalies",
           5,
           0.7656705379486084
          ],
          [
           "juice_bottle/test/logical_anomalies",
           6,
           0.7707592248916626
          ],
          [
           "juice_bottle/test/logical_anomalies",
           6,
           0.7072464823722839
          ],
          [
           "juice_bottle/test/logical_anomalies",
           7,
           0.7359532713890076
          ],
          [
           "juice_bottle/test/logical_anomalies",
           6,
           0.6989511251449585
          ],
          [
           "juice_bottle/test/logical_anomalies",
           7,
           0.8057328462600708
          ],
          [
           "juice_bottle/test/logical_anomalies",
           5,
           0.7064687013626099
          ],
          [
           "juice_bottle/test/logical_anomalies",
           5,
           0.7880780100822449
          ],
          [
           "juice_bottle/test/logical_anomalies",
           7,
           0.7345081567764282
          ],
          [
           "juice_bottle/test/logical_anomalies",
           6,
           0.7696244716644287
          ],
          [
           "juice_bottle/test/logical_anomalies",
           6,
           0.659814715385437
          ],
          [
           "juice_bottle/test/logical_anomalies",
           6,
           0.7699705958366394
          ],
          [
           "juice_bottle/test/logical_anomalies",
           5,
           0.7688031792640686
          ],
          [
           "juice_bottle/test/logical_anomalies",
           6,
           0.7184183597564697
          ],
          [
           "juice_bottle/test/logical_anomalies",
           6,
           0.733283519744873
          ],
          [
           "juice_bottle/test/logical_anomalies",
           6,
           0.6309818029403687
          ],
          [
           "juice_bottle/test/logical_anomalies",
           6,
           0.7953728437423706
          ],
          [
           "juice_bottle/test/logical_anomalies",
           6,
           0.8722783327102661
          ],
          [
           "juice_bottle/test/logical_anomalies",
           6,
           0.8605555891990662
          ],
          [
           "juice_bottle/test/logical_anomalies",
           6,
           0.8568740487098694
          ],
          [
           "juice_bottle/test/logical_anomalies",
           6,
           0.8823642730712891
          ],
          [
           "juice_bottle/test/logical_anomalies",
           6,
           0.7763165235519409
          ],
          [
           "juice_bottle/test/logical_anomalies",
           6,
           0.8180313110351562
          ],
          [
           "juice_bottle/test/logical_anomalies",
           6,
           0.8575052618980408
          ],
          [
           "juice_bottle/test/logical_anomalies",
           6,
           0.8962438106536865
          ],
          [
           "juice_bottle/test/logical_anomalies",
           6,
           0.8324192762374878
          ],
          [
           "juice_bottle/test/logical_anomalies",
           6,
           0.8296500444412231
          ],
          [
           "juice_bottle/test/logical_anomalies",
           6,
           0.8654297590255737
          ],
          [
           "juice_bottle/test/logical_anomalies",
           6,
           0.8465120792388916
          ],
          [
           "juice_bottle/test/logical_anomalies",
           5,
           0.9072407484054565
          ],
          [
           "juice_bottle/test/logical_anomalies",
           6,
           0.839439332485199
          ],
          [
           "juice_bottle/test/logical_anomalies",
           6,
           0.8061445951461792
          ],
          [
           "juice_bottle/test/logical_anomalies",
           6,
           0.7987655401229858
          ],
          [
           "juice_bottle/test/logical_anomalies",
           6,
           0.8189846873283386
          ],
          [
           "juice_bottle/test/logical_anomalies",
           5,
           0.7698509693145752
          ],
          [
           "juice_bottle/test/logical_anomalies",
           6,
           0.6624175310134888
          ],
          [
           "juice_bottle/test/logical_anomalies",
           6,
           0.7062498331069946
          ],
          [
           "juice_bottle/test/logical_anomalies",
           6,
           0.7212905883789062
          ],
          [
           "juice_bottle/test/logical_anomalies",
           7,
           0.7020745277404785
          ],
          [
           "juice_bottle/test/logical_anomalies",
           6,
           0.7537128925323486
          ],
          [
           "juice_bottle/test/logical_anomalies",
           7,
           0.8734827041625977
          ],
          [
           "juice_bottle/test/logical_anomalies",
           5,
           0.7244306802749634
          ],
          [
           "juice_bottle/test/logical_anomalies",
           6,
           0.7058748006820679
          ],
          [
           "juice_bottle/test/logical_anomalies",
           5,
           0.8310281038284302
          ],
          [
           "juice_bottle/test/logical_anomalies",
           7,
           0.7330811023712158
          ],
          [
           "juice_bottle/test/logical_anomalies",
           6,
           0.8190985918045044
          ],
          [
           "juice_bottle/test/logical_anomalies",
           5,
           0.7822920083999634
          ],
          [
           "juice_bottle/test/logical_anomalies",
           6,
           0.7654450535774231
          ],
          [
           "juice_bottle/test/logical_anomalies",
           6,
           0.6778578758239746
          ],
          [
           "juice_bottle/test/logical_anomalies",
           5,
           0.8025498390197754
          ],
          [
           "juice_bottle/test/logical_anomalies",
           6,
           0.7989530563354492
          ],
          [
           "juice_bottle/test/logical_anomalies",
           6,
           0.8146991729736328
          ],
          [
           "juice_bottle/test/logical_anomalies",
           6,
           0.8712548017501831
          ],
          [
           "juice_bottle/test/logical_anomalies",
           6,
           0.8678591251373291
          ],
          [
           "juice_bottle/test/logical_anomalies",
           6,
           0.826422393321991
          ],
          [
           "juice_bottle/test/logical_anomalies",
           6,
           0.6798525452613831
          ],
          [
           "juice_bottle/test/logical_anomalies",
           6,
           0.7888634204864502
          ],
          [
           "juice_bottle/test/logical_anomalies",
           7,
           0.8585178852081299
          ],
          [
           "juice_bottle/test/logical_anomalies",
           6,
           0.7839727401733398
          ],
          [
           "juice_bottle/test/logical_anomalies",
           6,
           0.7290408611297607
          ],
          [
           "juice_bottle/test/logical_anomalies",
           6,
           0.7091526389122009
          ],
          [
           "juice_bottle/test/logical_anomalies",
           7,
           0.9242169857025146
          ],
          [
           "juice_bottle/test/logical_anomalies",
           6,
           0.7359631061553955
          ],
          [
           "juice_bottle/test/logical_anomalies",
           6,
           0.748133659362793
          ],
          [
           "juice_bottle/test/logical_anomalies",
           6,
           0.7253186702728271
          ],
          [
           "juice_bottle/test/logical_anomalies",
           6,
           0.7912077903747559
          ],
          [
           "juice_bottle/test/logical_anomalies",
           6,
           0.7764937877655029
          ],
          [
           "juice_bottle/test/logical_anomalies",
           6,
           0.7545257806777954
          ],
          [
           "juice_bottle/test/logical_anomalies",
           7,
           0.7204864025115967
          ],
          [
           "juice_bottle/test/logical_anomalies",
           6,
           0.7770395278930664
          ],
          [
           "juice_bottle/test/logical_anomalies",
           6,
           0.6735301613807678
          ],
          [
           "juice_bottle/test/logical_anomalies",
           6,
           0.9105628728866577
          ],
          [
           "juice_bottle/test/logical_anomalies",
           7,
           0.6749114990234375
          ],
          [
           "juice_bottle/test/logical_anomalies",
           5,
           0.8349599838256836
          ],
          [
           "juice_bottle/test/logical_anomalies",
           5,
           0.7649942636489868
          ],
          [
           "juice_bottle/test/logical_anomalies",
           7,
           0.7063995599746704
          ],
          [
           "juice_bottle/test/logical_anomalies",
           5,
           0.8546664118766785
          ],
          [
           "juice_bottle/test/logical_anomalies",
           5,
           0.8572366237640381
          ],
          [
           "juice_bottle/test/logical_anomalies",
           6,
           0.9256469011306763
          ],
          [
           "juice_bottle/test/logical_anomalies",
           7,
           0.8860145211219788
          ],
          [
           "juice_bottle/test/logical_anomalies",
           5,
           0.8570526242256165
          ],
          [
           "juice_bottle/test/logical_anomalies",
           5,
           0.806894063949585
          ],
          [
           "juice_bottle/test/logical_anomalies",
           6,
           0.9389569163322449
          ],
          [
           "juice_bottle/test/logical_anomalies",
           6,
           0.8211114406585693
          ],
          [
           "juice_bottle/test/logical_anomalies",
           7,
           0.8711658716201782
          ],
          [
           "juice_bottle/test/logical_anomalies",
           5,
           0.8188057541847229
          ],
          [
           "juice_bottle/test/logical_anomalies",
           7,
           0.8725030422210693
          ],
          [
           "juice_bottle/test/logical_anomalies",
           7,
           0.8714887499809265
          ],
          [
           "juice_bottle/test/logical_anomalies",
           6,
           0.7220852971076965
          ],
          [
           "juice_bottle/test/logical_anomalies",
           6,
           0.7940922975540161
          ],
          [
           "juice_bottle/test/logical_anomalies",
           7,
           0.8080852627754211
          ],
          [
           "juice_bottle/test/logical_anomalies",
           6,
           0.8013659715652466
          ],
          [
           "juice_bottle/test/logical_anomalies",
           6,
           0.8325208425521851
          ],
          [
           "juice_bottle/test/logical_anomalies",
           7,
           0.7673101425170898
          ],
          [
           "juice_bottle/test/logical_anomalies",
           5,
           0.7274268865585327
          ],
          [
           "juice_bottle/test/logical_anomalies",
           7,
           0.8019687533378601
          ],
          [
           "juice_bottle/test/logical_anomalies",
           6,
           0.7938506007194519
          ],
          [
           "juice_bottle/test/logical_anomalies",
           5,
           0.7150355577468872
          ],
          [
           "juice_bottle/test/logical_anomalies",
           6,
           0.7719026207923889
          ],
          [
           "juice_bottle/test/logical_anomalies",
           6,
           0.7916303873062134
          ],
          [
           "splicing_connectors/test/logical_anomalies",
           1,
           0.6440009474754333
          ],
          [
           "splicing_connectors/test/logical_anomalies",
           1,
           0.7403917908668518
          ],
          [
           "splicing_connectors/test/logical_anomalies",
           1,
           0.5647737979888916
          ],
          [
           "splicing_connectors/test/logical_anomalies",
           1,
           0.7971611022949219
          ],
          [
           "splicing_connectors/test/logical_anomalies",
           1,
           0.8326284885406494
          ],
          [
           "splicing_connectors/test/logical_anomalies",
           1,
           0.8530991077423096
          ],
          [
           "splicing_connectors/test/logical_anomalies",
           1,
           0.8395085334777832
          ],
          [
           "splicing_connectors/test/logical_anomalies",
           1,
           0.642992377281189
          ],
          [
           "splicing_connectors/test/logical_anomalies",
           1,
           0.8471696376800537
          ],
          [
           "splicing_connectors/test/logical_anomalies",
           1,
           0.8323616981506348
          ],
          [
           "splicing_connectors/test/logical_anomalies",
           1,
           0.6389948129653931
          ],
          [
           "splicing_connectors/test/logical_anomalies",
           1,
           0.6911847591400146
          ],
          [
           "splicing_connectors/test/logical_anomalies",
           1,
           0.7190486192703247
          ],
          [
           "splicing_connectors/test/logical_anomalies",
           1,
           0.8401603102684021
          ],
          [
           "splicing_connectors/test/logical_anomalies",
           1,
           0.6525561809539795
          ],
          [
           "splicing_connectors/test/logical_anomalies",
           1,
           0.558819055557251
          ],
          [
           "splicing_connectors/test/logical_anomalies",
           1,
           0.8500377535820007
          ],
          [
           "splicing_connectors/test/logical_anomalies",
           1,
           0.7470722198486328
          ],
          [
           "splicing_connectors/test/logical_anomalies",
           1,
           0.8181011080741882
          ],
          [
           "splicing_connectors/test/logical_anomalies",
           1,
           0.8670353293418884
          ],
          [
           "splicing_connectors/test/logical_anomalies",
           1,
           0.8179787397384644
          ],
          [
           "splicing_connectors/test/logical_anomalies",
           1,
           0.771212637424469
          ],
          [
           "splicing_connectors/test/logical_anomalies",
           1,
           0.7859982252120972
          ],
          [
           "splicing_connectors/test/logical_anomalies",
           1,
           0.7628307342529297
          ],
          [
           "splicing_connectors/test/logical_anomalies",
           1,
           0.8377796411514282
          ],
          [
           "splicing_connectors/test/logical_anomalies",
           1,
           0.7509214282035828
          ],
          [
           "splicing_connectors/test/logical_anomalies",
           1,
           0.654171347618103
          ],
          [
           "splicing_connectors/test/logical_anomalies",
           1,
           0.8368116617202759
          ],
          [
           "splicing_connectors/test/logical_anomalies",
           1,
           0.6503676772117615
          ],
          [
           "splicing_connectors/test/logical_anomalies",
           1,
           0.70988929271698
          ],
          [
           "splicing_connectors/test/logical_anomalies",
           1,
           0.8812675476074219
          ],
          [
           "splicing_connectors/test/logical_anomalies",
           1,
           0.5926499366760254
          ],
          [
           "splicing_connectors/test/logical_anomalies",
           1,
           0.7469367980957031
          ],
          [
           "splicing_connectors/test/logical_anomalies",
           1,
           0.8919206857681274
          ],
          [
           "splicing_connectors/test/logical_anomalies",
           1,
           0.7656204104423523
          ],
          [
           "splicing_connectors/test/logical_anomalies",
           1,
           0.8574284315109253
          ],
          [
           "splicing_connectors/test/logical_anomalies",
           1,
           0.8337469100952148
          ],
          [
           "splicing_connectors/test/logical_anomalies",
           1,
           0.857856273651123
          ],
          [
           "splicing_connectors/test/logical_anomalies",
           1,
           0.7141891121864319
          ],
          [
           "splicing_connectors/test/logical_anomalies",
           1,
           0.8181204795837402
          ],
          [
           "splicing_connectors/test/logical_anomalies",
           1,
           0.6482586860656738
          ],
          [
           "splicing_connectors/test/logical_anomalies",
           1,
           0.765356719493866
          ],
          [
           "splicing_connectors/test/logical_anomalies",
           1,
           0.7992560863494873
          ],
          [
           "splicing_connectors/test/logical_anomalies",
           1,
           0.7190138697624207
          ],
          [
           "splicing_connectors/test/logical_anomalies",
           1,
           0.7669243812561035
          ],
          [
           "splicing_connectors/test/logical_anomalies",
           1,
           0.7953380942344666
          ],
          [
           "splicing_connectors/test/logical_anomalies",
           1,
           0.7634618282318115
          ],
          [
           "splicing_connectors/test/logical_anomalies",
           1,
           0.7310640811920166
          ],
          [
           "splicing_connectors/test/logical_anomalies",
           1,
           0.8250796794891357
          ],
          [
           "splicing_connectors/test/logical_anomalies",
           1,
           0.851216197013855
          ],
          [
           "splicing_connectors/test/logical_anomalies",
           1,
           0.7984734773635864
          ],
          [
           "splicing_connectors/test/logical_anomalies",
           1,
           0.8678514957427979
          ],
          [
           "splicing_connectors/test/logical_anomalies",
           1,
           0.7093027830123901
          ],
          [
           "splicing_connectors/test/logical_anomalies",
           1,
           0.8280761241912842
          ],
          [
           "splicing_connectors/test/logical_anomalies",
           1,
           0.8408989310264587
          ],
          [
           "splicing_connectors/test/logical_anomalies",
           1,
           0.6820995211601257
          ],
          [
           "splicing_connectors/test/logical_anomalies",
           1,
           0.7630875110626221
          ],
          [
           "splicing_connectors/test/logical_anomalies",
           1,
           0.86556077003479
          ],
          [
           "splicing_connectors/test/logical_anomalies",
           1,
           0.8229563236236572
          ],
          [
           "splicing_connectors/test/logical_anomalies",
           1,
           0.8035755157470703
          ],
          [
           "splicing_connectors/test/logical_anomalies",
           1,
           0.707137942314148
          ],
          [
           "splicing_connectors/test/logical_anomalies",
           1,
           0.7793488502502441
          ],
          [
           "splicing_connectors/test/logical_anomalies",
           1,
           0.7530602216720581
          ],
          [
           "splicing_connectors/test/logical_anomalies",
           1,
           0.7863510847091675
          ],
          [
           "splicing_connectors/test/logical_anomalies",
           1,
           0.7849023938179016
          ],
          [
           "splicing_connectors/test/logical_anomalies",
           1,
           0.7518242001533508
          ],
          [
           "splicing_connectors/test/logical_anomalies",
           1,
           0.827031135559082
          ],
          [
           "splicing_connectors/test/logical_anomalies",
           1,
           0.7241940498352051
          ],
          [
           "splicing_connectors/test/logical_anomalies",
           1,
           0.8205778002738953
          ],
          [
           "splicing_connectors/test/logical_anomalies",
           1,
           0.6132558584213257
          ],
          [
           "splicing_connectors/test/logical_anomalies",
           1,
           0.73667973279953
          ],
          [
           "splicing_connectors/test/logical_anomalies",
           1,
           0.6416062116622925
          ],
          [
           "splicing_connectors/test/logical_anomalies",
           1,
           0.7472617626190186
          ],
          [
           "splicing_connectors/test/logical_anomalies",
           1,
           0.6790053844451904
          ],
          [
           "splicing_connectors/test/logical_anomalies",
           1,
           0.8232954740524292
          ],
          [
           "splicing_connectors/test/logical_anomalies",
           1,
           0.8101716041564941
          ],
          [
           "splicing_connectors/test/logical_anomalies",
           1,
           0.7666328549385071
          ],
          [
           "splicing_connectors/test/logical_anomalies",
           1,
           0.8485349416732788
          ],
          [
           "splicing_connectors/test/logical_anomalies",
           1,
           0.793228030204773
          ],
          [
           "splicing_connectors/test/logical_anomalies",
           1,
           0.7871928215026855
          ],
          [
           "splicing_connectors/test/logical_anomalies",
           1,
           0.8140614628791809
          ],
          [
           "splicing_connectors/test/logical_anomalies",
           1,
           0.8761724233627319
          ],
          [
           "splicing_connectors/test/logical_anomalies",
           1,
           0.8379977941513062
          ],
          [
           "splicing_connectors/test/logical_anomalies",
           1,
           0.7924627065658569
          ],
          [
           "splicing_connectors/test/logical_anomalies",
           1,
           0.8529254198074341
          ],
          [
           "splicing_connectors/test/logical_anomalies",
           1,
           0.8515453338623047
          ],
          [
           "splicing_connectors/test/logical_anomalies",
           1,
           0.7812480330467224
          ],
          [
           "splicing_connectors/test/logical_anomalies",
           1,
           0.7618870139122009
          ],
          [
           "splicing_connectors/test/logical_anomalies",
           1,
           0.7491084337234497
          ],
          [
           "splicing_connectors/test/logical_anomalies",
           1,
           0.6449729204177856
          ],
          [
           "splicing_connectors/test/logical_anomalies",
           1,
           0.8564541339874268
          ],
          [
           "splicing_connectors/test/logical_anomalies",
           1,
           0.6615792512893677
          ],
          [
           "splicing_connectors/test/logical_anomalies",
           1,
           0.8042907118797302
          ],
          [
           "splicing_connectors/test/logical_anomalies",
           1,
           0.6563509702682495
          ],
          [
           "splicing_connectors/test/logical_anomalies",
           1,
           0.47202828526496887
          ],
          [
           "splicing_connectors/test/logical_anomalies",
           1,
           0.8320680856704712
          ],
          [
           "splicing_connectors/test/logical_anomalies",
           1,
           0.8482864499092102
          ],
          [
           "splicing_connectors/test/logical_anomalies",
           1,
           0.8189194798469543
          ],
          [
           "splicing_connectors/test/logical_anomalies",
           1,
           0.7756903767585754
          ],
          [
           "splicing_connectors/test/logical_anomalies",
           1,
           0.5392902493476868
          ],
          [
           "splicing_connectors/test/logical_anomalies",
           1,
           0.6062290668487549
          ],
          [
           "splicing_connectors/test/logical_anomalies",
           1,
           0.7896728515625
          ],
          [
           "splicing_connectors/test/logical_anomalies",
           1,
           0.6514197587966919
          ],
          [
           "splicing_connectors/test/logical_anomalies",
           1,
           0.7150880098342896
          ],
          [
           "splicing_connectors/test/logical_anomalies",
           1,
           0.6361010074615479
          ],
          [
           "splicing_connectors/test/logical_anomalies",
           1,
           0.7395009994506836
          ],
          [
           "breakfast_box/test/logical_anomalies",
           -1,
           0.8562567234039307
          ],
          [
           "breakfast_box/test/logical_anomalies",
           4,
           0.7516007423400879
          ],
          [
           "breakfast_box/test/logical_anomalies",
           4,
           0.8074723482131958
          ],
          [
           "breakfast_box/test/logical_anomalies",
           4,
           0.794498085975647
          ],
          [
           "breakfast_box/test/logical_anomalies",
           4,
           0.7141189575195312
          ],
          [
           "breakfast_box/test/logical_anomalies",
           2,
           0.7408092021942139
          ],
          [
           "breakfast_box/test/logical_anomalies",
           4,
           0.7906773090362549
          ],
          [
           "breakfast_box/test/logical_anomalies",
           4,
           0.8108877539634705
          ],
          [
           "breakfast_box/test/logical_anomalies",
           -1,
           0.7485443949699402
          ],
          [
           "breakfast_box/test/logical_anomalies",
           4,
           0.717098593711853
          ],
          [
           "breakfast_box/test/logical_anomalies",
           4,
           0.7399530410766602
          ],
          [
           "breakfast_box/test/logical_anomalies",
           4,
           0.7395551204681396
          ],
          [
           "breakfast_box/test/logical_anomalies",
           4,
           0.8753045797348022
          ],
          [
           "breakfast_box/test/logical_anomalies",
           2,
           0.7865748405456543
          ],
          [
           "breakfast_box/test/logical_anomalies",
           4,
           0.7602497339248657
          ],
          [
           "breakfast_box/test/logical_anomalies",
           2,
           0.7762023210525513
          ],
          [
           "breakfast_box/test/logical_anomalies",
           4,
           0.8271414041519165
          ],
          [
           "breakfast_box/test/logical_anomalies",
           2,
           0.7432246208190918
          ],
          [
           "breakfast_box/test/logical_anomalies",
           4,
           0.8886899948120117
          ],
          [
           "breakfast_box/test/logical_anomalies",
           4,
           0.875351071357727
          ],
          [
           "breakfast_box/test/logical_anomalies",
           4,
           0.7831106185913086
          ],
          [
           "breakfast_box/test/logical_anomalies",
           4,
           0.7758339047431946
          ],
          [
           "breakfast_box/test/logical_anomalies",
           4,
           0.751370370388031
          ],
          [
           "breakfast_box/test/logical_anomalies",
           4,
           0.8858629465103149
          ],
          [
           "breakfast_box/test/logical_anomalies",
           4,
           0.7514685988426208
          ],
          [
           "breakfast_box/test/logical_anomalies",
           -1,
           0.8029415607452393
          ],
          [
           "breakfast_box/test/logical_anomalies",
           2,
           0.7823693752288818
          ],
          [
           "breakfast_box/test/logical_anomalies",
           4,
           0.8385822772979736
          ],
          [
           "breakfast_box/test/logical_anomalies",
           4,
           0.6482343673706055
          ],
          [
           "breakfast_box/test/logical_anomalies",
           4,
           0.8452444076538086
          ],
          [
           "breakfast_box/test/logical_anomalies",
           -1,
           0.7956310510635376
          ],
          [
           "breakfast_box/test/logical_anomalies",
           4,
           0.7612744569778442
          ],
          [
           "breakfast_box/test/logical_anomalies",
           4,
           0.7357391715049744
          ],
          [
           "breakfast_box/test/logical_anomalies",
           2,
           0.8101882338523865
          ],
          [
           "breakfast_box/test/logical_anomalies",
           4,
           0.8123947381973267
          ],
          [
           "breakfast_box/test/logical_anomalies",
           4,
           0.7480207681655884
          ],
          [
           "breakfast_box/test/logical_anomalies",
           4,
           0.7745005488395691
          ],
          [
           "breakfast_box/test/logical_anomalies",
           2,
           0.8688628673553467
          ],
          [
           "breakfast_box/test/logical_anomalies",
           4,
           0.7725406885147095
          ],
          [
           "breakfast_box/test/logical_anomalies",
           4,
           0.8352483510971069
          ],
          [
           "breakfast_box/test/logical_anomalies",
           -1,
           0.715324878692627
          ],
          [
           "breakfast_box/test/logical_anomalies",
           4,
           0.8630295395851135
          ],
          [
           "breakfast_box/test/logical_anomalies",
           4,
           0.8217534422874451
          ],
          [
           "breakfast_box/test/logical_anomalies",
           4,
           0.7111197710037231
          ],
          [
           "breakfast_box/test/logical_anomalies",
           4,
           0.6730053424835205
          ],
          [
           "breakfast_box/test/logical_anomalies",
           4,
           0.8133898377418518
          ],
          [
           "breakfast_box/test/logical_anomalies",
           4,
           0.769592821598053
          ],
          [
           "breakfast_box/test/logical_anomalies",
           4,
           0.7549675703048706
          ],
          [
           "breakfast_box/test/logical_anomalies",
           4,
           0.7976534366607666
          ],
          [
           "breakfast_box/test/logical_anomalies",
           4,
           0.7448490858078003
          ],
          [
           "breakfast_box/test/logical_anomalies",
           4,
           0.8478313088417053
          ],
          [
           "breakfast_box/test/logical_anomalies",
           4,
           0.8566746115684509
          ],
          [
           "breakfast_box/test/logical_anomalies",
           4,
           0.8847365379333496
          ],
          [
           "breakfast_box/test/logical_anomalies",
           4,
           0.7435128688812256
          ],
          [
           "breakfast_box/test/logical_anomalies",
           4,
           0.702263593673706
          ],
          [
           "breakfast_box/test/logical_anomalies",
           4,
           0.6413886547088623
          ],
          [
           "breakfast_box/test/logical_anomalies",
           4,
           0.8606396913528442
          ],
          [
           "breakfast_box/test/logical_anomalies",
           4,
           0.8775202035903931
          ],
          [
           "breakfast_box/test/logical_anomalies",
           2,
           0.7443883419036865
          ],
          [
           "breakfast_box/test/logical_anomalies",
           -1,
           0.7309957146644592
          ],
          [
           "breakfast_box/test/logical_anomalies",
           4,
           0.7865862846374512
          ],
          [
           "breakfast_box/test/logical_anomalies",
           4,
           0.8664494752883911
          ],
          [
           "breakfast_box/test/logical_anomalies",
           -1,
           0.8004288077354431
          ],
          [
           "breakfast_box/test/logical_anomalies",
           4,
           0.8739832639694214
          ],
          [
           "breakfast_box/test/logical_anomalies",
           4,
           0.8006693124771118
          ],
          [
           "breakfast_box/test/logical_anomalies",
           4,
           0.7311949729919434
          ],
          [
           "breakfast_box/test/logical_anomalies",
           4,
           0.8433536291122437
          ],
          [
           "breakfast_box/test/logical_anomalies",
           2,
           0.6538972854614258
          ],
          [
           "breakfast_box/test/logical_anomalies",
           4,
           0.7399899959564209
          ],
          [
           "breakfast_box/test/logical_anomalies",
           -1,
           0.6740480661392212
          ],
          [
           "breakfast_box/test/logical_anomalies",
           4,
           0.7493927478790283
          ],
          [
           "breakfast_box/test/logical_anomalies",
           2,
           0.7409201860427856
          ],
          [
           "breakfast_box/test/logical_anomalies",
           2,
           0.7614922523498535
          ],
          [
           "breakfast_box/test/logical_anomalies",
           4,
           0.876150369644165
          ],
          [
           "breakfast_box/test/logical_anomalies",
           -1,
           0.6895445585250854
          ],
          [
           "breakfast_box/test/logical_anomalies",
           4,
           0.8269295692443848
          ],
          [
           "breakfast_box/test/logical_anomalies",
           2,
           0.8617926836013794
          ],
          [
           "breakfast_box/test/logical_anomalies",
           2,
           0.8733986616134644
          ],
          [
           "screw_bag/test/logical_anomalies",
           0,
           0.4173048138618469
          ],
          [
           "screw_bag/test/logical_anomalies",
           0,
           0.5839829444885254
          ],
          [
           "screw_bag/test/logical_anomalies",
           0,
           0.726580023765564
          ],
          [
           "screw_bag/test/logical_anomalies",
           0,
           0.4478219151496887
          ],
          [
           "screw_bag/test/logical_anomalies",
           0,
           0.8049836158752441
          ],
          [
           "screw_bag/test/logical_anomalies",
           0,
           0.7918000221252441
          ],
          [
           "screw_bag/test/logical_anomalies",
           0,
           0.7702119946479797
          ],
          [
           "screw_bag/test/logical_anomalies",
           0,
           0.8011462688446045
          ],
          [
           "screw_bag/test/logical_anomalies",
           0,
           0.6219086647033691
          ],
          [
           "screw_bag/test/logical_anomalies",
           0,
           0.7588931918144226
          ],
          [
           "screw_bag/test/logical_anomalies",
           0,
           0.6315897703170776
          ],
          [
           "screw_bag/test/logical_anomalies",
           0,
           0.7714799642562866
          ],
          [
           "screw_bag/test/logical_anomalies",
           0,
           0.6152257919311523
          ],
          [
           "screw_bag/test/logical_anomalies",
           0,
           0.676539957523346
          ],
          [
           "screw_bag/test/logical_anomalies",
           0,
           0.7602300643920898
          ],
          [
           "screw_bag/test/logical_anomalies",
           0,
           0.5885539650917053
          ],
          [
           "screw_bag/test/logical_anomalies",
           0,
           0.7122524976730347
          ],
          [
           "screw_bag/test/logical_anomalies",
           0,
           0.7643149495124817
          ],
          [
           "screw_bag/test/logical_anomalies",
           0,
           0.6535999774932861
          ],
          [
           "screw_bag/test/logical_anomalies",
           0,
           0.6258938312530518
          ],
          [
           "screw_bag/test/logical_anomalies",
           0,
           0.7886158227920532
          ],
          [
           "screw_bag/test/logical_anomalies",
           0,
           0.7504160404205322
          ],
          [
           "screw_bag/test/logical_anomalies",
           0,
           0.8188262581825256
          ],
          [
           "screw_bag/test/logical_anomalies",
           0,
           0.6685137152671814
          ],
          [
           "screw_bag/test/logical_anomalies",
           0,
           0.5914392471313477
          ],
          [
           "screw_bag/test/logical_anomalies",
           0,
           0.5768686532974243
          ],
          [
           "screw_bag/test/logical_anomalies",
           0,
           0.6045417189598083
          ],
          [
           "screw_bag/test/logical_anomalies",
           0,
           0.6851762533187866
          ],
          [
           "screw_bag/test/logical_anomalies",
           0,
           0.5935412645339966
          ],
          [
           "screw_bag/test/logical_anomalies",
           0,
           0.628056526184082
          ],
          [
           "screw_bag/test/logical_anomalies",
           0,
           0.6709909439086914
          ],
          [
           "screw_bag/test/logical_anomalies",
           0,
           0.6641412973403931
          ],
          [
           "screw_bag/test/logical_anomalies",
           0,
           0.8491029739379883
          ],
          [
           "screw_bag/test/logical_anomalies",
           0,
           0.6350729465484619
          ],
          [
           "screw_bag/test/logical_anomalies",
           0,
           0.6307494640350342
          ],
          [
           "screw_bag/test/logical_anomalies",
           0,
           0.6176402568817139
          ],
          [
           "screw_bag/test/logical_anomalies",
           0,
           0.5859870910644531
          ],
          [
           "screw_bag/test/logical_anomalies",
           0,
           0.6580191254615784
          ],
          [
           "screw_bag/test/logical_anomalies",
           0,
           0.7888885140419006
          ],
          [
           "screw_bag/test/logical_anomalies",
           0,
           0.4985792636871338
          ],
          [
           "screw_bag/test/logical_anomalies",
           0,
           0.8816692233085632
          ],
          [
           "screw_bag/test/logical_anomalies",
           0,
           0.6687251925468445
          ],
          [
           "screw_bag/test/logical_anomalies",
           0,
           0.591172993183136
          ],
          [
           "screw_bag/test/logical_anomalies",
           0,
           0.618953287601471
          ],
          [
           "screw_bag/test/logical_anomalies",
           0,
           0.5203815698623657
          ],
          [
           "screw_bag/test/logical_anomalies",
           0,
           0.5701804161071777
          ],
          [
           "screw_bag/test/logical_anomalies",
           0,
           0.6653856039047241
          ],
          [
           "screw_bag/test/logical_anomalies",
           0,
           0.6692664623260498
          ],
          [
           "screw_bag/test/logical_anomalies",
           0,
           0.8135557174682617
          ],
          [
           "screw_bag/test/logical_anomalies",
           0,
           0.559044599533081
          ],
          [
           "screw_bag/test/logical_anomalies",
           0,
           0.7136737108230591
          ],
          [
           "screw_bag/test/logical_anomalies",
           0,
           0.5526264905929565
          ],
          [
           "screw_bag/test/logical_anomalies",
           0,
           0.6043522357940674
          ],
          [
           "screw_bag/test/logical_anomalies",
           0,
           0.6186352968215942
          ],
          [
           "screw_bag/test/logical_anomalies",
           0,
           0.4457874298095703
          ],
          [
           "screw_bag/test/logical_anomalies",
           0,
           0.5895081758499146
          ],
          [
           "screw_bag/test/logical_anomalies",
           0,
           0.82438063621521
          ],
          [
           "screw_bag/test/logical_anomalies",
           0,
           0.49758264422416687
          ],
          [
           "screw_bag/test/logical_anomalies",
           0,
           0.2224774956703186
          ],
          [
           "screw_bag/test/logical_anomalies",
           0,
           0.7797170877456665
          ],
          [
           "screw_bag/test/logical_anomalies",
           0,
           0.7238720059394836
          ],
          [
           "screw_bag/test/logical_anomalies",
           0,
           0.607119083404541
          ],
          [
           "screw_bag/test/logical_anomalies",
           0,
           0.7132982015609741
          ],
          [
           "screw_bag/test/logical_anomalies",
           0,
           0.7258510589599609
          ],
          [
           "screw_bag/test/logical_anomalies",
           0,
           0.5429953336715698
          ],
          [
           "screw_bag/test/logical_anomalies",
           0,
           0.6318086981773376
          ],
          [
           "screw_bag/test/logical_anomalies",
           0,
           0.5623089671134949
          ],
          [
           "screw_bag/test/logical_anomalies",
           0,
           0.6112344861030579
          ],
          [
           "screw_bag/test/logical_anomalies",
           0,
           0.719962477684021
          ],
          [
           "screw_bag/test/logical_anomalies",
           0,
           0.7242242693901062
          ],
          [
           "screw_bag/test/logical_anomalies",
           0,
           0.5820716619491577
          ],
          [
           "screw_bag/test/logical_anomalies",
           0,
           0.7738050222396851
          ],
          [
           "screw_bag/test/logical_anomalies",
           0,
           0.5598201751708984
          ],
          [
           "screw_bag/test/logical_anomalies",
           0,
           0.8210912346839905
          ],
          [
           "screw_bag/test/logical_anomalies",
           0,
           0.6873461008071899
          ],
          [
           "screw_bag/test/logical_anomalies",
           0,
           0.7148959636688232
          ],
          [
           "screw_bag/test/logical_anomalies",
           0,
           0.745275616645813
          ],
          [
           "screw_bag/test/logical_anomalies",
           0,
           0.632693350315094
          ],
          [
           "screw_bag/test/logical_anomalies",
           0,
           0.62940913438797
          ],
          [
           "screw_bag/test/logical_anomalies",
           0,
           0.6994873881340027
          ],
          [
           "screw_bag/test/logical_anomalies",
           0,
           0.5884381532669067
          ],
          [
           "screw_bag/test/logical_anomalies",
           0,
           0.7545027136802673
          ],
          [
           "screw_bag/test/logical_anomalies",
           0,
           0.6757408380508423
          ],
          [
           "screw_bag/test/logical_anomalies",
           0,
           0.6228874921798706
          ],
          [
           "screw_bag/test/logical_anomalies",
           0,
           0.6012622117996216
          ],
          [
           "screw_bag/test/logical_anomalies",
           0,
           0.3995259404182434
          ],
          [
           "screw_bag/test/logical_anomalies",
           0,
           0.6153042316436768
          ],
          [
           "screw_bag/test/logical_anomalies",
           0,
           0.8371516466140747
          ],
          [
           "screw_bag/test/logical_anomalies",
           0,
           0.7298892736434937
          ],
          [
           "screw_bag/test/logical_anomalies",
           0,
           0.6717509627342224
          ],
          [
           "screw_bag/test/logical_anomalies",
           0,
           0.7007161378860474
          ],
          [
           "screw_bag/test/logical_anomalies",
           0,
           0.5326175689697266
          ],
          [
           "screw_bag/test/logical_anomalies",
           0,
           0.6142406463623047
          ],
          [
           "screw_bag/test/logical_anomalies",
           0,
           0.668305516242981
          ],
          [
           "screw_bag/test/logical_anomalies",
           0,
           0.7100705504417419
          ],
          [
           "screw_bag/test/logical_anomalies",
           0,
           0.763500988483429
          ],
          [
           "screw_bag/test/logical_anomalies",
           0,
           0.5019660592079163
          ],
          [
           "screw_bag/test/logical_anomalies",
           0,
           0.407692551612854
          ],
          [
           "screw_bag/test/logical_anomalies",
           0,
           0.6821245551109314
          ],
          [
           "screw_bag/test/logical_anomalies",
           0,
           0.798786997795105
          ],
          [
           "screw_bag/test/logical_anomalies",
           0,
           0.7204251289367676
          ],
          [
           "screw_bag/test/logical_anomalies",
           0,
           0.5767844319343567
          ],
          [
           "screw_bag/test/logical_anomalies",
           0,
           0.762464165687561
          ],
          [
           "screw_bag/test/logical_anomalies",
           0,
           0.7522838115692139
          ],
          [
           "screw_bag/test/logical_anomalies",
           0,
           0.6679741144180298
          ],
          [
           "screw_bag/test/logical_anomalies",
           0,
           0.5517764091491699
          ],
          [
           "screw_bag/test/logical_anomalies",
           0,
           0.6827331781387329
          ],
          [
           "screw_bag/test/logical_anomalies",
           0,
           0.5957285165786743
          ],
          [
           "screw_bag/test/logical_anomalies",
           0,
           0.7239187359809875
          ],
          [
           "screw_bag/test/logical_anomalies",
           0,
           0.6868956089019775
          ],
          [
           "screw_bag/test/logical_anomalies",
           0,
           0.7031153440475464
          ],
          [
           "screw_bag/test/logical_anomalies",
           0,
           0.772979199886322
          ],
          [
           "screw_bag/test/logical_anomalies",
           0,
           0.5590329766273499
          ],
          [
           "screw_bag/test/logical_anomalies",
           0,
           0.7189499139785767
          ],
          [
           "screw_bag/test/logical_anomalies",
           0,
           0.710595965385437
          ],
          [
           "screw_bag/test/logical_anomalies",
           0,
           0.6594176292419434
          ],
          [
           "screw_bag/test/logical_anomalies",
           0,
           0.766086220741272
          ],
          [
           "screw_bag/test/logical_anomalies",
           0,
           0.8256770372390747
          ],
          [
           "screw_bag/test/logical_anomalies",
           0,
           0.7304553389549255
          ],
          [
           "screw_bag/test/logical_anomalies",
           0,
           0.7495654225349426
          ],
          [
           "screw_bag/test/logical_anomalies",
           0,
           0.5010212659835815
          ],
          [
           "screw_bag/test/logical_anomalies",
           0,
           0.592079758644104
          ],
          [
           "screw_bag/test/logical_anomalies",
           0,
           0.5680228471755981
          ],
          [
           "screw_bag/test/logical_anomalies",
           0,
           0.5981868505477905
          ],
          [
           "screw_bag/test/logical_anomalies",
           0,
           0.4624907374382019
          ],
          [
           "screw_bag/test/logical_anomalies",
           0,
           0.6628015637397766
          ],
          [
           "screw_bag/test/logical_anomalies",
           0,
           0.5362429618835449
          ],
          [
           "screw_bag/test/logical_anomalies",
           0,
           0.5507557392120361
          ],
          [
           "screw_bag/test/logical_anomalies",
           0,
           0.5956443548202515
          ],
          [
           "screw_bag/test/logical_anomalies",
           0,
           0.5883417725563049
          ],
          [
           "screw_bag/test/logical_anomalies",
           0,
           0.638107180595398
          ],
          [
           "screw_bag/test/logical_anomalies",
           0,
           0.6995843648910522
          ],
          [
           "screw_bag/test/logical_anomalies",
           0,
           0.7515771389007568
          ],
          [
           "screw_bag/test/logical_anomalies",
           0,
           0.4679896831512451
          ],
          [
           "screw_bag/test/logical_anomalies",
           0,
           0.7265559434890747
          ],
          [
           "screw_bag/test/logical_anomalies",
           0,
           0.6348016858100891
          ],
          [
           "pushpins/test/logical_anomalies",
           9,
           0.7800068259239197
          ],
          [
           "pushpins/test/logical_anomalies",
           8,
           0.9004963636398315
          ],
          [
           "pushpins/test/logical_anomalies",
           -1,
           0.735693097114563
          ],
          [
           "pushpins/test/logical_anomalies",
           8,
           0.7036926746368408
          ],
          [
           "pushpins/test/logical_anomalies",
           8,
           0.8181114196777344
          ],
          [
           "pushpins/test/logical_anomalies",
           8,
           0.8879980444908142
          ],
          [
           "pushpins/test/logical_anomalies",
           8,
           0.7776603698730469
          ],
          [
           "pushpins/test/logical_anomalies",
           8,
           0.7966793775558472
          ],
          [
           "pushpins/test/logical_anomalies",
           15,
           0.8285877704620361
          ],
          [
           "pushpins/test/logical_anomalies",
           -1,
           0.6399093270301819
          ],
          [
           "pushpins/test/logical_anomalies",
           8,
           0.7279818654060364
          ],
          [
           "pushpins/test/logical_anomalies",
           8,
           0.8425546288490295
          ],
          [
           "pushpins/test/logical_anomalies",
           8,
           0.7690987586975098
          ],
          [
           "pushpins/test/logical_anomalies",
           8,
           0.7957048416137695
          ],
          [
           "pushpins/test/logical_anomalies",
           8,
           0.7451754808425903
          ],
          [
           "pushpins/test/logical_anomalies",
           -1,
           0.8894234299659729
          ],
          [
           "pushpins/test/logical_anomalies",
           8,
           0.7280821800231934
          ],
          [
           "pushpins/test/logical_anomalies",
           8,
           0.7252317667007446
          ],
          [
           "pushpins/test/logical_anomalies",
           -1,
           0.6785942316055298
          ],
          [
           "pushpins/test/logical_anomalies",
           8,
           0.8053444623947144
          ],
          [
           "pushpins/test/logical_anomalies",
           8,
           0.7921929359436035
          ],
          [
           "pushpins/test/logical_anomalies",
           8,
           0.7815969586372375
          ],
          [
           "pushpins/test/logical_anomalies",
           8,
           0.7940964698791504
          ],
          [
           "pushpins/test/logical_anomalies",
           8,
           0.8585585951805115
          ],
          [
           "pushpins/test/logical_anomalies",
           8,
           0.6558376550674438
          ],
          [
           "pushpins/test/logical_anomalies",
           8,
           0.6892964839935303
          ],
          [
           "pushpins/test/logical_anomalies",
           8,
           0.7521822452545166
          ],
          [
           "pushpins/test/logical_anomalies",
           -1,
           0.7784596681594849
          ],
          [
           "pushpins/test/logical_anomalies",
           8,
           0.7483481168746948
          ],
          [
           "pushpins/test/logical_anomalies",
           8,
           0.881229043006897
          ],
          [
           "pushpins/test/logical_anomalies",
           8,
           0.8352046608924866
          ],
          [
           "pushpins/test/logical_anomalies",
           8,
           0.8484883308410645
          ],
          [
           "pushpins/test/logical_anomalies",
           8,
           0.8250626921653748
          ],
          [
           "pushpins/test/logical_anomalies",
           8,
           0.8796947598457336
          ],
          [
           "pushpins/test/logical_anomalies",
           8,
           0.8810207843780518
          ],
          [
           "pushpins/test/logical_anomalies",
           8,
           0.6955016255378723
          ],
          [
           "pushpins/test/logical_anomalies",
           8,
           0.6736919283866882
          ],
          [
           "pushpins/test/logical_anomalies",
           8,
           0.611921489238739
          ],
          [
           "pushpins/test/logical_anomalies",
           8,
           0.7424421310424805
          ],
          [
           "pushpins/test/logical_anomalies",
           8,
           0.8410143852233887
          ],
          [
           "pushpins/test/logical_anomalies",
           8,
           0.795649528503418
          ],
          [
           "pushpins/test/logical_anomalies",
           8,
           0.7915290594100952
          ],
          [
           "pushpins/test/logical_anomalies",
           -1,
           0.8003464937210083
          ],
          [
           "pushpins/test/logical_anomalies",
           8,
           0.8454581499099731
          ],
          [
           "pushpins/test/logical_anomalies",
           8,
           0.8800386786460876
          ],
          [
           "pushpins/test/logical_anomalies",
           8,
           0.6499173641204834
          ],
          [
           "pushpins/test/logical_anomalies",
           8,
           0.8843145370483398
          ],
          [
           "pushpins/test/logical_anomalies",
           8,
           0.738693356513977
          ],
          [
           "pushpins/test/logical_anomalies",
           8,
           0.7150530815124512
          ],
          [
           "pushpins/test/logical_anomalies",
           8,
           0.7221115231513977
          ],
          [
           "pushpins/test/logical_anomalies",
           8,
           0.7483131885528564
          ],
          [
           "pushpins/test/logical_anomalies",
           -1,
           0.7733408808708191
          ],
          [
           "pushpins/test/logical_anomalies",
           8,
           0.8280624151229858
          ],
          [
           "pushpins/test/logical_anomalies",
           8,
           0.8382852077484131
          ],
          [
           "pushpins/test/logical_anomalies",
           8,
           0.6741781234741211
          ],
          [
           "pushpins/test/logical_anomalies",
           8,
           0.785932183265686
          ],
          [
           "pushpins/test/logical_anomalies",
           8,
           0.8227807283401489
          ],
          [
           "pushpins/test/logical_anomalies",
           8,
           0.8703973293304443
          ],
          [
           "pushpins/test/logical_anomalies",
           -1,
           0.8056149482727051
          ],
          [
           "pushpins/test/logical_anomalies",
           8,
           0.8155137300491333
          ],
          [
           "pushpins/test/logical_anomalies",
           8,
           0.7570780515670776
          ],
          [
           "pushpins/test/logical_anomalies",
           8,
           0.7212312817573547
          ],
          [
           "pushpins/test/logical_anomalies",
           8,
           0.7136229872703552
          ],
          [
           "pushpins/test/logical_anomalies",
           8,
           0.7236157655715942
          ],
          [
           "pushpins/test/logical_anomalies",
           8,
           0.7628524303436279
          ],
          [
           "pushpins/test/logical_anomalies",
           -1,
           0.8087806701660156
          ],
          [
           "pushpins/test/logical_anomalies",
           -1,
           0.7807172536849976
          ],
          [
           "pushpins/test/logical_anomalies",
           8,
           0.5998454093933105
          ],
          [
           "pushpins/test/logical_anomalies",
           8,
           0.9142547845840454
          ],
          [
           "pushpins/test/logical_anomalies",
           -1,
           0.8387599587440491
          ],
          [
           "pushpins/test/logical_anomalies",
           -1,
           0.7615357637405396
          ],
          [
           "pushpins/test/logical_anomalies",
           8,
           0.740251362323761
          ],
          [
           "pushpins/test/logical_anomalies",
           8,
           0.7636721730232239
          ],
          [
           "pushpins/test/logical_anomalies",
           -1,
           0.7960169315338135
          ],
          [
           "pushpins/test/logical_anomalies",
           8,
           0.8198970556259155
          ],
          [
           "pushpins/test/logical_anomalies",
           8,
           0.7745131850242615
          ],
          [
           "pushpins/test/logical_anomalies",
           8,
           0.7152919769287109
          ],
          [
           "pushpins/test/logical_anomalies",
           8,
           0.9069258570671082
          ],
          [
           "pushpins/test/logical_anomalies",
           -1,
           0.7644044160842896
          ],
          [
           "pushpins/test/logical_anomalies",
           -1,
           0.7924726605415344
          ],
          [
           "pushpins/test/logical_anomalies",
           8,
           0.7321418523788452
          ],
          [
           "pushpins/test/logical_anomalies",
           8,
           0.8767726421356201
          ],
          [
           "pushpins/test/logical_anomalies",
           8,
           0.7022598385810852
          ],
          [
           "pushpins/test/logical_anomalies",
           8,
           0.8267336487770081
          ],
          [
           "pushpins/test/logical_anomalies",
           8,
           0.7535114288330078
          ],
          [
           "pushpins/test/logical_anomalies",
           -1,
           0.7510098218917847
          ],
          [
           "pushpins/test/logical_anomalies",
           8,
           0.8829607963562012
          ],
          [
           "pushpins/test/logical_anomalies",
           8,
           0.7393878698348999
          ],
          [
           "pushpins/test/logical_anomalies",
           8,
           0.7351000308990479
          ]
         ],
         "hovertemplate": "Tipo de imagen=logical_anomalies<br>TSNE-1=%{x}<br>TSNE-2=%{y}<br>Nombre Carpeta=%{customdata[0]}<br>Tópico=%{customdata[1]}<br>Similitud con centroide=%{customdata[2]}<extra></extra>",
         "legendgroup": "logical_anomalies",
         "marker": {
          "color": "#00cc96",
          "symbol": "circle"
         },
         "mode": "markers",
         "name": "logical_anomalies",
         "showlegend": true,
         "type": "scattergl",
         "x": {
          "bdata": "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",
          "dtype": "f4"
         },
         "xaxis": "x",
         "y": {
          "bdata": "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",
          "dtype": "f4"
         },
         "yaxis": "y"
        }
       ],
       "layout": {
        "height": 600,
        "legend": {
         "title": {
          "text": "Tipo de imagen"
         },
         "tracegroupgap": 0
        },
        "template": {
         "data": {
          "bar": [
           {
            "error_x": {
             "color": "#2a3f5f"
            },
            "error_y": {
             "color": "#2a3f5f"
            },
            "marker": {
             "line": {
              "color": "#E5ECF6",
              "width": 0.5
             },
             "pattern": {
              "fillmode": "overlay",
              "size": 10,
              "solidity": 0.2
             }
            },
            "type": "bar"
           }
          ],
          "barpolar": [
           {
            "marker": {
             "line": {
              "color": "#E5ECF6",
              "width": 0.5
             },
             "pattern": {
              "fillmode": "overlay",
              "size": 10,
              "solidity": 0.2
             }
            },
            "type": "barpolar"
           }
          ],
          "carpet": [
           {
            "aaxis": {
             "endlinecolor": "#2a3f5f",
             "gridcolor": "white",
             "linecolor": "white",
             "minorgridcolor": "white",
             "startlinecolor": "#2a3f5f"
            },
            "baxis": {
             "endlinecolor": "#2a3f5f",
             "gridcolor": "white",
             "linecolor": "white",
             "minorgridcolor": "white",
             "startlinecolor": "#2a3f5f"
            },
            "type": "carpet"
           }
          ],
          "choropleth": [
           {
            "colorbar": {
             "outlinewidth": 0,
             "ticks": ""
            },
            "type": "choropleth"
           }
          ],
          "contour": [
           {
            "colorbar": {
             "outlinewidth": 0,
             "ticks": ""
            },
            "colorscale": [
             [
              0,
              "#0d0887"
             ],
             [
              0.1111111111111111,
              "#46039f"
             ],
             [
              0.2222222222222222,
              "#7201a8"
             ],
             [
              0.3333333333333333,
              "#9c179e"
             ],
             [
              0.4444444444444444,
              "#bd3786"
             ],
             [
              0.5555555555555556,
              "#d8576b"
             ],
             [
              0.6666666666666666,
              "#ed7953"
             ],
             [
              0.7777777777777778,
              "#fb9f3a"
             ],
             [
              0.8888888888888888,
              "#fdca26"
             ],
             [
              1,
              "#f0f921"
             ]
            ],
            "type": "contour"
           }
          ],
          "contourcarpet": [
           {
            "colorbar": {
             "outlinewidth": 0,
             "ticks": ""
            },
            "type": "contourcarpet"
           }
          ],
          "heatmap": [
           {
            "colorbar": {
             "outlinewidth": 0,
             "ticks": ""
            },
            "colorscale": [
             [
              0,
              "#0d0887"
             ],
             [
              0.1111111111111111,
              "#46039f"
             ],
             [
              0.2222222222222222,
              "#7201a8"
             ],
             [
              0.3333333333333333,
              "#9c179e"
             ],
             [
              0.4444444444444444,
              "#bd3786"
             ],
             [
              0.5555555555555556,
              "#d8576b"
             ],
             [
              0.6666666666666666,
              "#ed7953"
             ],
             [
              0.7777777777777778,
              "#fb9f3a"
             ],
             [
              0.8888888888888888,
              "#fdca26"
             ],
             [
              1,
              "#f0f921"
             ]
            ],
            "type": "heatmap"
           }
          ],
          "histogram": [
           {
            "marker": {
             "pattern": {
              "fillmode": "overlay",
              "size": 10,
              "solidity": 0.2
             }
            },
            "type": "histogram"
           }
          ],
          "histogram2d": [
           {
            "colorbar": {
             "outlinewidth": 0,
             "ticks": ""
            },
            "colorscale": [
             [
              0,
              "#0d0887"
             ],
             [
              0.1111111111111111,
              "#46039f"
             ],
             [
              0.2222222222222222,
              "#7201a8"
             ],
             [
              0.3333333333333333,
              "#9c179e"
             ],
             [
              0.4444444444444444,
              "#bd3786"
             ],
             [
              0.5555555555555556,
              "#d8576b"
             ],
             [
              0.6666666666666666,
              "#ed7953"
             ],
             [
              0.7777777777777778,
              "#fb9f3a"
             ],
             [
              0.8888888888888888,
              "#fdca26"
             ],
             [
              1,
              "#f0f921"
             ]
            ],
            "type": "histogram2d"
           }
          ],
          "histogram2dcontour": [
           {
            "colorbar": {
             "outlinewidth": 0,
             "ticks": ""
            },
            "colorscale": [
             [
              0,
              "#0d0887"
             ],
             [
              0.1111111111111111,
              "#46039f"
             ],
             [
              0.2222222222222222,
              "#7201a8"
             ],
             [
              0.3333333333333333,
              "#9c179e"
             ],
             [
              0.4444444444444444,
              "#bd3786"
             ],
             [
              0.5555555555555556,
              "#d8576b"
             ],
             [
              0.6666666666666666,
              "#ed7953"
             ],
             [
              0.7777777777777778,
              "#fb9f3a"
             ],
             [
              0.8888888888888888,
              "#fdca26"
             ],
             [
              1,
              "#f0f921"
             ]
            ],
            "type": "histogram2dcontour"
           }
          ],
          "mesh3d": [
           {
            "colorbar": {
             "outlinewidth": 0,
             "ticks": ""
            },
            "type": "mesh3d"
           }
          ],
          "parcoords": [
           {
            "line": {
             "colorbar": {
              "outlinewidth": 0,
              "ticks": ""
             }
            },
            "type": "parcoords"
           }
          ],
          "pie": [
           {
            "automargin": true,
            "type": "pie"
           }
          ],
          "scatter": [
           {
            "fillpattern": {
             "fillmode": "overlay",
             "size": 10,
             "solidity": 0.2
            },
            "type": "scatter"
           }
          ],
          "scatter3d": [
           {
            "line": {
             "colorbar": {
              "outlinewidth": 0,
              "ticks": ""
             }
            },
            "marker": {
             "colorbar": {
              "outlinewidth": 0,
              "ticks": ""
             }
            },
            "type": "scatter3d"
           }
          ],
          "scattercarpet": [
           {
            "marker": {
             "colorbar": {
              "outlinewidth": 0,
              "ticks": ""
             }
            },
            "type": "scattercarpet"
           }
          ],
          "scattergeo": [
           {
            "marker": {
             "colorbar": {
              "outlinewidth": 0,
              "ticks": ""
             }
            },
            "type": "scattergeo"
           }
          ],
          "scattergl": [
           {
            "marker": {
             "colorbar": {
              "outlinewidth": 0,
              "ticks": ""
             }
            },
            "type": "scattergl"
           }
          ],
          "scattermap": [
           {
            "marker": {
             "colorbar": {
              "outlinewidth": 0,
              "ticks": ""
             }
            },
            "type": "scattermap"
           }
          ],
          "scattermapbox": [
           {
            "marker": {
             "colorbar": {
              "outlinewidth": 0,
              "ticks": ""
             }
            },
            "type": "scattermapbox"
           }
          ],
          "scatterpolar": [
           {
            "marker": {
             "colorbar": {
              "outlinewidth": 0,
              "ticks": ""
             }
            },
            "type": "scatterpolar"
           }
          ],
          "scatterpolargl": [
           {
            "marker": {
             "colorbar": {
              "outlinewidth": 0,
              "ticks": ""
             }
            },
            "type": "scatterpolargl"
           }
          ],
          "scatterternary": [
           {
            "marker": {
             "colorbar": {
              "outlinewidth": 0,
              "ticks": ""
             }
            },
            "type": "scatterternary"
           }
          ],
          "surface": [
           {
            "colorbar": {
             "outlinewidth": 0,
             "ticks": ""
            },
            "colorscale": [
             [
              0,
              "#0d0887"
             ],
             [
              0.1111111111111111,
              "#46039f"
             ],
             [
              0.2222222222222222,
              "#7201a8"
             ],
             [
              0.3333333333333333,
              "#9c179e"
             ],
             [
              0.4444444444444444,
              "#bd3786"
             ],
             [
              0.5555555555555556,
              "#d8576b"
             ],
             [
              0.6666666666666666,
              "#ed7953"
             ],
             [
              0.7777777777777778,
              "#fb9f3a"
             ],
             [
              0.8888888888888888,
              "#fdca26"
             ],
             [
              1,
              "#f0f921"
             ]
            ],
            "type": "surface"
           }
          ],
          "table": [
           {
            "cells": {
             "fill": {
              "color": "#EBF0F8"
             },
             "line": {
              "color": "white"
             }
            },
            "header": {
             "fill": {
              "color": "#C8D4E3"
             },
             "line": {
              "color": "white"
             }
            },
            "type": "table"
           }
          ]
         },
         "layout": {
          "annotationdefaults": {
           "arrowcolor": "#2a3f5f",
           "arrowhead": 0,
           "arrowwidth": 1
          },
          "autotypenumbers": "strict",
          "coloraxis": {
           "colorbar": {
            "outlinewidth": 0,
            "ticks": ""
           }
          },
          "colorscale": {
           "diverging": [
            [
             0,
             "#8e0152"
            ],
            [
             0.1,
             "#c51b7d"
            ],
            [
             0.2,
             "#de77ae"
            ],
            [
             0.3,
             "#f1b6da"
            ],
            [
             0.4,
             "#fde0ef"
            ],
            [
             0.5,
             "#f7f7f7"
            ],
            [
             0.6,
             "#e6f5d0"
            ],
            [
             0.7,
             "#b8e186"
            ],
            [
             0.8,
             "#7fbc41"
            ],
            [
             0.9,
             "#4d9221"
            ],
            [
             1,
             "#276419"
            ]
           ],
           "sequential": [
            [
             0,
             "#0d0887"
            ],
            [
             0.1111111111111111,
             "#46039f"
            ],
            [
             0.2222222222222222,
             "#7201a8"
            ],
            [
             0.3333333333333333,
             "#9c179e"
            ],
            [
             0.4444444444444444,
             "#bd3786"
            ],
            [
             0.5555555555555556,
             "#d8576b"
            ],
            [
             0.6666666666666666,
             "#ed7953"
            ],
            [
             0.7777777777777778,
             "#fb9f3a"
            ],
            [
             0.8888888888888888,
             "#fdca26"
            ],
            [
             1,
             "#f0f921"
            ]
           ],
           "sequentialminus": [
            [
             0,
             "#0d0887"
            ],
            [
             0.1111111111111111,
             "#46039f"
            ],
            [
             0.2222222222222222,
             "#7201a8"
            ],
            [
             0.3333333333333333,
             "#9c179e"
            ],
            [
             0.4444444444444444,
             "#bd3786"
            ],
            [
             0.5555555555555556,
             "#d8576b"
            ],
            [
             0.6666666666666666,
             "#ed7953"
            ],
            [
             0.7777777777777778,
             "#fb9f3a"
            ],
            [
             0.8888888888888888,
             "#fdca26"
            ],
            [
             1,
             "#f0f921"
            ]
           ]
          },
          "colorway": [
           "#636efa",
           "#EF553B",
           "#00cc96",
           "#ab63fa",
           "#FFA15A",
           "#19d3f3",
           "#FF6692",
           "#B6E880",
           "#FF97FF",
           "#FECB52"
          ],
          "font": {
           "color": "#2a3f5f"
          },
          "geo": {
           "bgcolor": "white",
           "lakecolor": "white",
           "landcolor": "#E5ECF6",
           "showlakes": true,
           "showland": true,
           "subunitcolor": "white"
          },
          "hoverlabel": {
           "align": "left"
          },
          "hovermode": "closest",
          "mapbox": {
           "style": "light"
          },
          "paper_bgcolor": "white",
          "plot_bgcolor": "#E5ECF6",
          "polar": {
           "angularaxis": {
            "gridcolor": "white",
            "linecolor": "white",
            "ticks": ""
           },
           "bgcolor": "#E5ECF6",
           "radialaxis": {
            "gridcolor": "white",
            "linecolor": "white",
            "ticks": ""
           }
          },
          "scene": {
           "xaxis": {
            "backgroundcolor": "#E5ECF6",
            "gridcolor": "white",
            "gridwidth": 2,
            "linecolor": "white",
            "showbackground": true,
            "ticks": "",
            "zerolinecolor": "white"
           },
           "yaxis": {
            "backgroundcolor": "#E5ECF6",
            "gridcolor": "white",
            "gridwidth": 2,
            "linecolor": "white",
            "showbackground": true,
            "ticks": "",
            "zerolinecolor": "white"
           },
           "zaxis": {
            "backgroundcolor": "#E5ECF6",
            "gridcolor": "white",
            "gridwidth": 2,
            "linecolor": "white",
            "showbackground": true,
            "ticks": "",
            "zerolinecolor": "white"
           }
          },
          "shapedefaults": {
           "line": {
            "color": "#2a3f5f"
           }
          },
          "ternary": {
           "aaxis": {
            "gridcolor": "white",
            "linecolor": "white",
            "ticks": ""
           },
           "baxis": {
            "gridcolor": "white",
            "linecolor": "white",
            "ticks": ""
           },
           "bgcolor": "#E5ECF6",
           "caxis": {
            "gridcolor": "white",
            "linecolor": "white",
            "ticks": ""
           }
          },
          "title": {
           "x": 0.05
          },
          "xaxis": {
           "automargin": true,
           "gridcolor": "white",
           "linecolor": "white",
           "ticks": "",
           "title": {
            "standoff": 15
           },
           "zerolinecolor": "white",
           "zerolinewidth": 2
          },
          "yaxis": {
           "automargin": true,
           "gridcolor": "white",
           "linecolor": "white",
           "ticks": "",
           "title": {
            "standoff": 15
           },
           "zerolinecolor": "white",
           "zerolinewidth": 2
          }
         }
        },
        "title": {
         "text": "Distribución t-SNE real por clase"
        },
        "width": 900,
        "xaxis": {
         "anchor": "y",
         "domain": [
          0,
          1
         ],
         "title": {
          "text": "TSNE-1"
         }
        },
        "yaxis": {
         "anchor": "x",
         "domain": [
          0,
          1
         ],
         "title": {
          "text": "TSNE-2"
         }
        }
       }
      }
     },
     "metadata": {},
     "output_type": "display_data"
    },
    {
     "data": {
      "application/vnd.plotly.v1+json": {
       "config": {
        "plotlyServerURL": "https://plot.ly"
       },
       "data": [
        {
         "customdata": [
          [
           "juice_bottle/test/good",
           "good",
           0.7339125871658325
          ],
          [
           "juice_bottle/test/good",
           "good",
           0.7178948521614075
          ],
          [
           "juice_bottle/test/good",
           "good",
           0.7218698263168335
          ],
          [
           "juice_bottle/test/good",
           "good",
           0.7024282813072205
          ],
          [
           "juice_bottle/test/good",
           "good",
           0.8129074573516846
          ],
          [
           "juice_bottle/test/good",
           "good",
           0.7134831547737122
          ],
          [
           "juice_bottle/test/good",
           "good",
           0.799494743347168
          ],
          [
           "juice_bottle/test/good",
           "good",
           0.8033046722412109
          ],
          [
           "juice_bottle/test/good",
           "good",
           0.7241644859313965
          ],
          [
           "juice_bottle/test/good",
           "good",
           0.7116295695304871
          ],
          [
           "juice_bottle/test/good",
           "good",
           0.8378938436508179
          ],
          [
           "juice_bottle/test/good",
           "good",
           0.7664269208908081
          ],
          [
           "juice_bottle/test/good",
           "good",
           0.7729675769805908
          ],
          [
           "juice_bottle/test/good",
           "good",
           0.8356120586395264
          ],
          [
           "juice_bottle/test/good",
           "good",
           0.7011481523513794
          ],
          [
           "juice_bottle/test/good",
           "good",
           0.857049822807312
          ],
          [
           "juice_bottle/test/good",
           "good",
           0.7787352800369263
          ],
          [
           "juice_bottle/test/good",
           "good",
           0.7648352384567261
          ],
          [
           "juice_bottle/test/good",
           "good",
           0.7611919045448303
          ],
          [
           "juice_bottle/test/good",
           "good",
           0.7639420032501221
          ],
          [
           "juice_bottle/test/good",
           "good",
           0.8166188597679138
          ],
          [
           "juice_bottle/test/good",
           "good",
           0.8448271751403809
          ],
          [
           "juice_bottle/test/good",
           "good",
           0.8127033710479736
          ],
          [
           "juice_bottle/test/good",
           "good",
           0.886928141117096
          ],
          [
           "juice_bottle/test/good",
           "good",
           0.7413695454597473
          ],
          [
           "juice_bottle/test/good",
           "good",
           0.718747615814209
          ],
          [
           "juice_bottle/test/good",
           "good",
           0.7710553407669067
          ],
          [
           "juice_bottle/test/good",
           "good",
           0.8173680901527405
          ],
          [
           "juice_bottle/test/good",
           "good",
           0.8390489816665649
          ],
          [
           "juice_bottle/test/good",
           "good",
           0.7627238035202026
          ],
          [
           "juice_bottle/test/good",
           "good",
           0.7394489049911499
          ],
          [
           "juice_bottle/test/good",
           "good",
           0.802647054195404
          ],
          [
           "juice_bottle/test/good",
           "good",
           0.7765592336654663
          ],
          [
           "juice_bottle/test/good",
           "good",
           0.8864754438400269
          ],
          [
           "juice_bottle/test/good",
           "good",
           0.7487117052078247
          ],
          [
           "juice_bottle/test/good",
           "good",
           0.9104447364807129
          ],
          [
           "juice_bottle/test/good",
           "good",
           0.774993896484375
          ],
          [
           "juice_bottle/test/good",
           "good",
           0.8039552569389343
          ],
          [
           "juice_bottle/test/good",
           "good",
           0.8812506794929504
          ],
          [
           "juice_bottle/test/good",
           "good",
           0.7737382650375366
          ],
          [
           "juice_bottle/test/good",
           "good",
           0.8424327373504639
          ],
          [
           "juice_bottle/test/good",
           "good",
           0.7133594751358032
          ],
          [
           "juice_bottle/test/good",
           "good",
           0.8943060636520386
          ],
          [
           "juice_bottle/test/good",
           "good",
           0.7737526893615723
          ],
          [
           "juice_bottle/test/good",
           "good",
           0.7352068424224854
          ],
          [
           "juice_bottle/test/good",
           "good",
           0.769766092300415
          ],
          [
           "juice_bottle/test/good",
           "good",
           0.7677536010742188
          ],
          [
           "juice_bottle/test/good",
           "good",
           0.7057534456253052
          ],
          [
           "juice_bottle/test/good",
           "good",
           0.7361119985580444
          ],
          [
           "juice_bottle/test/good",
           "good",
           0.7513279914855957
          ],
          [
           "juice_bottle/test/good",
           "good",
           0.768738865852356
          ],
          [
           "juice_bottle/test/good",
           "good",
           0.8213503360748291
          ],
          [
           "juice_bottle/test/good",
           "good",
           0.8141090869903564
          ],
          [
           "juice_bottle/test/good",
           "good",
           0.8157987594604492
          ],
          [
           "juice_bottle/test/good",
           "good",
           0.8354150652885437
          ],
          [
           "juice_bottle/test/good",
           "good",
           0.8173743486404419
          ],
          [
           "juice_bottle/test/good",
           "good",
           0.8603050708770752
          ],
          [
           "juice_bottle/test/good",
           "good",
           0.7194552421569824
          ],
          [
           "juice_bottle/test/good",
           "good",
           0.7989329695701599
          ],
          [
           "juice_bottle/test/good",
           "good",
           0.7465659379959106
          ],
          [
           "juice_bottle/test/good",
           "good",
           0.8783023953437805
          ],
          [
           "juice_bottle/test/good",
           "good",
           0.7918368577957153
          ],
          [
           "juice_bottle/test/good",
           "good",
           0.7598109245300293
          ],
          [
           "juice_bottle/test/good",
           "good",
           0.7229105234146118
          ],
          [
           "juice_bottle/test/good",
           "good",
           0.7459096312522888
          ],
          [
           "juice_bottle/test/good",
           "good",
           0.8462784290313721
          ],
          [
           "juice_bottle/test/good",
           "good",
           0.7221676111221313
          ],
          [
           "juice_bottle/test/good",
           "good",
           0.7035335302352905
          ],
          [
           "juice_bottle/test/good",
           "good",
           0.8111516237258911
          ],
          [
           "juice_bottle/test/good",
           "good",
           0.7429934740066528
          ],
          [
           "juice_bottle/test/good",
           "good",
           0.8095037937164307
          ],
          [
           "juice_bottle/test/good",
           "good",
           0.7279090881347656
          ],
          [
           "juice_bottle/test/good",
           "good",
           0.8173093795776367
          ],
          [
           "juice_bottle/test/good",
           "good",
           0.8051936626434326
          ],
          [
           "juice_bottle/test/good",
           "good",
           0.8359295129776001
          ],
          [
           "juice_bottle/test/good",
           "good",
           0.844143271446228
          ],
          [
           "juice_bottle/test/good",
           "good",
           0.786125659942627
          ],
          [
           "juice_bottle/test/good",
           "good",
           0.822830319404602
          ],
          [
           "juice_bottle/test/good",
           "good",
           0.7609368562698364
          ],
          [
           "juice_bottle/test/structural_anomalies",
           "structural_anomalies",
           0.7350385785102844
          ],
          [
           "juice_bottle/test/structural_anomalies",
           "structural_anomalies",
           0.7476868629455566
          ],
          [
           "juice_bottle/test/structural_anomalies",
           "structural_anomalies",
           0.8107874989509583
          ],
          [
           "juice_bottle/test/structural_anomalies",
           "structural_anomalies",
           0.8227933645248413
          ],
          [
           "juice_bottle/test/structural_anomalies",
           "structural_anomalies",
           0.7888180017471313
          ],
          [
           "juice_bottle/test/structural_anomalies",
           "structural_anomalies",
           0.7470325231552124
          ],
          [
           "juice_bottle/test/structural_anomalies",
           "structural_anomalies",
           0.8619638085365295
          ],
          [
           "juice_bottle/test/structural_anomalies",
           "structural_anomalies",
           0.7535060048103333
          ],
          [
           "juice_bottle/test/structural_anomalies",
           "structural_anomalies",
           0.9119711518287659
          ],
          [
           "juice_bottle/test/structural_anomalies",
           "structural_anomalies",
           0.7318650484085083
          ],
          [
           "juice_bottle/test/structural_anomalies",
           "structural_anomalies",
           0.7758203148841858
          ],
          [
           "juice_bottle/test/structural_anomalies",
           "structural_anomalies",
           0.8249256610870361
          ],
          [
           "juice_bottle/test/structural_anomalies",
           "structural_anomalies",
           0.8267189264297485
          ],
          [
           "juice_bottle/test/structural_anomalies",
           "structural_anomalies",
           0.785194993019104
          ],
          [
           "juice_bottle/test/structural_anomalies",
           "structural_anomalies",
           0.840424656867981
          ],
          [
           "juice_bottle/test/structural_anomalies",
           "structural_anomalies",
           0.770004153251648
          ],
          [
           "juice_bottle/test/structural_anomalies",
           "structural_anomalies",
           0.8193405270576477
          ],
          [
           "juice_bottle/test/structural_anomalies",
           "structural_anomalies",
           0.7715455293655396
          ],
          [
           "juice_bottle/test/structural_anomalies",
           "structural_anomalies",
           0.830912709236145
          ],
          [
           "juice_bottle/test/structural_anomalies",
           "structural_anomalies",
           0.8692300319671631
          ],
          [
           "juice_bottle/test/structural_anomalies",
           "structural_anomalies",
           0.808634877204895
          ],
          [
           "juice_bottle/test/structural_anomalies",
           "structural_anomalies",
           0.8272809982299805
          ],
          [
           "juice_bottle/test/structural_anomalies",
           "structural_anomalies",
           0.7483643293380737
          ],
          [
           "juice_bottle/test/structural_anomalies",
           "structural_anomalies",
           0.7571654915809631
          ],
          [
           "juice_bottle/test/structural_anomalies",
           "structural_anomalies",
           0.8773602247238159
          ],
          [
           "juice_bottle/test/structural_anomalies",
           "structural_anomalies",
           0.8652416467666626
          ],
          [
           "juice_bottle/test/structural_anomalies",
           "structural_anomalies",
           0.7988787293434143
          ],
          [
           "juice_bottle/test/structural_anomalies",
           "structural_anomalies",
           0.8629721999168396
          ],
          [
           "juice_bottle/test/structural_anomalies",
           "structural_anomalies",
           0.7977466583251953
          ],
          [
           "juice_bottle/test/structural_anomalies",
           "structural_anomalies",
           0.8497555255889893
          ],
          [
           "juice_bottle/test/structural_anomalies",
           "structural_anomalies",
           0.733353316783905
          ],
          [
           "juice_bottle/test/structural_anomalies",
           "structural_anomalies",
           0.7448998689651489
          ],
          [
           "juice_bottle/test/structural_anomalies",
           "structural_anomalies",
           0.7646028995513916
          ],
          [
           "juice_bottle/test/structural_anomalies",
           "structural_anomalies",
           0.8280285596847534
          ],
          [
           "juice_bottle/test/structural_anomalies",
           "structural_anomalies",
           0.7566646933555603
          ],
          [
           "juice_bottle/test/structural_anomalies",
           "structural_anomalies",
           0.7747418880462646
          ],
          [
           "juice_bottle/test/structural_anomalies",
           "structural_anomalies",
           0.8225805759429932
          ],
          [
           "juice_bottle/test/structural_anomalies",
           "structural_anomalies",
           0.7825906276702881
          ],
          [
           "juice_bottle/test/structural_anomalies",
           "structural_anomalies",
           0.8028766512870789
          ],
          [
           "juice_bottle/test/structural_anomalies",
           "structural_anomalies",
           0.7023173570632935
          ],
          [
           "juice_bottle/test/structural_anomalies",
           "structural_anomalies",
           0.7630234956741333
          ],
          [
           "juice_bottle/test/structural_anomalies",
           "structural_anomalies",
           0.8560233116149902
          ],
          [
           "juice_bottle/test/structural_anomalies",
           "structural_anomalies",
           0.7849180698394775
          ],
          [
           "juice_bottle/test/structural_anomalies",
           "structural_anomalies",
           0.7989429235458374
          ],
          [
           "juice_bottle/test/structural_anomalies",
           "structural_anomalies",
           0.7814401388168335
          ],
          [
           "juice_bottle/test/structural_anomalies",
           "structural_anomalies",
           0.7965003252029419
          ],
          [
           "juice_bottle/test/structural_anomalies",
           "structural_anomalies",
           0.8375869989395142
          ],
          [
           "juice_bottle/test/structural_anomalies",
           "structural_anomalies",
           0.7661806344985962
          ],
          [
           "juice_bottle/test/structural_anomalies",
           "structural_anomalies",
           0.7997115850448608
          ],
          [
           "juice_bottle/test/structural_anomalies",
           "structural_anomalies",
           0.7960682511329651
          ],
          [
           "juice_bottle/test/structural_anomalies",
           "structural_anomalies",
           0.7024259567260742
          ],
          [
           "juice_bottle/test/structural_anomalies",
           "structural_anomalies",
           0.8366380333900452
          ],
          [
           "juice_bottle/test/structural_anomalies",
           "structural_anomalies",
           0.7300500869750977
          ],
          [
           "juice_bottle/test/structural_anomalies",
           "structural_anomalies",
           0.8131014108657837
          ],
          [
           "juice_bottle/test/structural_anomalies",
           "structural_anomalies",
           0.8190023899078369
          ],
          [
           "juice_bottle/test/structural_anomalies",
           "structural_anomalies",
           0.7674832940101624
          ],
          [
           "juice_bottle/test/structural_anomalies",
           "structural_anomalies",
           0.778946042060852
          ],
          [
           "juice_bottle/test/structural_anomalies",
           "structural_anomalies",
           0.7890301942825317
          ],
          [
           "juice_bottle/test/structural_anomalies",
           "structural_anomalies",
           0.8815664649009705
          ],
          [
           "juice_bottle/test/structural_anomalies",
           "structural_anomalies",
           0.8425086140632629
          ],
          [
           "juice_bottle/test/structural_anomalies",
           "structural_anomalies",
           0.7787911891937256
          ],
          [
           "juice_bottle/test/structural_anomalies",
           "structural_anomalies",
           0.7619775533676147
          ],
          [
           "juice_bottle/test/structural_anomalies",
           "structural_anomalies",
           0.7122547030448914
          ],
          [
           "juice_bottle/test/structural_anomalies",
           "structural_anomalies",
           0.796904444694519
          ],
          [
           "juice_bottle/test/structural_anomalies",
           "structural_anomalies",
           0.7843350768089294
          ],
          [
           "juice_bottle/test/structural_anomalies",
           "structural_anomalies",
           0.7926523685455322
          ],
          [
           "juice_bottle/test/structural_anomalies",
           "structural_anomalies",
           0.7921410202980042
          ],
          [
           "juice_bottle/test/structural_anomalies",
           "structural_anomalies",
           0.8186404705047607
          ],
          [
           "juice_bottle/test/structural_anomalies",
           "structural_anomalies",
           0.8384832143783569
          ],
          [
           "juice_bottle/test/structural_anomalies",
           "structural_anomalies",
           0.736426591873169
          ],
          [
           "juice_bottle/test/structural_anomalies",
           "structural_anomalies",
           0.7786117792129517
          ],
          [
           "juice_bottle/test/structural_anomalies",
           "structural_anomalies",
           0.7017675638198853
          ],
          [
           "juice_bottle/test/structural_anomalies",
           "structural_anomalies",
           0.808564305305481
          ],
          [
           "juice_bottle/test/structural_anomalies",
           "structural_anomalies",
           0.7986807823181152
          ],
          [
           "juice_bottle/test/structural_anomalies",
           "structural_anomalies",
           0.7288371324539185
          ],
          [
           "juice_bottle/test/structural_anomalies",
           "structural_anomalies",
           0.7359867095947266
          ],
          [
           "juice_bottle/test/structural_anomalies",
           "structural_anomalies",
           0.7008688449859619
          ],
          [
           "juice_bottle/test/structural_anomalies",
           "structural_anomalies",
           0.7722105979919434
          ],
          [
           "juice_bottle/test/structural_anomalies",
           "structural_anomalies",
           0.8376632928848267
          ],
          [
           "juice_bottle/test/structural_anomalies",
           "structural_anomalies",
           0.7833864688873291
          ],
          [
           "juice_bottle/test/logical_anomalies",
           "logical_anomalies",
           0.8228627443313599
          ],
          [
           "juice_bottle/test/logical_anomalies",
           "logical_anomalies",
           0.8644680976867676
          ],
          [
           "juice_bottle/test/logical_anomalies",
           "logical_anomalies",
           0.707789957523346
          ],
          [
           "juice_bottle/test/logical_anomalies",
           "logical_anomalies",
           0.8292849063873291
          ],
          [
           "juice_bottle/test/logical_anomalies",
           "logical_anomalies",
           0.9051568508148193
          ],
          [
           "juice_bottle/test/logical_anomalies",
           "logical_anomalies",
           0.8297340273857117
          ],
          [
           "juice_bottle/test/logical_anomalies",
           "logical_anomalies",
           0.765623152256012
          ],
          [
           "juice_bottle/test/logical_anomalies",
           "logical_anomalies",
           0.8542712926864624
          ],
          [
           "juice_bottle/test/logical_anomalies",
           "logical_anomalies",
           0.760383665561676
          ],
          [
           "juice_bottle/test/logical_anomalies",
           "logical_anomalies",
           0.8479050397872925
          ],
          [
           "juice_bottle/test/logical_anomalies",
           "logical_anomalies",
           0.7273272275924683
          ],
          [
           "juice_bottle/test/logical_anomalies",
           "logical_anomalies",
           0.8883637189865112
          ],
          [
           "juice_bottle/test/logical_anomalies",
           "logical_anomalies",
           0.8418890237808228
          ],
          [
           "juice_bottle/test/logical_anomalies",
           "logical_anomalies",
           0.8825072050094604
          ],
          [
           "juice_bottle/test/logical_anomalies",
           "logical_anomalies",
           0.8283641338348389
          ],
          [
           "juice_bottle/test/logical_anomalies",
           "logical_anomalies",
           0.8746663928031921
          ],
          [
           "juice_bottle/test/logical_anomalies",
           "logical_anomalies",
           0.8006817102432251
          ],
          [
           "juice_bottle/test/logical_anomalies",
           "logical_anomalies",
           0.8900014758110046
          ],
          [
           "juice_bottle/test/logical_anomalies",
           "logical_anomalies",
           0.7677148580551147
          ],
          [
           "juice_bottle/test/logical_anomalies",
           "logical_anomalies",
           0.7666726112365723
          ],
          [
           "juice_bottle/test/logical_anomalies",
           "logical_anomalies",
           0.8556230068206787
          ],
          [
           "juice_bottle/test/logical_anomalies",
           "logical_anomalies",
           0.7776708602905273
          ],
          [
           "juice_bottle/test/logical_anomalies",
           "logical_anomalies",
           0.7246903777122498
          ],
          [
           "juice_bottle/test/logical_anomalies",
           "logical_anomalies",
           0.7789627313613892
          ],
          [
           "juice_bottle/test/logical_anomalies",
           "logical_anomalies",
           0.762833833694458
          ],
          [
           "juice_bottle/test/logical_anomalies",
           "logical_anomalies",
           0.7321447134017944
          ],
          [
           "juice_bottle/test/logical_anomalies",
           "logical_anomalies",
           0.8812827467918396
          ],
          [
           "juice_bottle/test/logical_anomalies",
           "logical_anomalies",
           0.8232384920120239
          ],
          [
           "juice_bottle/test/logical_anomalies",
           "logical_anomalies",
           0.750901460647583
          ],
          [
           "juice_bottle/test/logical_anomalies",
           "logical_anomalies",
           0.7591480016708374
          ],
          [
           "juice_bottle/test/logical_anomalies",
           "logical_anomalies",
           0.7934280633926392
          ],
          [
           "juice_bottle/test/logical_anomalies",
           "logical_anomalies",
           0.7093082070350647
          ],
          [
           "juice_bottle/test/logical_anomalies",
           "logical_anomalies",
           0.8306092023849487
          ],
          [
           "juice_bottle/test/logical_anomalies",
           "logical_anomalies",
           0.7128969430923462
          ],
          [
           "juice_bottle/test/logical_anomalies",
           "logical_anomalies",
           0.8351545333862305
          ],
          [
           "juice_bottle/test/logical_anomalies",
           "logical_anomalies",
           0.7054867744445801
          ],
          [
           "juice_bottle/test/logical_anomalies",
           "logical_anomalies",
           0.7128437757492065
          ],
          [
           "juice_bottle/test/logical_anomalies",
           "logical_anomalies",
           0.7656705379486084
          ],
          [
           "juice_bottle/test/logical_anomalies",
           "logical_anomalies",
           0.7707592248916626
          ],
          [
           "juice_bottle/test/logical_anomalies",
           "logical_anomalies",
           0.7072464823722839
          ],
          [
           "juice_bottle/test/logical_anomalies",
           "logical_anomalies",
           0.7359532713890076
          ],
          [
           "juice_bottle/test/logical_anomalies",
           "logical_anomalies",
           0.8057328462600708
          ],
          [
           "juice_bottle/test/logical_anomalies",
           "logical_anomalies",
           0.7064687013626099
          ],
          [
           "juice_bottle/test/logical_anomalies",
           "logical_anomalies",
           0.7880780100822449
          ],
          [
           "juice_bottle/test/logical_anomalies",
           "logical_anomalies",
           0.7345081567764282
          ],
          [
           "juice_bottle/test/logical_anomalies",
           "logical_anomalies",
           0.7696244716644287
          ],
          [
           "juice_bottle/test/logical_anomalies",
           "logical_anomalies",
           0.7699705958366394
          ],
          [
           "juice_bottle/test/logical_anomalies",
           "logical_anomalies",
           0.7688031792640686
          ],
          [
           "juice_bottle/test/logical_anomalies",
           "logical_anomalies",
           0.7184183597564697
          ],
          [
           "juice_bottle/test/logical_anomalies",
           "logical_anomalies",
           0.733283519744873
          ],
          [
           "juice_bottle/test/logical_anomalies",
           "logical_anomalies",
           0.7953728437423706
          ],
          [
           "juice_bottle/test/logical_anomalies",
           "logical_anomalies",
           0.8722783327102661
          ],
          [
           "juice_bottle/test/logical_anomalies",
           "logical_anomalies",
           0.8605555891990662
          ],
          [
           "juice_bottle/test/logical_anomalies",
           "logical_anomalies",
           0.8568740487098694
          ],
          [
           "juice_bottle/test/logical_anomalies",
           "logical_anomalies",
           0.8823642730712891
          ],
          [
           "juice_bottle/test/logical_anomalies",
           "logical_anomalies",
           0.7763165235519409
          ],
          [
           "juice_bottle/test/logical_anomalies",
           "logical_anomalies",
           0.8180313110351562
          ],
          [
           "juice_bottle/test/logical_anomalies",
           "logical_anomalies",
           0.8575052618980408
          ],
          [
           "juice_bottle/test/logical_anomalies",
           "logical_anomalies",
           0.8962438106536865
          ],
          [
           "juice_bottle/test/logical_anomalies",
           "logical_anomalies",
           0.8324192762374878
          ],
          [
           "juice_bottle/test/logical_anomalies",
           "logical_anomalies",
           0.8296500444412231
          ],
          [
           "juice_bottle/test/logical_anomalies",
           "logical_anomalies",
           0.8654297590255737
          ],
          [
           "juice_bottle/test/logical_anomalies",
           "logical_anomalies",
           0.8465120792388916
          ],
          [
           "juice_bottle/test/logical_anomalies",
           "logical_anomalies",
           0.9072407484054565
          ],
          [
           "juice_bottle/test/logical_anomalies",
           "logical_anomalies",
           0.839439332485199
          ],
          [
           "juice_bottle/test/logical_anomalies",
           "logical_anomalies",
           0.8061445951461792
          ],
          [
           "juice_bottle/test/logical_anomalies",
           "logical_anomalies",
           0.7987655401229858
          ],
          [
           "juice_bottle/test/logical_anomalies",
           "logical_anomalies",
           0.8189846873283386
          ],
          [
           "juice_bottle/test/logical_anomalies",
           "logical_anomalies",
           0.7698509693145752
          ],
          [
           "juice_bottle/test/logical_anomalies",
           "logical_anomalies",
           0.7062498331069946
          ],
          [
           "juice_bottle/test/logical_anomalies",
           "logical_anomalies",
           0.7212905883789062
          ],
          [
           "juice_bottle/test/logical_anomalies",
           "logical_anomalies",
           0.7020745277404785
          ],
          [
           "juice_bottle/test/logical_anomalies",
           "logical_anomalies",
           0.7537128925323486
          ],
          [
           "juice_bottle/test/logical_anomalies",
           "logical_anomalies",
           0.8734827041625977
          ],
          [
           "juice_bottle/test/logical_anomalies",
           "logical_anomalies",
           0.7244306802749634
          ],
          [
           "juice_bottle/test/logical_anomalies",
           "logical_anomalies",
           0.7058748006820679
          ],
          [
           "juice_bottle/test/logical_anomalies",
           "logical_anomalies",
           0.8310281038284302
          ],
          [
           "juice_bottle/test/logical_anomalies",
           "logical_anomalies",
           0.7330811023712158
          ],
          [
           "juice_bottle/test/logical_anomalies",
           "logical_anomalies",
           0.8190985918045044
          ],
          [
           "juice_bottle/test/logical_anomalies",
           "logical_anomalies",
           0.7822920083999634
          ],
          [
           "juice_bottle/test/logical_anomalies",
           "logical_anomalies",
           0.7654450535774231
          ],
          [
           "juice_bottle/test/logical_anomalies",
           "logical_anomalies",
           0.8025498390197754
          ],
          [
           "juice_bottle/test/logical_anomalies",
           "logical_anomalies",
           0.7989530563354492
          ],
          [
           "juice_bottle/test/logical_anomalies",
           "logical_anomalies",
           0.8146991729736328
          ],
          [
           "juice_bottle/test/logical_anomalies",
           "logical_anomalies",
           0.8712548017501831
          ],
          [
           "juice_bottle/test/logical_anomalies",
           "logical_anomalies",
           0.8678591251373291
          ],
          [
           "juice_bottle/test/logical_anomalies",
           "logical_anomalies",
           0.826422393321991
          ],
          [
           "juice_bottle/test/logical_anomalies",
           "logical_anomalies",
           0.7888634204864502
          ],
          [
           "juice_bottle/test/logical_anomalies",
           "logical_anomalies",
           0.8585178852081299
          ],
          [
           "juice_bottle/test/logical_anomalies",
           "logical_anomalies",
           0.7839727401733398
          ],
          [
           "juice_bottle/test/logical_anomalies",
           "logical_anomalies",
           0.7290408611297607
          ],
          [
           "juice_bottle/test/logical_anomalies",
           "logical_anomalies",
           0.7091526389122009
          ],
          [
           "juice_bottle/test/logical_anomalies",
           "logical_anomalies",
           0.9242169857025146
          ],
          [
           "juice_bottle/test/logical_anomalies",
           "logical_anomalies",
           0.7359631061553955
          ],
          [
           "juice_bottle/test/logical_anomalies",
           "logical_anomalies",
           0.748133659362793
          ],
          [
           "juice_bottle/test/logical_anomalies",
           "logical_anomalies",
           0.7253186702728271
          ],
          [
           "juice_bottle/test/logical_anomalies",
           "logical_anomalies",
           0.7912077903747559
          ],
          [
           "juice_bottle/test/logical_anomalies",
           "logical_anomalies",
           0.7764937877655029
          ],
          [
           "juice_bottle/test/logical_anomalies",
           "logical_anomalies",
           0.7545257806777954
          ],
          [
           "juice_bottle/test/logical_anomalies",
           "logical_anomalies",
           0.7204864025115967
          ],
          [
           "juice_bottle/test/logical_anomalies",
           "logical_anomalies",
           0.7770395278930664
          ],
          [
           "juice_bottle/test/logical_anomalies",
           "logical_anomalies",
           0.9105628728866577
          ],
          [
           "juice_bottle/test/logical_anomalies",
           "logical_anomalies",
           0.8349599838256836
          ],
          [
           "juice_bottle/test/logical_anomalies",
           "logical_anomalies",
           0.7649942636489868
          ],
          [
           "juice_bottle/test/logical_anomalies",
           "logical_anomalies",
           0.7063995599746704
          ],
          [
           "juice_bottle/test/logical_anomalies",
           "logical_anomalies",
           0.8546664118766785
          ],
          [
           "juice_bottle/test/logical_anomalies",
           "logical_anomalies",
           0.8572366237640381
          ],
          [
           "juice_bottle/test/logical_anomalies",
           "logical_anomalies",
           0.9256469011306763
          ],
          [
           "juice_bottle/test/logical_anomalies",
           "logical_anomalies",
           0.8860145211219788
          ],
          [
           "juice_bottle/test/logical_anomalies",
           "logical_anomalies",
           0.8570526242256165
          ],
          [
           "juice_bottle/test/logical_anomalies",
           "logical_anomalies",
           0.806894063949585
          ],
          [
           "juice_bottle/test/logical_anomalies",
           "logical_anomalies",
           0.9389569163322449
          ],
          [
           "juice_bottle/test/logical_anomalies",
           "logical_anomalies",
           0.8211114406585693
          ],
          [
           "juice_bottle/test/logical_anomalies",
           "logical_anomalies",
           0.8711658716201782
          ],
          [
           "juice_bottle/test/logical_anomalies",
           "logical_anomalies",
           0.8188057541847229
          ],
          [
           "juice_bottle/test/logical_anomalies",
           "logical_anomalies",
           0.8725030422210693
          ],
          [
           "juice_bottle/test/logical_anomalies",
           "logical_anomalies",
           0.8714887499809265
          ],
          [
           "juice_bottle/test/logical_anomalies",
           "logical_anomalies",
           0.7220852971076965
          ],
          [
           "juice_bottle/test/logical_anomalies",
           "logical_anomalies",
           0.7940922975540161
          ],
          [
           "juice_bottle/test/logical_anomalies",
           "logical_anomalies",
           0.8080852627754211
          ],
          [
           "juice_bottle/test/logical_anomalies",
           "logical_anomalies",
           0.8013659715652466
          ],
          [
           "juice_bottle/test/logical_anomalies",
           "logical_anomalies",
           0.8325208425521851
          ],
          [
           "juice_bottle/test/logical_anomalies",
           "logical_anomalies",
           0.7673101425170898
          ],
          [
           "juice_bottle/test/logical_anomalies",
           "logical_anomalies",
           0.7274268865585327
          ],
          [
           "juice_bottle/test/logical_anomalies",
           "logical_anomalies",
           0.8019687533378601
          ],
          [
           "juice_bottle/test/logical_anomalies",
           "logical_anomalies",
           0.7938506007194519
          ],
          [
           "juice_bottle/test/logical_anomalies",
           "logical_anomalies",
           0.7150355577468872
          ],
          [
           "juice_bottle/test/logical_anomalies",
           "logical_anomalies",
           0.7719026207923889
          ],
          [
           "juice_bottle/test/logical_anomalies",
           "logical_anomalies",
           0.7916303873062134
          ],
          [
           "splicing_connectors/test/good",
           "good",
           0.8870266079902649
          ],
          [
           "splicing_connectors/test/good",
           "good",
           0.8167417049407959
          ],
          [
           "splicing_connectors/test/good",
           "good",
           0.7015101909637451
          ],
          [
           "splicing_connectors/test/good",
           "good",
           0.7770412564277649
          ],
          [
           "splicing_connectors/test/good",
           "good",
           0.8419495820999146
          ],
          [
           "splicing_connectors/test/good",
           "good",
           0.8162996768951416
          ],
          [
           "splicing_connectors/test/good",
           "good",
           0.8038451671600342
          ],
          [
           "splicing_connectors/test/good",
           "good",
           0.7635352611541748
          ],
          [
           "splicing_connectors/test/good",
           "good",
           0.8215739727020264
          ],
          [
           "splicing_connectors/test/good",
           "good",
           0.8287293314933777
          ],
          [
           "splicing_connectors/test/good",
           "good",
           0.8495409488677979
          ],
          [
           "splicing_connectors/test/good",
           "good",
           0.7998093366622925
          ],
          [
           "splicing_connectors/test/good",
           "good",
           0.7469086647033691
          ],
          [
           "splicing_connectors/test/good",
           "good",
           0.8373048305511475
          ],
          [
           "splicing_connectors/test/good",
           "good",
           0.7812138795852661
          ],
          [
           "splicing_connectors/test/good",
           "good",
           0.7355013489723206
          ],
          [
           "splicing_connectors/test/good",
           "good",
           0.7339309453964233
          ],
          [
           "splicing_connectors/test/good",
           "good",
           0.870484471321106
          ],
          [
           "splicing_connectors/test/good",
           "good",
           0.7918131947517395
          ],
          [
           "splicing_connectors/test/good",
           "good",
           0.9019930362701416
          ],
          [
           "splicing_connectors/test/good",
           "good",
           0.8483728170394897
          ],
          [
           "splicing_connectors/test/good",
           "good",
           0.7636135816574097
          ],
          [
           "splicing_connectors/test/good",
           "good",
           0.8012996315956116
          ],
          [
           "splicing_connectors/test/good",
           "good",
           0.8567796349525452
          ],
          [
           "splicing_connectors/test/good",
           "good",
           0.8698784112930298
          ],
          [
           "splicing_connectors/test/good",
           "good",
           0.7067996263504028
          ],
          [
           "splicing_connectors/test/good",
           "good",
           0.8040112257003784
          ],
          [
           "splicing_connectors/test/good",
           "good",
           0.704329252243042
          ],
          [
           "splicing_connectors/test/good",
           "good",
           0.7114440202713013
          ],
          [
           "splicing_connectors/test/good",
           "good",
           0.8700367212295532
          ],
          [
           "splicing_connectors/test/good",
           "good",
           0.7530171871185303
          ],
          [
           "splicing_connectors/test/good",
           "good",
           0.7662098407745361
          ],
          [
           "splicing_connectors/test/good",
           "good",
           0.8931072354316711
          ],
          [
           "splicing_connectors/test/good",
           "good",
           0.7899411916732788
          ],
          [
           "splicing_connectors/test/good",
           "good",
           0.7025030255317688
          ],
          [
           "splicing_connectors/test/good",
           "good",
           0.7726132869720459
          ],
          [
           "splicing_connectors/test/good",
           "good",
           0.7955141067504883
          ],
          [
           "splicing_connectors/test/good",
           "good",
           0.8799597024917603
          ],
          [
           "splicing_connectors/test/good",
           "good",
           0.8192315101623535
          ],
          [
           "splicing_connectors/test/good",
           "good",
           0.8513928055763245
          ],
          [
           "splicing_connectors/test/good",
           "good",
           0.816586434841156
          ],
          [
           "splicing_connectors/test/good",
           "good",
           0.8527746200561523
          ],
          [
           "splicing_connectors/test/good",
           "good",
           0.7688167095184326
          ],
          [
           "splicing_connectors/test/good",
           "good",
           0.8525406718254089
          ],
          [
           "splicing_connectors/test/good",
           "good",
           0.7185739278793335
          ],
          [
           "splicing_connectors/test/good",
           "good",
           0.784293532371521
          ],
          [
           "splicing_connectors/test/good",
           "good",
           0.8835346698760986
          ],
          [
           "splicing_connectors/test/good",
           "good",
           0.8540265560150146
          ],
          [
           "splicing_connectors/test/good",
           "good",
           0.7087255716323853
          ],
          [
           "splicing_connectors/test/good",
           "good",
           0.7766749858856201
          ],
          [
           "splicing_connectors/test/good",
           "good",
           0.7894335389137268
          ],
          [
           "splicing_connectors/test/good",
           "good",
           0.8326537609100342
          ],
          [
           "splicing_connectors/test/good",
           "good",
           0.8138484358787537
          ],
          [
           "splicing_connectors/test/good",
           "good",
           0.754581093788147
          ],
          [
           "splicing_connectors/test/good",
           "good",
           0.8246804475784302
          ],
          [
           "splicing_connectors/test/good",
           "good",
           0.7461915612220764
          ],
          [
           "splicing_connectors/test/good",
           "good",
           0.7092157602310181
          ],
          [
           "splicing_connectors/test/good",
           "good",
           0.8434482216835022
          ],
          [
           "splicing_connectors/test/good",
           "good",
           0.7718585729598999
          ],
          [
           "splicing_connectors/test/good",
           "good",
           0.85920250415802
          ],
          [
           "splicing_connectors/test/good",
           "good",
           0.8102869987487793
          ],
          [
           "splicing_connectors/test/good",
           "good",
           0.8157365322113037
          ],
          [
           "splicing_connectors/test/good",
           "good",
           0.7034876346588135
          ],
          [
           "splicing_connectors/test/good",
           "good",
           0.8312700986862183
          ],
          [
           "splicing_connectors/test/good",
           "good",
           0.7756947875022888
          ],
          [
           "splicing_connectors/test/good",
           "good",
           0.7883329391479492
          ],
          [
           "splicing_connectors/test/good",
           "good",
           0.827900767326355
          ],
          [
           "splicing_connectors/test/good",
           "good",
           0.8174740076065063
          ],
          [
           "splicing_connectors/test/good",
           "good",
           0.7907201647758484
          ],
          [
           "splicing_connectors/test/good",
           "good",
           0.7345332503318787
          ],
          [
           "splicing_connectors/test/good",
           "good",
           0.8460503220558167
          ],
          [
           "splicing_connectors/test/good",
           "good",
           0.8553227186203003
          ],
          [
           "splicing_connectors/test/good",
           "good",
           0.8596773147583008
          ],
          [
           "splicing_connectors/test/good",
           "good",
           0.7521427869796753
          ],
          [
           "splicing_connectors/test/good",
           "good",
           0.7222757339477539
          ],
          [
           "splicing_connectors/test/good",
           "good",
           0.7919673323631287
          ],
          [
           "splicing_connectors/test/good",
           "good",
           0.8214364051818848
          ],
          [
           "splicing_connectors/test/good",
           "good",
           0.728789210319519
          ],
          [
           "splicing_connectors/test/good",
           "good",
           0.7117696404457092
          ],
          [
           "splicing_connectors/test/good",
           "good",
           0.8108357191085815
          ],
          [
           "splicing_connectors/test/good",
           "good",
           0.7675204873085022
          ],
          [
           "splicing_connectors/test/good",
           "good",
           0.8434231281280518
          ],
          [
           "splicing_connectors/test/good",
           "good",
           0.7844710350036621
          ],
          [
           "splicing_connectors/test/good",
           "good",
           0.868706226348877
          ],
          [
           "splicing_connectors/test/good",
           "good",
           0.7533577680587769
          ],
          [
           "splicing_connectors/test/good",
           "good",
           0.8449511528015137
          ],
          [
           "splicing_connectors/test/good",
           "good",
           0.7542953491210938
          ],
          [
           "splicing_connectors/test/good",
           "good",
           0.7228735089302063
          ],
          [
           "splicing_connectors/test/good",
           "good",
           0.885414719581604
          ],
          [
           "splicing_connectors/test/good",
           "good",
           0.860607385635376
          ],
          [
           "splicing_connectors/test/good",
           "good",
           0.7834213972091675
          ],
          [
           "splicing_connectors/test/good",
           "good",
           0.8470008969306946
          ],
          [
           "splicing_connectors/test/good",
           "good",
           0.7620240449905396
          ],
          [
           "splicing_connectors/test/good",
           "good",
           0.8337119817733765
          ],
          [
           "splicing_connectors/test/structural_anomalies",
           "structural_anomalies",
           0.7319668531417847
          ],
          [
           "splicing_connectors/test/structural_anomalies",
           "structural_anomalies",
           0.7819679975509644
          ],
          [
           "splicing_connectors/test/structural_anomalies",
           "structural_anomalies",
           0.8248013257980347
          ],
          [
           "splicing_connectors/test/structural_anomalies",
           "structural_anomalies",
           0.7598857283592224
          ],
          [
           "splicing_connectors/test/structural_anomalies",
           "structural_anomalies",
           0.8702571392059326
          ],
          [
           "splicing_connectors/test/structural_anomalies",
           "structural_anomalies",
           0.8554429411888123
          ],
          [
           "splicing_connectors/test/structural_anomalies",
           "structural_anomalies",
           0.8899271488189697
          ],
          [
           "splicing_connectors/test/structural_anomalies",
           "structural_anomalies",
           0.8384838700294495
          ],
          [
           "splicing_connectors/test/structural_anomalies",
           "structural_anomalies",
           0.8309332132339478
          ],
          [
           "splicing_connectors/test/structural_anomalies",
           "structural_anomalies",
           0.8784058094024658
          ],
          [
           "splicing_connectors/test/structural_anomalies",
           "structural_anomalies",
           0.8711130619049072
          ],
          [
           "splicing_connectors/test/structural_anomalies",
           "structural_anomalies",
           0.8216861486434937
          ],
          [
           "splicing_connectors/test/structural_anomalies",
           "structural_anomalies",
           0.7396384477615356
          ],
          [
           "splicing_connectors/test/structural_anomalies",
           "structural_anomalies",
           0.734808087348938
          ],
          [
           "splicing_connectors/test/structural_anomalies",
           "structural_anomalies",
           0.8744487166404724
          ],
          [
           "splicing_connectors/test/structural_anomalies",
           "structural_anomalies",
           0.8345085978507996
          ],
          [
           "splicing_connectors/test/structural_anomalies",
           "structural_anomalies",
           0.7074081897735596
          ],
          [
           "splicing_connectors/test/structural_anomalies",
           "structural_anomalies",
           0.7200837135314941
          ],
          [
           "splicing_connectors/test/structural_anomalies",
           "structural_anomalies",
           0.7809848785400391
          ],
          [
           "splicing_connectors/test/structural_anomalies",
           "structural_anomalies",
           0.7176387310028076
          ],
          [
           "splicing_connectors/test/structural_anomalies",
           "structural_anomalies",
           0.7143959999084473
          ],
          [
           "splicing_connectors/test/structural_anomalies",
           "structural_anomalies",
           0.7201700806617737
          ],
          [
           "splicing_connectors/test/structural_anomalies",
           "structural_anomalies",
           0.7840994000434875
          ],
          [
           "splicing_connectors/test/structural_anomalies",
           "structural_anomalies",
           0.7191901206970215
          ],
          [
           "splicing_connectors/test/structural_anomalies",
           "structural_anomalies",
           0.8112087249755859
          ],
          [
           "splicing_connectors/test/structural_anomalies",
           "structural_anomalies",
           0.7811667323112488
          ],
          [
           "splicing_connectors/test/structural_anomalies",
           "structural_anomalies",
           0.79925537109375
          ],
          [
           "splicing_connectors/test/structural_anomalies",
           "structural_anomalies",
           0.7687391042709351
          ],
          [
           "splicing_connectors/test/structural_anomalies",
           "structural_anomalies",
           0.7169932126998901
          ],
          [
           "splicing_connectors/test/structural_anomalies",
           "structural_anomalies",
           0.7686337232589722
          ],
          [
           "splicing_connectors/test/structural_anomalies",
           "structural_anomalies",
           0.7833256125450134
          ],
          [
           "splicing_connectors/test/structural_anomalies",
           "structural_anomalies",
           0.7967860698699951
          ],
          [
           "splicing_connectors/test/structural_anomalies",
           "structural_anomalies",
           0.8591097593307495
          ],
          [
           "splicing_connectors/test/structural_anomalies",
           "structural_anomalies",
           0.7436280250549316
          ],
          [
           "splicing_connectors/test/structural_anomalies",
           "structural_anomalies",
           0.7464021444320679
          ],
          [
           "splicing_connectors/test/structural_anomalies",
           "structural_anomalies",
           0.8739127516746521
          ],
          [
           "splicing_connectors/test/structural_anomalies",
           "structural_anomalies",
           0.7547097206115723
          ],
          [
           "splicing_connectors/test/structural_anomalies",
           "structural_anomalies",
           0.7004073858261108
          ],
          [
           "splicing_connectors/test/structural_anomalies",
           "structural_anomalies",
           0.7122816443443298
          ],
          [
           "splicing_connectors/test/structural_anomalies",
           "structural_anomalies",
           0.8333966732025146
          ],
          [
           "splicing_connectors/test/structural_anomalies",
           "structural_anomalies",
           0.719881534576416
          ],
          [
           "splicing_connectors/test/structural_anomalies",
           "structural_anomalies",
           0.740615725517273
          ],
          [
           "splicing_connectors/test/structural_anomalies",
           "structural_anomalies",
           0.8499912619590759
          ],
          [
           "splicing_connectors/test/structural_anomalies",
           "structural_anomalies",
           0.7083779573440552
          ],
          [
           "splicing_connectors/test/structural_anomalies",
           "structural_anomalies",
           0.7295717000961304
          ],
          [
           "splicing_connectors/test/structural_anomalies",
           "structural_anomalies",
           0.8363730907440186
          ],
          [
           "splicing_connectors/test/structural_anomalies",
           "structural_anomalies",
           0.7182884216308594
          ],
          [
           "splicing_connectors/test/logical_anomalies",
           "logical_anomalies",
           0.7403917908668518
          ],
          [
           "splicing_connectors/test/logical_anomalies",
           "logical_anomalies",
           0.7971611022949219
          ],
          [
           "splicing_connectors/test/logical_anomalies",
           "logical_anomalies",
           0.8326284885406494
          ],
          [
           "splicing_connectors/test/logical_anomalies",
           "logical_anomalies",
           0.8530991077423096
          ],
          [
           "splicing_connectors/test/logical_anomalies",
           "logical_anomalies",
           0.8395085334777832
          ],
          [
           "splicing_connectors/test/logical_anomalies",
           "logical_anomalies",
           0.8471696376800537
          ],
          [
           "splicing_connectors/test/logical_anomalies",
           "logical_anomalies",
           0.8323616981506348
          ],
          [
           "splicing_connectors/test/logical_anomalies",
           "logical_anomalies",
           0.7190486192703247
          ],
          [
           "splicing_connectors/test/logical_anomalies",
           "logical_anomalies",
           0.8401603102684021
          ],
          [
           "splicing_connectors/test/logical_anomalies",
           "logical_anomalies",
           0.8500377535820007
          ],
          [
           "splicing_connectors/test/logical_anomalies",
           "logical_anomalies",
           0.7470722198486328
          ],
          [
           "splicing_connectors/test/logical_anomalies",
           "logical_anomalies",
           0.8181011080741882
          ],
          [
           "splicing_connectors/test/logical_anomalies",
           "logical_anomalies",
           0.8670353293418884
          ],
          [
           "splicing_connectors/test/logical_anomalies",
           "logical_anomalies",
           0.8179787397384644
          ],
          [
           "splicing_connectors/test/logical_anomalies",
           "logical_anomalies",
           0.771212637424469
          ],
          [
           "splicing_connectors/test/logical_anomalies",
           "logical_anomalies",
           0.7859982252120972
          ],
          [
           "splicing_connectors/test/logical_anomalies",
           "logical_anomalies",
           0.7628307342529297
          ],
          [
           "splicing_connectors/test/logical_anomalies",
           "logical_anomalies",
           0.8377796411514282
          ],
          [
           "splicing_connectors/test/logical_anomalies",
           "logical_anomalies",
           0.7509214282035828
          ],
          [
           "splicing_connectors/test/logical_anomalies",
           "logical_anomalies",
           0.8368116617202759
          ],
          [
           "splicing_connectors/test/logical_anomalies",
           "logical_anomalies",
           0.70988929271698
          ],
          [
           "splicing_connectors/test/logical_anomalies",
           "logical_anomalies",
           0.8812675476074219
          ],
          [
           "splicing_connectors/test/logical_anomalies",
           "logical_anomalies",
           0.7469367980957031
          ],
          [
           "splicing_connectors/test/logical_anomalies",
           "logical_anomalies",
           0.8919206857681274
          ],
          [
           "splicing_connectors/test/logical_anomalies",
           "logical_anomalies",
           0.7656204104423523
          ],
          [
           "splicing_connectors/test/logical_anomalies",
           "logical_anomalies",
           0.8574284315109253
          ],
          [
           "splicing_connectors/test/logical_anomalies",
           "logical_anomalies",
           0.8337469100952148
          ],
          [
           "splicing_connectors/test/logical_anomalies",
           "logical_anomalies",
           0.857856273651123
          ],
          [
           "splicing_connectors/test/logical_anomalies",
           "logical_anomalies",
           0.7141891121864319
          ],
          [
           "splicing_connectors/test/logical_anomalies",
           "logical_anomalies",
           0.8181204795837402
          ],
          [
           "splicing_connectors/test/logical_anomalies",
           "logical_anomalies",
           0.765356719493866
          ],
          [
           "splicing_connectors/test/logical_anomalies",
           "logical_anomalies",
           0.7992560863494873
          ],
          [
           "splicing_connectors/test/logical_anomalies",
           "logical_anomalies",
           0.7190138697624207
          ],
          [
           "splicing_connectors/test/logical_anomalies",
           "logical_anomalies",
           0.7669243812561035
          ],
          [
           "splicing_connectors/test/logical_anomalies",
           "logical_anomalies",
           0.7953380942344666
          ],
          [
           "splicing_connectors/test/logical_anomalies",
           "logical_anomalies",
           0.7634618282318115
          ],
          [
           "splicing_connectors/test/logical_anomalies",
           "logical_anomalies",
           0.7310640811920166
          ],
          [
           "splicing_connectors/test/logical_anomalies",
           "logical_anomalies",
           0.8250796794891357
          ],
          [
           "splicing_connectors/test/logical_anomalies",
           "logical_anomalies",
           0.851216197013855
          ],
          [
           "splicing_connectors/test/logical_anomalies",
           "logical_anomalies",
           0.7984734773635864
          ],
          [
           "splicing_connectors/test/logical_anomalies",
           "logical_anomalies",
           0.8678514957427979
          ],
          [
           "splicing_connectors/test/logical_anomalies",
           "logical_anomalies",
           0.7093027830123901
          ],
          [
           "splicing_connectors/test/logical_anomalies",
           "logical_anomalies",
           0.8280761241912842
          ],
          [
           "splicing_connectors/test/logical_anomalies",
           "logical_anomalies",
           0.8408989310264587
          ],
          [
           "splicing_connectors/test/logical_anomalies",
           "logical_anomalies",
           0.7630875110626221
          ],
          [
           "splicing_connectors/test/logical_anomalies",
           "logical_anomalies",
           0.86556077003479
          ],
          [
           "splicing_connectors/test/logical_anomalies",
           "logical_anomalies",
           0.8229563236236572
          ],
          [
           "splicing_connectors/test/logical_anomalies",
           "logical_anomalies",
           0.8035755157470703
          ],
          [
           "splicing_connectors/test/logical_anomalies",
           "logical_anomalies",
           0.707137942314148
          ],
          [
           "splicing_connectors/test/logical_anomalies",
           "logical_anomalies",
           0.7793488502502441
          ],
          [
           "splicing_connectors/test/logical_anomalies",
           "logical_anomalies",
           0.7530602216720581
          ],
          [
           "splicing_connectors/test/logical_anomalies",
           "logical_anomalies",
           0.7863510847091675
          ],
          [
           "splicing_connectors/test/logical_anomalies",
           "logical_anomalies",
           0.7849023938179016
          ],
          [
           "splicing_connectors/test/logical_anomalies",
           "logical_anomalies",
           0.7518242001533508
          ],
          [
           "splicing_connectors/test/logical_anomalies",
           "logical_anomalies",
           0.827031135559082
          ],
          [
           "splicing_connectors/test/logical_anomalies",
           "logical_anomalies",
           0.7241940498352051
          ],
          [
           "splicing_connectors/test/logical_anomalies",
           "logical_anomalies",
           0.8205778002738953
          ],
          [
           "splicing_connectors/test/logical_anomalies",
           "logical_anomalies",
           0.73667973279953
          ],
          [
           "splicing_connectors/test/logical_anomalies",
           "logical_anomalies",
           0.7472617626190186
          ],
          [
           "splicing_connectors/test/logical_anomalies",
           "logical_anomalies",
           0.8232954740524292
          ],
          [
           "splicing_connectors/test/logical_anomalies",
           "logical_anomalies",
           0.8101716041564941
          ],
          [
           "splicing_connectors/test/logical_anomalies",
           "logical_anomalies",
           0.7666328549385071
          ],
          [
           "splicing_connectors/test/logical_anomalies",
           "logical_anomalies",
           0.8485349416732788
          ],
          [
           "splicing_connectors/test/logical_anomalies",
           "logical_anomalies",
           0.793228030204773
          ],
          [
           "splicing_connectors/test/logical_anomalies",
           "logical_anomalies",
           0.7871928215026855
          ],
          [
           "splicing_connectors/test/logical_anomalies",
           "logical_anomalies",
           0.8140614628791809
          ],
          [
           "splicing_connectors/test/logical_anomalies",
           "logical_anomalies",
           0.8761724233627319
          ],
          [
           "splicing_connectors/test/logical_anomalies",
           "logical_anomalies",
           0.8379977941513062
          ],
          [
           "splicing_connectors/test/logical_anomalies",
           "logical_anomalies",
           0.7924627065658569
          ],
          [
           "splicing_connectors/test/logical_anomalies",
           "logical_anomalies",
           0.8529254198074341
          ],
          [
           "splicing_connectors/test/logical_anomalies",
           "logical_anomalies",
           0.8515453338623047
          ],
          [
           "splicing_connectors/test/logical_anomalies",
           "logical_anomalies",
           0.7812480330467224
          ],
          [
           "splicing_connectors/test/logical_anomalies",
           "logical_anomalies",
           0.7618870139122009
          ],
          [
           "splicing_connectors/test/logical_anomalies",
           "logical_anomalies",
           0.7491084337234497
          ],
          [
           "splicing_connectors/test/logical_anomalies",
           "logical_anomalies",
           0.8564541339874268
          ],
          [
           "splicing_connectors/test/logical_anomalies",
           "logical_anomalies",
           0.8042907118797302
          ],
          [
           "splicing_connectors/test/logical_anomalies",
           "logical_anomalies",
           0.8320680856704712
          ],
          [
           "splicing_connectors/test/logical_anomalies",
           "logical_anomalies",
           0.8482864499092102
          ],
          [
           "splicing_connectors/test/logical_anomalies",
           "logical_anomalies",
           0.8189194798469543
          ],
          [
           "splicing_connectors/test/logical_anomalies",
           "logical_anomalies",
           0.7756903767585754
          ],
          [
           "splicing_connectors/test/logical_anomalies",
           "logical_anomalies",
           0.7896728515625
          ],
          [
           "splicing_connectors/test/logical_anomalies",
           "logical_anomalies",
           0.7150880098342896
          ],
          [
           "splicing_connectors/test/logical_anomalies",
           "logical_anomalies",
           0.7395009994506836
          ],
          [
           "breakfast_box/test/good",
           "good",
           0.7745775580406189
          ],
          [
           "breakfast_box/test/good",
           "good",
           0.8528844118118286
          ],
          [
           "breakfast_box/test/good",
           "good",
           0.7485584020614624
          ],
          [
           "breakfast_box/test/good",
           "good",
           0.7220650911331177
          ],
          [
           "breakfast_box/test/good",
           "good",
           0.7561867237091064
          ],
          [
           "breakfast_box/test/good",
           "good",
           0.7726597785949707
          ],
          [
           "breakfast_box/test/good",
           "good",
           0.7667839527130127
          ],
          [
           "breakfast_box/test/good",
           "good",
           0.852370023727417
          ],
          [
           "breakfast_box/test/good",
           "good",
           0.7425423860549927
          ],
          [
           "breakfast_box/test/good",
           "good",
           0.729857325553894
          ],
          [
           "breakfast_box/test/good",
           "good",
           0.7563114762306213
          ],
          [
           "breakfast_box/test/good",
           "good",
           0.7369005680084229
          ],
          [
           "breakfast_box/test/good",
           "good",
           0.7598473429679871
          ],
          [
           "breakfast_box/test/good",
           "good",
           0.760494589805603
          ],
          [
           "breakfast_box/test/good",
           "good",
           0.7396194934844971
          ],
          [
           "breakfast_box/test/good",
           "good",
           0.7752931118011475
          ],
          [
           "breakfast_box/test/good",
           "good",
           0.8198360204696655
          ],
          [
           "breakfast_box/test/good",
           "good",
           0.7430271506309509
          ],
          [
           "breakfast_box/test/good",
           "good",
           0.794542670249939
          ],
          [
           "breakfast_box/test/good",
           "good",
           0.757305383682251
          ],
          [
           "breakfast_box/test/good",
           "good",
           0.7724522352218628
          ],
          [
           "breakfast_box/test/good",
           "good",
           0.8597051501274109
          ],
          [
           "breakfast_box/test/good",
           "good",
           0.8703442215919495
          ],
          [
           "breakfast_box/test/good",
           "good",
           0.7048771381378174
          ],
          [
           "breakfast_box/test/good",
           "good",
           0.748008131980896
          ],
          [
           "breakfast_box/test/good",
           "good",
           0.7929134964942932
          ],
          [
           "breakfast_box/test/good",
           "good",
           0.7021512389183044
          ],
          [
           "breakfast_box/test/good",
           "good",
           0.7418878674507141
          ],
          [
           "breakfast_box/test/good",
           "good",
           0.8089321851730347
          ],
          [
           "breakfast_box/test/good",
           "good",
           0.8219888210296631
          ],
          [
           "breakfast_box/test/good",
           "good",
           0.7870052456855774
          ],
          [
           "breakfast_box/test/good",
           "good",
           0.7853531837463379
          ],
          [
           "breakfast_box/test/good",
           "good",
           0.7641113996505737
          ],
          [
           "breakfast_box/test/good",
           "good",
           0.7244299650192261
          ],
          [
           "breakfast_box/test/good",
           "good",
           0.8503769636154175
          ],
          [
           "breakfast_box/test/good",
           "good",
           0.7294741868972778
          ],
          [
           "breakfast_box/test/good",
           "good",
           0.7601652145385742
          ],
          [
           "breakfast_box/test/good",
           "good",
           0.7414714097976685
          ],
          [
           "breakfast_box/test/good",
           "good",
           0.7776269316673279
          ],
          [
           "breakfast_box/test/good",
           "good",
           0.7071770429611206
          ],
          [
           "breakfast_box/test/good",
           "good",
           0.781699538230896
          ],
          [
           "breakfast_box/test/good",
           "good",
           0.7638755440711975
          ],
          [
           "breakfast_box/test/good",
           "good",
           0.7151933312416077
          ],
          [
           "breakfast_box/test/good",
           "good",
           0.7339003086090088
          ],
          [
           "breakfast_box/test/good",
           "good",
           0.7950555682182312
          ],
          [
           "breakfast_box/test/good",
           "good",
           0.8541958332061768
          ],
          [
           "breakfast_box/test/good",
           "good",
           0.834754467010498
          ],
          [
           "breakfast_box/test/good",
           "good",
           0.8135390877723694
          ],
          [
           "breakfast_box/test/good",
           "good",
           0.7116245627403259
          ],
          [
           "breakfast_box/test/good",
           "good",
           0.8005653619766235
          ],
          [
           "breakfast_box/test/good",
           "good",
           0.8561179637908936
          ],
          [
           "breakfast_box/test/good",
           "good",
           0.8781498670578003
          ],
          [
           "breakfast_box/test/good",
           "good",
           0.7585850358009338
          ],
          [
           "breakfast_box/test/good",
           "good",
           0.7690237760543823
          ],
          [
           "breakfast_box/test/good",
           "good",
           0.8496454954147339
          ],
          [
           "breakfast_box/test/good",
           "good",
           0.7578725814819336
          ],
          [
           "breakfast_box/test/good",
           "good",
           0.8365570306777954
          ],
          [
           "breakfast_box/test/good",
           "good",
           0.7924391627311707
          ],
          [
           "breakfast_box/test/good",
           "good",
           0.8642522096633911
          ],
          [
           "breakfast_box/test/good",
           "good",
           0.7651714086532593
          ],
          [
           "breakfast_box/test/good",
           "good",
           0.8940062522888184
          ],
          [
           "breakfast_box/test/good",
           "good",
           0.7653135061264038
          ],
          [
           "breakfast_box/test/good",
           "good",
           0.8024975657463074
          ],
          [
           "breakfast_box/test/good",
           "good",
           0.855067253112793
          ],
          [
           "breakfast_box/test/good",
           "good",
           0.7211887836456299
          ],
          [
           "breakfast_box/test/good",
           "good",
           0.779075026512146
          ],
          [
           "breakfast_box/test/good",
           "good",
           0.7525480389595032
          ],
          [
           "breakfast_box/test/good",
           "good",
           0.8321641683578491
          ],
          [
           "breakfast_box/test/good",
           "good",
           0.8337361812591553
          ],
          [
           "breakfast_box/test/good",
           "good",
           0.7986176609992981
          ],
          [
           "breakfast_box/test/good",
           "good",
           0.745535671710968
          ],
          [
           "breakfast_box/test/good",
           "good",
           0.7412029504776001
          ],
          [
           "breakfast_box/test/good",
           "good",
           0.710919976234436
          ],
          [
           "breakfast_box/test/good",
           "good",
           0.8207160234451294
          ],
          [
           "breakfast_box/test/good",
           "good",
           0.8096825480461121
          ],
          [
           "breakfast_box/test/good",
           "good",
           0.7623801231384277
          ],
          [
           "breakfast_box/test/good",
           "good",
           0.7560769319534302
          ],
          [
           "breakfast_box/test/good",
           "good",
           0.7271378040313721
          ],
          [
           "breakfast_box/test/good",
           "good",
           0.7698103189468384
          ],
          [
           "breakfast_box/test/good",
           "good",
           0.8449363708496094
          ],
          [
           "breakfast_box/test/logical_anomalies",
           "logical_anomalies",
           0.8562567234039307
          ],
          [
           "breakfast_box/test/logical_anomalies",
           "logical_anomalies",
           0.7516007423400879
          ],
          [
           "breakfast_box/test/logical_anomalies",
           "logical_anomalies",
           0.8074723482131958
          ],
          [
           "breakfast_box/test/logical_anomalies",
           "logical_anomalies",
           0.794498085975647
          ],
          [
           "breakfast_box/test/logical_anomalies",
           "logical_anomalies",
           0.7141189575195312
          ],
          [
           "breakfast_box/test/logical_anomalies",
           "logical_anomalies",
           0.7408092021942139
          ],
          [
           "breakfast_box/test/logical_anomalies",
           "logical_anomalies",
           0.7906773090362549
          ],
          [
           "breakfast_box/test/logical_anomalies",
           "logical_anomalies",
           0.8108877539634705
          ],
          [
           "breakfast_box/test/logical_anomalies",
           "logical_anomalies",
           0.7485443949699402
          ],
          [
           "breakfast_box/test/logical_anomalies",
           "logical_anomalies",
           0.717098593711853
          ],
          [
           "breakfast_box/test/logical_anomalies",
           "logical_anomalies",
           0.7399530410766602
          ],
          [
           "breakfast_box/test/logical_anomalies",
           "logical_anomalies",
           0.7395551204681396
          ],
          [
           "breakfast_box/test/logical_anomalies",
           "logical_anomalies",
           0.8753045797348022
          ],
          [
           "breakfast_box/test/logical_anomalies",
           "logical_anomalies",
           0.7865748405456543
          ],
          [
           "breakfast_box/test/logical_anomalies",
           "logical_anomalies",
           0.7602497339248657
          ],
          [
           "breakfast_box/test/logical_anomalies",
           "logical_anomalies",
           0.7762023210525513
          ],
          [
           "breakfast_box/test/logical_anomalies",
           "logical_anomalies",
           0.8271414041519165
          ],
          [
           "breakfast_box/test/logical_anomalies",
           "logical_anomalies",
           0.7432246208190918
          ],
          [
           "breakfast_box/test/logical_anomalies",
           "logical_anomalies",
           0.8886899948120117
          ],
          [
           "breakfast_box/test/logical_anomalies",
           "logical_anomalies",
           0.875351071357727
          ],
          [
           "breakfast_box/test/logical_anomalies",
           "logical_anomalies",
           0.7831106185913086
          ],
          [
           "breakfast_box/test/logical_anomalies",
           "logical_anomalies",
           0.7758339047431946
          ],
          [
           "breakfast_box/test/logical_anomalies",
           "logical_anomalies",
           0.751370370388031
          ],
          [
           "breakfast_box/test/logical_anomalies",
           "logical_anomalies",
           0.8858629465103149
          ],
          [
           "breakfast_box/test/logical_anomalies",
           "logical_anomalies",
           0.7514685988426208
          ],
          [
           "breakfast_box/test/logical_anomalies",
           "logical_anomalies",
           0.8029415607452393
          ],
          [
           "breakfast_box/test/logical_anomalies",
           "logical_anomalies",
           0.7823693752288818
          ],
          [
           "breakfast_box/test/logical_anomalies",
           "logical_anomalies",
           0.8385822772979736
          ],
          [
           "breakfast_box/test/logical_anomalies",
           "logical_anomalies",
           0.8452444076538086
          ],
          [
           "breakfast_box/test/logical_anomalies",
           "logical_anomalies",
           0.7956310510635376
          ],
          [
           "breakfast_box/test/logical_anomalies",
           "logical_anomalies",
           0.7612744569778442
          ],
          [
           "breakfast_box/test/logical_anomalies",
           "logical_anomalies",
           0.7357391715049744
          ],
          [
           "breakfast_box/test/logical_anomalies",
           "logical_anomalies",
           0.8101882338523865
          ],
          [
           "breakfast_box/test/logical_anomalies",
           "logical_anomalies",
           0.8123947381973267
          ],
          [
           "breakfast_box/test/logical_anomalies",
           "logical_anomalies",
           0.7480207681655884
          ],
          [
           "breakfast_box/test/logical_anomalies",
           "logical_anomalies",
           0.7745005488395691
          ],
          [
           "breakfast_box/test/logical_anomalies",
           "logical_anomalies",
           0.8688628673553467
          ],
          [
           "breakfast_box/test/logical_anomalies",
           "logical_anomalies",
           0.7725406885147095
          ],
          [
           "breakfast_box/test/logical_anomalies",
           "logical_anomalies",
           0.8352483510971069
          ],
          [
           "breakfast_box/test/logical_anomalies",
           "logical_anomalies",
           0.715324878692627
          ],
          [
           "breakfast_box/test/logical_anomalies",
           "logical_anomalies",
           0.8630295395851135
          ],
          [
           "breakfast_box/test/logical_anomalies",
           "logical_anomalies",
           0.8217534422874451
          ],
          [
           "breakfast_box/test/logical_anomalies",
           "logical_anomalies",
           0.7111197710037231
          ],
          [
           "breakfast_box/test/logical_anomalies",
           "logical_anomalies",
           0.8133898377418518
          ],
          [
           "breakfast_box/test/logical_anomalies",
           "logical_anomalies",
           0.769592821598053
          ],
          [
           "breakfast_box/test/logical_anomalies",
           "logical_anomalies",
           0.7549675703048706
          ],
          [
           "breakfast_box/test/logical_anomalies",
           "logical_anomalies",
           0.7976534366607666
          ],
          [
           "breakfast_box/test/logical_anomalies",
           "logical_anomalies",
           0.7448490858078003
          ],
          [
           "breakfast_box/test/logical_anomalies",
           "logical_anomalies",
           0.8478313088417053
          ],
          [
           "breakfast_box/test/logical_anomalies",
           "logical_anomalies",
           0.8566746115684509
          ],
          [
           "breakfast_box/test/logical_anomalies",
           "logical_anomalies",
           0.8847365379333496
          ],
          [
           "breakfast_box/test/logical_anomalies",
           "logical_anomalies",
           0.7435128688812256
          ],
          [
           "breakfast_box/test/logical_anomalies",
           "logical_anomalies",
           0.702263593673706
          ],
          [
           "breakfast_box/test/logical_anomalies",
           "logical_anomalies",
           0.8606396913528442
          ],
          [
           "breakfast_box/test/logical_anomalies",
           "logical_anomalies",
           0.8775202035903931
          ],
          [
           "breakfast_box/test/logical_anomalies",
           "logical_anomalies",
           0.7443883419036865
          ],
          [
           "breakfast_box/test/logical_anomalies",
           "logical_anomalies",
           0.7309957146644592
          ],
          [
           "breakfast_box/test/logical_anomalies",
           "logical_anomalies",
           0.7865862846374512
          ],
          [
           "breakfast_box/test/logical_anomalies",
           "logical_anomalies",
           0.8664494752883911
          ],
          [
           "breakfast_box/test/logical_anomalies",
           "logical_anomalies",
           0.8004288077354431
          ],
          [
           "breakfast_box/test/logical_anomalies",
           "logical_anomalies",
           0.8739832639694214
          ],
          [
           "breakfast_box/test/logical_anomalies",
           "logical_anomalies",
           0.8006693124771118
          ],
          [
           "breakfast_box/test/logical_anomalies",
           "logical_anomalies",
           0.7311949729919434
          ],
          [
           "breakfast_box/test/logical_anomalies",
           "logical_anomalies",
           0.8433536291122437
          ],
          [
           "breakfast_box/test/logical_anomalies",
           "logical_anomalies",
           0.7399899959564209
          ],
          [
           "breakfast_box/test/logical_anomalies",
           "logical_anomalies",
           0.7493927478790283
          ],
          [
           "breakfast_box/test/logical_anomalies",
           "logical_anomalies",
           0.7409201860427856
          ],
          [
           "breakfast_box/test/logical_anomalies",
           "logical_anomalies",
           0.7614922523498535
          ],
          [
           "breakfast_box/test/logical_anomalies",
           "logical_anomalies",
           0.876150369644165
          ],
          [
           "breakfast_box/test/logical_anomalies",
           "logical_anomalies",
           0.8269295692443848
          ],
          [
           "breakfast_box/test/logical_anomalies",
           "logical_anomalies",
           0.8617926836013794
          ],
          [
           "breakfast_box/test/logical_anomalies",
           "logical_anomalies",
           0.8733986616134644
          ],
          [
           "breakfast_box/test/structural_anomalies",
           "structural_anomalies",
           0.7031817436218262
          ],
          [
           "breakfast_box/test/structural_anomalies",
           "structural_anomalies",
           0.8121269941329956
          ],
          [
           "breakfast_box/test/structural_anomalies",
           "structural_anomalies",
           0.7992628812789917
          ],
          [
           "breakfast_box/test/structural_anomalies",
           "structural_anomalies",
           0.8305349349975586
          ],
          [
           "breakfast_box/test/structural_anomalies",
           "structural_anomalies",
           0.8242692947387695
          ],
          [
           "breakfast_box/test/structural_anomalies",
           "structural_anomalies",
           0.7061192393302917
          ],
          [
           "breakfast_box/test/structural_anomalies",
           "structural_anomalies",
           0.7415152788162231
          ],
          [
           "breakfast_box/test/structural_anomalies",
           "structural_anomalies",
           0.7908735275268555
          ],
          [
           "breakfast_box/test/structural_anomalies",
           "structural_anomalies",
           0.7941576838493347
          ],
          [
           "breakfast_box/test/structural_anomalies",
           "structural_anomalies",
           0.7457501888275146
          ],
          [
           "breakfast_box/test/structural_anomalies",
           "structural_anomalies",
           0.7274603843688965
          ],
          [
           "breakfast_box/test/structural_anomalies",
           "structural_anomalies",
           0.8374273777008057
          ],
          [
           "breakfast_box/test/structural_anomalies",
           "structural_anomalies",
           0.7335389256477356
          ],
          [
           "breakfast_box/test/structural_anomalies",
           "structural_anomalies",
           0.7444831728935242
          ],
          [
           "breakfast_box/test/structural_anomalies",
           "structural_anomalies",
           0.7246750593185425
          ],
          [
           "breakfast_box/test/structural_anomalies",
           "structural_anomalies",
           0.8144941329956055
          ],
          [
           "breakfast_box/test/structural_anomalies",
           "structural_anomalies",
           0.8594367504119873
          ],
          [
           "breakfast_box/test/structural_anomalies",
           "structural_anomalies",
           0.7260477542877197
          ],
          [
           "breakfast_box/test/structural_anomalies",
           "structural_anomalies",
           0.712607741355896
          ],
          [
           "breakfast_box/test/structural_anomalies",
           "structural_anomalies",
           0.7679498195648193
          ],
          [
           "breakfast_box/test/structural_anomalies",
           "structural_anomalies",
           0.7972705364227295
          ],
          [
           "breakfast_box/test/structural_anomalies",
           "structural_anomalies",
           0.8004607558250427
          ],
          [
           "breakfast_box/test/structural_anomalies",
           "structural_anomalies",
           0.7828563451766968
          ],
          [
           "breakfast_box/test/structural_anomalies",
           "structural_anomalies",
           0.7531644701957703
          ],
          [
           "breakfast_box/test/structural_anomalies",
           "structural_anomalies",
           0.7566500902175903
          ],
          [
           "breakfast_box/test/structural_anomalies",
           "structural_anomalies",
           0.8087810277938843
          ],
          [
           "breakfast_box/test/structural_anomalies",
           "structural_anomalies",
           0.7888240218162537
          ],
          [
           "breakfast_box/test/structural_anomalies",
           "structural_anomalies",
           0.7639119625091553
          ],
          [
           "breakfast_box/test/structural_anomalies",
           "structural_anomalies",
           0.7355855703353882
          ],
          [
           "breakfast_box/test/structural_anomalies",
           "structural_anomalies",
           0.7919082641601562
          ],
          [
           "breakfast_box/test/structural_anomalies",
           "structural_anomalies",
           0.794157087802887
          ],
          [
           "breakfast_box/test/structural_anomalies",
           "structural_anomalies",
           0.743606448173523
          ],
          [
           "breakfast_box/test/structural_anomalies",
           "structural_anomalies",
           0.7864367365837097
          ],
          [
           "breakfast_box/test/structural_anomalies",
           "structural_anomalies",
           0.744644045829773
          ],
          [
           "breakfast_box/test/structural_anomalies",
           "structural_anomalies",
           0.7720337510108948
          ],
          [
           "breakfast_box/test/structural_anomalies",
           "structural_anomalies",
           0.7005754709243774
          ],
          [
           "breakfast_box/test/structural_anomalies",
           "structural_anomalies",
           0.7878179550170898
          ],
          [
           "breakfast_box/test/structural_anomalies",
           "structural_anomalies",
           0.7933880090713501
          ],
          [
           "breakfast_box/test/structural_anomalies",
           "structural_anomalies",
           0.8220853805541992
          ],
          [
           "breakfast_box/test/structural_anomalies",
           "structural_anomalies",
           0.7600899934768677
          ],
          [
           "breakfast_box/test/structural_anomalies",
           "structural_anomalies",
           0.772655725479126
          ],
          [
           "breakfast_box/test/structural_anomalies",
           "structural_anomalies",
           0.8114843368530273
          ],
          [
           "breakfast_box/test/structural_anomalies",
           "structural_anomalies",
           0.7486526966094971
          ],
          [
           "breakfast_box/test/structural_anomalies",
           "structural_anomalies",
           0.7310580015182495
          ],
          [
           "breakfast_box/test/structural_anomalies",
           "structural_anomalies",
           0.8345967531204224
          ],
          [
           "breakfast_box/test/structural_anomalies",
           "structural_anomalies",
           0.7584793567657471
          ],
          [
           "screw_bag/test/structural_anomalies",
           "structural_anomalies",
           0.7099758386611938
          ],
          [
           "screw_bag/test/structural_anomalies",
           "structural_anomalies",
           0.7072063088417053
          ],
          [
           "screw_bag/test/structural_anomalies",
           "structural_anomalies",
           0.7503849267959595
          ],
          [
           "screw_bag/test/structural_anomalies",
           "structural_anomalies",
           0.7001357674598694
          ],
          [
           "screw_bag/test/structural_anomalies",
           "structural_anomalies",
           0.8140632510185242
          ],
          [
           "screw_bag/test/structural_anomalies",
           "structural_anomalies",
           0.7537093758583069
          ],
          [
           "screw_bag/test/structural_anomalies",
           "structural_anomalies",
           0.8152880668640137
          ],
          [
           "screw_bag/test/structural_anomalies",
           "structural_anomalies",
           0.7404557466506958
          ],
          [
           "screw_bag/test/structural_anomalies",
           "structural_anomalies",
           0.7413650751113892
          ],
          [
           "screw_bag/test/structural_anomalies",
           "structural_anomalies",
           0.7117702960968018
          ],
          [
           "screw_bag/test/structural_anomalies",
           "structural_anomalies",
           0.8270999789237976
          ],
          [
           "screw_bag/test/structural_anomalies",
           "structural_anomalies",
           0.7916990518569946
          ],
          [
           "screw_bag/test/structural_anomalies",
           "structural_anomalies",
           0.7537451982498169
          ],
          [
           "screw_bag/test/structural_anomalies",
           "structural_anomalies",
           0.7603570222854614
          ],
          [
           "screw_bag/test/structural_anomalies",
           "structural_anomalies",
           0.7940737009048462
          ],
          [
           "screw_bag/test/structural_anomalies",
           "structural_anomalies",
           0.7993451356887817
          ],
          [
           "screw_bag/test/structural_anomalies",
           "structural_anomalies",
           0.7679951190948486
          ],
          [
           "screw_bag/test/structural_anomalies",
           "structural_anomalies",
           0.7480717897415161
          ],
          [
           "screw_bag/test/structural_anomalies",
           "structural_anomalies",
           0.8135854005813599
          ],
          [
           "screw_bag/test/structural_anomalies",
           "structural_anomalies",
           0.8048065900802612
          ],
          [
           "screw_bag/test/structural_anomalies",
           "structural_anomalies",
           0.7294225692749023
          ],
          [
           "screw_bag/test/structural_anomalies",
           "structural_anomalies",
           0.7620326280593872
          ],
          [
           "screw_bag/test/structural_anomalies",
           "structural_anomalies",
           0.8333733081817627
          ],
          [
           "screw_bag/test/structural_anomalies",
           "structural_anomalies",
           0.7926363945007324
          ],
          [
           "screw_bag/test/structural_anomalies",
           "structural_anomalies",
           0.7436767816543579
          ],
          [
           "screw_bag/test/structural_anomalies",
           "structural_anomalies",
           0.7479288578033447
          ],
          [
           "screw_bag/test/structural_anomalies",
           "structural_anomalies",
           0.8068546652793884
          ],
          [
           "screw_bag/test/structural_anomalies",
           "structural_anomalies",
           0.7601733803749084
          ],
          [
           "screw_bag/test/structural_anomalies",
           "structural_anomalies",
           0.828002393245697
          ],
          [
           "screw_bag/test/good",
           "good",
           0.8127626180648804
          ],
          [
           "screw_bag/test/good",
           "good",
           0.8268345594406128
          ],
          [
           "screw_bag/test/good",
           "good",
           0.7136188745498657
          ],
          [
           "screw_bag/test/good",
           "good",
           0.7915853261947632
          ],
          [
           "screw_bag/test/good",
           "good",
           0.8204545974731445
          ],
          [
           "screw_bag/test/good",
           "good",
           0.7585426568984985
          ],
          [
           "screw_bag/test/good",
           "good",
           0.7821728587150574
          ],
          [
           "screw_bag/test/good",
           "good",
           0.8060823678970337
          ],
          [
           "screw_bag/test/good",
           "good",
           0.7664474248886108
          ],
          [
           "screw_bag/test/good",
           "good",
           0.7710703611373901
          ],
          [
           "screw_bag/test/good",
           "good",
           0.7469512224197388
          ],
          [
           "screw_bag/test/good",
           "good",
           0.7985965013504028
          ],
          [
           "screw_bag/test/good",
           "good",
           0.8625643253326416
          ],
          [
           "screw_bag/test/good",
           "good",
           0.7685829997062683
          ],
          [
           "screw_bag/test/good",
           "good",
           0.8181933164596558
          ],
          [
           "screw_bag/test/good",
           "good",
           0.7882155179977417
          ],
          [
           "screw_bag/test/good",
           "good",
           0.8149086236953735
          ],
          [
           "screw_bag/test/good",
           "good",
           0.705467700958252
          ],
          [
           "screw_bag/test/good",
           "good",
           0.7880364060401917
          ],
          [
           "screw_bag/test/good",
           "good",
           0.7262964248657227
          ],
          [
           "screw_bag/test/good",
           "good",
           0.79087233543396
          ],
          [
           "screw_bag/test/good",
           "good",
           0.7727251052856445
          ],
          [
           "screw_bag/test/good",
           "good",
           0.7605161666870117
          ],
          [
           "screw_bag/test/good",
           "good",
           0.8561996817588806
          ],
          [
           "screw_bag/test/good",
           "good",
           0.8005605936050415
          ],
          [
           "screw_bag/test/good",
           "good",
           0.8034272193908691
          ],
          [
           "screw_bag/test/good",
           "good",
           0.8445582389831543
          ],
          [
           "screw_bag/test/good",
           "good",
           0.708746075630188
          ],
          [
           "screw_bag/test/good",
           "good",
           0.7754578590393066
          ],
          [
           "screw_bag/test/good",
           "good",
           0.7040976285934448
          ],
          [
           "screw_bag/test/good",
           "good",
           0.7742819786071777
          ],
          [
           "screw_bag/test/good",
           "good",
           0.8733864426612854
          ],
          [
           "screw_bag/test/good",
           "good",
           0.8027526140213013
          ],
          [
           "screw_bag/test/good",
           "good",
           0.802399754524231
          ],
          [
           "screw_bag/test/good",
           "good",
           0.7212533354759216
          ],
          [
           "screw_bag/test/good",
           "good",
           0.8287804126739502
          ],
          [
           "screw_bag/test/good",
           "good",
           0.7302742004394531
          ],
          [
           "screw_bag/test/good",
           "good",
           0.7857738733291626
          ],
          [
           "screw_bag/test/good",
           "good",
           0.8295748233795166
          ],
          [
           "screw_bag/test/good",
           "good",
           0.7226127982139587
          ],
          [
           "screw_bag/test/logical_anomalies",
           "logical_anomalies",
           0.726580023765564
          ],
          [
           "screw_bag/test/logical_anomalies",
           "logical_anomalies",
           0.8049836158752441
          ],
          [
           "screw_bag/test/logical_anomalies",
           "logical_anomalies",
           0.7918000221252441
          ],
          [
           "screw_bag/test/logical_anomalies",
           "logical_anomalies",
           0.7702119946479797
          ],
          [
           "screw_bag/test/logical_anomalies",
           "logical_anomalies",
           0.8011462688446045
          ],
          [
           "screw_bag/test/logical_anomalies",
           "logical_anomalies",
           0.7588931918144226
          ],
          [
           "screw_bag/test/logical_anomalies",
           "logical_anomalies",
           0.7714799642562866
          ],
          [
           "screw_bag/test/logical_anomalies",
           "logical_anomalies",
           0.7602300643920898
          ],
          [
           "screw_bag/test/logical_anomalies",
           "logical_anomalies",
           0.7122524976730347
          ],
          [
           "screw_bag/test/logical_anomalies",
           "logical_anomalies",
           0.7643149495124817
          ],
          [
           "screw_bag/test/logical_anomalies",
           "logical_anomalies",
           0.7886158227920532
          ],
          [
           "screw_bag/test/logical_anomalies",
           "logical_anomalies",
           0.7504160404205322
          ],
          [
           "screw_bag/test/logical_anomalies",
           "logical_anomalies",
           0.8188262581825256
          ],
          [
           "screw_bag/test/logical_anomalies",
           "logical_anomalies",
           0.8491029739379883
          ],
          [
           "screw_bag/test/logical_anomalies",
           "logical_anomalies",
           0.7888885140419006
          ],
          [
           "screw_bag/test/logical_anomalies",
           "logical_anomalies",
           0.8816692233085632
          ],
          [
           "screw_bag/test/logical_anomalies",
           "logical_anomalies",
           0.8135557174682617
          ],
          [
           "screw_bag/test/logical_anomalies",
           "logical_anomalies",
           0.7136737108230591
          ],
          [
           "screw_bag/test/logical_anomalies",
           "logical_anomalies",
           0.82438063621521
          ],
          [
           "screw_bag/test/logical_anomalies",
           "logical_anomalies",
           0.7797170877456665
          ],
          [
           "screw_bag/test/logical_anomalies",
           "logical_anomalies",
           0.7238720059394836
          ],
          [
           "screw_bag/test/logical_anomalies",
           "logical_anomalies",
           0.7132982015609741
          ],
          [
           "screw_bag/test/logical_anomalies",
           "logical_anomalies",
           0.7258510589599609
          ],
          [
           "screw_bag/test/logical_anomalies",
           "logical_anomalies",
           0.719962477684021
          ],
          [
           "screw_bag/test/logical_anomalies",
           "logical_anomalies",
           0.7242242693901062
          ],
          [
           "screw_bag/test/logical_anomalies",
           "logical_anomalies",
           0.7738050222396851
          ],
          [
           "screw_bag/test/logical_anomalies",
           "logical_anomalies",
           0.8210912346839905
          ],
          [
           "screw_bag/test/logical_anomalies",
           "logical_anomalies",
           0.7148959636688232
          ],
          [
           "screw_bag/test/logical_anomalies",
           "logical_anomalies",
           0.745275616645813
          ],
          [
           "screw_bag/test/logical_anomalies",
           "logical_anomalies",
           0.7545027136802673
          ],
          [
           "screw_bag/test/logical_anomalies",
           "logical_anomalies",
           0.8371516466140747
          ],
          [
           "screw_bag/test/logical_anomalies",
           "logical_anomalies",
           0.7298892736434937
          ],
          [
           "screw_bag/test/logical_anomalies",
           "logical_anomalies",
           0.7007161378860474
          ],
          [
           "screw_bag/test/logical_anomalies",
           "logical_anomalies",
           0.7100705504417419
          ],
          [
           "screw_bag/test/logical_anomalies",
           "logical_anomalies",
           0.763500988483429
          ],
          [
           "screw_bag/test/logical_anomalies",
           "logical_anomalies",
           0.798786997795105
          ],
          [
           "screw_bag/test/logical_anomalies",
           "logical_anomalies",
           0.7204251289367676
          ],
          [
           "screw_bag/test/logical_anomalies",
           "logical_anomalies",
           0.762464165687561
          ],
          [
           "screw_bag/test/logical_anomalies",
           "logical_anomalies",
           0.7522838115692139
          ],
          [
           "screw_bag/test/logical_anomalies",
           "logical_anomalies",
           0.7239187359809875
          ],
          [
           "screw_bag/test/logical_anomalies",
           "logical_anomalies",
           0.7031153440475464
          ],
          [
           "screw_bag/test/logical_anomalies",
           "logical_anomalies",
           0.772979199886322
          ],
          [
           "screw_bag/test/logical_anomalies",
           "logical_anomalies",
           0.7189499139785767
          ],
          [
           "screw_bag/test/logical_anomalies",
           "logical_anomalies",
           0.710595965385437
          ],
          [
           "screw_bag/test/logical_anomalies",
           "logical_anomalies",
           0.766086220741272
          ],
          [
           "screw_bag/test/logical_anomalies",
           "logical_anomalies",
           0.8256770372390747
          ],
          [
           "screw_bag/test/logical_anomalies",
           "logical_anomalies",
           0.7304553389549255
          ],
          [
           "screw_bag/test/logical_anomalies",
           "logical_anomalies",
           0.7495654225349426
          ],
          [
           "screw_bag/test/logical_anomalies",
           "logical_anomalies",
           0.7515771389007568
          ],
          [
           "screw_bag/test/logical_anomalies",
           "logical_anomalies",
           0.7265559434890747
          ],
          [
           "pushpins/test/structural_anomalies",
           "structural_anomalies",
           0.7935068607330322
          ],
          [
           "pushpins/test/structural_anomalies",
           "structural_anomalies",
           0.7745730876922607
          ],
          [
           "pushpins/test/structural_anomalies",
           "structural_anomalies",
           0.7518876791000366
          ],
          [
           "pushpins/test/structural_anomalies",
           "structural_anomalies",
           0.7002749443054199
          ],
          [
           "pushpins/test/structural_anomalies",
           "structural_anomalies",
           0.8683242201805115
          ],
          [
           "pushpins/test/structural_anomalies",
           "structural_anomalies",
           0.7340948581695557
          ],
          [
           "pushpins/test/structural_anomalies",
           "structural_anomalies",
           0.7468599081039429
          ],
          [
           "pushpins/test/structural_anomalies",
           "structural_anomalies",
           0.8147891759872437
          ],
          [
           "pushpins/test/structural_anomalies",
           "structural_anomalies",
           0.8851560354232788
          ],
          [
           "pushpins/test/structural_anomalies",
           "structural_anomalies",
           0.7651442289352417
          ],
          [
           "pushpins/test/structural_anomalies",
           "structural_anomalies",
           0.823717474937439
          ],
          [
           "pushpins/test/structural_anomalies",
           "structural_anomalies",
           0.9055072069168091
          ],
          [
           "pushpins/test/structural_anomalies",
           "structural_anomalies",
           0.8407657742500305
          ],
          [
           "pushpins/test/structural_anomalies",
           "structural_anomalies",
           0.7221864461898804
          ],
          [
           "pushpins/test/structural_anomalies",
           "structural_anomalies",
           0.8425173759460449
          ],
          [
           "pushpins/test/structural_anomalies",
           "structural_anomalies",
           0.7097488641738892
          ],
          [
           "pushpins/test/structural_anomalies",
           "structural_anomalies",
           0.7591966986656189
          ],
          [
           "pushpins/test/structural_anomalies",
           "structural_anomalies",
           0.8180854320526123
          ],
          [
           "pushpins/test/structural_anomalies",
           "structural_anomalies",
           0.7328819632530212
          ],
          [
           "pushpins/test/structural_anomalies",
           "structural_anomalies",
           0.8954228162765503
          ],
          [
           "pushpins/test/structural_anomalies",
           "structural_anomalies",
           0.7721636295318604
          ],
          [
           "pushpins/test/structural_anomalies",
           "structural_anomalies",
           0.8300344944000244
          ],
          [
           "pushpins/test/structural_anomalies",
           "structural_anomalies",
           0.7092829942703247
          ],
          [
           "pushpins/test/structural_anomalies",
           "structural_anomalies",
           0.8610007762908936
          ],
          [
           "pushpins/test/structural_anomalies",
           "structural_anomalies",
           0.8538166284561157
          ],
          [
           "pushpins/test/structural_anomalies",
           "structural_anomalies",
           0.8351848721504211
          ],
          [
           "pushpins/test/structural_anomalies",
           "structural_anomalies",
           0.7802337408065796
          ],
          [
           "pushpins/test/structural_anomalies",
           "structural_anomalies",
           0.7038521766662598
          ],
          [
           "pushpins/test/structural_anomalies",
           "structural_anomalies",
           0.7016642093658447
          ],
          [
           "pushpins/test/structural_anomalies",
           "structural_anomalies",
           0.7265727519989014
          ],
          [
           "pushpins/test/structural_anomalies",
           "structural_anomalies",
           0.7952919006347656
          ],
          [
           "pushpins/test/structural_anomalies",
           "structural_anomalies",
           0.7833279371261597
          ],
          [
           "pushpins/test/structural_anomalies",
           "structural_anomalies",
           0.7433256506919861
          ],
          [
           "pushpins/test/structural_anomalies",
           "structural_anomalies",
           0.766608476638794
          ],
          [
           "pushpins/test/structural_anomalies",
           "structural_anomalies",
           0.821703314781189
          ],
          [
           "pushpins/test/structural_anomalies",
           "structural_anomalies",
           0.7197239995002747
          ],
          [
           "pushpins/test/structural_anomalies",
           "structural_anomalies",
           0.7395411729812622
          ],
          [
           "pushpins/test/structural_anomalies",
           "structural_anomalies",
           0.8834166526794434
          ],
          [
           "pushpins/test/structural_anomalies",
           "structural_anomalies",
           0.7094770669937134
          ],
          [
           "pushpins/test/structural_anomalies",
           "structural_anomalies",
           0.7784616947174072
          ],
          [
           "pushpins/test/structural_anomalies",
           "structural_anomalies",
           0.8352388143539429
          ],
          [
           "pushpins/test/structural_anomalies",
           "structural_anomalies",
           0.7134431600570679
          ],
          [
           "pushpins/test/structural_anomalies",
           "structural_anomalies",
           0.8160566091537476
          ],
          [
           "pushpins/test/structural_anomalies",
           "structural_anomalies",
           0.7856842875480652
          ],
          [
           "pushpins/test/structural_anomalies",
           "structural_anomalies",
           0.8152605891227722
          ],
          [
           "pushpins/test/structural_anomalies",
           "structural_anomalies",
           0.937340497970581
          ],
          [
           "pushpins/test/structural_anomalies",
           "structural_anomalies",
           0.8864963054656982
          ],
          [
           "pushpins/test/structural_anomalies",
           "structural_anomalies",
           0.8428969979286194
          ],
          [
           "pushpins/test/structural_anomalies",
           "structural_anomalies",
           0.7664326429367065
          ],
          [
           "pushpins/test/structural_anomalies",
           "structural_anomalies",
           0.8026169538497925
          ],
          [
           "pushpins/test/structural_anomalies",
           "structural_anomalies",
           0.8871496915817261
          ],
          [
           "pushpins/test/structural_anomalies",
           "structural_anomalies",
           0.8572114706039429
          ],
          [
           "pushpins/test/logical_anomalies",
           "logical_anomalies",
           0.7800068259239197
          ],
          [
           "pushpins/test/logical_anomalies",
           "logical_anomalies",
           0.9004963636398315
          ],
          [
           "pushpins/test/logical_anomalies",
           "logical_anomalies",
           0.735693097114563
          ],
          [
           "pushpins/test/logical_anomalies",
           "logical_anomalies",
           0.7036926746368408
          ],
          [
           "pushpins/test/logical_anomalies",
           "logical_anomalies",
           0.8181114196777344
          ],
          [
           "pushpins/test/logical_anomalies",
           "logical_anomalies",
           0.8879980444908142
          ],
          [
           "pushpins/test/logical_anomalies",
           "logical_anomalies",
           0.7776603698730469
          ],
          [
           "pushpins/test/logical_anomalies",
           "logical_anomalies",
           0.7966793775558472
          ],
          [
           "pushpins/test/logical_anomalies",
           "logical_anomalies",
           0.8285877704620361
          ],
          [
           "pushpins/test/logical_anomalies",
           "logical_anomalies",
           0.7279818654060364
          ],
          [
           "pushpins/test/logical_anomalies",
           "logical_anomalies",
           0.8425546288490295
          ],
          [
           "pushpins/test/logical_anomalies",
           "logical_anomalies",
           0.7690987586975098
          ],
          [
           "pushpins/test/logical_anomalies",
           "logical_anomalies",
           0.7957048416137695
          ],
          [
           "pushpins/test/logical_anomalies",
           "logical_anomalies",
           0.7451754808425903
          ],
          [
           "pushpins/test/logical_anomalies",
           "logical_anomalies",
           0.8894234299659729
          ],
          [
           "pushpins/test/logical_anomalies",
           "logical_anomalies",
           0.7280821800231934
          ],
          [
           "pushpins/test/logical_anomalies",
           "logical_anomalies",
           0.7252317667007446
          ],
          [
           "pushpins/test/logical_anomalies",
           "logical_anomalies",
           0.8053444623947144
          ],
          [
           "pushpins/test/logical_anomalies",
           "logical_anomalies",
           0.7921929359436035
          ],
          [
           "pushpins/test/logical_anomalies",
           "logical_anomalies",
           0.7815969586372375
          ],
          [
           "pushpins/test/logical_anomalies",
           "logical_anomalies",
           0.7940964698791504
          ],
          [
           "pushpins/test/logical_anomalies",
           "logical_anomalies",
           0.8585585951805115
          ],
          [
           "pushpins/test/logical_anomalies",
           "logical_anomalies",
           0.7521822452545166
          ],
          [
           "pushpins/test/logical_anomalies",
           "logical_anomalies",
           0.7784596681594849
          ],
          [
           "pushpins/test/logical_anomalies",
           "logical_anomalies",
           0.7483481168746948
          ],
          [
           "pushpins/test/logical_anomalies",
           "logical_anomalies",
           0.881229043006897
          ],
          [
           "pushpins/test/logical_anomalies",
           "logical_anomalies",
           0.8352046608924866
          ],
          [
           "pushpins/test/logical_anomalies",
           "logical_anomalies",
           0.8484883308410645
          ],
          [
           "pushpins/test/logical_anomalies",
           "logical_anomalies",
           0.8250626921653748
          ],
          [
           "pushpins/test/logical_anomalies",
           "logical_anomalies",
           0.8796947598457336
          ],
          [
           "pushpins/test/logical_anomalies",
           "logical_anomalies",
           0.8810207843780518
          ],
          [
           "pushpins/test/logical_anomalies",
           "logical_anomalies",
           0.7424421310424805
          ],
          [
           "pushpins/test/logical_anomalies",
           "logical_anomalies",
           0.8410143852233887
          ],
          [
           "pushpins/test/logical_anomalies",
           "logical_anomalies",
           0.795649528503418
          ],
          [
           "pushpins/test/logical_anomalies",
           "logical_anomalies",
           0.7915290594100952
          ],
          [
           "pushpins/test/logical_anomalies",
           "logical_anomalies",
           0.8003464937210083
          ],
          [
           "pushpins/test/logical_anomalies",
           "logical_anomalies",
           0.8454581499099731
          ],
          [
           "pushpins/test/logical_anomalies",
           "logical_anomalies",
           0.8800386786460876
          ],
          [
           "pushpins/test/logical_anomalies",
           "logical_anomalies",
           0.8843145370483398
          ],
          [
           "pushpins/test/logical_anomalies",
           "logical_anomalies",
           0.738693356513977
          ],
          [
           "pushpins/test/logical_anomalies",
           "logical_anomalies",
           0.7150530815124512
          ],
          [
           "pushpins/test/logical_anomalies",
           "logical_anomalies",
           0.7221115231513977
          ],
          [
           "pushpins/test/logical_anomalies",
           "logical_anomalies",
           0.7483131885528564
          ],
          [
           "pushpins/test/logical_anomalies",
           "logical_anomalies",
           0.7733408808708191
          ],
          [
           "pushpins/test/logical_anomalies",
           "logical_anomalies",
           0.8280624151229858
          ],
          [
           "pushpins/test/logical_anomalies",
           "logical_anomalies",
           0.8382852077484131
          ],
          [
           "pushpins/test/logical_anomalies",
           "logical_anomalies",
           0.785932183265686
          ],
          [
           "pushpins/test/logical_anomalies",
           "logical_anomalies",
           0.8227807283401489
          ],
          [
           "pushpins/test/logical_anomalies",
           "logical_anomalies",
           0.8703973293304443
          ],
          [
           "pushpins/test/logical_anomalies",
           "logical_anomalies",
           0.8056149482727051
          ],
          [
           "pushpins/test/logical_anomalies",
           "logical_anomalies",
           0.8155137300491333
          ],
          [
           "pushpins/test/logical_anomalies",
           "logical_anomalies",
           0.7570780515670776
          ],
          [
           "pushpins/test/logical_anomalies",
           "logical_anomalies",
           0.7212312817573547
          ],
          [
           "pushpins/test/logical_anomalies",
           "logical_anomalies",
           0.7136229872703552
          ],
          [
           "pushpins/test/logical_anomalies",
           "logical_anomalies",
           0.7236157655715942
          ],
          [
           "pushpins/test/logical_anomalies",
           "logical_anomalies",
           0.7628524303436279
          ],
          [
           "pushpins/test/logical_anomalies",
           "logical_anomalies",
           0.8087806701660156
          ],
          [
           "pushpins/test/logical_anomalies",
           "logical_anomalies",
           0.7807172536849976
          ],
          [
           "pushpins/test/logical_anomalies",
           "logical_anomalies",
           0.9142547845840454
          ],
          [
           "pushpins/test/logical_anomalies",
           "logical_anomalies",
           0.8387599587440491
          ],
          [
           "pushpins/test/logical_anomalies",
           "logical_anomalies",
           0.7615357637405396
          ],
          [
           "pushpins/test/logical_anomalies",
           "logical_anomalies",
           0.740251362323761
          ],
          [
           "pushpins/test/logical_anomalies",
           "logical_anomalies",
           0.7636721730232239
          ],
          [
           "pushpins/test/logical_anomalies",
           "logical_anomalies",
           0.7960169315338135
          ],
          [
           "pushpins/test/logical_anomalies",
           "logical_anomalies",
           0.8198970556259155
          ],
          [
           "pushpins/test/logical_anomalies",
           "logical_anomalies",
           0.7745131850242615
          ],
          [
           "pushpins/test/logical_anomalies",
           "logical_anomalies",
           0.7152919769287109
          ],
          [
           "pushpins/test/logical_anomalies",
           "logical_anomalies",
           0.9069258570671082
          ],
          [
           "pushpins/test/logical_anomalies",
           "logical_anomalies",
           0.7644044160842896
          ],
          [
           "pushpins/test/logical_anomalies",
           "logical_anomalies",
           0.7924726605415344
          ],
          [
           "pushpins/test/logical_anomalies",
           "logical_anomalies",
           0.7321418523788452
          ],
          [
           "pushpins/test/logical_anomalies",
           "logical_anomalies",
           0.8767726421356201
          ],
          [
           "pushpins/test/logical_anomalies",
           "logical_anomalies",
           0.7022598385810852
          ],
          [
           "pushpins/test/logical_anomalies",
           "logical_anomalies",
           0.8267336487770081
          ],
          [
           "pushpins/test/logical_anomalies",
           "logical_anomalies",
           0.7535114288330078
          ],
          [
           "pushpins/test/logical_anomalies",
           "logical_anomalies",
           0.7510098218917847
          ],
          [
           "pushpins/test/logical_anomalies",
           "logical_anomalies",
           0.8829607963562012
          ],
          [
           "pushpins/test/logical_anomalies",
           "logical_anomalies",
           0.7393878698348999
          ],
          [
           "pushpins/test/logical_anomalies",
           "logical_anomalies",
           0.7351000308990479
          ],
          [
           "pushpins/test/good",
           "good",
           0.7664852142333984
          ],
          [
           "pushpins/test/good",
           "good",
           0.7042778730392456
          ],
          [
           "pushpins/test/good",
           "good",
           0.778768002986908
          ],
          [
           "pushpins/test/good",
           "good",
           0.8157986998558044
          ],
          [
           "pushpins/test/good",
           "good",
           0.7808619737625122
          ],
          [
           "pushpins/test/good",
           "good",
           0.7696232795715332
          ],
          [
           "pushpins/test/good",
           "good",
           0.8825353980064392
          ],
          [
           "pushpins/test/good",
           "good",
           0.8672133684158325
          ],
          [
           "pushpins/test/good",
           "good",
           0.7960447072982788
          ],
          [
           "pushpins/test/good",
           "good",
           0.8474305868148804
          ],
          [
           "pushpins/test/good",
           "good",
           0.7709413170814514
          ],
          [
           "pushpins/test/good",
           "good",
           0.8191149830818176
          ],
          [
           "pushpins/test/good",
           "good",
           0.7643284797668457
          ],
          [
           "pushpins/test/good",
           "good",
           0.7720146775245667
          ],
          [
           "pushpins/test/good",
           "good",
           0.7502956986427307
          ],
          [
           "pushpins/test/good",
           "good",
           0.8469008207321167
          ],
          [
           "pushpins/test/good",
           "good",
           0.8836643695831299
          ],
          [
           "pushpins/test/good",
           "good",
           0.72998046875
          ],
          [
           "pushpins/test/good",
           "good",
           0.789560079574585
          ],
          [
           "pushpins/test/good",
           "good",
           0.863548755645752
          ],
          [
           "pushpins/test/good",
           "good",
           0.8254993557929993
          ],
          [
           "pushpins/test/good",
           "good",
           0.702358603477478
          ],
          [
           "pushpins/test/good",
           "good",
           0.7929561734199524
          ],
          [
           "pushpins/test/good",
           "good",
           0.8506959676742554
          ],
          [
           "pushpins/test/good",
           "good",
           0.7074057459831238
          ],
          [
           "pushpins/test/good",
           "good",
           0.8234528303146362
          ],
          [
           "pushpins/test/good",
           "good",
           0.7080567479133606
          ],
          [
           "pushpins/test/good",
           "good",
           0.7877553701400757
          ],
          [
           "pushpins/test/good",
           "good",
           0.7144514322280884
          ],
          [
           "pushpins/test/good",
           "good",
           0.7881217002868652
          ],
          [
           "pushpins/test/good",
           "good",
           0.800618052482605
          ],
          [
           "pushpins/test/good",
           "good",
           0.8340068459510803
          ],
          [
           "pushpins/test/good",
           "good",
           0.8635124564170837
          ],
          [
           "pushpins/test/good",
           "good",
           0.7645576000213623
          ],
          [
           "pushpins/test/good",
           "good",
           0.9210103750228882
          ],
          [
           "pushpins/test/good",
           "good",
           0.7118590474128723
          ],
          [
           "pushpins/test/good",
           "good",
           0.8676229119300842
          ],
          [
           "pushpins/test/good",
           "good",
           0.769092321395874
          ],
          [
           "pushpins/test/good",
           "good",
           0.8543275594711304
          ],
          [
           "pushpins/test/good",
           "good",
           0.823431134223938
          ],
          [
           "pushpins/test/good",
           "good",
           0.7587287425994873
          ],
          [
           "pushpins/test/good",
           "good",
           0.8932400345802307
          ],
          [
           "pushpins/test/good",
           "good",
           0.716376781463623
          ],
          [
           "pushpins/test/good",
           "good",
           0.7618018388748169
          ],
          [
           "pushpins/test/good",
           "good",
           0.8908728361129761
          ],
          [
           "pushpins/test/good",
           "good",
           0.8199690580368042
          ],
          [
           "pushpins/test/good",
           "good",
           0.9175089597702026
          ],
          [
           "pushpins/test/good",
           "good",
           0.7916507720947266
          ],
          [
           "pushpins/test/good",
           "good",
           0.8492124080657959
          ],
          [
           "pushpins/test/good",
           "good",
           0.8338801860809326
          ],
          [
           "pushpins/test/good",
           "good",
           0.8882140517234802
          ],
          [
           "pushpins/test/good",
           "good",
           0.7550421953201294
          ],
          [
           "pushpins/test/good",
           "good",
           0.7297955751419067
          ],
          [
           "pushpins/test/good",
           "good",
           0.7528491020202637
          ],
          [
           "pushpins/test/good",
           "good",
           0.86552494764328
          ],
          [
           "pushpins/test/good",
           "good",
           0.7383143305778503
          ],
          [
           "pushpins/test/good",
           "good",
           0.7439110279083252
          ],
          [
           "pushpins/test/good",
           "good",
           0.8015991449356079
          ],
          [
           "pushpins/test/good",
           "good",
           0.770343542098999
          ],
          [
           "pushpins/test/good",
           "good",
           0.7817590236663818
          ],
          [
           "pushpins/test/good",
           "good",
           0.8101314306259155
          ],
          [
           "pushpins/test/good",
           "good",
           0.7812625765800476
          ],
          [
           "pushpins/test/good",
           "good",
           0.8110601902008057
          ],
          [
           "pushpins/test/good",
           "good",
           0.8544059991836548
          ],
          [
           "pushpins/test/good",
           "good",
           0.8796812295913696
          ],
          [
           "pushpins/test/good",
           "good",
           0.860122799873352
          ],
          [
           "pushpins/test/good",
           "good",
           0.7454844117164612
          ],
          [
           "pushpins/test/good",
           "good",
           0.8578323721885681
          ],
          [
           "pushpins/test/good",
           "good",
           0.8203160762786865
          ],
          [
           "pushpins/test/good",
           "good",
           0.7027903199195862
          ],
          [
           "pushpins/test/good",
           "good",
           0.8129284381866455
          ],
          [
           "pushpins/test/good",
           "good",
           0.8226850628852844
          ],
          [
           "pushpins/test/good",
           "good",
           0.7351282835006714
          ],
          [
           "pushpins/test/good",
           "good",
           0.8400957584381104
          ],
          [
           "pushpins/test/good",
           "good",
           0.7002651691436768
          ],
          [
           "pushpins/test/good",
           "good",
           0.7174062728881836
          ],
          [
           "pushpins/test/good",
           "good",
           0.8305318355560303
          ],
          [
           "pushpins/test/good",
           "good",
           0.7729896306991577
          ],
          [
           "pushpins/test/good",
           "good",
           0.744728684425354
          ],
          [
           "pushpins/test/good",
           "good",
           0.7811053991317749
          ],
          [
           "pushpins/test/good",
           "good",
           0.7880622148513794
          ],
          [
           "pushpins/test/good",
           "good",
           0.7583554983139038
          ],
          [
           "pushpins/test/good",
           "good",
           0.7690361738204956
          ],
          [
           "pushpins/test/good",
           "good",
           0.7130898237228394
          ],
          [
           "pushpins/test/good",
           "good",
           0.873977541923523
          ],
          [
           "pushpins/test/good",
           "good",
           0.8522502183914185
          ],
          [
           "pushpins/test/good",
           "good",
           0.8198268413543701
          ],
          [
           "pushpins/test/good",
           "good",
           0.7875429391860962
          ],
          [
           "pushpins/test/good",
           "good",
           0.7554104924201965
          ],
          [
           "pushpins/test/good",
           "good",
           0.771241307258606
          ],
          [
           "pushpins/test/good",
           "good",
           0.7499874830245972
          ],
          [
           "pushpins/test/good",
           "good",
           0.7305811047554016
          ],
          [
           "pushpins/test/good",
           "good",
           0.7016937732696533
          ],
          [
           "pushpins/test/good",
           "good",
           0.8488291501998901
          ],
          [
           "pushpins/test/good",
           "good",
           0.7251931428909302
          ],
          [
           "pushpins/test/good",
           "good",
           0.8853725790977478
          ],
          [
           "pushpins/test/good",
           "good",
           0.7748996019363403
          ],
          [
           "pushpins/test/good",
           "good",
           0.7385592460632324
          ],
          [
           "pushpins/test/good",
           "good",
           0.7865666747093201
          ],
          [
           "pushpins/test/good",
           "good",
           0.8500192165374756
          ],
          [
           "pushpins/test/good",
           "good",
           0.8822135329246521
          ],
          [
           "pushpins/test/good",
           "good",
           0.8128613233566284
          ],
          [
           "pushpins/test/good",
           "good",
           0.8841730356216431
          ],
          [
           "pushpins/test/good",
           "good",
           0.835741400718689
          ],
          [
           "pushpins/test/good",
           "good",
           0.8713780641555786
          ],
          [
           "pushpins/test/good",
           "good",
           0.7193335890769958
          ],
          [
           "pushpins/test/good",
           "good",
           0.7542587518692017
          ],
          [
           "pushpins/test/good",
           "good",
           0.7756493091583252
          ],
          [
           "pushpins/test/good",
           "good",
           0.8627783060073853
          ],
          [
           "pushpins/test/good",
           "good",
           0.7258303165435791
          ],
          [
           "pushpins/test/good",
           "good",
           0.7896499037742615
          ],
          [
           "pushpins/test/good",
           "good",
           0.7729921340942383
          ],
          [
           "pushpins/test/good",
           "good",
           0.7265810966491699
          ],
          [
           "pushpins/test/good",
           "good",
           0.710239827632904
          ],
          [
           "pushpins/test/good",
           "good",
           0.8259996175765991
          ],
          [
           "pushpins/test/good",
           "good",
           0.7167603969573975
          ],
          [
           "pushpins/test/good",
           "good",
           0.7854423522949219
          ],
          [
           "pushpins/test/good",
           "good",
           0.7928537130355835
          ],
          [
           "pushpins/test/good",
           "good",
           0.7966514229774475
          ]
         ],
         "hovertemplate": "Predicción anomalías=False<br>TSNE-1=%{x}<br>TSNE-2=%{y}<br>Nombre Carpeta=%{customdata[0]}<br>Clase Anomalia=%{customdata[1]}<br>Similitud con centroide=%{customdata[2]}<extra></extra>",
         "legendgroup": "False",
         "marker": {
          "color": "green",
          "symbol": "circle"
         },
         "mode": "markers",
         "name": "False",
         "showlegend": true,
         "type": "scattergl",
         "x": {
          "bdata": "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",
          "dtype": "f4"
         },
         "xaxis": "x",
         "y": {
          "bdata": "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",
          "dtype": "f4"
         },
         "yaxis": "y"
        },
        {
         "customdata": [
          [
           "juice_bottle/test/good",
           "good",
           0.6640985012054443
          ],
          [
           "juice_bottle/test/good",
           "good",
           0.6776264309883118
          ],
          [
           "juice_bottle/test/good",
           "good",
           0.6919926404953003
          ],
          [
           "juice_bottle/test/good",
           "good",
           0.6827124357223511
          ],
          [
           "juice_bottle/test/good",
           "good",
           0.6765215396881104
          ],
          [
           "juice_bottle/test/good",
           "good",
           0.6328736543655396
          ],
          [
           "juice_bottle/test/good",
           "good",
           0.6578596830368042
          ],
          [
           "juice_bottle/test/good",
           "good",
           0.5712116956710815
          ],
          [
           "juice_bottle/test/good",
           "good",
           0.6866518259048462
          ],
          [
           "juice_bottle/test/good",
           "good",
           0.6874159574508667
          ],
          [
           "juice_bottle/test/good",
           "good",
           0.5998786687850952
          ],
          [
           "juice_bottle/test/good",
           "good",
           0.6959147453308105
          ],
          [
           "juice_bottle/test/good",
           "good",
           0.6895313262939453
          ],
          [
           "juice_bottle/test/good",
           "good",
           0.6926002502441406
          ],
          [
           "juice_bottle/test/structural_anomalies",
           "structural_anomalies",
           0.6103615760803223
          ],
          [
           "juice_bottle/test/structural_anomalies",
           "structural_anomalies",
           0.6892019510269165
          ],
          [
           "juice_bottle/test/structural_anomalies",
           "structural_anomalies",
           0.6939747333526611
          ],
          [
           "juice_bottle/test/structural_anomalies",
           "structural_anomalies",
           0.6733929514884949
          ],
          [
           "juice_bottle/test/structural_anomalies",
           "structural_anomalies",
           0.696494460105896
          ],
          [
           "juice_bottle/test/structural_anomalies",
           "structural_anomalies",
           0.6154078841209412
          ],
          [
           "juice_bottle/test/structural_anomalies",
           "structural_anomalies",
           0.6778926849365234
          ],
          [
           "juice_bottle/test/structural_anomalies",
           "structural_anomalies",
           0.6583811044692993
          ],
          [
           "juice_bottle/test/structural_anomalies",
           "structural_anomalies",
           0.6833460330963135
          ],
          [
           "juice_bottle/test/structural_anomalies",
           "structural_anomalies",
           0.6894274950027466
          ],
          [
           "juice_bottle/test/structural_anomalies",
           "structural_anomalies",
           0.6950050592422485
          ],
          [
           "juice_bottle/test/structural_anomalies",
           "structural_anomalies",
           0.6706948280334473
          ],
          [
           "juice_bottle/test/structural_anomalies",
           "structural_anomalies",
           0.650371253490448
          ],
          [
           "juice_bottle/test/structural_anomalies",
           "structural_anomalies",
           0.6959369778633118
          ],
          [
           "juice_bottle/test/logical_anomalies",
           "logical_anomalies",
           0.6713636517524719
          ],
          [
           "juice_bottle/test/logical_anomalies",
           "logical_anomalies",
           0.6361613273620605
          ],
          [
           "juice_bottle/test/logical_anomalies",
           "logical_anomalies",
           0.6106556057929993
          ],
          [
           "juice_bottle/test/logical_anomalies",
           "logical_anomalies",
           0.697188675403595
          ],
          [
           "juice_bottle/test/logical_anomalies",
           "logical_anomalies",
           0.6989511251449585
          ],
          [
           "juice_bottle/test/logical_anomalies",
           "logical_anomalies",
           0.659814715385437
          ],
          [
           "juice_bottle/test/logical_anomalies",
           "logical_anomalies",
           0.6309818029403687
          ],
          [
           "juice_bottle/test/logical_anomalies",
           "logical_anomalies",
           0.6624175310134888
          ],
          [
           "juice_bottle/test/logical_anomalies",
           "logical_anomalies",
           0.6778578758239746
          ],
          [
           "juice_bottle/test/logical_anomalies",
           "logical_anomalies",
           0.6798525452613831
          ],
          [
           "juice_bottle/test/logical_anomalies",
           "logical_anomalies",
           0.6735301613807678
          ],
          [
           "juice_bottle/test/logical_anomalies",
           "logical_anomalies",
           0.6749114990234375
          ],
          [
           "splicing_connectors/test/good",
           "good",
           0.6775686144828796
          ],
          [
           "splicing_connectors/test/good",
           "good",
           0.603714108467102
          ],
          [
           "splicing_connectors/test/good",
           "good",
           0.6673680543899536
          ],
          [
           "splicing_connectors/test/good",
           "good",
           0.6577685475349426
          ],
          [
           "splicing_connectors/test/good",
           "good",
           0.6792320013046265
          ],
          [
           "splicing_connectors/test/good",
           "good",
           0.6970915794372559
          ],
          [
           "splicing_connectors/test/good",
           "good",
           0.6989089250564575
          ],
          [
           "splicing_connectors/test/good",
           "good",
           0.6431407332420349
          ],
          [
           "splicing_connectors/test/good",
           "good",
           0.6826694011688232
          ],
          [
           "splicing_connectors/test/good",
           "good",
           0.6221871972084045
          ],
          [
           "splicing_connectors/test/good",
           "good",
           0.6418018341064453
          ],
          [
           "splicing_connectors/test/good",
           "good",
           0.5236032009124756
          ],
          [
           "splicing_connectors/test/good",
           "good",
           0.6215833425521851
          ],
          [
           "splicing_connectors/test/good",
           "good",
           0.6436570882797241
          ],
          [
           "splicing_connectors/test/good",
           "good",
           0.6855721473693848
          ],
          [
           "splicing_connectors/test/good",
           "good",
           0.6872658729553223
          ],
          [
           "splicing_connectors/test/good",
           "good",
           0.6699571013450623
          ],
          [
           "splicing_connectors/test/good",
           "good",
           0.5852929353713989
          ],
          [
           "splicing_connectors/test/good",
           "good",
           0.6992582082748413
          ],
          [
           "splicing_connectors/test/good",
           "good",
           0.5435947179794312
          ],
          [
           "splicing_connectors/test/good",
           "good",
           0.6751879453659058
          ],
          [
           "splicing_connectors/test/good",
           "good",
           0.5687848329544067
          ],
          [
           "splicing_connectors/test/good",
           "good",
           0.6815754175186157
          ],
          [
           "splicing_connectors/test/structural_anomalies",
           "structural_anomalies",
           0.5699441432952881
          ],
          [
           "splicing_connectors/test/structural_anomalies",
           "structural_anomalies",
           0.6971575617790222
          ],
          [
           "splicing_connectors/test/structural_anomalies",
           "structural_anomalies",
           0.6753981709480286
          ],
          [
           "splicing_connectors/test/structural_anomalies",
           "structural_anomalies",
           0.6721998453140259
          ],
          [
           "splicing_connectors/test/structural_anomalies",
           "structural_anomalies",
           0.6487194299697876
          ],
          [
           "splicing_connectors/test/structural_anomalies",
           "structural_anomalies",
           0.5869069695472717
          ],
          [
           "splicing_connectors/test/structural_anomalies",
           "structural_anomalies",
           0.6763092279434204
          ],
          [
           "splicing_connectors/test/structural_anomalies",
           "structural_anomalies",
           0.6629775166511536
          ],
          [
           "splicing_connectors/test/structural_anomalies",
           "structural_anomalies",
           0.5342462062835693
          ],
          [
           "splicing_connectors/test/structural_anomalies",
           "structural_anomalies",
           0.6633846759796143
          ],
          [
           "splicing_connectors/test/structural_anomalies",
           "structural_anomalies",
           0.6306307315826416
          ],
          [
           "splicing_connectors/test/structural_anomalies",
           "structural_anomalies",
           0.652824878692627
          ],
          [
           "splicing_connectors/test/structural_anomalies",
           "structural_anomalies",
           0.6421792507171631
          ],
          [
           "splicing_connectors/test/structural_anomalies",
           "structural_anomalies",
           0.628867506980896
          ],
          [
           "splicing_connectors/test/structural_anomalies",
           "structural_anomalies",
           0.6193164587020874
          ],
          [
           "splicing_connectors/test/structural_anomalies",
           "structural_anomalies",
           0.6333850026130676
          ],
          [
           "splicing_connectors/test/structural_anomalies",
           "structural_anomalies",
           0.6062290668487549
          ],
          [
           "splicing_connectors/test/structural_anomalies",
           "structural_anomalies",
           0.5864169597625732
          ],
          [
           "splicing_connectors/test/structural_anomalies",
           "structural_anomalies",
           0.6901276111602783
          ],
          [
           "splicing_connectors/test/structural_anomalies",
           "structural_anomalies",
           0.6661136746406555
          ],
          [
           "splicing_connectors/test/structural_anomalies",
           "structural_anomalies",
           0.6983838081359863
          ],
          [
           "splicing_connectors/test/structural_anomalies",
           "structural_anomalies",
           0.5626950263977051
          ],
          [
           "splicing_connectors/test/structural_anomalies",
           "structural_anomalies",
           0.6858829259872437
          ],
          [
           "splicing_connectors/test/structural_anomalies",
           "structural_anomalies",
           0.6960897445678711
          ],
          [
           "splicing_connectors/test/structural_anomalies",
           "structural_anomalies",
           0.6748657822608948
          ],
          [
           "splicing_connectors/test/structural_anomalies",
           "structural_anomalies",
           0.6707626581192017
          ],
          [
           "splicing_connectors/test/structural_anomalies",
           "structural_anomalies",
           0.6175596117973328
          ],
          [
           "splicing_connectors/test/structural_anomalies",
           "structural_anomalies",
           0.5967455506324768
          ],
          [
           "splicing_connectors/test/structural_anomalies",
           "structural_anomalies",
           0.5874214172363281
          ],
          [
           "splicing_connectors/test/structural_anomalies",
           "structural_anomalies",
           0.6477383971214294
          ],
          [
           "splicing_connectors/test/structural_anomalies",
           "structural_anomalies",
           0.6490204334259033
          ],
          [
           "splicing_connectors/test/structural_anomalies",
           "structural_anomalies",
           0.6779707074165344
          ],
          [
           "splicing_connectors/test/structural_anomalies",
           "structural_anomalies",
           0.6346333622932434
          ],
          [
           "splicing_connectors/test/structural_anomalies",
           "structural_anomalies",
           0.5280634164810181
          ],
          [
           "splicing_connectors/test/logical_anomalies",
           "logical_anomalies",
           0.6440009474754333
          ],
          [
           "splicing_connectors/test/logical_anomalies",
           "logical_anomalies",
           0.5647737979888916
          ],
          [
           "splicing_connectors/test/logical_anomalies",
           "logical_anomalies",
           0.642992377281189
          ],
          [
           "splicing_connectors/test/logical_anomalies",
           "logical_anomalies",
           0.6389948129653931
          ],
          [
           "splicing_connectors/test/logical_anomalies",
           "logical_anomalies",
           0.6911847591400146
          ],
          [
           "splicing_connectors/test/logical_anomalies",
           "logical_anomalies",
           0.6525561809539795
          ],
          [
           "splicing_connectors/test/logical_anomalies",
           "logical_anomalies",
           0.558819055557251
          ],
          [
           "splicing_connectors/test/logical_anomalies",
           "logical_anomalies",
           0.654171347618103
          ],
          [
           "splicing_connectors/test/logical_anomalies",
           "logical_anomalies",
           0.6503676772117615
          ],
          [
           "splicing_connectors/test/logical_anomalies",
           "logical_anomalies",
           0.5926499366760254
          ],
          [
           "splicing_connectors/test/logical_anomalies",
           "logical_anomalies",
           0.6482586860656738
          ],
          [
           "splicing_connectors/test/logical_anomalies",
           "logical_anomalies",
           0.6820995211601257
          ],
          [
           "splicing_connectors/test/logical_anomalies",
           "logical_anomalies",
           0.6132558584213257
          ],
          [
           "splicing_connectors/test/logical_anomalies",
           "logical_anomalies",
           0.6416062116622925
          ],
          [
           "splicing_connectors/test/logical_anomalies",
           "logical_anomalies",
           0.6790053844451904
          ],
          [
           "splicing_connectors/test/logical_anomalies",
           "logical_anomalies",
           0.6449729204177856
          ],
          [
           "splicing_connectors/test/logical_anomalies",
           "logical_anomalies",
           0.6615792512893677
          ],
          [
           "splicing_connectors/test/logical_anomalies",
           "logical_anomalies",
           0.6563509702682495
          ],
          [
           "splicing_connectors/test/logical_anomalies",
           "logical_anomalies",
           0.47202828526496887
          ],
          [
           "splicing_connectors/test/logical_anomalies",
           "logical_anomalies",
           0.5392902493476868
          ],
          [
           "splicing_connectors/test/logical_anomalies",
           "logical_anomalies",
           0.6062290668487549
          ],
          [
           "splicing_connectors/test/logical_anomalies",
           "logical_anomalies",
           0.6514197587966919
          ],
          [
           "splicing_connectors/test/logical_anomalies",
           "logical_anomalies",
           0.6361010074615479
          ],
          [
           "breakfast_box/test/good",
           "good",
           0.47392788529396057
          ],
          [
           "breakfast_box/test/good",
           "good",
           0.6607557535171509
          ],
          [
           "breakfast_box/test/good",
           "good",
           0.6520535349845886
          ],
          [
           "breakfast_box/test/good",
           "good",
           0.6097017526626587
          ],
          [
           "breakfast_box/test/good",
           "good",
           0.6906250715255737
          ],
          [
           "breakfast_box/test/good",
           "good",
           0.4613204300403595
          ],
          [
           "breakfast_box/test/good",
           "good",
           0.6577538251876831
          ],
          [
           "breakfast_box/test/good",
           "good",
           0.4337903559207916
          ],
          [
           "breakfast_box/test/good",
           "good",
           0.4612575173377991
          ],
          [
           "breakfast_box/test/good",
           "good",
           0.6747832298278809
          ],
          [
           "breakfast_box/test/good",
           "good",
           0.6767470836639404
          ],
          [
           "breakfast_box/test/good",
           "good",
           0.6956479549407959
          ],
          [
           "breakfast_box/test/good",
           "good",
           0.6793522834777832
          ],
          [
           "breakfast_box/test/good",
           "good",
           0.5124059915542603
          ],
          [
           "breakfast_box/test/good",
           "good",
           0.6922876834869385
          ],
          [
           "breakfast_box/test/good",
           "good",
           0.44056394696235657
          ],
          [
           "breakfast_box/test/good",
           "good",
           0.4585458040237427
          ],
          [
           "breakfast_box/test/good",
           "good",
           0.672412633895874
          ],
          [
           "breakfast_box/test/logical_anomalies",
           "logical_anomalies",
           0.6482343673706055
          ],
          [
           "breakfast_box/test/logical_anomalies",
           "logical_anomalies",
           0.6730053424835205
          ],
          [
           "breakfast_box/test/logical_anomalies",
           "logical_anomalies",
           0.6413886547088623
          ],
          [
           "breakfast_box/test/logical_anomalies",
           "logical_anomalies",
           0.6538972854614258
          ],
          [
           "breakfast_box/test/logical_anomalies",
           "logical_anomalies",
           0.6740480661392212
          ],
          [
           "breakfast_box/test/logical_anomalies",
           "logical_anomalies",
           0.6895445585250854
          ],
          [
           "breakfast_box/test/structural_anomalies",
           "structural_anomalies",
           0.6288058757781982
          ],
          [
           "breakfast_box/test/structural_anomalies",
           "structural_anomalies",
           0.6699047684669495
          ],
          [
           "breakfast_box/test/structural_anomalies",
           "structural_anomalies",
           0.45082831382751465
          ],
          [
           "breakfast_box/test/structural_anomalies",
           "structural_anomalies",
           0.6245322227478027
          ],
          [
           "breakfast_box/test/structural_anomalies",
           "structural_anomalies",
           0.6628979444503784
          ],
          [
           "breakfast_box/test/structural_anomalies",
           "structural_anomalies",
           0.6674566268920898
          ],
          [
           "breakfast_box/test/structural_anomalies",
           "structural_anomalies",
           0.6195375323295593
          ],
          [
           "breakfast_box/test/structural_anomalies",
           "structural_anomalies",
           0.5003719925880432
          ],
          [
           "breakfast_box/test/structural_anomalies",
           "structural_anomalies",
           0.6804888248443604
          ],
          [
           "breakfast_box/test/structural_anomalies",
           "structural_anomalies",
           0.3997678756713867
          ],
          [
           "breakfast_box/test/structural_anomalies",
           "structural_anomalies",
           0.6426002979278564
          ],
          [
           "breakfast_box/test/structural_anomalies",
           "structural_anomalies",
           0.6143180727958679
          ],
          [
           "breakfast_box/test/structural_anomalies",
           "structural_anomalies",
           0.6063177585601807
          ],
          [
           "breakfast_box/test/structural_anomalies",
           "structural_anomalies",
           0.6292502880096436
          ],
          [
           "breakfast_box/test/structural_anomalies",
           "structural_anomalies",
           0.49476081132888794
          ],
          [
           "breakfast_box/test/structural_anomalies",
           "structural_anomalies",
           0.5608841180801392
          ],
          [
           "breakfast_box/test/structural_anomalies",
           "structural_anomalies",
           0.48640918731689453
          ],
          [
           "breakfast_box/test/structural_anomalies",
           "structural_anomalies",
           0.47065025568008423
          ],
          [
           "breakfast_box/test/structural_anomalies",
           "structural_anomalies",
           0.6363910436630249
          ],
          [
           "breakfast_box/test/structural_anomalies",
           "structural_anomalies",
           0.4464055597782135
          ],
          [
           "breakfast_box/test/structural_anomalies",
           "structural_anomalies",
           0.6095476150512695
          ],
          [
           "breakfast_box/test/structural_anomalies",
           "structural_anomalies",
           0.6404529809951782
          ],
          [
           "breakfast_box/test/structural_anomalies",
           "structural_anomalies",
           0.6020529270172119
          ],
          [
           "breakfast_box/test/structural_anomalies",
           "structural_anomalies",
           0.5619969964027405
          ],
          [
           "breakfast_box/test/structural_anomalies",
           "structural_anomalies",
           0.6000430583953857
          ],
          [
           "breakfast_box/test/structural_anomalies",
           "structural_anomalies",
           0.5033912062644958
          ],
          [
           "breakfast_box/test/structural_anomalies",
           "structural_anomalies",
           0.6045652627944946
          ],
          [
           "breakfast_box/test/structural_anomalies",
           "structural_anomalies",
           0.5790680646896362
          ],
          [
           "breakfast_box/test/structural_anomalies",
           "structural_anomalies",
           0.6139818429946899
          ],
          [
           "breakfast_box/test/structural_anomalies",
           "structural_anomalies",
           0.5352799892425537
          ],
          [
           "breakfast_box/test/structural_anomalies",
           "structural_anomalies",
           0.6343132257461548
          ],
          [
           "breakfast_box/test/structural_anomalies",
           "structural_anomalies",
           0.5893309116363525
          ],
          [
           "breakfast_box/test/structural_anomalies",
           "structural_anomalies",
           0.5327256917953491
          ],
          [
           "breakfast_box/test/structural_anomalies",
           "structural_anomalies",
           0.6313309669494629
          ],
          [
           "breakfast_box/test/structural_anomalies",
           "structural_anomalies",
           0.6996068954467773
          ],
          [
           "breakfast_box/test/structural_anomalies",
           "structural_anomalies",
           0.6631977558135986
          ],
          [
           "breakfast_box/test/structural_anomalies",
           "structural_anomalies",
           0.5562504529953003
          ],
          [
           "breakfast_box/test/structural_anomalies",
           "structural_anomalies",
           0.6907716989517212
          ],
          [
           "breakfast_box/test/structural_anomalies",
           "structural_anomalies",
           0.6071401834487915
          ],
          [
           "breakfast_box/test/structural_anomalies",
           "structural_anomalies",
           0.6307190656661987
          ],
          [
           "breakfast_box/test/structural_anomalies",
           "structural_anomalies",
           0.485956072807312
          ],
          [
           "screw_bag/test/structural_anomalies",
           "structural_anomalies",
           0.6443333029747009
          ],
          [
           "screw_bag/test/structural_anomalies",
           "structural_anomalies",
           0.6759821176528931
          ],
          [
           "screw_bag/test/structural_anomalies",
           "structural_anomalies",
           0.6890602111816406
          ],
          [
           "screw_bag/test/structural_anomalies",
           "structural_anomalies",
           0.398033082485199
          ],
          [
           "screw_bag/test/structural_anomalies",
           "structural_anomalies",
           0.6321810483932495
          ],
          [
           "screw_bag/test/structural_anomalies",
           "structural_anomalies",
           0.6165262460708618
          ],
          [
           "screw_bag/test/structural_anomalies",
           "structural_anomalies",
           0.5405166149139404
          ],
          [
           "screw_bag/test/structural_anomalies",
           "structural_anomalies",
           0.6314916610717773
          ],
          [
           "screw_bag/test/structural_anomalies",
           "structural_anomalies",
           0.6125286817550659
          ],
          [
           "screw_bag/test/structural_anomalies",
           "structural_anomalies",
           0.6608070135116577
          ],
          [
           "screw_bag/test/structural_anomalies",
           "structural_anomalies",
           0.5803608894348145
          ],
          [
           "screw_bag/test/structural_anomalies",
           "structural_anomalies",
           0.5837264060974121
          ],
          [
           "screw_bag/test/structural_anomalies",
           "structural_anomalies",
           0.54972243309021
          ],
          [
           "screw_bag/test/structural_anomalies",
           "structural_anomalies",
           0.6509822607040405
          ],
          [
           "screw_bag/test/structural_anomalies",
           "structural_anomalies",
           0.6278835535049438
          ],
          [
           "screw_bag/test/structural_anomalies",
           "structural_anomalies",
           0.40614068508148193
          ],
          [
           "screw_bag/test/structural_anomalies",
           "structural_anomalies",
           0.5361024141311646
          ],
          [
           "screw_bag/test/structural_anomalies",
           "structural_anomalies",
           0.6119958162307739
          ],
          [
           "screw_bag/test/structural_anomalies",
           "structural_anomalies",
           0.5887454748153687
          ],
          [
           "screw_bag/test/structural_anomalies",
           "structural_anomalies",
           0.5455960631370544
          ],
          [
           "screw_bag/test/structural_anomalies",
           "structural_anomalies",
           0.6889594197273254
          ],
          [
           "screw_bag/test/structural_anomalies",
           "structural_anomalies",
           0.6430544853210449
          ],
          [
           "screw_bag/test/structural_anomalies",
           "structural_anomalies",
           0.6609200239181519
          ],
          [
           "screw_bag/test/structural_anomalies",
           "structural_anomalies",
           0.6758251786231995
          ],
          [
           "screw_bag/test/structural_anomalies",
           "structural_anomalies",
           0.6375188231468201
          ],
          [
           "screw_bag/test/structural_anomalies",
           "structural_anomalies",
           0.4735943078994751
          ],
          [
           "screw_bag/test/structural_anomalies",
           "structural_anomalies",
           0.5323184728622437
          ],
          [
           "screw_bag/test/structural_anomalies",
           "structural_anomalies",
           0.6317047476768494
          ],
          [
           "screw_bag/test/structural_anomalies",
           "structural_anomalies",
           0.6664906740188599
          ],
          [
           "screw_bag/test/structural_anomalies",
           "structural_anomalies",
           0.6161942481994629
          ],
          [
           "screw_bag/test/structural_anomalies",
           "structural_anomalies",
           0.5302733182907104
          ],
          [
           "screw_bag/test/structural_anomalies",
           "structural_anomalies",
           0.6057345867156982
          ],
          [
           "screw_bag/test/structural_anomalies",
           "structural_anomalies",
           0.6966322660446167
          ],
          [
           "screw_bag/test/structural_anomalies",
           "structural_anomalies",
           0.6210904121398926
          ],
          [
           "screw_bag/test/structural_anomalies",
           "structural_anomalies",
           0.39681771397590637
          ],
          [
           "screw_bag/test/structural_anomalies",
           "structural_anomalies",
           0.47334736585617065
          ],
          [
           "screw_bag/test/structural_anomalies",
           "structural_anomalies",
           0.6585592031478882
          ],
          [
           "screw_bag/test/structural_anomalies",
           "structural_anomalies",
           0.5911877155303955
          ],
          [
           "screw_bag/test/structural_anomalies",
           "structural_anomalies",
           0.5215591788291931
          ],
          [
           "screw_bag/test/structural_anomalies",
           "structural_anomalies",
           0.5803042650222778
          ],
          [
           "screw_bag/test/structural_anomalies",
           "structural_anomalies",
           0.5949761271476746
          ],
          [
           "screw_bag/test/structural_anomalies",
           "structural_anomalies",
           0.6471468210220337
          ],
          [
           "screw_bag/test/structural_anomalies",
           "structural_anomalies",
           0.5923625230789185
          ],
          [
           "screw_bag/test/structural_anomalies",
           "structural_anomalies",
           0.6778689622879028
          ],
          [
           "screw_bag/test/structural_anomalies",
           "structural_anomalies",
           0.6329856514930725
          ],
          [
           "screw_bag/test/structural_anomalies",
           "structural_anomalies",
           0.5607339143753052
          ],
          [
           "screw_bag/test/structural_anomalies",
           "structural_anomalies",
           0.5758817791938782
          ],
          [
           "screw_bag/test/structural_anomalies",
           "structural_anomalies",
           0.6675012111663818
          ],
          [
           "screw_bag/test/good",
           "good",
           0.5460346937179565
          ],
          [
           "screw_bag/test/good",
           "good",
           0.6587521433830261
          ],
          [
           "screw_bag/test/good",
           "good",
           0.6708164215087891
          ],
          [
           "screw_bag/test/good",
           "good",
           0.5712177753448486
          ],
          [
           "screw_bag/test/good",
           "good",
           0.46802374720573425
          ],
          [
           "screw_bag/test/good",
           "good",
           0.6655948162078857
          ],
          [
           "screw_bag/test/good",
           "good",
           0.5323049426078796
          ],
          [
           "screw_bag/test/good",
           "good",
           0.6506286859512329
          ],
          [
           "screw_bag/test/good",
           "good",
           0.643248438835144
          ],
          [
           "screw_bag/test/good",
           "good",
           0.6983848810195923
          ],
          [
           "screw_bag/test/good",
           "good",
           0.6478432416915894
          ],
          [
           "screw_bag/test/good",
           "good",
           0.6597093343734741
          ],
          [
           "screw_bag/test/good",
           "good",
           0.5888082981109619
          ],
          [
           "screw_bag/test/good",
           "good",
           0.5883124470710754
          ],
          [
           "screw_bag/test/good",
           "good",
           0.5572509765625
          ],
          [
           "screw_bag/test/good",
           "good",
           0.6027705669403076
          ],
          [
           "screw_bag/test/good",
           "good",
           0.43251675367355347
          ],
          [
           "screw_bag/test/good",
           "good",
           0.6752804517745972
          ],
          [
           "screw_bag/test/good",
           "good",
           0.577739953994751
          ],
          [
           "screw_bag/test/good",
           "good",
           0.6378778219223022
          ],
          [
           "screw_bag/test/good",
           "good",
           0.577901303768158
          ],
          [
           "screw_bag/test/good",
           "good",
           0.6963298320770264
          ],
          [
           "screw_bag/test/good",
           "good",
           0.6850844621658325
          ],
          [
           "screw_bag/test/good",
           "good",
           0.6882731914520264
          ],
          [
           "screw_bag/test/good",
           "good",
           0.5325417518615723
          ],
          [
           "screw_bag/test/good",
           "good",
           0.637528657913208
          ],
          [
           "screw_bag/test/good",
           "good",
           0.5735450983047485
          ],
          [
           "screw_bag/test/good",
           "good",
           0.5798430442810059
          ],
          [
           "screw_bag/test/good",
           "good",
           0.522520899772644
          ],
          [
           "screw_bag/test/good",
           "good",
           0.6042439937591553
          ],
          [
           "screw_bag/test/good",
           "good",
           0.6331249475479126
          ],
          [
           "screw_bag/test/good",
           "good",
           0.6672229170799255
          ],
          [
           "screw_bag/test/good",
           "good",
           0.6613684892654419
          ],
          [
           "screw_bag/test/good",
           "good",
           0.5890294313430786
          ],
          [
           "screw_bag/test/good",
           "good",
           0.5465661287307739
          ],
          [
           "screw_bag/test/good",
           "good",
           0.6369023323059082
          ],
          [
           "screw_bag/test/good",
           "good",
           0.6324476003646851
          ],
          [
           "screw_bag/test/good",
           "good",
           0.609786868095398
          ],
          [
           "screw_bag/test/good",
           "good",
           0.5601273775100708
          ],
          [
           "screw_bag/test/good",
           "good",
           0.5333577394485474
          ],
          [
           "screw_bag/test/good",
           "good",
           0.6420928239822388
          ],
          [
           "screw_bag/test/good",
           "good",
           0.6390966176986694
          ],
          [
           "screw_bag/test/good",
           "good",
           0.5907727479934692
          ],
          [
           "screw_bag/test/good",
           "good",
           0.6612036824226379
          ],
          [
           "screw_bag/test/good",
           "good",
           0.6804401874542236
          ],
          [
           "screw_bag/test/good",
           "good",
           0.5441848039627075
          ],
          [
           "screw_bag/test/good",
           "good",
           0.6732410192489624
          ],
          [
           "screw_bag/test/good",
           "good",
           0.6230709552764893
          ],
          [
           "screw_bag/test/good",
           "good",
           0.5491721034049988
          ],
          [
           "screw_bag/test/good",
           "good",
           0.6943796873092651
          ],
          [
           "screw_bag/test/good",
           "good",
           0.5850216150283813
          ],
          [
           "screw_bag/test/good",
           "good",
           0.6996454000473022
          ],
          [
           "screw_bag/test/good",
           "good",
           0.5946098566055298
          ],
          [
           "screw_bag/test/good",
           "good",
           0.5743829011917114
          ],
          [
           "screw_bag/test/good",
           "good",
           0.6166912317276001
          ],
          [
           "screw_bag/test/good",
           "good",
           0.4312654137611389
          ],
          [
           "screw_bag/test/good",
           "good",
           0.5434784889221191
          ],
          [
           "screw_bag/test/good",
           "good",
           0.42821139097213745
          ],
          [
           "screw_bag/test/good",
           "good",
           0.5990443229675293
          ],
          [
           "screw_bag/test/good",
           "good",
           0.6663908958435059
          ],
          [
           "screw_bag/test/good",
           "good",
           0.616229772567749
          ],
          [
           "screw_bag/test/good",
           "good",
           0.48467034101486206
          ],
          [
           "screw_bag/test/good",
           "good",
           0.5090635418891907
          ],
          [
           "screw_bag/test/good",
           "good",
           0.5656378269195557
          ],
          [
           "screw_bag/test/good",
           "good",
           0.6336592435836792
          ],
          [
           "screw_bag/test/good",
           "good",
           0.6587259769439697
          ],
          [
           "screw_bag/test/good",
           "good",
           0.6176165342330933
          ],
          [
           "screw_bag/test/good",
           "good",
           0.6875194311141968
          ],
          [
           "screw_bag/test/good",
           "good",
           0.6476818323135376
          ],
          [
           "screw_bag/test/good",
           "good",
           0.5841429233551025
          ],
          [
           "screw_bag/test/good",
           "good",
           0.6841599941253662
          ],
          [
           "screw_bag/test/good",
           "good",
           0.531078040599823
          ],
          [
           "screw_bag/test/good",
           "good",
           0.37058067321777344
          ],
          [
           "screw_bag/test/good",
           "good",
           0.5677552223205566
          ],
          [
           "screw_bag/test/good",
           "good",
           0.6637536287307739
          ],
          [
           "screw_bag/test/good",
           "good",
           0.48013293743133545
          ],
          [
           "screw_bag/test/good",
           "good",
           0.6542295217514038
          ],
          [
           "screw_bag/test/good",
           "good",
           0.5957463979721069
          ],
          [
           "screw_bag/test/logical_anomalies",
           "logical_anomalies",
           0.4173048138618469
          ],
          [
           "screw_bag/test/logical_anomalies",
           "logical_anomalies",
           0.5839829444885254
          ],
          [
           "screw_bag/test/logical_anomalies",
           "logical_anomalies",
           0.4478219151496887
          ],
          [
           "screw_bag/test/logical_anomalies",
           "logical_anomalies",
           0.6219086647033691
          ],
          [
           "screw_bag/test/logical_anomalies",
           "logical_anomalies",
           0.6315897703170776
          ],
          [
           "screw_bag/test/logical_anomalies",
           "logical_anomalies",
           0.6152257919311523
          ],
          [
           "screw_bag/test/logical_anomalies",
           "logical_anomalies",
           0.676539957523346
          ],
          [
           "screw_bag/test/logical_anomalies",
           "logical_anomalies",
           0.5885539650917053
          ],
          [
           "screw_bag/test/logical_anomalies",
           "logical_anomalies",
           0.6535999774932861
          ],
          [
           "screw_bag/test/logical_anomalies",
           "logical_anomalies",
           0.6258938312530518
          ],
          [
           "screw_bag/test/logical_anomalies",
           "logical_anomalies",
           0.6685137152671814
          ],
          [
           "screw_bag/test/logical_anomalies",
           "logical_anomalies",
           0.5914392471313477
          ],
          [
           "screw_bag/test/logical_anomalies",
           "logical_anomalies",
           0.5768686532974243
          ],
          [
           "screw_bag/test/logical_anomalies",
           "logical_anomalies",
           0.6045417189598083
          ],
          [
           "screw_bag/test/logical_anomalies",
           "logical_anomalies",
           0.6851762533187866
          ],
          [
           "screw_bag/test/logical_anomalies",
           "logical_anomalies",
           0.5935412645339966
          ],
          [
           "screw_bag/test/logical_anomalies",
           "logical_anomalies",
           0.628056526184082
          ],
          [
           "screw_bag/test/logical_anomalies",
           "logical_anomalies",
           0.6709909439086914
          ],
          [
           "screw_bag/test/logical_anomalies",
           "logical_anomalies",
           0.6641412973403931
          ],
          [
           "screw_bag/test/logical_anomalies",
           "logical_anomalies",
           0.6350729465484619
          ],
          [
           "screw_bag/test/logical_anomalies",
           "logical_anomalies",
           0.6307494640350342
          ],
          [
           "screw_bag/test/logical_anomalies",
           "logical_anomalies",
           0.6176402568817139
          ],
          [
           "screw_bag/test/logical_anomalies",
           "logical_anomalies",
           0.5859870910644531
          ],
          [
           "screw_bag/test/logical_anomalies",
           "logical_anomalies",
           0.6580191254615784
          ],
          [
           "screw_bag/test/logical_anomalies",
           "logical_anomalies",
           0.4985792636871338
          ],
          [
           "screw_bag/test/logical_anomalies",
           "logical_anomalies",
           0.6687251925468445
          ],
          [
           "screw_bag/test/logical_anomalies",
           "logical_anomalies",
           0.591172993183136
          ],
          [
           "screw_bag/test/logical_anomalies",
           "logical_anomalies",
           0.618953287601471
          ],
          [
           "screw_bag/test/logical_anomalies",
           "logical_anomalies",
           0.5203815698623657
          ],
          [
           "screw_bag/test/logical_anomalies",
           "logical_anomalies",
           0.5701804161071777
          ],
          [
           "screw_bag/test/logical_anomalies",
           "logical_anomalies",
           0.6653856039047241
          ],
          [
           "screw_bag/test/logical_anomalies",
           "logical_anomalies",
           0.6692664623260498
          ],
          [
           "screw_bag/test/logical_anomalies",
           "logical_anomalies",
           0.559044599533081
          ],
          [
           "screw_bag/test/logical_anomalies",
           "logical_anomalies",
           0.5526264905929565
          ],
          [
           "screw_bag/test/logical_anomalies",
           "logical_anomalies",
           0.6043522357940674
          ],
          [
           "screw_bag/test/logical_anomalies",
           "logical_anomalies",
           0.6186352968215942
          ],
          [
           "screw_bag/test/logical_anomalies",
           "logical_anomalies",
           0.4457874298095703
          ],
          [
           "screw_bag/test/logical_anomalies",
           "logical_anomalies",
           0.5895081758499146
          ],
          [
           "screw_bag/test/logical_anomalies",
           "logical_anomalies",
           0.49758264422416687
          ],
          [
           "screw_bag/test/logical_anomalies",
           "logical_anomalies",
           0.2224774956703186
          ],
          [
           "screw_bag/test/logical_anomalies",
           "logical_anomalies",
           0.607119083404541
          ],
          [
           "screw_bag/test/logical_anomalies",
           "logical_anomalies",
           0.5429953336715698
          ],
          [
           "screw_bag/test/logical_anomalies",
           "logical_anomalies",
           0.6318086981773376
          ],
          [
           "screw_bag/test/logical_anomalies",
           "logical_anomalies",
           0.5623089671134949
          ],
          [
           "screw_bag/test/logical_anomalies",
           "logical_anomalies",
           0.6112344861030579
          ],
          [
           "screw_bag/test/logical_anomalies",
           "logical_anomalies",
           0.5820716619491577
          ],
          [
           "screw_bag/test/logical_anomalies",
           "logical_anomalies",
           0.5598201751708984
          ],
          [
           "screw_bag/test/logical_anomalies",
           "logical_anomalies",
           0.6873461008071899
          ],
          [
           "screw_bag/test/logical_anomalies",
           "logical_anomalies",
           0.632693350315094
          ],
          [
           "screw_bag/test/logical_anomalies",
           "logical_anomalies",
           0.62940913438797
          ],
          [
           "screw_bag/test/logical_anomalies",
           "logical_anomalies",
           0.6994873881340027
          ],
          [
           "screw_bag/test/logical_anomalies",
           "logical_anomalies",
           0.5884381532669067
          ],
          [
           "screw_bag/test/logical_anomalies",
           "logical_anomalies",
           0.6757408380508423
          ],
          [
           "screw_bag/test/logical_anomalies",
           "logical_anomalies",
           0.6228874921798706
          ],
          [
           "screw_bag/test/logical_anomalies",
           "logical_anomalies",
           0.6012622117996216
          ],
          [
           "screw_bag/test/logical_anomalies",
           "logical_anomalies",
           0.3995259404182434
          ],
          [
           "screw_bag/test/logical_anomalies",
           "logical_anomalies",
           0.6153042316436768
          ],
          [
           "screw_bag/test/logical_anomalies",
           "logical_anomalies",
           0.6717509627342224
          ],
          [
           "screw_bag/test/logical_anomalies",
           "logical_anomalies",
           0.5326175689697266
          ],
          [
           "screw_bag/test/logical_anomalies",
           "logical_anomalies",
           0.6142406463623047
          ],
          [
           "screw_bag/test/logical_anomalies",
           "logical_anomalies",
           0.668305516242981
          ],
          [
           "screw_bag/test/logical_anomalies",
           "logical_anomalies",
           0.5019660592079163
          ],
          [
           "screw_bag/test/logical_anomalies",
           "logical_anomalies",
           0.407692551612854
          ],
          [
           "screw_bag/test/logical_anomalies",
           "logical_anomalies",
           0.6821245551109314
          ],
          [
           "screw_bag/test/logical_anomalies",
           "logical_anomalies",
           0.5767844319343567
          ],
          [
           "screw_bag/test/logical_anomalies",
           "logical_anomalies",
           0.6679741144180298
          ],
          [
           "screw_bag/test/logical_anomalies",
           "logical_anomalies",
           0.5517764091491699
          ],
          [
           "screw_bag/test/logical_anomalies",
           "logical_anomalies",
           0.6827331781387329
          ],
          [
           "screw_bag/test/logical_anomalies",
           "logical_anomalies",
           0.5957285165786743
          ],
          [
           "screw_bag/test/logical_anomalies",
           "logical_anomalies",
           0.6868956089019775
          ],
          [
           "screw_bag/test/logical_anomalies",
           "logical_anomalies",
           0.5590329766273499
          ],
          [
           "screw_bag/test/logical_anomalies",
           "logical_anomalies",
           0.6594176292419434
          ],
          [
           "screw_bag/test/logical_anomalies",
           "logical_anomalies",
           0.5010212659835815
          ],
          [
           "screw_bag/test/logical_anomalies",
           "logical_anomalies",
           0.592079758644104
          ],
          [
           "screw_bag/test/logical_anomalies",
           "logical_anomalies",
           0.5680228471755981
          ],
          [
           "screw_bag/test/logical_anomalies",
           "logical_anomalies",
           0.5981868505477905
          ],
          [
           "screw_bag/test/logical_anomalies",
           "logical_anomalies",
           0.4624907374382019
          ],
          [
           "screw_bag/test/logical_anomalies",
           "logical_anomalies",
           0.6628015637397766
          ],
          [
           "screw_bag/test/logical_anomalies",
           "logical_anomalies",
           0.5362429618835449
          ],
          [
           "screw_bag/test/logical_anomalies",
           "logical_anomalies",
           0.5507557392120361
          ],
          [
           "screw_bag/test/logical_anomalies",
           "logical_anomalies",
           0.5956443548202515
          ],
          [
           "screw_bag/test/logical_anomalies",
           "logical_anomalies",
           0.5883417725563049
          ],
          [
           "screw_bag/test/logical_anomalies",
           "logical_anomalies",
           0.638107180595398
          ],
          [
           "screw_bag/test/logical_anomalies",
           "logical_anomalies",
           0.6995843648910522
          ],
          [
           "screw_bag/test/logical_anomalies",
           "logical_anomalies",
           0.4679896831512451
          ],
          [
           "screw_bag/test/logical_anomalies",
           "logical_anomalies",
           0.6348016858100891
          ],
          [
           "pushpins/test/structural_anomalies",
           "structural_anomalies",
           0.6980414390563965
          ],
          [
           "pushpins/test/structural_anomalies",
           "structural_anomalies",
           0.6963979601860046
          ],
          [
           "pushpins/test/structural_anomalies",
           "structural_anomalies",
           0.6392035484313965
          ],
          [
           "pushpins/test/structural_anomalies",
           "structural_anomalies",
           0.6082271337509155
          ],
          [
           "pushpins/test/structural_anomalies",
           "structural_anomalies",
           0.6791563034057617
          ],
          [
           "pushpins/test/structural_anomalies",
           "structural_anomalies",
           0.6414821147918701
          ],
          [
           "pushpins/test/structural_anomalies",
           "structural_anomalies",
           0.619671106338501
          ],
          [
           "pushpins/test/structural_anomalies",
           "structural_anomalies",
           0.6970955729484558
          ],
          [
           "pushpins/test/structural_anomalies",
           "structural_anomalies",
           0.6815667152404785
          ],
          [
           "pushpins/test/structural_anomalies",
           "structural_anomalies",
           0.6514948606491089
          ],
          [
           "pushpins/test/structural_anomalies",
           "structural_anomalies",
           0.6951645016670227
          ],
          [
           "pushpins/test/structural_anomalies",
           "structural_anomalies",
           0.6453767418861389
          ],
          [
           "pushpins/test/structural_anomalies",
           "structural_anomalies",
           0.6329516172409058
          ],
          [
           "pushpins/test/structural_anomalies",
           "structural_anomalies",
           0.5967665910720825
          ],
          [
           "pushpins/test/structural_anomalies",
           "structural_anomalies",
           0.5318310260772705
          ],
          [
           "pushpins/test/structural_anomalies",
           "structural_anomalies",
           0.45421358942985535
          ],
          [
           "pushpins/test/structural_anomalies",
           "structural_anomalies",
           0.5937447547912598
          ],
          [
           "pushpins/test/structural_anomalies",
           "structural_anomalies",
           0.4649268090724945
          ],
          [
           "pushpins/test/structural_anomalies",
           "structural_anomalies",
           0.6319484114646912
          ],
          [
           "pushpins/test/structural_anomalies",
           "structural_anomalies",
           0.6129029989242554
          ],
          [
           "pushpins/test/structural_anomalies",
           "structural_anomalies",
           0.6971509456634521
          ],
          [
           "pushpins/test/structural_anomalies",
           "structural_anomalies",
           0.6540514230728149
          ],
          [
           "pushpins/test/structural_anomalies",
           "structural_anomalies",
           0.6765036582946777
          ],
          [
           "pushpins/test/structural_anomalies",
           "structural_anomalies",
           0.5676348209381104
          ],
          [
           "pushpins/test/structural_anomalies",
           "structural_anomalies",
           0.6472010612487793
          ],
          [
           "pushpins/test/structural_anomalies",
           "structural_anomalies",
           0.6606033444404602
          ],
          [
           "pushpins/test/logical_anomalies",
           "logical_anomalies",
           0.6399093270301819
          ],
          [
           "pushpins/test/logical_anomalies",
           "logical_anomalies",
           0.6785942316055298
          ],
          [
           "pushpins/test/logical_anomalies",
           "logical_anomalies",
           0.6558376550674438
          ],
          [
           "pushpins/test/logical_anomalies",
           "logical_anomalies",
           0.6892964839935303
          ],
          [
           "pushpins/test/logical_anomalies",
           "logical_anomalies",
           0.6955016255378723
          ],
          [
           "pushpins/test/logical_anomalies",
           "logical_anomalies",
           0.6736919283866882
          ],
          [
           "pushpins/test/logical_anomalies",
           "logical_anomalies",
           0.611921489238739
          ],
          [
           "pushpins/test/logical_anomalies",
           "logical_anomalies",
           0.6499173641204834
          ],
          [
           "pushpins/test/logical_anomalies",
           "logical_anomalies",
           0.6741781234741211
          ],
          [
           "pushpins/test/logical_anomalies",
           "logical_anomalies",
           0.5998454093933105
          ],
          [
           "pushpins/test/good",
           "good",
           0.6704275608062744
          ],
          [
           "pushpins/test/good",
           "good",
           0.6972476243972778
          ],
          [
           "pushpins/test/good",
           "good",
           0.6186720132827759
          ],
          [
           "pushpins/test/good",
           "good",
           0.6808940172195435
          ],
          [
           "pushpins/test/good",
           "good",
           0.6967083215713501
          ],
          [
           "pushpins/test/good",
           "good",
           0.6585104465484619
          ],
          [
           "pushpins/test/good",
           "good",
           0.6930689811706543
          ],
          [
           "pushpins/test/good",
           "good",
           0.658694863319397
          ],
          [
           "pushpins/test/good",
           "good",
           0.6968032121658325
          ],
          [
           "pushpins/test/good",
           "good",
           0.6039445996284485
          ],
          [
           "pushpins/test/good",
           "good",
           0.6578671932220459
          ],
          [
           "pushpins/test/good",
           "good",
           0.5881038904190063
          ],
          [
           "pushpins/test/good",
           "good",
           0.6859855055809021
          ],
          [
           "pushpins/test/good",
           "good",
           0.6780773997306824
          ],
          [
           "pushpins/test/good",
           "good",
           0.6366035342216492
          ],
          [
           "pushpins/test/good",
           "good",
           0.6184864640235901
          ],
          [
           "pushpins/test/good",
           "good",
           0.6663340330123901
          ],
          [
           "pushpins/test/good",
           "good",
           0.675708532333374
          ]
         ],
         "hovertemplate": "Predicción anomalías=True<br>TSNE-1=%{x}<br>TSNE-2=%{y}<br>Nombre Carpeta=%{customdata[0]}<br>Clase Anomalia=%{customdata[1]}<br>Similitud con centroide=%{customdata[2]}<extra></extra>",
         "legendgroup": "True",
         "marker": {
          "color": "red",
          "symbol": "circle"
         },
         "mode": "markers",
         "name": "True",
         "showlegend": true,
         "type": "scattergl",
         "x": {
          "bdata": "QXDPQeWl30GL6tFBnZ0dQiKnyUGol9BB6dHPQb410UErmtNBZ83WQYoj30H2sNpBYxvhQRF2DUI2z9ZBw5XdQUlF7EHJq9tB5jUSQnLlukHDVLNB2m/GQcvxxkE2kLhBTxTlQcGBx0F+y81ByxDNQU58ykEcWtlBESDRQSvx2EH08tlBnBbAQetpvkFlnL9BX/u8QWrB0UHgWgJCobsBQkiG2MBQZEPBhoYLwQc1tMCU/hrBANbcwPMsNcGHgdrA9+o3weA+p8CPGiHAUPFJwaoj4sC2YYTAWLBKwRySpD8x/SPB4CNFwScl/cBKovzAP4IcwdIwp8CcL7TAaQoIwRIPhEBYYgfBhAdLwWknIsFwB3rAKQhdwWkZT8HWYSLB8lYwQJ7QTsHjkDfB+ZnYvjoXL8HmSRnBfQIEwRcQX8G6qB3AS0iawAjzOMEFTIZAnbtYwQPNAUATcerAONJRwGYmZcHF3fjAoocPwRWDA8Fel1rBRhozwatSTsHE3qq+pGOLvi1wLsGcZTvBUYGJwBJAW8FyGELBI5QuQIADPsFrJFbBwQGqwGsld8C80SnBWycNwUT2WMEIrZA/DLYDQdM2acDpqy7BmccKwYa9csDTwGzA4rdfwB2mX8HgNwfAknO/QRGHOEDAK4FAbuqdQYPXJ0Ayvr9BlD5hQXQhLkALlb9Bz/p6QP+XB0BH0MpAxia2QWDnMEEMmwhAKlcsQF2JK0CPeo9ByuSgQfck40CupCBBmWyNQG42TEEgp6ZA1itJQYwSvEAeTSBBx861QS+9LEFDhjdB3u20QUF9skFwDa1BUfeoQRxBNEHvdqxBe44bQaDJq0E/P7FBzC+rQeR+rEHQpUhB4pqjQaUxLkFSyJ9B9pmoQZrkwEDbs0pB9T+eQdtUvUD3sRNABrqqQLdqSUGhzqBBwXlYQYf0cEGOdzxA1y2VQfIgoEEyGllBqpqhQcphykDFVsk/APgRQcvxv0EGLNPBCtn2wT3W58GyOgzCrQIJwiVFCsKOxq3B1/HHwXN/7ME1atnBlDPwwU1p+MFVpBPCu5AZwj8v+sEbeSjC9DmtwZy3E8IDQNbBUigPwtZzxMFTihPC7mLOwTfr4sFuqhfCxDUDwu1S7sHzrufBfpPuwZlnxMGgKifCQ0vaweVXEsKlFN/BvHYfwug7DcJAExHCdW71wabhDML2f7fBA064wWcMzMH5CMnBorTWwU2u7MHh97fBP4y0wZSYusGPqgbC55kfwinEGsJJrBHC6kEbwluj0sGKLizCx3oSwhvq4MGVG9DBZAwZwivR1MFH0PTBZnoAwmFO6cEixfzBZHElwkyd08FXOALCau8ewsOaDcLYTNjBO0sAwsSR+cEqOwfCIEcFwj2WAMKkhu3Bh7zEwYZYIMLizgbCLdwdwrAME8KApPjBtDENwsA/8MF47QTChOEJwnAtBMLx5xHCuxICwpkO+MHDfP7BApkSwqLPF8Latc/BVojpwUzvJsKr8QPCJV8fwnu3/cFDI/vBg0ELwkIY+cFfTOzBZYYlwt+NGMLZJADCENHEwUumvsHlaRLCkhsKwqlWDMJLKArCW5K9wcjaBcLeEvrBODL4wScmHMLFxw7CFsDxwSpA28F+tiTC4znGwZisHMJgsxbCT/cQwiEuE8KQqx7CpRYBwoqtCMKbGQDCDbv5wYexBsKD3s7BCqL9waTOA8IFMP7BONvxwaU3+MFMExbCTvX0wYNzz8F5qgHC7sXswTdD/8FdcRrCqHznwfS43MHAP9rBvD4GwjNl58FkKAbCkaXhwYWK+8GhByfC4rsJwomFG8KFvc/B6P8JwtsPtMGT4wPCODUGwisQBsJp0x3CirwcwmxAGMLdxRzC2HX1wU05+cH72QPCcXf1wZ0H6cGZGRnCSinjwXzz0cH+5hnCB/8AwlVPzMFcyfXB2+DmwTmu3cEzdO3BIU0iwh76CcJYSM7BMewSwg4w+sHe4RPC+nMVwv3CAsK4TAjCDXXxwZF8v8ESUBTCK5nIwdafHMITzBrC1tELwiMIDcL1VRXCjEjewWkq/cF/tOvB4hsmwhQbDsIvbQzCx9IhwvDQ6MEUl8LB1WniwWSDycF4VxfCQCj1wUwZTcHwG0vBrEMrwf/qTcGl3oXBbOmfwdW5LcEM9JDB9WMiwdFnAcFvX5HBCLGLwW53i8GfB4nB446LwY88lsG8dZbBoteUwd31lsFuWJHB6Hk1wVtDM8GJ2itAC5xNwRBCMcHuW0bBWnIWwZAFh8BbWlzBPpNUwVgIfsGJ5iDB8GmQwVjyOsH+CZXB+d98wQvnBsHwmSfBApUJwTZvQsH0hnHBSmgXwZKUg8EEB5rBnh86wVfLBcFmbp7BJbFkwcZyj8HQlzHBbcYswTkfW8EUyGvBLRVzwQ==",
          "dtype": "f4"
         },
         "xaxis": "x",
         "y": {
          "bdata": "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",
          "dtype": "f4"
         },
         "yaxis": "y"
        }
       ],
       "layout": {
        "height": 600,
        "legend": {
         "title": {
          "text": "Predicción anomalías"
         },
         "tracegroupgap": 0
        },
        "template": {
         "data": {
          "bar": [
           {
            "error_x": {
             "color": "#2a3f5f"
            },
            "error_y": {
             "color": "#2a3f5f"
            },
            "marker": {
             "line": {
              "color": "#E5ECF6",
              "width": 0.5
             },
             "pattern": {
              "fillmode": "overlay",
              "size": 10,
              "solidity": 0.2
             }
            },
            "type": "bar"
           }
          ],
          "barpolar": [
           {
            "marker": {
             "line": {
              "color": "#E5ECF6",
              "width": 0.5
             },
             "pattern": {
              "fillmode": "overlay",
              "size": 10,
              "solidity": 0.2
             }
            },
            "type": "barpolar"
           }
          ],
          "carpet": [
           {
            "aaxis": {
             "endlinecolor": "#2a3f5f",
             "gridcolor": "white",
             "linecolor": "white",
             "minorgridcolor": "white",
             "startlinecolor": "#2a3f5f"
            },
            "baxis": {
             "endlinecolor": "#2a3f5f",
             "gridcolor": "white",
             "linecolor": "white",
             "minorgridcolor": "white",
             "startlinecolor": "#2a3f5f"
            },
            "type": "carpet"
           }
          ],
          "choropleth": [
           {
            "colorbar": {
             "outlinewidth": 0,
             "ticks": ""
            },
            "type": "choropleth"
           }
          ],
          "contour": [
           {
            "colorbar": {
             "outlinewidth": 0,
             "ticks": ""
            },
            "colorscale": [
             [
              0,
              "#0d0887"
             ],
             [
              0.1111111111111111,
              "#46039f"
             ],
             [
              0.2222222222222222,
              "#7201a8"
             ],
             [
              0.3333333333333333,
              "#9c179e"
             ],
             [
              0.4444444444444444,
              "#bd3786"
             ],
             [
              0.5555555555555556,
              "#d8576b"
             ],
             [
              0.6666666666666666,
              "#ed7953"
             ],
             [
              0.7777777777777778,
              "#fb9f3a"
             ],
             [
              0.8888888888888888,
              "#fdca26"
             ],
             [
              1,
              "#f0f921"
             ]
            ],
            "type": "contour"
           }
          ],
          "contourcarpet": [
           {
            "colorbar": {
             "outlinewidth": 0,
             "ticks": ""
            },
            "type": "contourcarpet"
           }
          ],
          "heatmap": [
           {
            "colorbar": {
             "outlinewidth": 0,
             "ticks": ""
            },
            "colorscale": [
             [
              0,
              "#0d0887"
             ],
             [
              0.1111111111111111,
              "#46039f"
             ],
             [
              0.2222222222222222,
              "#7201a8"
             ],
             [
              0.3333333333333333,
              "#9c179e"
             ],
             [
              0.4444444444444444,
              "#bd3786"
             ],
             [
              0.5555555555555556,
              "#d8576b"
             ],
             [
              0.6666666666666666,
              "#ed7953"
             ],
             [
              0.7777777777777778,
              "#fb9f3a"
             ],
             [
              0.8888888888888888,
              "#fdca26"
             ],
             [
              1,
              "#f0f921"
             ]
            ],
            "type": "heatmap"
           }
          ],
          "histogram": [
           {
            "marker": {
             "pattern": {
              "fillmode": "overlay",
              "size": 10,
              "solidity": 0.2
             }
            },
            "type": "histogram"
           }
          ],
          "histogram2d": [
           {
            "colorbar": {
             "outlinewidth": 0,
             "ticks": ""
            },
            "colorscale": [
             [
              0,
              "#0d0887"
             ],
             [
              0.1111111111111111,
              "#46039f"
             ],
             [
              0.2222222222222222,
              "#7201a8"
             ],
             [
              0.3333333333333333,
              "#9c179e"
             ],
             [
              0.4444444444444444,
              "#bd3786"
             ],
             [
              0.5555555555555556,
              "#d8576b"
             ],
             [
              0.6666666666666666,
              "#ed7953"
             ],
             [
              0.7777777777777778,
              "#fb9f3a"
             ],
             [
              0.8888888888888888,
              "#fdca26"
             ],
             [
              1,
              "#f0f921"
             ]
            ],
            "type": "histogram2d"
           }
          ],
          "histogram2dcontour": [
           {
            "colorbar": {
             "outlinewidth": 0,
             "ticks": ""
            },
            "colorscale": [
             [
              0,
              "#0d0887"
             ],
             [
              0.1111111111111111,
              "#46039f"
             ],
             [
              0.2222222222222222,
              "#7201a8"
             ],
             [
              0.3333333333333333,
              "#9c179e"
             ],
             [
              0.4444444444444444,
              "#bd3786"
             ],
             [
              0.5555555555555556,
              "#d8576b"
             ],
             [
              0.6666666666666666,
              "#ed7953"
             ],
             [
              0.7777777777777778,
              "#fb9f3a"
             ],
             [
              0.8888888888888888,
              "#fdca26"
             ],
             [
              1,
              "#f0f921"
             ]
            ],
            "type": "histogram2dcontour"
           }
          ],
          "mesh3d": [
           {
            "colorbar": {
             "outlinewidth": 0,
             "ticks": ""
            },
            "type": "mesh3d"
           }
          ],
          "parcoords": [
           {
            "line": {
             "colorbar": {
              "outlinewidth": 0,
              "ticks": ""
             }
            },
            "type": "parcoords"
           }
          ],
          "pie": [
           {
            "automargin": true,
            "type": "pie"
           }
          ],
          "scatter": [
           {
            "fillpattern": {
             "fillmode": "overlay",
             "size": 10,
             "solidity": 0.2
            },
            "type": "scatter"
           }
          ],
          "scatter3d": [
           {
            "line": {
             "colorbar": {
              "outlinewidth": 0,
              "ticks": ""
             }
            },
            "marker": {
             "colorbar": {
              "outlinewidth": 0,
              "ticks": ""
             }
            },
            "type": "scatter3d"
           }
          ],
          "scattercarpet": [
           {
            "marker": {
             "colorbar": {
              "outlinewidth": 0,
              "ticks": ""
             }
            },
            "type": "scattercarpet"
           }
          ],
          "scattergeo": [
           {
            "marker": {
             "colorbar": {
              "outlinewidth": 0,
              "ticks": ""
             }
            },
            "type": "scattergeo"
           }
          ],
          "scattergl": [
           {
            "marker": {
             "colorbar": {
              "outlinewidth": 0,
              "ticks": ""
             }
            },
            "type": "scattergl"
           }
          ],
          "scattermap": [
           {
            "marker": {
             "colorbar": {
              "outlinewidth": 0,
              "ticks": ""
             }
            },
            "type": "scattermap"
           }
          ],
          "scattermapbox": [
           {
            "marker": {
             "colorbar": {
              "outlinewidth": 0,
              "ticks": ""
             }
            },
            "type": "scattermapbox"
           }
          ],
          "scatterpolar": [
           {
            "marker": {
             "colorbar": {
              "outlinewidth": 0,
              "ticks": ""
             }
            },
            "type": "scatterpolar"
           }
          ],
          "scatterpolargl": [
           {
            "marker": {
             "colorbar": {
              "outlinewidth": 0,
              "ticks": ""
             }
            },
            "type": "scatterpolargl"
           }
          ],
          "scatterternary": [
           {
            "marker": {
             "colorbar": {
              "outlinewidth": 0,
              "ticks": ""
             }
            },
            "type": "scatterternary"
           }
          ],
          "surface": [
           {
            "colorbar": {
             "outlinewidth": 0,
             "ticks": ""
            },
            "colorscale": [
             [
              0,
              "#0d0887"
             ],
             [
              0.1111111111111111,
              "#46039f"
             ],
             [
              0.2222222222222222,
              "#7201a8"
             ],
             [
              0.3333333333333333,
              "#9c179e"
             ],
             [
              0.4444444444444444,
              "#bd3786"
             ],
             [
              0.5555555555555556,
              "#d8576b"
             ],
             [
              0.6666666666666666,
              "#ed7953"
             ],
             [
              0.7777777777777778,
              "#fb9f3a"
             ],
             [
              0.8888888888888888,
              "#fdca26"
             ],
             [
              1,
              "#f0f921"
             ]
            ],
            "type": "surface"
           }
          ],
          "table": [
           {
            "cells": {
             "fill": {
              "color": "#EBF0F8"
             },
             "line": {
              "color": "white"
             }
            },
            "header": {
             "fill": {
              "color": "#C8D4E3"
             },
             "line": {
              "color": "white"
             }
            },
            "type": "table"
           }
          ]
         },
         "layout": {
          "annotationdefaults": {
           "arrowcolor": "#2a3f5f",
           "arrowhead": 0,
           "arrowwidth": 1
          },
          "autotypenumbers": "strict",
          "coloraxis": {
           "colorbar": {
            "outlinewidth": 0,
            "ticks": ""
           }
          },
          "colorscale": {
           "diverging": [
            [
             0,
             "#8e0152"
            ],
            [
             0.1,
             "#c51b7d"
            ],
            [
             0.2,
             "#de77ae"
            ],
            [
             0.3,
             "#f1b6da"
            ],
            [
             0.4,
             "#fde0ef"
            ],
            [
             0.5,
             "#f7f7f7"
            ],
            [
             0.6,
             "#e6f5d0"
            ],
            [
             0.7,
             "#b8e186"
            ],
            [
             0.8,
             "#7fbc41"
            ],
            [
             0.9,
             "#4d9221"
            ],
            [
             1,
             "#276419"
            ]
           ],
           "sequential": [
            [
             0,
             "#0d0887"
            ],
            [
             0.1111111111111111,
             "#46039f"
            ],
            [
             0.2222222222222222,
             "#7201a8"
            ],
            [
             0.3333333333333333,
             "#9c179e"
            ],
            [
             0.4444444444444444,
             "#bd3786"
            ],
            [
             0.5555555555555556,
             "#d8576b"
            ],
            [
             0.6666666666666666,
             "#ed7953"
            ],
            [
             0.7777777777777778,
             "#fb9f3a"
            ],
            [
             0.8888888888888888,
             "#fdca26"
            ],
            [
             1,
             "#f0f921"
            ]
           ],
           "sequentialminus": [
            [
             0,
             "#0d0887"
            ],
            [
             0.1111111111111111,
             "#46039f"
            ],
            [
             0.2222222222222222,
             "#7201a8"
            ],
            [
             0.3333333333333333,
             "#9c179e"
            ],
            [
             0.4444444444444444,
             "#bd3786"
            ],
            [
             0.5555555555555556,
             "#d8576b"
            ],
            [
             0.6666666666666666,
             "#ed7953"
            ],
            [
             0.7777777777777778,
             "#fb9f3a"
            ],
            [
             0.8888888888888888,
             "#fdca26"
            ],
            [
             1,
             "#f0f921"
            ]
           ]
          },
          "colorway": [
           "#636efa",
           "#EF553B",
           "#00cc96",
           "#ab63fa",
           "#FFA15A",
           "#19d3f3",
           "#FF6692",
           "#B6E880",
           "#FF97FF",
           "#FECB52"
          ],
          "font": {
           "color": "#2a3f5f"
          },
          "geo": {
           "bgcolor": "white",
           "lakecolor": "white",
           "landcolor": "#E5ECF6",
           "showlakes": true,
           "showland": true,
           "subunitcolor": "white"
          },
          "hoverlabel": {
           "align": "left"
          },
          "hovermode": "closest",
          "mapbox": {
           "style": "light"
          },
          "paper_bgcolor": "white",
          "plot_bgcolor": "#E5ECF6",
          "polar": {
           "angularaxis": {
            "gridcolor": "white",
            "linecolor": "white",
            "ticks": ""
           },
           "bgcolor": "#E5ECF6",
           "radialaxis": {
            "gridcolor": "white",
            "linecolor": "white",
            "ticks": ""
           }
          },
          "scene": {
           "xaxis": {
            "backgroundcolor": "#E5ECF6",
            "gridcolor": "white",
            "gridwidth": 2,
            "linecolor": "white",
            "showbackground": true,
            "ticks": "",
            "zerolinecolor": "white"
           },
           "yaxis": {
            "backgroundcolor": "#E5ECF6",
            "gridcolor": "white",
            "gridwidth": 2,
            "linecolor": "white",
            "showbackground": true,
            "ticks": "",
            "zerolinecolor": "white"
           },
           "zaxis": {
            "backgroundcolor": "#E5ECF6",
            "gridcolor": "white",
            "gridwidth": 2,
            "linecolor": "white",
            "showbackground": true,
            "ticks": "",
            "zerolinecolor": "white"
           }
          },
          "shapedefaults": {
           "line": {
            "color": "#2a3f5f"
           }
          },
          "ternary": {
           "aaxis": {
            "gridcolor": "white",
            "linecolor": "white",
            "ticks": ""
           },
           "baxis": {
            "gridcolor": "white",
            "linecolor": "white",
            "ticks": ""
           },
           "bgcolor": "#E5ECF6",
           "caxis": {
            "gridcolor": "white",
            "linecolor": "white",
            "ticks": ""
           }
          },
          "title": {
           "x": 0.05
          },
          "xaxis": {
           "automargin": true,
           "gridcolor": "white",
           "linecolor": "white",
           "ticks": "",
           "title": {
            "standoff": 15
           },
           "zerolinecolor": "white",
           "zerolinewidth": 2
          },
          "yaxis": {
           "automargin": true,
           "gridcolor": "white",
           "linecolor": "white",
           "ticks": "",
           "title": {
            "standoff": 15
           },
           "zerolinecolor": "white",
           "zerolinewidth": 2
          }
         }
        },
        "title": {
         "text": "Predicción de anomalía por similitud con centroides"
        },
        "width": 900,
        "xaxis": {
         "anchor": "y",
         "domain": [
          0,
          1
         ],
         "title": {
          "text": "TSNE-1"
         }
        },
        "yaxis": {
         "anchor": "x",
         "domain": [
          0,
          1
         ],
         "title": {
          "text": "TSNE-2"
         }
        }
       }
      }
     },
     "metadata": {},
     "output_type": "display_data"
    }
   ],
   "source": [
    "import plotly.express as px\n",
    "from sklearn.manifold import TSNE\n",
    "\n",
    "# t-SNE para reducir a 2D\n",
    "tsne = TSNE(n_components=2, random_state=42, perplexity=30, init='pca')\n",
    "embeddings_2d = tsne.fit_transform(embeddings_test)\n",
    "\n",
    "# Añadir al DataFrame\n",
    "df_test['TSNE-1'] = embeddings_2d[:, 0]\n",
    "df_test['TSNE-2'] = embeddings_2d[:, 1]\n",
    "\n",
    "\n",
    "\n",
    "# Visualización 1: Coloreado por clase real\n",
    "fig1 = px.scatter(\n",
    "    df_test, x='TSNE-1', y='TSNE-2',\n",
    "    color='Clase Anomalia',\n",
    "    labels={'Clase Anomalia': 'Tipo de imagen'},\n",
    "    hover_data=['Nombre Carpeta', 'Tópico', 'Similitud con centroide'],\n",
    "    title='Distribución t-SNE real por clase',\n",
    "    width=900, height=600\n",
    ")\n",
    "fig1.show()\n",
    "\n",
    "\n",
    "\n",
    "# Visualización 2: Coloreado por predicción de anomalía (similitud)\n",
    "fig2 = px.scatter(\n",
    "    df_test, x='TSNE-1', y='TSNE-2',\n",
    "    color='Pred_anómalo_por_similitud',\n",
    "    labels={'Pred_anómalo_por_similitud' : 'Anomalía predicha'},\n",
    "    color_discrete_map={True: 'red', False: 'green'},\n",
    "    hover_data=['Nombre Carpeta', 'Clase Anomalia', 'Similitud con centroide'],\n",
    "    title='Predicción de anomalía por similitud con centroides',\n",
    "    width=900, height=600\n",
    ")\n",
    "fig2.show()\n"
   ]
  },
  {
   "cell_type": "code",
   "execution_count": null,
   "id": "98eddd2c",
   "metadata": {},
   "outputs": [
    {
     "data": {
      "text/plain": [
       "<sklearn.metrics._plot.confusion_matrix.ConfusionMatrixDisplay at 0x22650d14760>"
      ]
     },
     "execution_count": 6,
     "metadata": {},
     "output_type": "execute_result"
    },
    {
     "data": {
      "image/png": "[encoded data removed]",
      "text/plain": [
       "<Figure size 640x480 with 2 Axes>"
      ]
     },
     "metadata": {},
     "output_type": "display_data"
    }
   ],
   "source": [
    "from sklearn.metrics import confusion_matrix, ConfusionMatrixDisplay\n",
    "\n",
    "# Etiquetas verdaderas (0 = good, 1 = anomalía)\n",
    "y_true = df_test['Es_anómalo'].astype(int)\n",
    "\n",
    "# Etiquetas predichas por similitud (puedes cambiar por otro método si quieres)\n",
    "y_pred_sim = df_test['Pred_anómalo_por_similitud'].astype(int)\n",
    "\n",
    "# Crear la matriz de confusión\n",
    "cm = confusion_matrix(y_true, y_pred_sim)\n",
    "disp = ConfusionMatrixDisplay(confusion_matrix=cm, display_labels=['Good', 'Anómalo'])\n",
    "disp.plot(cmap='Blues')"
   ]
  }
 ],
 "metadata": {
  "kernelspec": {
   "display_name": "TFM_Marc",
   "language": "python",
   "name": "python3"
  },
  "language_info": {
   "codemirror_mode": {
    "name": "ipython",
    "version": 3
   },
   "file_extension": ".py",
   "mimetype": "text/x-python",
   "name": "python",
   "nbconvert_exporter": "python",
   "pygments_lexer": "ipython3",
   "version": "3.9.13"
  }
 },
 "nbformat": 4,
 "nbformat_minor": 5
}
